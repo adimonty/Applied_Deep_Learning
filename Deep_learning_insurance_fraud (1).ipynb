{
  "cells": [
    {
      "cell_type": "markdown",
      "metadata": {
        "id": "Nf4Jx8LxUDzd"
      },
      "source": [
        "# SMM768: Group Assignment 1 - Group 1 "
      ]
    },
    {
      "cell_type": "markdown",
      "metadata": {
        "id": "ALRL13ZXUDzo"
      },
      "source": [
        "Loading required packages"
      ]
    },
    {
      "cell_type": "code",
      "source": [
        "#pip install h5py"
      ],
      "metadata": {
        "colab": {
          "base_uri": "https://localhost:8080/"
        },
        "id": "kj-3NrT8-i_0",
        "outputId": "3be5b35b-8265-47fb-b5d4-433273abd1a5"
      },
      "execution_count": 1,
      "outputs": [
        {
          "output_type": "stream",
          "name": "stdout",
          "text": [
            "Requirement already satisfied: h5py in /usr/local/lib/python3.7/dist-packages (3.1.0)\n",
            "Requirement already satisfied: numpy>=1.14.5 in /usr/local/lib/python3.7/dist-packages (from h5py) (1.21.5)\n",
            "Requirement already satisfied: cached-property in /usr/local/lib/python3.7/dist-packages (from h5py) (1.5.2)\n"
          ]
        }
      ]
    },
    {
      "cell_type": "code",
      "execution_count": 2,
      "metadata": {
        "colab": {
          "base_uri": "https://localhost:8080/"
        },
        "id": "5rseJsEtUIb5",
        "outputId": "b0827eee-e0e7-4deb-9b5f-4ae60f46704f"
      },
      "outputs": [
        {
          "output_type": "stream",
          "name": "stdout",
          "text": [
            "Collecting keras_tuner\n",
            "  Downloading keras_tuner-1.1.0-py3-none-any.whl (98 kB)\n",
            "\u001b[?25l\r\u001b[K     |███▍                            | 10 kB 23.9 MB/s eta 0:00:01\r\u001b[K     |██████▊                         | 20 kB 12.9 MB/s eta 0:00:01\r\u001b[K     |██████████                      | 30 kB 9.8 MB/s eta 0:00:01\r\u001b[K     |█████████████▍                  | 40 kB 8.8 MB/s eta 0:00:01\r\u001b[K     |████████████████▊               | 51 kB 4.5 MB/s eta 0:00:01\r\u001b[K     |████████████████████            | 61 kB 5.3 MB/s eta 0:00:01\r\u001b[K     |███████████████████████▍        | 71 kB 5.7 MB/s eta 0:00:01\r\u001b[K     |██████████████████████████▊     | 81 kB 5.9 MB/s eta 0:00:01\r\u001b[K     |██████████████████████████████  | 92 kB 6.5 MB/s eta 0:00:01\r\u001b[K     |████████████████████████████████| 98 kB 3.6 MB/s \n",
            "\u001b[?25hRequirement already satisfied: requests in /usr/local/lib/python3.7/dist-packages (from keras_tuner) (2.23.0)\n",
            "Requirement already satisfied: ipython in /usr/local/lib/python3.7/dist-packages (from keras_tuner) (5.5.0)\n",
            "Requirement already satisfied: scipy in /usr/local/lib/python3.7/dist-packages (from keras_tuner) (1.4.1)\n",
            "Collecting kt-legacy\n",
            "  Downloading kt_legacy-1.0.4-py3-none-any.whl (9.6 kB)\n",
            "Requirement already satisfied: tensorboard in /usr/local/lib/python3.7/dist-packages (from keras_tuner) (2.8.0)\n",
            "Requirement already satisfied: packaging in /usr/local/lib/python3.7/dist-packages (from keras_tuner) (21.3)\n",
            "Requirement already satisfied: numpy in /usr/local/lib/python3.7/dist-packages (from keras_tuner) (1.21.5)\n",
            "Requirement already satisfied: simplegeneric>0.8 in /usr/local/lib/python3.7/dist-packages (from ipython->keras_tuner) (0.8.1)\n",
            "Requirement already satisfied: traitlets>=4.2 in /usr/local/lib/python3.7/dist-packages (from ipython->keras_tuner) (5.1.1)\n",
            "Requirement already satisfied: pygments in /usr/local/lib/python3.7/dist-packages (from ipython->keras_tuner) (2.6.1)\n",
            "Requirement already satisfied: pickleshare in /usr/local/lib/python3.7/dist-packages (from ipython->keras_tuner) (0.7.5)\n",
            "Requirement already satisfied: decorator in /usr/local/lib/python3.7/dist-packages (from ipython->keras_tuner) (4.4.2)\n",
            "Requirement already satisfied: setuptools>=18.5 in /usr/local/lib/python3.7/dist-packages (from ipython->keras_tuner) (57.4.0)\n",
            "Requirement already satisfied: pexpect in /usr/local/lib/python3.7/dist-packages (from ipython->keras_tuner) (4.8.0)\n",
            "Requirement already satisfied: prompt-toolkit<2.0.0,>=1.0.4 in /usr/local/lib/python3.7/dist-packages (from ipython->keras_tuner) (1.0.18)\n",
            "Requirement already satisfied: wcwidth in /usr/local/lib/python3.7/dist-packages (from prompt-toolkit<2.0.0,>=1.0.4->ipython->keras_tuner) (0.2.5)\n",
            "Requirement already satisfied: six>=1.9.0 in /usr/local/lib/python3.7/dist-packages (from prompt-toolkit<2.0.0,>=1.0.4->ipython->keras_tuner) (1.15.0)\n",
            "Requirement already satisfied: pyparsing!=3.0.5,>=2.0.2 in /usr/local/lib/python3.7/dist-packages (from packaging->keras_tuner) (3.0.7)\n",
            "Requirement already satisfied: ptyprocess>=0.5 in /usr/local/lib/python3.7/dist-packages (from pexpect->ipython->keras_tuner) (0.7.0)\n",
            "Requirement already satisfied: idna<3,>=2.5 in /usr/local/lib/python3.7/dist-packages (from requests->keras_tuner) (2.10)\n",
            "Requirement already satisfied: urllib3!=1.25.0,!=1.25.1,<1.26,>=1.21.1 in /usr/local/lib/python3.7/dist-packages (from requests->keras_tuner) (1.24.3)\n",
            "Requirement already satisfied: certifi>=2017.4.17 in /usr/local/lib/python3.7/dist-packages (from requests->keras_tuner) (2021.10.8)\n",
            "Requirement already satisfied: chardet<4,>=3.0.2 in /usr/local/lib/python3.7/dist-packages (from requests->keras_tuner) (3.0.4)\n",
            "Requirement already satisfied: google-auth-oauthlib<0.5,>=0.4.1 in /usr/local/lib/python3.7/dist-packages (from tensorboard->keras_tuner) (0.4.6)\n",
            "Requirement already satisfied: google-auth<3,>=1.6.3 in /usr/local/lib/python3.7/dist-packages (from tensorboard->keras_tuner) (1.35.0)\n",
            "Requirement already satisfied: protobuf>=3.6.0 in /usr/local/lib/python3.7/dist-packages (from tensorboard->keras_tuner) (3.17.3)\n",
            "Requirement already satisfied: wheel>=0.26 in /usr/local/lib/python3.7/dist-packages (from tensorboard->keras_tuner) (0.37.1)\n",
            "Requirement already satisfied: absl-py>=0.4 in /usr/local/lib/python3.7/dist-packages (from tensorboard->keras_tuner) (1.0.0)\n",
            "Requirement already satisfied: werkzeug>=0.11.15 in /usr/local/lib/python3.7/dist-packages (from tensorboard->keras_tuner) (1.0.1)\n",
            "Requirement already satisfied: tensorboard-data-server<0.7.0,>=0.6.0 in /usr/local/lib/python3.7/dist-packages (from tensorboard->keras_tuner) (0.6.1)\n",
            "Requirement already satisfied: tensorboard-plugin-wit>=1.6.0 in /usr/local/lib/python3.7/dist-packages (from tensorboard->keras_tuner) (1.8.1)\n",
            "Requirement already satisfied: markdown>=2.6.8 in /usr/local/lib/python3.7/dist-packages (from tensorboard->keras_tuner) (3.3.6)\n",
            "Requirement already satisfied: grpcio>=1.24.3 in /usr/local/lib/python3.7/dist-packages (from tensorboard->keras_tuner) (1.44.0)\n",
            "Requirement already satisfied: rsa<5,>=3.1.4 in /usr/local/lib/python3.7/dist-packages (from google-auth<3,>=1.6.3->tensorboard->keras_tuner) (4.8)\n",
            "Requirement already satisfied: pyasn1-modules>=0.2.1 in /usr/local/lib/python3.7/dist-packages (from google-auth<3,>=1.6.3->tensorboard->keras_tuner) (0.2.8)\n",
            "Requirement already satisfied: cachetools<5.0,>=2.0.0 in /usr/local/lib/python3.7/dist-packages (from google-auth<3,>=1.6.3->tensorboard->keras_tuner) (4.2.4)\n",
            "Requirement already satisfied: requests-oauthlib>=0.7.0 in /usr/local/lib/python3.7/dist-packages (from google-auth-oauthlib<0.5,>=0.4.1->tensorboard->keras_tuner) (1.3.1)\n",
            "Requirement already satisfied: importlib-metadata>=4.4 in /usr/local/lib/python3.7/dist-packages (from markdown>=2.6.8->tensorboard->keras_tuner) (4.11.2)\n",
            "Requirement already satisfied: typing-extensions>=3.6.4 in /usr/local/lib/python3.7/dist-packages (from importlib-metadata>=4.4->markdown>=2.6.8->tensorboard->keras_tuner) (3.10.0.2)\n",
            "Requirement already satisfied: zipp>=0.5 in /usr/local/lib/python3.7/dist-packages (from importlib-metadata>=4.4->markdown>=2.6.8->tensorboard->keras_tuner) (3.7.0)\n",
            "Requirement already satisfied: pyasn1<0.5.0,>=0.4.6 in /usr/local/lib/python3.7/dist-packages (from pyasn1-modules>=0.2.1->google-auth<3,>=1.6.3->tensorboard->keras_tuner) (0.4.8)\n",
            "Requirement already satisfied: oauthlib>=3.0.0 in /usr/local/lib/python3.7/dist-packages (from requests-oauthlib>=0.7.0->google-auth-oauthlib<0.5,>=0.4.1->tensorboard->keras_tuner) (3.2.0)\n",
            "Installing collected packages: kt-legacy, keras-tuner\n",
            "Successfully installed keras-tuner-1.1.0 kt-legacy-1.0.4\n"
          ]
        }
      ],
      "source": [
        "#pip install keras_tuner"
      ]
    },
    {
      "cell_type": "code",
      "execution_count": 3,
      "metadata": {
        "id": "BWiDkkjrUDzp"
      },
      "outputs": [],
      "source": [
        "import numpy as np\n",
        "import pandas as pd\n",
        "import matplotlib.pyplot as plt\n",
        "import seaborn as sns\n",
        "from sklearn import metrics\n",
        "from sklearn.preprocessing import OrdinalEncoder, MinMaxScaler\n",
        "from sklearn.metrics import (confusion_matrix, accuracy_score, precision_score, recall_score, precision_recall_curve, auc,\n",
        "                             roc_curve, recall_score, classification_report, f1_score,\n",
        "                             precision_recall_fscore_support)\n",
        "from sklearn.model_selection import train_test_split\n",
        "from sklearn.linear_model import LogisticRegression\n",
        "import imblearn as im\n",
        "import tensorflow as tf\n",
        "from tensorboard.plugins.hparams import api as hp\n",
        "import keras_tuner as kt\n",
        "import h5py\n"
      ]
    },
    {
      "cell_type": "markdown",
      "metadata": {
        "id": "9zGbeOOmUDzt"
      },
      "source": [
        "# Question 1\n",
        "**Question:** </br>\n",
        "*Briefly discuss why it is more difficult to find a good classifier on such a dataset than on\n",
        "one where, for example, 5,000 claims are fraudulent, and 5,000 are not. In particular,\n",
        "consider what happens when undetected fraudulent claims are very costly to the\n",
        "insurance company.*"
      ]
    },
    {
      "cell_type": "markdown",
      "metadata": {
        "id": "L15V2d95UDzt"
      },
      "source": [
        "Machine learning algorithms tend to operate under the assumption of data being evenly distributed between classes. This would lead to the model not having enough data to learn the patterns present in minority classes. While working with imbalanced data, conventional model evaluation methods will not measure the model performance accurately. For example, in a dataset with an event rate of 2% (2% minority class observations), a model with 98% accuracy that classifies all majority class observations and dismisses all minority observations as noise will have very poor performance. This performance will affect the costs of the company as the company might wrongly fulfill fradulent claims and spend resources investigating non-fradulent claims that may have been misclassified.\n",
        "The necessity of building a model which can accurately identify fraudulent car insurance claims and prevent the insurance provider paying out for these claims."
      ]
    },
    {
      "cell_type": "markdown",
      "metadata": {
        "id": "IzZR2uSUUDzu"
      },
      "source": [
        "# Question 2\n",
        "**Question:** </br>\n",
        "*Load the dataset \"Insurance_claims.csv\" and clean it as appropriate for use with\n",
        "machine learning algorithms. A description of the features can be found at the end of\n",
        "this document.*"
      ]
    },
    {
      "cell_type": "markdown",
      "metadata": {
        "id": "VRbKCjR3UDzv"
      },
      "source": [
        "## Load data"
      ]
    },
    {
      "cell_type": "markdown",
      "metadata": {
        "id": "yEyPNQS-UDzw"
      },
      "source": [
        "Loading the insurance claims dataset"
      ]
    },
    {
      "cell_type": "code",
      "execution_count": 4,
      "metadata": {
        "id": "9XmYgCpuUDzy"
      },
      "outputs": [],
      "source": [
        "df = pd.read_csv(\"Insurance_claims.csv\")"
      ]
    },
    {
      "cell_type": "markdown",
      "metadata": {
        "id": "ioTTgj7gUDzy"
      },
      "source": [
        "## Data cleaning"
      ]
    },
    {
      "cell_type": "markdown",
      "metadata": {
        "id": "ElGx82sIUDzz"
      },
      "source": [
        "### Delete rows with duplicates over all columns \n",
        "</br>\n",
        "We begin our data cleaning by checking for duplicates, deleting any observations for customers that are seen multiple times."
      ]
    },
    {
      "cell_type": "markdown",
      "metadata": {
        "id": "bbLpbA4QUDz0"
      },
      "source": [
        "Identifying duplicated rows over all columns"
      ]
    },
    {
      "cell_type": "code",
      "execution_count": 5,
      "metadata": {
        "colab": {
          "base_uri": "https://localhost:8080/"
        },
        "id": "bDj1WOZ6UDz0",
        "outputId": "3dac20ec-6ee7-4e91-d7d6-72882538a46d"
      },
      "outputs": [
        {
          "output_type": "stream",
          "name": "stdout",
          "text": [
            "       PolicyholderNumber  FirstPartyVehicleNumber  ThirdPartyVehicleNumber  \\\n",
            "3450               564020                 754834.0                      NaN   \n",
            "3451               564020                 754834.0                      NaN   \n",
            "3452               564020                 754834.0                      NaN   \n",
            "4280               724264                 968515.0                1007345.0   \n",
            "4281               724264                 968515.0                1007345.0   \n",
            "4813               550279                 739198.0                1022681.0   \n",
            "4814               550279                 739198.0                1022681.0   \n",
            "6190               336660                 510694.0                      NaN   \n",
            "6191               336660                 510694.0                      NaN   \n",
            "8448               564665                1010712.0                      NaN   \n",
            "8449               564665                1010712.0                      NaN   \n",
            "10591              608685                 810142.0                      NaN   \n",
            "10594              608685                 810142.0                      NaN   \n",
            "10957              741119                1005423.0                1187501.0   \n",
            "10958              741119                1005423.0                1187501.0   \n",
            "\n",
            "                                            InsurerNotes  \\\n",
            "3450                                                 NaN   \n",
            "3451                                                 NaN   \n",
            "3452                                                 NaN   \n",
            "4280                                                 NaN   \n",
            "4281                                                 NaN   \n",
            "4813                                                 NaN   \n",
            "4814                                                 NaN   \n",
            "6190                                                 NaN   \n",
            "6191                                                 NaN   \n",
            "8448   Windshield crack following pebble received in ...   \n",
            "8449   Windshield crack following pebble received in ...   \n",
            "10591                                                NaN   \n",
            "10594                                                NaN   \n",
            "10957                                          duplicate   \n",
            "10958                                          duplicate   \n",
            "\n",
            "      PolicyholderOccupation  LossDate FirstPolicySubscriptionDate  \\\n",
            "3450                Employee  18.08.19                    29.07.18   \n",
            "3451                Employee  18.08.19                    29.07.18   \n",
            "3452                Employee  18.08.19                    29.07.18   \n",
            "4280                Employee  28.09.19                    01.01.18   \n",
            "4281                Employee  28.09.19                    01.01.18   \n",
            "4813                Employee  11.09.19                    15.10.17   \n",
            "4814                Employee  11.09.19                    15.10.17   \n",
            "6190               Executive  28.01.20                    11.02.19   \n",
            "6191               Executive  28.01.20                    11.02.19   \n",
            "8448           HeadOfCompany  21.07.20                    30.07.19   \n",
            "8449           HeadOfCompany  21.07.20                    30.07.19   \n",
            "10591               Employee  19.08.20                    25.09.17   \n",
            "10594               Employee  19.08.20                    25.09.17   \n",
            "10957                    NaN  11.01.21                    05.10.19   \n",
            "10958                    NaN  11.01.21                    05.10.19   \n",
            "\n",
            "                             ClaimCause           ClaimInvolvedCovers  \\\n",
            "3450                                NaN                           NaN   \n",
            "3451                                NaN                           NaN   \n",
            "3452                                NaN                           NaN   \n",
            "4280   AccidentWithIdentifiedThirdParty                  ActLiability   \n",
            "4281   AccidentWithIdentifiedThirdParty                  ActLiability   \n",
            "4813   AccidentWithIdentifiedThirdParty                  ActLiability   \n",
            "4814   AccidentWithIdentifiedThirdParty                  ActLiability   \n",
            "6190                                NaN                           NaN   \n",
            "6191                                NaN                           NaN   \n",
            "8448                   WindscreenDamage                    Windscreen   \n",
            "8449                   WindscreenDamage                    Windscreen   \n",
            "10591                               NaN                           NaN   \n",
            "10594                               NaN                           NaN   \n",
            "10957  AccidentWithIdentifiedThirdParty  MaterialDamages ActLiability   \n",
            "10958  AccidentWithIdentifiedThirdParty  MaterialDamages ActLiability   \n",
            "\n",
            "      DamageImportance  ... FpVehicleAgeMonths EasinessToStage  \\\n",
            "3450               NaN  ...               12.0            0.25   \n",
            "3451               NaN  ...               12.0            0.25   \n",
            "3452               NaN  ...               12.0            0.25   \n",
            "4280               NaN  ...               62.0            0.00   \n",
            "4281               NaN  ...               62.0            0.00   \n",
            "4813               NaN  ...              193.0            0.00   \n",
            "4814               NaN  ...              193.0            0.00   \n",
            "6190               NaN  ...               24.0            0.25   \n",
            "6191               NaN  ...               24.0            0.25   \n",
            "8448               NaN  ...              159.0            0.50   \n",
            "8449               NaN  ...              159.0            0.50   \n",
            "10591              NaN  ...              195.0            0.25   \n",
            "10594              NaN  ...              195.0            0.25   \n",
            "10957              NaN  ...               61.0            0.25   \n",
            "10958              NaN  ...               61.0            0.25   \n",
            "\n",
            "       ClaimWihoutIdentifiedThirdParty  ClaimAmount  LossHour  \\\n",
            "3450                                 1          0.0       0.0   \n",
            "3451                                 1          0.0       0.0   \n",
            "3452                                 1          0.0       0.0   \n",
            "4280                                 0          0.0       0.0   \n",
            "4281                                 0          0.0       0.0   \n",
            "4813                                 0          0.0       0.0   \n",
            "4814                                 0          0.0       0.0   \n",
            "6190                                 1          0.0       0.0   \n",
            "6191                                 1          0.0       0.0   \n",
            "8448                                 1          0.0       9.0   \n",
            "8449                                 1          0.0       9.0   \n",
            "10591                                1          0.0       0.0   \n",
            "10594                                1          0.0       0.0   \n",
            "10957                                0          0.0      12.0   \n",
            "10958                                0          0.0      12.0   \n",
            "\n",
            "       PolicyHolderAge  NumberOfBodilyInjuries  FirstPartyLiability  Fraud  \\\n",
            "3450              37.0                       0                  0.0      0   \n",
            "3451              37.0                       0                  0.0      0   \n",
            "3452              37.0                       0                  0.0      0   \n",
            "4280              49.0                       1                  0.0      0   \n",
            "4281              49.0                       1                  0.0      0   \n",
            "4813              36.0                       1                  0.0      0   \n",
            "4814              36.0                       1                  0.0      0   \n",
            "6190              47.0                       0                  0.0      0   \n",
            "6191              47.0                       0                  0.0      0   \n",
            "8448              34.0                       0                  0.0      0   \n",
            "8449              34.0                       0                  0.0      0   \n",
            "10591             50.0                       0                  0.0      0   \n",
            "10594             50.0                       0                  0.0      0   \n",
            "10957             26.0                       0                  0.0      0   \n",
            "10958             26.0                       0                  0.0      0   \n",
            "\n",
            "       LossAndHolderPostCodeSame  \n",
            "3450                           1  \n",
            "3451                           1  \n",
            "3452                           1  \n",
            "4280                           0  \n",
            "4281                           0  \n",
            "4813                           0  \n",
            "4814                           0  \n",
            "6190                           1  \n",
            "6191                           1  \n",
            "8448                           0  \n",
            "8449                           0  \n",
            "10591                          1  \n",
            "10594                          1  \n",
            "10957                          0  \n",
            "10958                          0  \n",
            "\n",
            "[15 rows x 24 columns]\n"
          ]
        }
      ],
      "source": [
        "duplicates = df[df.duplicated(keep=False)]\n",
        "print(duplicates)"
      ]
    },
    {
      "cell_type": "markdown",
      "metadata": {
        "id": "3gp-LhZLUDz1"
      },
      "source": [
        "Dropping the duplicates from the dataset"
      ]
    },
    {
      "cell_type": "code",
      "execution_count": 6,
      "metadata": {
        "id": "aubNALGIUDz2"
      },
      "outputs": [],
      "source": [
        "df = df.drop_duplicates()"
      ]
    },
    {
      "cell_type": "markdown",
      "metadata": {
        "id": "DeAqV996UDz2"
      },
      "source": [
        "### NA values & Imputation"
      ]
    },
    {
      "cell_type": "markdown",
      "metadata": {
        "id": "_0VnGFzKUDz3"
      },
      "source": [
        "Checking column datatypes"
      ]
    },
    {
      "cell_type": "markdown",
      "metadata": {
        "id": "MHi5QHsPTmgb"
      },
      "source": [
        "As we intend to normalise the data later in our data processing stage, we transform our data to contain only numerical values such as float64 and int64."
      ]
    },
    {
      "cell_type": "code",
      "execution_count": 7,
      "metadata": {
        "colab": {
          "base_uri": "https://localhost:8080/"
        },
        "id": "9ZkGkoUdUDz3",
        "outputId": "85561f50-3d85-41cb-8ca5-7e45c73febee"
      },
      "outputs": [
        {
          "output_type": "execute_result",
          "data": {
            "text/plain": [
              "PolicyholderNumber                   int64\n",
              "FirstPartyVehicleNumber            float64\n",
              "ThirdPartyVehicleNumber            float64\n",
              "InsurerNotes                        object\n",
              "PolicyholderOccupation              object\n",
              "LossDate                            object\n",
              "FirstPolicySubscriptionDate         object\n",
              "ClaimCause                          object\n",
              "ClaimInvolvedCovers                 object\n",
              "DamageImportance                    object\n",
              "FirstPartyVehicleType               object\n",
              "ConnectionBetweenParties            object\n",
              "PolicyWasSubscribedOnInternet        int64\n",
              "NumberOfPoliciesOfPolicyholder       int64\n",
              "FpVehicleAgeMonths                 float64\n",
              "EasinessToStage                    float64\n",
              "ClaimWihoutIdentifiedThirdParty      int64\n",
              "ClaimAmount                        float64\n",
              "LossHour                           float64\n",
              "PolicyHolderAge                    float64\n",
              "NumberOfBodilyInjuries               int64\n",
              "FirstPartyLiability                float64\n",
              "Fraud                                int64\n",
              "LossAndHolderPostCodeSame            int64\n",
              "dtype: object"
            ]
          },
          "metadata": {},
          "execution_count": 7
        }
      ],
      "source": [
        "df.dtypes"
      ]
    },
    {
      "cell_type": "markdown",
      "metadata": {
        "id": "6meLWT5zUDz4"
      },
      "source": [
        "Checking for NA values"
      ]
    },
    {
      "cell_type": "code",
      "execution_count": 8,
      "metadata": {
        "colab": {
          "base_uri": "https://localhost:8080/"
        },
        "id": "3MJS7gr0UDz4",
        "outputId": "006bed4e-d7a7-49af-ad79-77beb566ffa0"
      },
      "outputs": [
        {
          "output_type": "execute_result",
          "data": {
            "text/plain": [
              "PolicyholderNumber                     0\n",
              "FirstPartyVehicleNumber              495\n",
              "ThirdPartyVehicleNumber            11146\n",
              "InsurerNotes                        2351\n",
              "PolicyholderOccupation               342\n",
              "LossDate                               0\n",
              "FirstPolicySubscriptionDate            0\n",
              "ClaimCause                           193\n",
              "ClaimInvolvedCovers                  191\n",
              "DamageImportance                   10784\n",
              "FirstPartyVehicleType                 12\n",
              "ConnectionBetweenParties           11424\n",
              "PolicyWasSubscribedOnInternet          0\n",
              "NumberOfPoliciesOfPolicyholder         0\n",
              "FpVehicleAgeMonths                    12\n",
              "EasinessToStage                        0\n",
              "ClaimWihoutIdentifiedThirdParty        0\n",
              "ClaimAmount                            0\n",
              "LossHour                              94\n",
              "PolicyHolderAge                       36\n",
              "NumberOfBodilyInjuries                 0\n",
              "FirstPartyLiability                    0\n",
              "Fraud                                  0\n",
              "LossAndHolderPostCodeSame              0\n",
              "dtype: int64"
            ]
          },
          "metadata": {},
          "execution_count": 8
        }
      ],
      "source": [
        "df.isna().sum()"
      ]
    },
    {
      "cell_type": "markdown",
      "metadata": {
        "id": "hz4PPdpuUDz4"
      },
      "source": [
        "### Imputation of categorical columns\n",
        "\n",
        "Fill in NA values for categorical columns"
      ]
    },
    {
      "cell_type": "markdown",
      "metadata": {
        "id": "zqaHNHcyUDz5"
      },
      "source": [
        "We impute the NA values in the data by creating categories for the same, using ordinal encoding to give numerical values to the various categoies."
      ]
    },
    {
      "cell_type": "code",
      "execution_count": 9,
      "metadata": {
        "id": "mFg2XbQuUDz5"
      },
      "outputs": [],
      "source": [
        "df[\"PolicyholderOccupation\"].fillna(\"No_Occupation\", inplace = True) \n",
        "df[\"ClaimCause\"].fillna(\"No_Cause\", inplace = True) \n",
        "df[\"ClaimInvolvedCovers\"].fillna(\"No_ClaimInvolvedCovers\", inplace = True) \n",
        "df[\"DamageImportance\"].fillna(\"No_DamageImportance\", inplace = True)\n",
        "df[\"FirstPartyVehicleType\"].fillna(\"No_FirstPartyVehicleType\", inplace = True) \n",
        "df[\"ConnectionBetweenParties\"].fillna(\"No_ConnectionBetweenParties\", inplace = True)"
      ]
    },
    {
      "cell_type": "markdown",
      "metadata": {
        "id": "o8umU7MeUDz6"
      },
      "source": [
        "Creating dummy variables for the categorical variables"
      ]
    },
    {
      "cell_type": "code",
      "execution_count": 10,
      "metadata": {
        "id": "81ZZZ8wRUDz6"
      },
      "outputs": [],
      "source": [
        "#Dummy for PolicyholderOccupation\n",
        "df = pd.get_dummies(df, columns=['PolicyholderOccupation'], drop_first=False)\n",
        "df.drop(['PolicyholderOccupation_No_Occupation'], axis=1, inplace=True)\n",
        "\n",
        "#Dummy for ClaimCause\n",
        "df = pd.get_dummies(df, columns=['ClaimCause'], drop_first=False)\n",
        "df.drop(['ClaimCause_No_Cause'], axis=1, inplace=True)\n",
        "\n",
        "#Dummy for DamageImportance\n",
        "df = pd.get_dummies(df, columns=['DamageImportance'], drop_first=False)\n",
        "df.drop(['DamageImportance_No_DamageImportance'], axis=1, inplace=True)\n",
        "\n",
        "#Dummy for FirstPartyVehicleType\n",
        "df = pd.get_dummies(df, columns=['FirstPartyVehicleType'], drop_first=False)\n",
        "df.drop(['FirstPartyVehicleType_No_FirstPartyVehicleType'], axis=1, inplace=True)\n",
        "\n",
        "#Dummy for ConnectionBetweenParties\n",
        "df = pd.get_dummies(df, columns=['ConnectionBetweenParties'], drop_first=False)\n",
        "df.drop(['ConnectionBetweenParties_No_ConnectionBetweenParties'], axis=1, inplace=True)"
      ]
    },
    {
      "cell_type": "markdown",
      "metadata": {
        "id": "5rHBrDE1UDz7"
      },
      "source": [
        "Combining rare categories"
      ]
    },
    {
      "cell_type": "code",
      "execution_count": 11,
      "metadata": {
        "id": "rtF9lmosUDz7"
      },
      "outputs": [],
      "source": [
        "# Get a list of the top 10 \n",
        "top10 = df['ClaimInvolvedCovers'].value_counts()[:10].index\n",
        "# At locations where the variable is NOT in the top 10,input as other\n",
        "df.loc[~df['ClaimInvolvedCovers'].isin(top10), 'ClaimInvolvedCovers'] = 'OTHER'"
      ]
    },
    {
      "cell_type": "code",
      "execution_count": 12,
      "metadata": {
        "id": "aRWSYFY8UDz8"
      },
      "outputs": [],
      "source": [
        "#Dummy for ClaimInvolvedCovers\n",
        "df = pd.get_dummies(df, columns=['ClaimInvolvedCovers'], drop_first=False)\n",
        "df.drop(['ClaimInvolvedCovers_OTHER'], axis=1, inplace=True)"
      ]
    },
    {
      "cell_type": "markdown",
      "metadata": {
        "id": "4U_6j2EIUDz9"
      },
      "source": [
        "### Imputation of custom text columns\n",
        "\n",
        "Setting NA values in note columns to an empty value. This column will be used to calculate a new featured column"
      ]
    },
    {
      "cell_type": "code",
      "execution_count": 13,
      "metadata": {
        "id": "cIM-p-_iUDz-"
      },
      "outputs": [],
      "source": [
        "df['InsurerNotes'].fillna(\"\", inplace = True) "
      ]
    },
    {
      "cell_type": "markdown",
      "metadata": {
        "id": "025a45d2"
      },
      "source": [
        "### Imputaiton of other numerical columns with empty cells"
      ]
    },
    {
      "cell_type": "markdown",
      "metadata": {
        "id": "1e293fef"
      },
      "source": [
        "FpVehicleAgeMonths "
      ]
    },
    {
      "cell_type": "code",
      "execution_count": 14,
      "metadata": {
        "colab": {
          "base_uri": "https://localhost:8080/"
        },
        "id": "b8af54e9",
        "outputId": "5923e833-38a9-4d2a-c978-7663c2d16bf9"
      },
      "outputs": [
        {
          "output_type": "stream",
          "name": "stdout",
          "text": [
            "Mean of FpVehicleAgeMonths used in imputation: 113.46\n"
          ]
        }
      ],
      "source": [
        "print('Mean of FpVehicleAgeMonths used in imputation: ' + str(round(df['FpVehicleAgeMonths'].loc[df['FpVehicleAgeMonths'].notna()].mean(),2)))\n",
        "df[\"FpVehicleAgeMonths\"].fillna(df[\"FpVehicleAgeMonths\"].mean(), inplace=True)"
      ]
    },
    {
      "cell_type": "markdown",
      "metadata": {
        "id": "ff927233"
      },
      "source": [
        "LossHour "
      ]
    },
    {
      "cell_type": "code",
      "execution_count": 15,
      "metadata": {
        "colab": {
          "base_uri": "https://localhost:8080/"
        },
        "id": "0cd386df",
        "outputId": "753c79cf-cdf5-4d7c-afbb-40ef47099a1c"
      },
      "outputs": [
        {
          "output_type": "stream",
          "name": "stdout",
          "text": [
            "Mean of LossHour used in imputation: 8.27\n"
          ]
        }
      ],
      "source": [
        "print('Mean of LossHour used in imputation: ' + str(round(df['LossHour'].loc[df['LossHour'].notna()].mean(),2)))\n",
        "df[\"LossHour\"].fillna(df[\"LossHour\"].mean(), inplace=True)"
      ]
    },
    {
      "cell_type": "markdown",
      "metadata": {
        "id": "12c7f394"
      },
      "source": [
        "PolicyHolderAge"
      ]
    },
    {
      "cell_type": "code",
      "execution_count": 16,
      "metadata": {
        "colab": {
          "base_uri": "https://localhost:8080/"
        },
        "id": "e2d46ee7",
        "outputId": "21f258d6-d099-440c-fde6-c37ae6bb8cb7"
      },
      "outputs": [
        {
          "output_type": "stream",
          "name": "stdout",
          "text": [
            "Mean of PolicyHolderAge used in imputation: 44.58\n"
          ]
        }
      ],
      "source": [
        "print('Mean of PolicyHolderAge used in imputation: ' + str(round(df['PolicyHolderAge'].loc[df['PolicyHolderAge'].notna()].mean(),2)))\n",
        "df[\"PolicyHolderAge\"].fillna(df[\"PolicyHolderAge\"].mean(), inplace=True)"
      ]
    },
    {
      "cell_type": "markdown",
      "metadata": {
        "id": "ab9300d9"
      },
      "source": [
        "## Feature engineering"
      ]
    },
    {
      "cell_type": "markdown",
      "metadata": {
        "id": "f2a2872a"
      },
      "source": [
        "Adding additional features based on already existing columns to create more variance in the dataset and hence a better model.\n",
        "\n",
        "Adding feature based on calculating the number of days between the first policy subscription date and the claim loss date."
      ]
    },
    {
      "cell_type": "code",
      "execution_count": 17,
      "metadata": {
        "id": "7ad6ad31"
      },
      "outputs": [],
      "source": [
        "#Converting date columns to date time format\n",
        "df['LossDate'] = pd.to_datetime(df['LossDate'])\n",
        "df['FirstPolicySubscriptionDate'] = pd.to_datetime(df['FirstPolicySubscriptionDate'])\n",
        "\n",
        "# Calculating diff between the dates\n",
        "df['date_diff'] = (df['LossDate'] - df['FirstPolicySubscriptionDate']).dt.days\n",
        "\n",
        "# Splitting the two date columns into three columns each date column. One for day, one for month and one for year.\n",
        "# Spit loss date\n",
        "df[\"loss_day\"] = df['LossDate'].map(lambda x: x.day)\n",
        "df[\"loss_month\"] = df['LossDate'].map(lambda x: x.month)\n",
        "df[\"loss_year\"] = df['LossDate'].map(lambda x: x.year)\n",
        "# Spit First Policy Subscription Date\n",
        "df[\"subscription_day\"] = df['FirstPolicySubscriptionDate'].map(lambda x: x.day)\n",
        "df[\"subscription_month\"] = df['FirstPolicySubscriptionDate'].map(lambda x: x.month)\n",
        "df[\"subscription_year\"] = df['FirstPolicySubscriptionDate'].map(lambda x: x.year)\n",
        "\n",
        "# Deleting date fields as they are not needed anymore\n",
        "del df['LossDate']\n",
        "del df['FirstPolicySubscriptionDate']"
      ]
    },
    {
      "cell_type": "markdown",
      "metadata": {
        "id": "894cb5c9"
      },
      "source": [
        "Adding feature based on the character length of the note column and dropping column `'InsurerNotes'`."
      ]
    },
    {
      "cell_type": "code",
      "execution_count": 18,
      "metadata": {
        "id": "8ad96fbe"
      },
      "outputs": [],
      "source": [
        "df['note_length'] = df['InsurerNotes'].str.len()\n",
        "del df['InsurerNotes']"
      ]
    },
    {
      "cell_type": "markdown",
      "metadata": {
        "id": "5f022b3a"
      },
      "source": [
        "Adding feature based on the total number of claims per policy holder"
      ]
    },
    {
      "cell_type": "code",
      "execution_count": 19,
      "metadata": {
        "id": "fad99330"
      },
      "outputs": [],
      "source": [
        "df['total_claim_count'] = df.groupby('PolicyholderNumber')['PolicyholderNumber'].transform('count')"
      ]
    },
    {
      "cell_type": "markdown",
      "metadata": {
        "id": "4489958b"
      },
      "source": [
        "### ID Numbers"
      ]
    },
    {
      "cell_type": "markdown",
      "metadata": {
        "id": "b7dac067"
      },
      "source": [
        "We intend to create a model that is able to predict insurance fraud on a general basis. The unique ID-numbers will not provide variance to the dataset that help in that matter.\n",
        "We will feature engineer information about how many claims a policy holder has, but will delete the following ID columns:\n",
        "- `'PolicyHolderNumber`' \n",
        "- `'FirstPartyVehicleNumber'`\n",
        "- `'ThirdPartyVehicleNumber'`"
      ]
    },
    {
      "cell_type": "code",
      "execution_count": 20,
      "metadata": {
        "id": "ee94fc6b"
      },
      "outputs": [],
      "source": [
        "del df['PolicyholderNumber']\n",
        "del df['FirstPartyVehicleNumber']\n",
        "del df['ThirdPartyVehicleNumber']"
      ]
    },
    {
      "cell_type": "markdown",
      "metadata": {
        "id": "75d03bf2"
      },
      "source": [
        "Checking datatypes after filling NA's, encoding and datatype changes"
      ]
    },
    {
      "cell_type": "code",
      "execution_count": 21,
      "metadata": {
        "colab": {
          "base_uri": "https://localhost:8080/"
        },
        "id": "4a5f072c",
        "outputId": "7e1df356-5c67-443a-833c-1794d05d4f96"
      },
      "outputs": [
        {
          "output_type": "execute_result",
          "data": {
            "text/plain": [
              "PolicyWasSubscribedOnInternet        int64\n",
              "NumberOfPoliciesOfPolicyholder       int64\n",
              "FpVehicleAgeMonths                 float64\n",
              "EasinessToStage                    float64\n",
              "ClaimWihoutIdentifiedThirdParty      int64\n",
              "                                    ...   \n",
              "subscription_day                     int64\n",
              "subscription_month                   int64\n",
              "subscription_year                    int64\n",
              "note_length                          int64\n",
              "total_claim_count                    int64\n",
              "Length: 71, dtype: object"
            ]
          },
          "metadata": {},
          "execution_count": 21
        }
      ],
      "source": [
        "df.dtypes"
      ]
    },
    {
      "cell_type": "markdown",
      "metadata": {
        "id": "d0c52120"
      },
      "source": [
        "Check that there are no empty cells left in the dataframe"
      ]
    },
    {
      "cell_type": "code",
      "execution_count": 22,
      "metadata": {
        "colab": {
          "base_uri": "https://localhost:8080/"
        },
        "id": "e9e1c23f",
        "outputId": "8c514c6f-0526-46d7-ba0f-c9ff4fb8991c"
      },
      "outputs": [
        {
          "output_type": "execute_result",
          "data": {
            "text/plain": [
              "PolicyWasSubscribedOnInternet      0\n",
              "NumberOfPoliciesOfPolicyholder     0\n",
              "FpVehicleAgeMonths                 0\n",
              "EasinessToStage                    0\n",
              "ClaimWihoutIdentifiedThirdParty    0\n",
              "                                  ..\n",
              "subscription_day                   0\n",
              "subscription_month                 0\n",
              "subscription_year                  0\n",
              "note_length                        0\n",
              "total_claim_count                  0\n",
              "Length: 71, dtype: int64"
            ]
          },
          "metadata": {},
          "execution_count": 22
        }
      ],
      "source": [
        "df.isna().sum()"
      ]
    },
    {
      "cell_type": "markdown",
      "metadata": {
        "id": "323edb04"
      },
      "source": [
        "## Checking for columns with simular values in all cells\n",
        "\n",
        "No columns have similar value in all rows. If there were similar values in some of the columns we could have deleted the columns as it contains no variance that the network can learn upon."
      ]
    },
    {
      "cell_type": "code",
      "execution_count": 23,
      "metadata": {
        "colab": {
          "base_uri": "https://localhost:8080/"
        },
        "id": "3c03dbd3",
        "outputId": "8d6fb491-7f2d-4426-da71-2b1ad99803d5"
      },
      "outputs": [
        {
          "output_type": "execute_result",
          "data": {
            "text/plain": [
              "PolicyWasSubscribedOnInternet         2\n",
              "NumberOfPoliciesOfPolicyholder       17\n",
              "FpVehicleAgeMonths                  389\n",
              "EasinessToStage                       4\n",
              "ClaimWihoutIdentifiedThirdParty       2\n",
              "                                   ... \n",
              "subscription_day                     31\n",
              "subscription_month                   12\n",
              "subscription_year                     5\n",
              "note_length                        1649\n",
              "total_claim_count                     8\n",
              "Length: 71, dtype: int64"
            ]
          },
          "metadata": {},
          "execution_count": 23
        }
      ],
      "source": [
        "df.nunique()"
      ]
    },
    {
      "cell_type": "markdown",
      "metadata": {
        "id": "zlahhWXaTmgp"
      },
      "source": [
        "## Split the data in training, validation and test data"
      ]
    },
    {
      "cell_type": "code",
      "execution_count": 24,
      "metadata": {
        "colab": {
          "base_uri": "https://localhost:8080/"
        },
        "id": "c1gEKN3dTmgq",
        "outputId": "6b0ac358-4760-4e9a-ed05-c0fcd621eff4"
      },
      "outputs": [
        {
          "output_type": "stream",
          "name": "stdout",
          "text": [
            "(8065, 70)\n",
            "(1729, 70)\n",
            "(1728, 70)\n"
          ]
        }
      ],
      "source": [
        "X_train, X_other, y_train, y_other = train_test_split(df.loc[:, df.columns != 'Fraud'], df['Fraud'], train_size=0.7, random_state=500)\n",
        "X_test, X_valid, y_test, y_valid = train_test_split(X_other, y_other, train_size = 0.5, random_state=188)\n",
        "print(X_train.shape)\n",
        "print(X_valid.shape)\n",
        "print(X_test.shape)"
      ]
    },
    {
      "cell_type": "markdown",
      "metadata": {
        "id": "rK_aBx4ZTmgq"
      },
      "source": [
        "## Normalization/Scaling"
      ]
    },
    {
      "cell_type": "markdown",
      "metadata": {
        "id": "hOaGWmzYTmgr"
      },
      "source": [
        "**Should Scaling/Normalization be applied?**\n",
        "\n",
        "When we create a neural network, unnormalized input can result in unstable and slow learning processes. Unnormalized models will be slower to learn because the learning speed is proportinal with the magnitude of the inputs and the scale of the input variables will effect the step size of the gradient decent and different scale of the input will thereby slow down the learning process as the gradient decent will go in \"zic-zac\" towards the minima and not as straight as possible. The output of unnormalized models might be unstable because with input of different scale the inputs with a larger scale end up with a greater influence than the input of smaller scale. \n",
        "</br>\n",
        "It might be beneficial to batch-normalize the deeper layers of the network later in the process.\n",
        "</br>\n",
        "First we start by normalizing all variables used by the model between 0 and 1.\n",
        "\n"
      ]
    },
    {
      "cell_type": "code",
      "execution_count": 25,
      "metadata": {
        "id": "qLxafgzeTmgr"
      },
      "outputs": [],
      "source": [
        "normalizer = MinMaxScaler().fit(X_train)\n",
        "\n",
        "# transform training data\n",
        "X_train_norm = normalizer.transform(X_train)\n",
        "\n",
        "# transform training data\n",
        "X_valid_norm = normalizer.transform(X_valid)\n",
        "\n",
        "# transform testing dataabs\n",
        "X_test_norm = normalizer.transform(X_test)"
      ]
    },
    {
      "cell_type": "markdown",
      "metadata": {
        "id": "oUCMCi9LTmgr"
      },
      "source": [
        "Spesifying the metrics to use for our models"
      ]
    },
    {
      "cell_type": "code",
      "execution_count": 26,
      "metadata": {
        "id": "L4EQ6gzATmgs"
      },
      "outputs": [],
      "source": [
        "METRICS = [\n",
        "      tf.keras.metrics.TruePositives(name='tp'),\n",
        "      tf.keras.metrics.FalsePositives(name='fp'),\n",
        "      tf.keras.metrics.TrueNegatives(name='tn'),\n",
        "      tf.keras.metrics.FalseNegatives(name='fn'), \n",
        "      tf.keras.metrics.BinaryAccuracy(name='accuracy'),\n",
        "      tf.keras.metrics.Precision(name='precision'),\n",
        "      tf.keras.metrics.Recall(name='recall'),\n",
        "      tf.keras.metrics.AUC(name='auc'),\n",
        "      tf.keras.metrics.AUC(name='prc', curve='PR'), # precision-recall curve\n",
        "]"
      ]
    },
    {
      "cell_type": "markdown",
      "metadata": {
        "id": "wNWXbUb0Tmgs"
      },
      "source": [
        "# Question 3\n",
        "**Question:** </br>\n",
        "*Start by creating a (deep) neural network in TensorFlow and train it on the data. Using\n",
        "training and validation sets, find a model with high accuracy, then evaluate it on the test\n",
        "set. In particular, record both the accuracy and AUC. Briefly discuss what issues you\n",
        "observe based on the metrics.*"
      ]
    },
    {
      "cell_type": "markdown",
      "source": [
        "Clearing the session"
      ],
      "metadata": {
        "id": "zomYWXvofcZY"
      }
    },
    {
      "cell_type": "code",
      "execution_count": 27,
      "metadata": {
        "id": "PqI22VZkTmgs"
      },
      "outputs": [],
      "source": [
        "tf.keras.backend.clear_session()\n",
        "np.random.seed(745)\n",
        "tf.random.set_seed(498)"
      ]
    },
    {
      "cell_type": "markdown",
      "metadata": {
        "id": "UfMrhIm8Tmgs"
      },
      "source": [
        "Creating a deeper neural network"
      ]
    },
    {
      "cell_type": "code",
      "execution_count": 28,
      "metadata": {
        "id": "c0fSgGh_Tmgt"
      },
      "outputs": [],
      "source": [
        "model = tf.keras.models.Sequential()\n",
        "model.add(tf.keras.layers.Dense(10, activation=\"relu\", input_shape=(X_train.shape[1],)))\n",
        "#model.add(tf.keras.layers.Dense(10, activation=\"relu\"))\n",
        "model.add(tf.keras.layers.Dense(5, activation=\"relu\"))\n",
        "model.add(tf.keras.layers.Dense(1, activation=\"sigmoid\"))"
      ]
    },
    {
      "cell_type": "markdown",
      "source": [
        "To optimize the model, we used a number of combinations of layers and activation functions. Above is a neural network with a high accuracy."
      ],
      "metadata": {
        "id": "vwhcrm1MfvvR"
      }
    },
    {
      "cell_type": "markdown",
      "metadata": {
        "id": "hpkb8lMgTmgt"
      },
      "source": [
        "Summary of the model"
      ]
    },
    {
      "cell_type": "code",
      "execution_count": 29,
      "metadata": {
        "colab": {
          "base_uri": "https://localhost:8080/"
        },
        "id": "qShtnNnnTmgu",
        "outputId": "f7f3ab2a-a4de-4c30-9216-24a4d29fe545"
      },
      "outputs": [
        {
          "output_type": "stream",
          "name": "stdout",
          "text": [
            "Model: \"sequential\"\n",
            "_________________________________________________________________\n",
            " Layer (type)                Output Shape              Param #   \n",
            "=================================================================\n",
            " dense (Dense)               (None, 10)                710       \n",
            "                                                                 \n",
            " dense_1 (Dense)             (None, 5)                 55        \n",
            "                                                                 \n",
            " dense_2 (Dense)             (None, 1)                 6         \n",
            "                                                                 \n",
            "=================================================================\n",
            "Total params: 771\n",
            "Trainable params: 771\n",
            "Non-trainable params: 0\n",
            "_________________________________________________________________\n"
          ]
        }
      ],
      "source": [
        "model.summary()"
      ]
    },
    {
      "cell_type": "markdown",
      "metadata": {
        "id": "Pdbn0XX6Tmgv"
      },
      "source": [
        "Visualize network"
      ]
    },
    {
      "cell_type": "code",
      "execution_count": 30,
      "metadata": {
        "colab": {
          "base_uri": "https://localhost:8080/",
          "height": 422
        },
        "id": "DwReJkVITmgv",
        "outputId": "f9ac81f8-9bfa-48d9-f924-ff14240eb7cb"
      },
      "outputs": [
        {
          "output_type": "execute_result",
          "data": {
            "image/png": "[encoded data removed]",
            "text/plain": [
              "<IPython.core.display.Image object>"
            ]
          },
          "metadata": {},
          "execution_count": 30
        }
      ],
      "source": [
        "tf.keras.utils.plot_model(model, show_shapes=True)"
      ]
    },
    {
      "cell_type": "markdown",
      "metadata": {
        "id": "FXcKGvN9Tmgv"
      },
      "source": [
        "Compile model"
      ]
    },
    {
      "cell_type": "code",
      "execution_count": 31,
      "metadata": {
        "id": "8aOHgkZVTmgv"
      },
      "outputs": [],
      "source": [
        "model.compile(loss=\"binary_crossentropy\",\n",
        "              optimizer=tf.keras.optimizers.SGD(learning_rate=0.001),\n",
        "              metrics=METRICS)"
      ]
    },
    {
      "cell_type": "markdown",
      "metadata": {
        "id": "awgEbrY7Tmgw"
      },
      "source": [
        "Train the model"
      ]
    },
    {
      "cell_type": "code",
      "execution_count": 32,
      "metadata": {
        "colab": {
          "base_uri": "https://localhost:8080/"
        },
        "id": "gemTcDtFTmgw",
        "outputId": "37188f66-8a6a-46a5-b97e-e9e5dfdb524c"
      },
      "outputs": [
        {
          "output_type": "stream",
          "name": "stdout",
          "text": [
            "Epoch 1/15\n",
            "253/253 [==============================] - 5s 9ms/step - loss: 0.9109 - tp: 68.0000 - fp: 7165.0000 - tn: 819.0000 - fn: 13.0000 - accuracy: 0.1100 - precision: 0.0094 - recall: 0.8395 - auc: 0.4642 - prc: 0.0107 - val_loss: 0.7326 - val_tp: 13.0000 - val_fp: 1020.0000 - val_tn: 690.0000 - val_fn: 5.0000 - val_accuracy: 0.4068 - val_precision: 0.0126 - val_recall: 0.7222 - val_auc: 0.5435 - val_prc: 0.0175\n",
            "Epoch 2/15\n",
            "253/253 [==============================] - 1s 3ms/step - loss: 0.6660 - tp: 18.0000 - fp: 2144.0000 - tn: 5840.0000 - fn: 63.0000 - accuracy: 0.7263 - precision: 0.0083 - recall: 0.2222 - auc: 0.5332 - prc: 0.0103 - val_loss: 0.6146 - val_tp: 3.0000 - val_fp: 140.0000 - val_tn: 1570.0000 - val_fn: 15.0000 - val_accuracy: 0.9103 - val_precision: 0.0210 - val_recall: 0.1667 - val_auc: 0.5227 - val_prc: 0.0146\n",
            "Epoch 3/15\n",
            "253/253 [==============================] - 1s 3ms/step - loss: 0.5803 - tp: 1.0000 - fp: 265.0000 - tn: 7719.0000 - fn: 80.0000 - accuracy: 0.9572 - precision: 0.0038 - recall: 0.0123 - auc: 0.5538 - prc: 0.0112 - val_loss: 0.5495 - val_tp: 0.0000e+00 - val_fp: 12.0000 - val_tn: 1698.0000 - val_fn: 18.0000 - val_accuracy: 0.9826 - val_precision: 0.0000e+00 - val_recall: 0.0000e+00 - val_auc: 0.5118 - val_prc: 0.0122\n",
            "Epoch 4/15\n",
            "253/253 [==============================] - 1s 4ms/step - loss: 0.5249 - tp: 1.0000 - fp: 29.0000 - tn: 7955.0000 - fn: 80.0000 - accuracy: 0.9865 - precision: 0.0333 - recall: 0.0123 - auc: 0.5384 - prc: 0.0110 - val_loss: 0.5017 - val_tp: 0.0000e+00 - val_fp: 0.0000e+00 - val_tn: 1710.0000 - val_fn: 18.0000 - val_accuracy: 0.9896 - val_precision: 0.0000e+00 - val_recall: 0.0000e+00 - val_auc: 0.5479 - val_prc: 0.0123\n",
            "Epoch 5/15\n",
            "253/253 [==============================] - 1s 3ms/step - loss: 0.4820 - tp: 0.0000e+00 - fp: 5.0000 - tn: 7979.0000 - fn: 81.0000 - accuracy: 0.9893 - precision: 0.0000e+00 - recall: 0.0000e+00 - auc: 0.5273 - prc: 0.0105 - val_loss: 0.4629 - val_tp: 0.0000e+00 - val_fp: 0.0000e+00 - val_tn: 1710.0000 - val_fn: 18.0000 - val_accuracy: 0.9896 - val_precision: 0.0000e+00 - val_recall: 0.0000e+00 - val_auc: 0.5153 - val_prc: 0.0115\n",
            "Epoch 6/15\n",
            "253/253 [==============================] - 1s 4ms/step - loss: 0.4463 - tp: 0.0000e+00 - fp: 1.0000 - tn: 7983.0000 - fn: 81.0000 - accuracy: 0.9898 - precision: 0.0000e+00 - recall: 0.0000e+00 - auc: 0.5284 - prc: 0.0103 - val_loss: 0.4300 - val_tp: 0.0000e+00 - val_fp: 0.0000e+00 - val_tn: 1710.0000 - val_fn: 18.0000 - val_accuracy: 0.9896 - val_precision: 0.0000e+00 - val_recall: 0.0000e+00 - val_auc: 0.5016 - val_prc: 0.0107\n",
            "Epoch 7/15\n",
            "253/253 [==============================] - 1s 4ms/step - loss: 0.4155 - tp: 0.0000e+00 - fp: 0.0000e+00 - tn: 7984.0000 - fn: 81.0000 - accuracy: 0.9900 - precision: 0.0000e+00 - recall: 0.0000e+00 - auc: 0.5600 - prc: 0.0112 - val_loss: 0.4014 - val_tp: 0.0000e+00 - val_fp: 0.0000e+00 - val_tn: 1710.0000 - val_fn: 18.0000 - val_accuracy: 0.9896 - val_precision: 0.0000e+00 - val_recall: 0.0000e+00 - val_auc: 0.5203 - val_prc: 0.0107\n",
            "Epoch 8/15\n",
            "253/253 [==============================] - 1s 4ms/step - loss: 0.3887 - tp: 0.0000e+00 - fp: 0.0000e+00 - tn: 7984.0000 - fn: 81.0000 - accuracy: 0.9900 - precision: 0.0000e+00 - recall: 0.0000e+00 - auc: 0.5392 - prc: 0.0109 - val_loss: 0.3763 - val_tp: 0.0000e+00 - val_fp: 0.0000e+00 - val_tn: 1710.0000 - val_fn: 18.0000 - val_accuracy: 0.9896 - val_precision: 0.0000e+00 - val_recall: 0.0000e+00 - val_auc: 0.5502 - val_prc: 0.0113\n",
            "Epoch 9/15\n",
            "253/253 [==============================] - 1s 4ms/step - loss: 0.3649 - tp: 0.0000e+00 - fp: 0.0000e+00 - tn: 7984.0000 - fn: 81.0000 - accuracy: 0.9900 - precision: 0.0000e+00 - recall: 0.0000e+00 - auc: 0.5112 - prc: 0.0101 - val_loss: 0.3539 - val_tp: 0.0000e+00 - val_fp: 0.0000e+00 - val_tn: 1710.0000 - val_fn: 18.0000 - val_accuracy: 0.9896 - val_precision: 0.0000e+00 - val_recall: 0.0000e+00 - val_auc: 0.4612 - val_prc: 0.0092\n",
            "Epoch 10/15\n",
            "253/253 [==============================] - 1s 4ms/step - loss: 0.3437 - tp: 0.0000e+00 - fp: 0.0000e+00 - tn: 7984.0000 - fn: 81.0000 - accuracy: 0.9900 - precision: 0.0000e+00 - recall: 0.0000e+00 - auc: 0.5594 - prc: 0.0121 - val_loss: 0.3339 - val_tp: 0.0000e+00 - val_fp: 0.0000e+00 - val_tn: 1710.0000 - val_fn: 18.0000 - val_accuracy: 0.9896 - val_precision: 0.0000e+00 - val_recall: 0.0000e+00 - val_auc: 0.5342 - val_prc: 0.0109\n",
            "Epoch 11/15\n",
            "253/253 [==============================] - 1s 3ms/step - loss: 0.3247 - tp: 0.0000e+00 - fp: 0.0000e+00 - tn: 7984.0000 - fn: 81.0000 - accuracy: 0.9900 - precision: 0.0000e+00 - recall: 0.0000e+00 - auc: 0.5317 - prc: 0.0109 - val_loss: 0.3160 - val_tp: 0.0000e+00 - val_fp: 0.0000e+00 - val_tn: 1710.0000 - val_fn: 18.0000 - val_accuracy: 0.9896 - val_precision: 0.0000e+00 - val_recall: 0.0000e+00 - val_auc: 0.5100 - val_prc: 0.0102\n",
            "Epoch 12/15\n",
            "253/253 [==============================] - 1s 3ms/step - loss: 0.3075 - tp: 0.0000e+00 - fp: 0.0000e+00 - tn: 7984.0000 - fn: 81.0000 - accuracy: 0.9900 - precision: 0.0000e+00 - recall: 0.0000e+00 - auc: 0.5458 - prc: 0.0114 - val_loss: 0.2997 - val_tp: 0.0000e+00 - val_fp: 0.0000e+00 - val_tn: 1710.0000 - val_fn: 18.0000 - val_accuracy: 0.9896 - val_precision: 0.0000e+00 - val_recall: 0.0000e+00 - val_auc: 0.5474 - val_prc: 0.0116\n",
            "Epoch 13/15\n",
            "253/253 [==============================] - 1s 3ms/step - loss: 0.2920 - tp: 0.0000e+00 - fp: 0.0000e+00 - tn: 7984.0000 - fn: 81.0000 - accuracy: 0.9900 - precision: 0.0000e+00 - recall: 0.0000e+00 - auc: 0.5637 - prc: 0.0114 - val_loss: 0.2849 - val_tp: 0.0000e+00 - val_fp: 0.0000e+00 - val_tn: 1710.0000 - val_fn: 18.0000 - val_accuracy: 0.9896 - val_precision: 0.0000e+00 - val_recall: 0.0000e+00 - val_auc: 0.5050 - val_prc: 0.0101\n",
            "Epoch 14/15\n",
            "253/253 [==============================] - 1s 4ms/step - loss: 0.2779 - tp: 0.0000e+00 - fp: 0.0000e+00 - tn: 7984.0000 - fn: 81.0000 - accuracy: 0.9900 - precision: 0.0000e+00 - recall: 0.0000e+00 - auc: 0.5737 - prc: 0.0128 - val_loss: 0.2717 - val_tp: 0.0000e+00 - val_fp: 0.0000e+00 - val_tn: 1710.0000 - val_fn: 18.0000 - val_accuracy: 0.9896 - val_precision: 0.0000e+00 - val_recall: 0.0000e+00 - val_auc: 0.4777 - val_prc: 0.0095\n",
            "Epoch 15/15\n",
            "253/253 [==============================] - 1s 3ms/step - loss: 0.2652 - tp: 0.0000e+00 - fp: 0.0000e+00 - tn: 7984.0000 - fn: 81.0000 - accuracy: 0.9900 - precision: 0.0000e+00 - recall: 0.0000e+00 - auc: 0.5558 - prc: 0.0116 - val_loss: 0.2594 - val_tp: 0.0000e+00 - val_fp: 0.0000e+00 - val_tn: 1710.0000 - val_fn: 18.0000 - val_accuracy: 0.9896 - val_precision: 0.0000e+00 - val_recall: 0.0000e+00 - val_auc: 0.5637 - val_prc: 0.0135\n"
          ]
        }
      ],
      "source": [
        "log = model.fit(X_train_norm, y_train, epochs=15,validation_data=(X_test_norm, y_test))"
      ]
    },
    {
      "cell_type": "markdown",
      "source": [
        "Saving the basic model"
      ],
      "metadata": {
        "id": "AcLY3kJu_aQE"
      }
    },
    {
      "cell_type": "code",
      "source": [
        "model.save(\"original_data_model.h5\")"
      ],
      "metadata": {
        "id": "H8NUCZqI_H1M"
      },
      "execution_count": 33,
      "outputs": []
    },
    {
      "cell_type": "code",
      "execution_count": 34,
      "metadata": {
        "colab": {
          "base_uri": "https://localhost:8080/",
          "height": 265
        },
        "id": "jKxqufcYTmgw",
        "outputId": "2600c06b-2d06-4148-cf39-f78ddf78611c"
      },
      "outputs": [
        {
          "output_type": "display_data",
          "data": {
            "image/png": "[encoded data removed]",
            "text/plain": [
              "<Figure size 432x288 with 1 Axes>"
            ]
          },
          "metadata": {
            "needs_background": "light"
          }
        }
      ],
      "source": [
        "plt.plot(log.history['accuracy'],label = \"training accuracy\")\n",
        "plt.plot(log.history['val_accuracy'], label = \"testing accuracy\")\n",
        "plt.legend()\n",
        "plt.show()"
      ]
    },
    {
      "cell_type": "code",
      "execution_count": 35,
      "metadata": {
        "colab": {
          "base_uri": "https://localhost:8080/"
        },
        "id": "eYDWOYC0Tmgx",
        "outputId": "d0055dca-22f6-4637-bf82-52c38cbc1523"
      },
      "outputs": [
        {
          "output_type": "stream",
          "name": "stdout",
          "text": [
            "54/54 [==============================] - 0s 2ms/step - loss: 0.2594 - tp: 0.0000e+00 - fp: 0.0000e+00 - tn: 1710.0000 - fn: 18.0000 - accuracy: 0.9896 - precision: 0.0000e+00 - recall: 0.0000e+00 - auc: 0.5637 - prc: 0.0135\n"
          ]
        },
        {
          "output_type": "execute_result",
          "data": {
            "text/plain": [
              "[0.2593625783920288,\n",
              " 0.0,\n",
              " 0.0,\n",
              " 1710.0,\n",
              " 18.0,\n",
              " 0.9895833134651184,\n",
              " 0.0,\n",
              " 0.0,\n",
              " 0.5637264847755432,\n",
              " 0.013477151282131672]"
            ]
          },
          "metadata": {},
          "execution_count": 35
        }
      ],
      "source": [
        "model.evaluate(X_test_norm,y_test)"
      ]
    },
    {
      "cell_type": "markdown",
      "metadata": {
        "id": "Lpm-pdSyTmgx"
      },
      "source": [
        "The above graph shows the accuracy of a (deep) neural network that is built using the insurance_claims dataset. The graph shows a high accuracy of the model on the test data. While such a result is favourable in most cases, here, the imbalance of the data makes it such that even if all the cases are classified as non-fraudulent (0), the accuracy of the model is approximately 99%. Therefore, it is more approporiate to visualise a confusion matrix to evaluate the classification accuracy of this model."
      ]
    },
    {
      "cell_type": "markdown",
      "source": [
        "### Visualisation of a confusion matrix"
      ],
      "metadata": {
        "id": "dbKG73fLgQJW"
      }
    },
    {
      "cell_type": "markdown",
      "source": [
        "Creating the confusion matrix"
      ],
      "metadata": {
        "id": "yPuQMTM9gLwH"
      }
    },
    {
      "cell_type": "code",
      "execution_count": 36,
      "metadata": {
        "id": "ujxvS5NWTmgy"
      },
      "outputs": [],
      "source": [
        "Y_pred=model.predict(X_test_norm)\n",
        "Y_pred = np.where(Y_pred > 0.5, 1, 0)"
      ]
    },
    {
      "cell_type": "code",
      "execution_count": 37,
      "metadata": {
        "colab": {
          "base_uri": "https://localhost:8080/",
          "height": 730
        },
        "id": "0jhh62MlTmgy",
        "outputId": "56ac6883-5d88-4506-b5a0-13c77789e7d5"
      },
      "outputs": [
        {
          "output_type": "display_data",
          "data": {
            "image/png": "[encoded data removed]",
            "text/plain": [
              "<Figure size 864x864 with 2 Axes>"
            ]
          },
          "metadata": {
            "needs_background": "light"
          }
        }
      ],
      "source": [
        "labels= ['Valid', 'Fraud'] \n",
        "conf_matrix=confusion_matrix(y_test, Y_pred) \n",
        "plt.figure(figsize=(12, 12)) \n",
        "sns.heatmap(conf_matrix, xticklabels= labels, yticklabels= labels, annot=True, fmt=\"d\")\n",
        "plt.title(\"Original data - Confusion Matrix\") \n",
        "plt.ylabel('True Value') \n",
        "plt.xlabel('Predicted Value') \n",
        "plt.show()"
      ]
    },
    {
      "cell_type": "markdown",
      "metadata": {
        "id": "g_R5LPF6Tmgy"
      },
      "source": [
        "The above confusion matrix shows how the model classifies the test dataset into the two outcome classes. From the visualisation, we can see that the model is classifying all observations as non-fraudulent, misclassifying all of the fraudulent claims in the datset. For an insurance provider, such a result has negative implications as they incur the cost of fulfilling any misclassified fraudulent claims. This misclassification will also have an impact on the accuracy metrics of the classification, as the true-positives, (frauds detected as frauds) = 0. This means that the precision and recall (sensitivity) of the model are both 0, and the insights generated from the model are minimal. The F1 score, a metric that measures model accuracy as a function of the precision and recall will also be 0 because of this. </br>\n",
        "In our analysis of this dataset, we aim to optimize the precision of the relevant classification model as this shows the accuracy of the model in predicting a false claim correctly. This metric would be the more relevant to an insurance provider as it will allow them to reduce the costs associated to a false claim."
      ]
    },
    {
      "cell_type": "code",
      "source": [
        "predict_x=model.predict(X_test) \n",
        "classes_x=np.argmax(predict_x,axis=1)"
      ],
      "metadata": {
        "id": "GKj5M02zhFi6"
      },
      "execution_count": 38,
      "outputs": []
    },
    {
      "cell_type": "markdown",
      "metadata": {
        "id": "09VueKmlUD0X"
      },
      "source": [
        "AUC"
      ]
    },
    {
      "cell_type": "code",
      "execution_count": 39,
      "metadata": {
        "colab": {
          "base_uri": "https://localhost:8080/"
        },
        "id": "5Cn3wkBuUD0X",
        "outputId": "8dd86bca-8588-480e-a0af-23b7228cd929"
      },
      "outputs": [
        {
          "output_type": "stream",
          "name": "stdout",
          "text": [
            "AUC: 0.500000\n"
          ]
        }
      ],
      "source": [
        "auc1 = metrics.roc_auc_score(y_test,classes_x)\n",
        "print('AUC: %f' % auc1)"
      ]
    },
    {
      "cell_type": "markdown",
      "metadata": {
        "id": "tnwIRixdUD0X"
      },
      "source": [
        "Accuracy"
      ]
    },
    {
      "cell_type": "code",
      "execution_count": 40,
      "metadata": {
        "colab": {
          "base_uri": "https://localhost:8080/"
        },
        "id": "Xq2Gg_nRUD0Y",
        "outputId": "030c29e5-b03e-4f68-d49c-28607fadbfa5"
      },
      "outputs": [
        {
          "output_type": "stream",
          "name": "stdout",
          "text": [
            "Accuracy: 0.989583\n"
          ]
        }
      ],
      "source": [
        "# accuracy = (tp + tn) / (tp + tn + fp + fn)\n",
        "accuracy1 = accuracy_score(y_test,classes_x)\n",
        "print('Accuracy: %f' % accuracy1)"
      ]
    },
    {
      "cell_type": "markdown",
      "metadata": {
        "id": "CjLgp37fUD0Y"
      },
      "source": [
        "Precision"
      ]
    },
    {
      "cell_type": "code",
      "execution_count": 41,
      "metadata": {
        "colab": {
          "base_uri": "https://localhost:8080/"
        },
        "id": "ROea96C4Tmgz",
        "outputId": "a1b266cf-f2de-4599-af74-d9986f1e79bf"
      },
      "outputs": [
        {
          "output_type": "stream",
          "name": "stdout",
          "text": [
            "Precision: 0.000000\n"
          ]
        },
        {
          "output_type": "stream",
          "name": "stderr",
          "text": [
            "/usr/local/lib/python3.7/dist-packages/sklearn/metrics/_classification.py:1318: UndefinedMetricWarning: Precision is ill-defined and being set to 0.0 due to no predicted samples. Use `zero_division` parameter to control this behavior.\n",
            "  _warn_prf(average, modifier, msg_start, len(result))\n"
          ]
        }
      ],
      "source": [
        "# precision = tp / (tp + fp)\n",
        "precision1 = precision_score(y_test,classes_x)\n",
        "print('Precision: %f' % precision1)"
      ]
    },
    {
      "cell_type": "markdown",
      "metadata": {
        "id": "EWcTNJcKTmgz"
      },
      "source": [
        "Recall Score"
      ]
    },
    {
      "cell_type": "code",
      "execution_count": 42,
      "metadata": {
        "colab": {
          "base_uri": "https://localhost:8080/"
        },
        "id": "H-YI0aauTmg0",
        "outputId": "44aa4d27-4c2a-43e8-f384-4fb41e0fb791"
      },
      "outputs": [
        {
          "output_type": "stream",
          "name": "stdout",
          "text": [
            "Recall: 0.000000\n"
          ]
        }
      ],
      "source": [
        "# recall = tp / (tp + fn)\n",
        "recall1 = recall_score(y_test,classes_x)\n",
        "print('Recall: %f' % recall1)"
      ]
    },
    {
      "cell_type": "markdown",
      "metadata": {
        "id": "wcl8U50TTmg0"
      },
      "source": [
        "F1-Score"
      ]
    },
    {
      "cell_type": "code",
      "execution_count": 43,
      "metadata": {
        "colab": {
          "base_uri": "https://localhost:8080/"
        },
        "id": "kuUkohGvTmg0",
        "outputId": "f56a9218-bfcd-4cd6-e006-c1850738e2bb"
      },
      "outputs": [
        {
          "output_type": "stream",
          "name": "stdout",
          "text": [
            "F1 score: 0.000000\n"
          ]
        }
      ],
      "source": [
        "# f1: 2 tp / (2 tp + fp + fn)\n",
        "f11 = f1_score(y_test,classes_x)\n",
        "print('F1 score: %f' % f11)"
      ]
    },
    {
      "cell_type": "markdown",
      "metadata": {
        "id": "VaVfTYJgTmg0"
      },
      "source": [
        "# Question 4\n",
        "**Question:** </br>\n",
        "*The file \"SMOTE.ipynb\" explains the process in detail and shows how to change the\n",
        "dataset with an example. You can copy and adjust the code to make it work within your\n",
        "analysis. You can adjust the \"sampling_strategy\" parameters as you see fit, particularly if\n",
        "you want to fine-tune your model in part 5.*"
      ]
    },
    {
      "cell_type": "markdown",
      "metadata": {
        "id": "yqApEaLgUgfd"
      },
      "source": [
        "Due to the imbalance in the outcome observations of the data, any models that try to fit the data could achieve a 99% accuracy rate by classifying all of the observations as non-fradulent, reducing the ability of a user to generate any insights from the data and increasing any costs that arise from fradulent claims. The synthetic-minority over sampling technique (SMOTE), as introduced in the Journal of Artificial Intelligence, allows a user to synthetically generate additional observations in the case of an imbalanced dataset. SMOTE oversamples examples in the minority class by duplicating them prior to fitting them in a model. In this case, a combination of oversampling and undersampling techniques are used to improve the balance of the dataset. Undersampling involves discarding observations from the majority class whereas oversampling involves replicating datapoints in the minority class of the dataset."
      ]
    },
    {
      "cell_type": "markdown",
      "metadata": {
        "id": "GJvcBwfgUD0a"
      },
      "source": [
        "### SMOTE split"
      ]
    },
    {
      "cell_type": "code",
      "execution_count": 44,
      "metadata": {
        "colab": {
          "base_uri": "https://localhost:8080/"
        },
        "id": "SDd8oELiUD0b",
        "outputId": "07f3babd-1083-4702-c175-54476b918159"
      },
      "outputs": [
        {
          "output_type": "stream",
          "name": "stdout",
          "text": [
            "(8065, 70)\n",
            "(3457, 70)\n"
          ]
        }
      ],
      "source": [
        "X_train_smote, X_valid_smote, y_train_smote, y_valid_smote = train_test_split(df.loc[:, df.columns != 'Fraud'], df['Fraud'], train_size=0.7, random_state=256)\n",
        "print(X_train_smote.shape)\n",
        "print(X_valid_smote.shape)"
      ]
    },
    {
      "cell_type": "markdown",
      "metadata": {
        "id": "6MHBCM_8UD0b"
      },
      "source": [
        "### Normalize SMOTE Split"
      ]
    },
    {
      "cell_type": "code",
      "execution_count": 45,
      "metadata": {
        "id": "PT0CsPL_UD0b"
      },
      "outputs": [],
      "source": [
        "normalizer = MinMaxScaler().fit(X_train_smote)\n",
        "\n",
        "# transform training data\n",
        "X_train_smote_norm = normalizer.transform(X_train_smote)\n",
        "\n",
        "# transform training data\n",
        "X_valid_smote_norm = normalizer.transform(X_valid_smote)"
      ]
    },
    {
      "cell_type": "markdown",
      "metadata": {
        "id": "cFte2aliUD0b"
      },
      "source": [
        "### Apply SMOTE - Over and Undersampling"
      ]
    },
    {
      "cell_type": "code",
      "execution_count": 46,
      "metadata": {
        "id": "_bQ7SzdvUD0c"
      },
      "outputs": [],
      "source": [
        "# Smote train\n",
        "over = im.over_sampling.SMOTE(sampling_strategy=0.5, random_state = 200)\n",
        "under = im.under_sampling.RandomUnderSampler(sampling_strategy=0.5, random_state = 223)\n",
        "steps = [('o', over), ('u', under)]\n",
        "pipeline = im.pipeline.Pipeline(steps=steps)\n",
        "X_train_synth, y_train_synth = pipeline.fit_resample(X_train_smote_norm, y_train_smote)\n",
        "\n",
        "\n",
        "# Smote validation\n",
        "over = im.over_sampling.SMOTE(sampling_strategy=0.5, random_state = 256)\n",
        "under = im.under_sampling.RandomUnderSampler(sampling_strategy=0.5, random_state = 643)\n",
        "steps = [('o', over), ('u', under)]\n",
        "pipeline = im.pipeline.Pipeline(steps=steps)\n",
        "X_valid_synth, y_valid_synth = pipeline.fit_resample(X_valid_smote_norm, y_valid_smote)"
      ]
    },
    {
      "cell_type": "markdown",
      "metadata": {
        "id": "aVhikBqLUD0c"
      },
      "source": [
        "### Percentage of fraudulant cases after SMOTE"
      ]
    },
    {
      "cell_type": "markdown",
      "metadata": {
        "id": "Fr_h-wahUD0c"
      },
      "source": [
        "By visualizing the distributions, we can see that the observations are more evenly balanced compared to the original dataset."
      ]
    },
    {
      "cell_type": "code",
      "execution_count": 47,
      "metadata": {
        "id": "MWBATpi3UD0d"
      },
      "outputs": [],
      "source": [
        "og_fraud_y = df['Fraud'].sum()\n",
        "og_fraud_n = len(df['Fraud']) - og_fraud_y"
      ]
    },
    {
      "cell_type": "code",
      "execution_count": 48,
      "metadata": {
        "id": "lS52T3PhUD0d"
      },
      "outputs": [],
      "source": [
        "smote_fraud_y = sum(y_train_synth==1) + sum(y_valid_synth==1)\n",
        "smote_fraud_n = sum(y_train_synth==0) + sum(y_valid_synth==0)"
      ]
    },
    {
      "cell_type": "code",
      "execution_count": 49,
      "metadata": {
        "colab": {
          "base_uri": "https://localhost:8080/",
          "height": 621
        },
        "id": "_lKOgEyfUD0d",
        "outputId": "7673870e-6c18-43ec-f703-59500fdfe811"
      },
      "outputs": [
        {
          "output_type": "display_data",
          "data": {
            "image/png": "[encoded data removed]",
            "text/plain": [
              "<Figure size 864x720 with 1 Axes>"
            ]
          },
          "metadata": {
            "needs_background": "light"
          }
        }
      ],
      "source": [
        "fr = ['Original', 'SMOTE']\n",
        "frauds = [og_fraud_y, smote_fraud_y]\n",
        "n_frauds = [og_fraud_n, smote_fraud_n]\n",
        "\n",
        "x_axis = np.arange(len(fr))\n",
        "plt.figure(figsize=(12,10))\n",
        "plt.bar(x_axis - 0.2, frauds, 0.4, label = 'Frauds')\n",
        "plt.bar(x_axis + 0.2, n_frauds, 0.4, label = 'Not Frauds')\n",
        "\n",
        "plt.xticks(x_axis, fr)\n",
        "plt.xlabel(\"Model\")\n",
        "plt.ylabel(\"Count\")\n",
        "plt.title(\"Count of Fraudulent Claims\")\n",
        "plt.legend()\n",
        "plt.show()"
      ]
    },
    {
      "cell_type": "markdown",
      "metadata": {
        "id": "BJuZr2wQUD0d"
      },
      "source": [
        "# Question 5\n",
        "**Question:** </br>\n",
        "*Create a new (deep) neural network and train it on your enhanced dataset. Use training\n",
        "and validation sets derived from the enhanced dataset to find a model with high\n",
        "accuracy. Evaluate your final model on a test set consisting only of original data. Again,\n",
        "record the accuracy and AUC. Briefly discuss the changes you would expect in the\n",
        "metrics and the actual changes you observe. Would you say that you are now doing\n",
        "better at identifying fraudulent claims?*"
      ]
    },
    {
      "cell_type": "markdown",
      "source": [
        "After applying the smote functions, as the dataset is mode balanced, the model can learn better and improve its predictions. We would expect to see a small fall in the accuracy of the model and improved precision. This is because the model now has additional observations to understand the pattern in the fraudulent data."
      ],
      "metadata": {
        "id": "jTfDzHhtiJ6f"
      }
    },
    {
      "cell_type": "markdown",
      "metadata": {
        "id": "zOqUEd9oUD0e"
      },
      "source": [
        "## Hyperparameter Tuning"
      ]
    },
    {
      "cell_type": "markdown",
      "metadata": {
        "id": "WIa1vph5UD0e"
      },
      "source": [
        "The tuning of different hyperparameters can be difficult to perform without spending a lot of time. It is also hard to keep track of all the performance results with different combinations of hyperparameters.\n",
        "\n",
        "To be able to tune our hyper parameters in a structured manner we are using Keras Tuning library. \n",
        "\n",
        "The library enables us to quicly identify models which are performing well on our focused metrics. As outlined earlier in the document, the metrics we are trying to maximise when we performed the hyperparameter tuning is precision."
      ]
    },
    {
      "cell_type": "markdown",
      "metadata": {
        "id": "JSv8DtqWUD0e"
      },
      "source": [
        "### Clear the session"
      ]
    },
    {
      "cell_type": "code",
      "execution_count": 50,
      "metadata": {
        "id": "gfFvcQ2hUD0e"
      },
      "outputs": [],
      "source": [
        "tf.keras.backend.clear_session()\n",
        "np.random.seed(745)\n",
        "tf.random.set_seed(498)"
      ]
    },
    {
      "cell_type": "markdown",
      "metadata": {
        "id": "3k3rLeU2UD0e"
      },
      "source": [
        "The first line of above section of code clears the session and removes all the nodes present from the previous training sessions. \n",
        "Setting seed allows the system to generate the same random numbers of multiple executions. "
      ]
    },
    {
      "cell_type": "code",
      "execution_count": 51,
      "metadata": {
        "id": "x2VKQYhYUD0f"
      },
      "outputs": [],
      "source": [
        "def train_model(hp):    \n",
        "    # Defining the hyper parameters to tune\n",
        "    num_units = hp.Int('num_units', min_value = 2, max_value=20) \n",
        "    dropout_rate = hp.Float('dropout_rate', min_value = 0.1, max_value=0.3) \n",
        "    optim_algo = hp.Choice('optimizer', values=['sgd','adam']) \n",
        "    learning_rate = hp.Float('learning_rate', min_value = 0.001, max_value=1, sampling='log') \n",
        "    \n",
        "    # Defining model\n",
        "    model_smote_tuned = tf.keras.models.Sequential([\n",
        "        tf.keras.layers.Dropout(dropout_rate),\n",
        "        tf.keras.layers.Dense(num_units, activation=\"relu\"),\n",
        "        tf.keras.layers.Dropout(dropout_rate),\n",
        "        tf.keras.layers.Dense(num_units, activation=\"relu\"),\n",
        "        tf.keras.layers.Dropout(dropout_rate),\n",
        "        tf.keras.layers.Dense(num_units, activation=\"relu\"),\n",
        "        tf.keras.layers.Dropout(dropout_rate),\n",
        "        tf.keras.layers.Dense(num_units, activation=\"relu\"),\n",
        "        tf.keras.layers.Dropout(dropout_rate),\n",
        "        tf.keras.layers.Dense(num_units, activation=\"relu\"),\n",
        "        tf.keras.layers.Dropout(dropout_rate),\n",
        "        tf.keras.layers.Dense(1, activation=\"sigmoid\")])\n",
        "    \n",
        "    # Tuner is checking for suitability of SGD and Adam optimizers \n",
        "    if optim_algo == 'sgd':\n",
        "        optimizer = tf.keras.optimizers.SGD(learning_rate=learning_rate,clipvalue=1)\n",
        "    elif optim_algo == 'adam':\n",
        "        optimizer = tf.keras.optimizers.Adam(learning_rate=learning_rate)\n",
        "\n",
        "    # Compiling the model      \n",
        "    model_smote_tuned.compile(  optimizer=optimizer,\n",
        "                    loss='mse',\n",
        "                    metrics=['Precision']) # Specifying that we intend to calculate precision\n",
        "    \n",
        "    return model_smote_tuned"
      ]
    },
    {
      "cell_type": "markdown",
      "metadata": {
        "id": "gl6dMzYIUD0f"
      },
      "source": [
        "The function above will return a tuned model when called. </br>\n",
        "\n",
        "> num_units refers to multiple parallel LSTM units, which are structurally identical, but learn to remember different things. We've set the units between 2 and 20. </br>\n",
        "\n",
        "\n",
        "> dropout_rate is a hyperparameter which represents the probability of a neuron activation being set to zero during each taining step. In this case, it is set to 0.1-0.3 or 10-30%. \n",
        "\n",
        "\n",
        "> optim_algo refers to the choice of optimiser, in this case, Adam or SGD. Optimisers are built on the idea of gradient descent, or 'the greedy approach of iteratively decreasing the loss function by following the gradient.'\n",
        "\n",
        "\n",
        "> learning_rate is a hyperparameter which controls how quickly the model can be adapted to the problem. Neural networks use stochastic gradient descent to train the model, updating weights of the model using backpropagation. The amount the weights are updated is the learning rate, here between 0.001 and 1. "
      ]
    },
    {
      "cell_type": "code",
      "execution_count": 52,
      "metadata": {
        "colab": {
          "base_uri": "https://localhost:8080/"
        },
        "id": "zRNsRqzMUD0f",
        "outputId": "635ff650-a397-4418-be75-4b6ff6d6a244"
      },
      "outputs": [
        {
          "output_type": "stream",
          "name": "stdout",
          "text": [
            "Trial 30 Complete [00h 00m 12s]\n",
            "val_precision: 0.832929790019989\n",
            "\n",
            "Best val_precision So Far: 0.8396226167678833\n",
            "Total elapsed time: 00h 03m 00s\n",
            "INFO:tensorflow:Oracle triggered exit\n"
          ]
        }
      ],
      "source": [
        "tuner = kt.Hyperband(train_model,\n",
        "                     objective=kt.Objective(\"val_precision\", direction=\"max\"),\n",
        "                     max_epochs=10,\n",
        "                     factor=3,\n",
        "                     #overwrite=True,\n",
        "                     seed=768) # Can activate the saving of logs if needed\n",
        "                     #directory='logs_smote', \n",
        "                     #project_name='kt_2')\n",
        "tuner.search(X_train_synth, y_train_synth, validation_data=(X_valid_synth, y_valid_synth))"
      ]
    },
    {
      "cell_type": "markdown",
      "metadata": {
        "id": "3sIsJtH3UD0g"
      },
      "source": [
        "This block of code uses Keras tuner to find the optimal Hyperparameters for the model. "
      ]
    },
    {
      "cell_type": "code",
      "execution_count": 53,
      "metadata": {
        "colab": {
          "base_uri": "https://localhost:8080/"
        },
        "id": "TlHa-ERzUD0g",
        "outputId": "875f7e02-d8c5-4c33-a841-0a6564a78fac"
      },
      "outputs": [
        {
          "output_type": "stream",
          "name": "stdout",
          "text": [
            "Best learning rate: 0.011768592781260759\n",
            "Best optimizer: adam\n",
            "Best dropout rate: 0.1540950665513367\n",
            "Best number of hidden units: 14\n"
          ]
        }
      ],
      "source": [
        "best_hps = tuner.get_best_hyperparameters()[0]\n",
        "print(\"Best learning rate: \" + str(best_hps['learning_rate']))\n",
        "print(\"Best optimizer: \" + str(best_hps['optimizer']))\n",
        "print(\"Best dropout rate: \" + str(best_hps['dropout_rate']))\n",
        "print(\"Best number of hidden units: \" + str(best_hps['num_units']))"
      ]
    },
    {
      "cell_type": "markdown",
      "metadata": {
        "id": "eWtX-CUJUD0g"
      },
      "source": [
        "### Optimizing Regularizarion"
      ]
    },
    {
      "cell_type": "markdown",
      "metadata": {
        "id": "djpv2gTAUD0g"
      },
      "source": [
        "With having the hyperparameters defined by the Keras Tuner, we intend to loop through different levels of regularizations to check if we are able to gain an inhanced model with a high accuracy, AUC and precision. "
      ]
    },
    {
      "cell_type": "code",
      "execution_count": 54,
      "metadata": {
        "id": "Yi7-X8OOUD0h"
      },
      "outputs": [],
      "source": [
        "def tuning_regularization (x_train, y_train, x_validation, y_validation):\n",
        "\n",
        "    # Specifying the range of regularization parameters to test\n",
        "    reg_values = np.arange(0, 0.005, 0.001).tolist()\n",
        "\n",
        "    # Specifying the hyperparameters given in the Keras Tuner to our model\n",
        "    num_units = best_hps['num_units']\n",
        "    dropout_rate = best_hps['dropout_rate'] \n",
        "    learning_rate = best_hps['learning_rate']\n",
        "\n",
        "    reg_results = []\n",
        "\n",
        "    # Looping through to find best performing model with L1 regularization\n",
        "    for i, value in enumerate(reg_values):\n",
        "        # Clear the session\n",
        "        tf.keras.backend.clear_session()\n",
        "        np.random.seed(735)\n",
        "        tf.random.set_seed(298)\n",
        "\n",
        "        # Set current regularizatoin\n",
        "        regularizer = tf.keras.regularizers.l1(value)\n",
        "\n",
        "        # Defining model with hyperparameters found in hyperband above\n",
        "        model_loop = tf.keras.models.Sequential()\n",
        "        tf.keras.layers.Dropout(dropout_rate),\n",
        "        model_loop.add(tf.keras.layers.Dense(num_units, activation=\"relu\", kernel_regularizer=regularizer , input_shape=[X_train_smote_norm.shape[1]]))\n",
        "        tf.keras.layers.Dropout(dropout_rate),\n",
        "        model_loop.add(tf.keras.layers.Dense(num_units, activation=\"relu\", kernel_regularizer=regularizer))\n",
        "        tf.keras.layers.Dropout(dropout_rate),\n",
        "        model_loop.add(tf.keras.layers.Dense(num_units, activation=\"relu\", kernel_regularizer=regularizer))\n",
        "        tf.keras.layers.Dropout(dropout_rate),\n",
        "        model_loop.add(tf.keras.layers.Dense(num_units, activation=\"relu\", kernel_regularizer=regularizer))\n",
        "        tf.keras.layers.Dropout(dropout_rate),\n",
        "        model_loop.add(tf.keras.layers.Dense(num_units, activation=\"relu\", kernel_regularizer=regularizer))\n",
        "        tf.keras.layers.Dropout(dropout_rate),\n",
        "        model_loop.add(tf.keras.layers.Dense(1, activation=\"sigmoid\", kernel_regularizer=regularizer))\n",
        "\n",
        "        # Compiling the model with hyperparameters found in hyperband above\n",
        "        model_loop.compile(loss=\"binary_crossentropy\",\n",
        "        optimizer=tf.keras.optimizers.Adam(learning_rate=learning_rate),\n",
        "        metrics=[tf.keras.metrics.BinaryAccuracy(name='accuracy'), \n",
        "                tf.keras.metrics.AUC(name='auc'),\n",
        "                tf.keras.metrics.Precision(name='precision'),\n",
        "                tf.keras.metrics.Recall(name='recall')])\n",
        "\n",
        "        # Training the model\n",
        "        smote_logs = model_loop.fit(x_train, y_train, \n",
        "                            epochs=20, # Using an arbetrary number of epochs\n",
        "                            validation_data=(x_validation, y_validation))\n",
        "\n",
        "        # Appending the results to the result list\n",
        "        reg_results.append(\n",
        "            {\n",
        "                'regularization_type': 'L1 regularization',\n",
        "                'regularization_value': value,\n",
        "                'accuracy': smote_logs.history['accuracy'][19],\n",
        "                'auc':  smote_logs.history['auc'][19],\n",
        "                'precision': smote_logs.history['precision'][19],\n",
        "                'recall':  smote_logs.history['recall'][19]\n",
        "            }\n",
        "        )\n",
        "\n",
        "        print('------------------------------- Model run:', i, '/', (len(reg_values)*2)-1, '- Finished running model for L1 regularisation at level: ', value, ' -------------------------------')\n",
        "\n",
        "    # Looping through to find best performing model with L2 regularization\n",
        "    for i, value in enumerate(reg_values):\n",
        "        # Clear the session\n",
        "        tf.keras.backend.clear_session()\n",
        "        np.random.seed(735)\n",
        "        tf.random.set_seed(298)\n",
        "\n",
        "        # Set current regularizatoin\n",
        "        regularizer = tf.keras.regularizers.l2(value)\n",
        "\n",
        "        # Defining model with hyperparameters found in hyperband above\n",
        "        model_loop = tf.keras.models.Sequential()\n",
        "        tf.keras.layers.Dropout(dropout_rate),\n",
        "        model_loop.add(tf.keras.layers.Dense(num_units, activation=\"relu\", kernel_regularizer=regularizer , input_shape=[X_train_smote_norm.shape[1]]))\n",
        "        tf.keras.layers.Dropout(dropout_rate),\n",
        "        model_loop.add(tf.keras.layers.Dense(num_units, activation=\"relu\", kernel_regularizer=regularizer))\n",
        "        tf.keras.layers.Dropout(dropout_rate),\n",
        "        model_loop.add(tf.keras.layers.Dense(num_units, activation=\"relu\", kernel_regularizer=regularizer))\n",
        "        tf.keras.layers.Dropout(dropout_rate),\n",
        "        model_loop.add(tf.keras.layers.Dense(num_units, activation=\"relu\", kernel_regularizer=regularizer))\n",
        "        tf.keras.layers.Dropout(dropout_rate),\n",
        "        model_loop.add(tf.keras.layers.Dense(num_units, activation=\"relu\", kernel_regularizer=regularizer))\n",
        "        tf.keras.layers.Dropout(dropout_rate),\n",
        "        model_loop.add(tf.keras.layers.Dense(1, activation=\"sigmoid\", kernel_regularizer=regularizer))\n",
        "\n",
        "        # Compiling the model with hyperparameters found in hyperband above\n",
        "        model_loop.compile(loss=\"binary_crossentropy\",\n",
        "        optimizer=tf.keras.optimizers.Adam(learning_rate=learning_rate),\n",
        "        metrics=[tf.keras.metrics.BinaryAccuracy(name='accuracy'), \n",
        "                tf.keras.metrics.AUC(name='auc'),\n",
        "                tf.keras.metrics.Precision(name='precision'),\n",
        "                tf.keras.metrics.Recall(name='recall')])\n",
        "\n",
        "        # Training the model\n",
        "        model_loop.fit(x_train, y_train, \n",
        "                        epochs=20, # Using an arbetrary number of epochs\n",
        "                        validation_data=(x_validation, y_validation))\n",
        "\n",
        "        # Appending the results to the result list\n",
        "        reg_results.append(\n",
        "            {\n",
        "                'regularization_type': 'L2 regularization',\n",
        "                'regularization_value': value,\n",
        "                'accuracy': smote_logs.history['accuracy'][19],\n",
        "                'auc':  smote_logs.history['auc'][19],\n",
        "                'precision': smote_logs.history['precision'][19],\n",
        "                'recall':  smote_logs.history['recall'][19]\n",
        "            }\n",
        "        )\n",
        "\n",
        "        print('------------------------------- Model run:', len(reg_values)+i, '/', (len(reg_values)*2)-1, '- Finished running model for L2 regularisation at level: ', value, ' -------------------------------')\n",
        "\n",
        "    # Exporting the results to a dataframe\n",
        "    results = pd.DataFrame(reg_results)\n",
        "\n",
        "    return results"
      ]
    },
    {
      "cell_type": "markdown",
      "metadata": {
        "id": "ooscUDJJUD0h"
      },
      "source": [
        "Running the tuning_regularization function with our Smote data"
      ]
    },
    {
      "cell_type": "code",
      "execution_count": 55,
      "metadata": {
        "colab": {
          "base_uri": "https://localhost:8080/"
        },
        "id": "Yq9UwsW_UD0h",
        "outputId": "e081cbd2-b8ae-449b-d592-642eda16b1c6"
      },
      "outputs": [
        {
          "output_type": "stream",
          "name": "stdout",
          "text": [
            "Epoch 1/20\n",
            "375/375 [==============================] - 3s 5ms/step - loss: 0.2340 - accuracy: 0.8988 - auc: 0.9583 - precision: 0.8397 - recall: 0.8605 - val_loss: 0.8123 - val_accuracy: 0.7962 - val_auc: 0.8515 - val_precision: 0.8013 - val_recall: 0.5167\n",
            "Epoch 2/20\n",
            "375/375 [==============================] - 1s 3ms/step - loss: 0.1352 - accuracy: 0.9521 - auc: 0.9813 - precision: 0.8969 - recall: 0.9675 - val_loss: 2.0729 - val_accuracy: 0.7654 - val_auc: 0.7430 - val_precision: 0.8614 - val_recall: 0.3528\n",
            "Epoch 3/20\n",
            "375/375 [==============================] - 1s 3ms/step - loss: 0.0880 - accuracy: 0.9719 - auc: 0.9901 - precision: 0.9342 - recall: 0.9850 - val_loss: 2.0896 - val_accuracy: 0.7427 - val_auc: 0.7361 - val_precision: 0.8385 - val_recall: 0.2826\n",
            "Epoch 4/20\n",
            "375/375 [==============================] - 1s 3ms/step - loss: 0.0772 - accuracy: 0.9750 - auc: 0.9925 - precision: 0.9425 - recall: 0.9850 - val_loss: 3.1299 - val_accuracy: 0.7028 - val_auc: 0.6910 - val_precision: 0.7795 - val_recall: 0.1510\n",
            "Epoch 5/20\n",
            "375/375 [==============================] - 1s 3ms/step - loss: 0.0689 - accuracy: 0.9790 - auc: 0.9926 - precision: 0.9508 - recall: 0.9880 - val_loss: 3.5075 - val_accuracy: 0.7332 - val_auc: 0.7031 - val_precision: 0.8350 - val_recall: 0.2487\n",
            "Epoch 6/20\n",
            "375/375 [==============================] - 1s 3ms/step - loss: 0.0572 - accuracy: 0.9832 - auc: 0.9949 - precision: 0.9622 - recall: 0.9885 - val_loss: 4.9740 - val_accuracy: 0.6932 - val_auc: 0.6311 - val_precision: 0.7931 - val_recall: 0.1077\n",
            "Epoch 7/20\n",
            "375/375 [==============================] - 1s 3ms/step - loss: 0.0507 - accuracy: 0.9845 - auc: 0.9963 - precision: 0.9655 - recall: 0.9887 - val_loss: 2.4830 - val_accuracy: 0.7433 - val_auc: 0.7315 - val_precision: 0.8566 - val_recall: 0.2762\n",
            "Epoch 8/20\n",
            "375/375 [==============================] - 1s 3ms/step - loss: 0.0487 - accuracy: 0.9857 - auc: 0.9964 - precision: 0.9679 - recall: 0.9900 - val_loss: 2.1240 - val_accuracy: 0.7525 - val_auc: 0.7566 - val_precision: 0.8470 - val_recall: 0.3142\n",
            "Epoch 9/20\n",
            "375/375 [==============================] - 1s 3ms/step - loss: 0.0422 - accuracy: 0.9881 - auc: 0.9968 - precision: 0.9725 - recall: 0.9922 - val_loss: 2.9868 - val_accuracy: 0.7049 - val_auc: 0.7028 - val_precision: 0.7379 - val_recall: 0.1779\n",
            "Epoch 10/20\n",
            "375/375 [==============================] - 1s 3ms/step - loss: 0.0424 - accuracy: 0.9883 - auc: 0.9966 - precision: 0.9714 - recall: 0.9942 - val_loss: 4.3321 - val_accuracy: 0.6998 - val_auc: 0.6247 - val_precision: 0.7742 - val_recall: 0.1404\n",
            "Epoch 11/20\n",
            "375/375 [==============================] - 1s 3ms/step - loss: 0.0383 - accuracy: 0.9881 - auc: 0.9976 - precision: 0.9746 - recall: 0.9900 - val_loss: 2.9185 - val_accuracy: 0.7498 - val_auc: 0.7265 - val_precision: 0.8349 - val_recall: 0.3107\n",
            "Epoch 12/20\n",
            "375/375 [==============================] - 1s 3ms/step - loss: 0.0355 - accuracy: 0.9901 - auc: 0.9978 - precision: 0.9790 - recall: 0.9915 - val_loss: 1.5203 - val_accuracy: 0.7028 - val_auc: 0.8004 - val_precision: 0.7126 - val_recall: 0.1814\n",
            "Epoch 13/20\n",
            "375/375 [==============================] - 1s 3ms/step - loss: 0.0326 - accuracy: 0.9903 - auc: 0.9981 - precision: 0.9788 - recall: 0.9925 - val_loss: 2.8521 - val_accuracy: 0.7187 - val_auc: 0.7340 - val_precision: 0.8248 - val_recall: 0.1984\n",
            "Epoch 14/20\n",
            "375/375 [==============================] - 1s 3ms/step - loss: 0.0288 - accuracy: 0.9912 - auc: 0.9987 - precision: 0.9814 - recall: 0.9925 - val_loss: 6.1701 - val_accuracy: 0.6831 - val_auc: 0.5790 - val_precision: 0.7692 - val_recall: 0.0702\n",
            "Epoch 15/20\n",
            "375/375 [==============================] - 1s 3ms/step - loss: 0.0292 - accuracy: 0.9912 - auc: 0.9984 - precision: 0.9812 - recall: 0.9925 - val_loss: 6.5092 - val_accuracy: 0.6745 - val_auc: 0.5771 - val_precision: 0.6887 - val_recall: 0.0427\n",
            "Epoch 16/20\n",
            "375/375 [==============================] - 1s 3ms/step - loss: 0.0244 - accuracy: 0.9933 - auc: 0.9987 - precision: 0.9861 - recall: 0.9940 - val_loss: 7.4920 - val_accuracy: 0.6817 - val_auc: 0.5731 - val_precision: 0.7584 - val_recall: 0.0661\n",
            "Epoch 17/20\n",
            "375/375 [==============================] - 1s 3ms/step - loss: 0.0320 - accuracy: 0.9912 - auc: 0.9980 - precision: 0.9807 - recall: 0.9930 - val_loss: 5.4154 - val_accuracy: 0.6953 - val_auc: 0.6442 - val_precision: 0.7774 - val_recall: 0.1205\n",
            "Epoch 18/20\n",
            "375/375 [==============================] - 1s 3ms/step - loss: 0.0334 - accuracy: 0.9908 - auc: 0.9978 - precision: 0.9797 - recall: 0.9930 - val_loss: 4.8473 - val_accuracy: 0.6934 - val_auc: 0.6291 - val_precision: 0.7625 - val_recall: 0.1164\n",
            "Epoch 19/20\n",
            "375/375 [==============================] - 1s 3ms/step - loss: 0.0187 - accuracy: 0.9947 - auc: 0.9991 - precision: 0.9888 - recall: 0.9955 - val_loss: 7.1294 - val_accuracy: 0.6848 - val_auc: 0.5705 - val_precision: 0.7657 - val_recall: 0.0784\n",
            "Epoch 20/20\n",
            "375/375 [==============================] - 1s 3ms/step - loss: 0.0189 - accuracy: 0.9947 - auc: 0.9990 - precision: 0.9883 - recall: 0.9960 - val_loss: 6.2642 - val_accuracy: 0.6936 - val_auc: 0.5873 - val_precision: 0.8026 - val_recall: 0.1071\n",
            "------------------------------- Model run: 0 / 9 - Finished running model for L1 regularisation at level:  0.0  -------------------------------\n",
            "Epoch 1/20\n",
            "375/375 [==============================] - 3s 5ms/step - loss: 0.3626 - accuracy: 0.8816 - auc: 0.9456 - precision: 0.8108 - recall: 0.8410 - val_loss: 0.6532 - val_accuracy: 0.8069 - val_auc: 0.8920 - val_precision: 0.7944 - val_recall: 0.5676\n",
            "Epoch 2/20\n",
            "375/375 [==============================] - 1s 3ms/step - loss: 0.2770 - accuracy: 0.9280 - auc: 0.9656 - precision: 0.8535 - recall: 0.9464 - val_loss: 0.6576 - val_accuracy: 0.8016 - val_auc: 0.8902 - val_precision: 0.7707 - val_recall: 0.5764\n",
            "Epoch 3/20\n",
            "375/375 [==============================] - 1s 3ms/step - loss: 0.2397 - accuracy: 0.9468 - auc: 0.9772 - precision: 0.8872 - recall: 0.9629 - val_loss: 0.9289 - val_accuracy: 0.7878 - val_auc: 0.8608 - val_precision: 0.8224 - val_recall: 0.4634\n",
            "Epoch 4/20\n",
            "375/375 [==============================] - 1s 3ms/step - loss: 0.2151 - accuracy: 0.9569 - auc: 0.9838 - precision: 0.9071 - recall: 0.9702 - val_loss: 1.5500 - val_accuracy: 0.7131 - val_auc: 0.7825 - val_precision: 0.7459 - val_recall: 0.2112\n",
            "Epoch 5/20\n",
            "375/375 [==============================] - 1s 3ms/step - loss: 0.2065 - accuracy: 0.9612 - auc: 0.9861 - precision: 0.9170 - recall: 0.9715 - val_loss: 1.5525 - val_accuracy: 0.7205 - val_auc: 0.7783 - val_precision: 0.7863 - val_recall: 0.2218\n",
            "Epoch 6/20\n",
            "375/375 [==============================] - 1s 3ms/step - loss: 0.1907 - accuracy: 0.9673 - auc: 0.9887 - precision: 0.9288 - recall: 0.9767 - val_loss: 1.6099 - val_accuracy: 0.7084 - val_auc: 0.7674 - val_precision: 0.7454 - val_recall: 0.1902\n",
            "Epoch 7/20\n",
            "375/375 [==============================] - 1s 3ms/step - loss: 0.1824 - accuracy: 0.9720 - auc: 0.9884 - precision: 0.9361 - recall: 0.9832 - val_loss: 1.3771 - val_accuracy: 0.7287 - val_auc: 0.7745 - val_precision: 0.7184 - val_recall: 0.3060\n",
            "Epoch 8/20\n",
            "375/375 [==============================] - 1s 3ms/step - loss: 0.1835 - accuracy: 0.9701 - auc: 0.9896 - precision: 0.9347 - recall: 0.9787 - val_loss: 1.9330 - val_accuracy: 0.7041 - val_auc: 0.7146 - val_precision: 0.6992 - val_recall: 0.1972\n",
            "Epoch 9/20\n",
            "375/375 [==============================] - 1s 3ms/step - loss: 0.1851 - accuracy: 0.9695 - auc: 0.9885 - precision: 0.9327 - recall: 0.9790 - val_loss: 1.2739 - val_accuracy: 0.7775 - val_auc: 0.8030 - val_precision: 0.8184 - val_recall: 0.4272\n",
            "Epoch 10/20\n",
            "375/375 [==============================] - 1s 3ms/step - loss: 0.1753 - accuracy: 0.9718 - auc: 0.9895 - precision: 0.9365 - recall: 0.9820 - val_loss: 2.0677 - val_accuracy: 0.7004 - val_auc: 0.7249 - val_precision: 0.7450 - val_recall: 0.1539\n",
            "Epoch 11/20\n",
            "375/375 [==============================] - 1s 3ms/step - loss: 0.1695 - accuracy: 0.9761 - auc: 0.9910 - precision: 0.9450 - recall: 0.9857 - val_loss: 1.7663 - val_accuracy: 0.7638 - val_auc: 0.7754 - val_precision: 0.8251 - val_recall: 0.3698\n",
            "Epoch 12/20\n",
            "375/375 [==============================] - 1s 3ms/step - loss: 0.1708 - accuracy: 0.9741 - auc: 0.9915 - precision: 0.9424 - recall: 0.9825 - val_loss: 1.1023 - val_accuracy: 0.8032 - val_auc: 0.8309 - val_precision: 0.7888 - val_recall: 0.5594\n",
            "Epoch 13/20\n",
            "375/375 [==============================] - 1s 3ms/step - loss: 0.1690 - accuracy: 0.9738 - auc: 0.9916 - precision: 0.9415 - recall: 0.9825 - val_loss: 1.8081 - val_accuracy: 0.7648 - val_auc: 0.7706 - val_precision: 0.8431 - val_recall: 0.3616\n",
            "Epoch 14/20\n",
            "375/375 [==============================] - 1s 3ms/step - loss: 0.1742 - accuracy: 0.9722 - auc: 0.9913 - precision: 0.9397 - recall: 0.9795 - val_loss: 2.3243 - val_accuracy: 0.7242 - val_auc: 0.7107 - val_precision: 0.7898 - val_recall: 0.2352\n",
            "Epoch 15/20\n",
            "375/375 [==============================] - 1s 3ms/step - loss: 0.1684 - accuracy: 0.9738 - auc: 0.9923 - precision: 0.9434 - recall: 0.9802 - val_loss: 1.8138 - val_accuracy: 0.7498 - val_auc: 0.7645 - val_precision: 0.7967 - val_recall: 0.3347\n",
            "Epoch 16/20\n",
            "375/375 [==============================] - 1s 3ms/step - loss: 0.1749 - accuracy: 0.9731 - auc: 0.9920 - precision: 0.9413 - recall: 0.9805 - val_loss: 2.1396 - val_accuracy: 0.7020 - val_auc: 0.7379 - val_precision: 0.7466 - val_recall: 0.1603\n",
            "Epoch 17/20\n",
            "375/375 [==============================] - 1s 3ms/step - loss: 0.1585 - accuracy: 0.9799 - auc: 0.9934 - precision: 0.9545 - recall: 0.9867 - val_loss: 2.3763 - val_accuracy: 0.7562 - val_auc: 0.7444 - val_precision: 0.8525 - val_recall: 0.3248\n",
            "Epoch 18/20\n",
            "375/375 [==============================] - 1s 3ms/step - loss: 0.1807 - accuracy: 0.9700 - auc: 0.9919 - precision: 0.9374 - recall: 0.9752 - val_loss: 2.0104 - val_accuracy: 0.7455 - val_auc: 0.7594 - val_precision: 0.8156 - val_recall: 0.3054\n",
            "Epoch 19/20\n",
            "375/375 [==============================] - 1s 3ms/step - loss: 0.1618 - accuracy: 0.9784 - auc: 0.9938 - precision: 0.9510 - recall: 0.9860 - val_loss: 1.8427 - val_accuracy: 0.7769 - val_auc: 0.7774 - val_precision: 0.8296 - val_recall: 0.4160\n",
            "Epoch 20/20\n",
            "375/375 [==============================] - 1s 3ms/step - loss: 0.1682 - accuracy: 0.9766 - auc: 0.9935 - precision: 0.9488 - recall: 0.9830 - val_loss: 2.6937 - val_accuracy: 0.7301 - val_auc: 0.7172 - val_precision: 0.8323 - val_recall: 0.2382\n",
            "------------------------------- Model run: 1 / 9 - Finished running model for L1 regularisation at level:  0.001  -------------------------------\n",
            "Epoch 1/20\n",
            "375/375 [==============================] - 3s 5ms/step - loss: 0.4274 - accuracy: 0.8746 - auc: 0.9387 - precision: 0.8008 - recall: 0.8305 - val_loss: 0.5086 - val_accuracy: 0.8416 - val_auc: 0.9082 - val_precision: 0.7815 - val_recall: 0.7285\n",
            "Epoch 2/20\n",
            "375/375 [==============================] - 1s 3ms/step - loss: 0.3120 - accuracy: 0.9115 - auc: 0.9581 - precision: 0.8310 - recall: 0.9221 - val_loss: 0.6009 - val_accuracy: 0.8092 - val_auc: 0.8942 - val_precision: 0.7940 - val_recall: 0.5775\n",
            "Epoch 3/20\n",
            "375/375 [==============================] - 1s 3ms/step - loss: 0.2886 - accuracy: 0.9231 - auc: 0.9613 - precision: 0.8422 - recall: 0.9464 - val_loss: 0.5581 - val_accuracy: 0.8366 - val_auc: 0.8903 - val_precision: 0.7808 - val_recall: 0.7086\n",
            "Epoch 4/20\n",
            "375/375 [==============================] - 1s 3ms/step - loss: 0.2710 - accuracy: 0.9310 - auc: 0.9674 - precision: 0.8605 - recall: 0.9464 - val_loss: 0.6373 - val_accuracy: 0.8102 - val_auc: 0.8901 - val_precision: 0.7629 - val_recall: 0.6249\n",
            "Epoch 5/20\n",
            "375/375 [==============================] - 1s 3ms/step - loss: 0.2745 - accuracy: 0.9292 - auc: 0.9659 - precision: 0.8533 - recall: 0.9512 - val_loss: 0.7877 - val_accuracy: 0.7849 - val_auc: 0.8813 - val_precision: 0.7869 - val_recall: 0.4862\n",
            "Epoch 6/20\n",
            "375/375 [==============================] - 1s 3ms/step - loss: 0.2614 - accuracy: 0.9367 - auc: 0.9702 - precision: 0.8672 - recall: 0.9564 - val_loss: 0.6344 - val_accuracy: 0.8490 - val_auc: 0.8904 - val_precision: 0.7685 - val_recall: 0.7829\n",
            "Epoch 7/20\n",
            "375/375 [==============================] - 1s 3ms/step - loss: 0.2573 - accuracy: 0.9409 - auc: 0.9688 - precision: 0.8712 - recall: 0.9654 - val_loss: 0.7504 - val_accuracy: 0.8153 - val_auc: 0.8859 - val_precision: 0.7878 - val_recall: 0.6103\n",
            "Epoch 8/20\n",
            "375/375 [==============================] - 1s 3ms/step - loss: 0.2514 - accuracy: 0.9418 - auc: 0.9706 - precision: 0.8715 - recall: 0.9682 - val_loss: 0.7904 - val_accuracy: 0.8278 - val_auc: 0.8770 - val_precision: 0.7739 - val_recall: 0.6829\n",
            "Epoch 9/20\n",
            "375/375 [==============================] - 1s 3ms/step - loss: 0.2533 - accuracy: 0.9401 - auc: 0.9696 - precision: 0.8691 - recall: 0.9657 - val_loss: 0.8063 - val_accuracy: 0.8186 - val_auc: 0.8838 - val_precision: 0.7971 - val_recall: 0.6115\n",
            "Epoch 10/20\n",
            "375/375 [==============================] - 1s 3ms/step - loss: 0.2520 - accuracy: 0.9418 - auc: 0.9687 - precision: 0.8729 - recall: 0.9662 - val_loss: 1.2310 - val_accuracy: 0.7747 - val_auc: 0.8463 - val_precision: 0.8064 - val_recall: 0.4266\n",
            "Epoch 11/20\n",
            "375/375 [==============================] - 1s 3ms/step - loss: 0.2481 - accuracy: 0.9427 - auc: 0.9710 - precision: 0.8723 - recall: 0.9700 - val_loss: 0.8467 - val_accuracy: 0.8233 - val_auc: 0.8821 - val_precision: 0.7829 - val_recall: 0.6501\n",
            "Epoch 12/20\n",
            "375/375 [==============================] - 1s 3ms/step - loss: 0.2514 - accuracy: 0.9395 - auc: 0.9697 - precision: 0.8695 - recall: 0.9629 - val_loss: 0.9486 - val_accuracy: 0.8005 - val_auc: 0.8640 - val_precision: 0.7789 - val_recall: 0.5606\n",
            "Epoch 13/20\n",
            "375/375 [==============================] - 1s 3ms/step - loss: 0.2394 - accuracy: 0.9464 - auc: 0.9705 - precision: 0.8778 - recall: 0.9750 - val_loss: 0.7220 - val_accuracy: 0.8455 - val_auc: 0.8879 - val_precision: 0.7822 - val_recall: 0.7437\n",
            "Epoch 14/20\n",
            "375/375 [==============================] - 1s 3ms/step - loss: 0.2507 - accuracy: 0.9419 - auc: 0.9677 - precision: 0.8709 - recall: 0.9695 - val_loss: 0.8066 - val_accuracy: 0.8213 - val_auc: 0.8820 - val_precision: 0.7786 - val_recall: 0.6483\n",
            "Epoch 15/20\n",
            "375/375 [==============================] - 1s 3ms/step - loss: 0.2414 - accuracy: 0.9463 - auc: 0.9706 - precision: 0.8763 - recall: 0.9770 - val_loss: 1.2567 - val_accuracy: 0.7882 - val_auc: 0.8497 - val_precision: 0.7958 - val_recall: 0.4903\n",
            "Epoch 16/20\n",
            "375/375 [==============================] - 1s 3ms/step - loss: 0.2431 - accuracy: 0.9443 - auc: 0.9707 - precision: 0.8764 - recall: 0.9697 - val_loss: 1.0556 - val_accuracy: 0.8075 - val_auc: 0.8471 - val_precision: 0.7979 - val_recall: 0.5658\n",
            "Epoch 17/20\n",
            "375/375 [==============================] - 1s 3ms/step - loss: 0.2416 - accuracy: 0.9454 - auc: 0.9696 - precision: 0.8753 - recall: 0.9752 - val_loss: 1.1117 - val_accuracy: 0.7927 - val_auc: 0.8469 - val_precision: 0.7931 - val_recall: 0.5114\n",
            "Epoch 18/20\n",
            "375/375 [==============================] - 1s 3ms/step - loss: 0.2419 - accuracy: 0.9455 - auc: 0.9709 - precision: 0.8784 - recall: 0.9710 - val_loss: 1.1788 - val_accuracy: 0.7987 - val_auc: 0.8518 - val_precision: 0.7998 - val_recall: 0.5284\n",
            "Epoch 19/20\n",
            "375/375 [==============================] - 1s 3ms/step - loss: 0.2443 - accuracy: 0.9440 - auc: 0.9704 - precision: 0.8751 - recall: 0.9705 - val_loss: 0.9209 - val_accuracy: 0.8245 - val_auc: 0.8637 - val_precision: 0.7883 - val_recall: 0.6472\n",
            "Epoch 20/20\n",
            "375/375 [==============================] - 1s 3ms/step - loss: 0.2368 - accuracy: 0.9464 - auc: 0.9724 - precision: 0.8811 - recall: 0.9702 - val_loss: 0.7110 - val_accuracy: 0.8389 - val_auc: 0.8819 - val_precision: 0.7821 - val_recall: 0.7162\n",
            "------------------------------- Model run: 2 / 9 - Finished running model for L1 regularisation at level:  0.002  -------------------------------\n",
            "Epoch 1/20\n",
            "375/375 [==============================] - 4s 6ms/step - loss: 0.4583 - accuracy: 0.8756 - auc: 0.9414 - precision: 0.8034 - recall: 0.8297 - val_loss: 0.5423 - val_accuracy: 0.8291 - val_auc: 0.9052 - val_precision: 0.7886 - val_recall: 0.6659\n",
            "Epoch 2/20\n",
            "375/375 [==============================] - 1s 3ms/step - loss: 0.3317 - accuracy: 0.9180 - auc: 0.9635 - precision: 0.8417 - recall: 0.9289 - val_loss: 0.7587 - val_accuracy: 0.7258 - val_auc: 0.8846 - val_precision: 0.7363 - val_recall: 0.2762\n",
            "Epoch 3/20\n",
            "375/375 [==============================] - 1s 3ms/step - loss: 0.3193 - accuracy: 0.9239 - auc: 0.9641 - precision: 0.8494 - recall: 0.9379 - val_loss: 0.5380 - val_accuracy: 0.8533 - val_auc: 0.8951 - val_precision: 0.7826 - val_recall: 0.7753\n",
            "Epoch 4/20\n",
            "375/375 [==============================] - 1s 3ms/step - loss: 0.3017 - accuracy: 0.9271 - auc: 0.9687 - precision: 0.8544 - recall: 0.9417 - val_loss: 0.7293 - val_accuracy: 0.7888 - val_auc: 0.8827 - val_precision: 0.7775 - val_recall: 0.5132\n",
            "Epoch 5/20\n",
            "375/375 [==============================] - 1s 3ms/step - loss: 0.2994 - accuracy: 0.9278 - auc: 0.9664 - precision: 0.8550 - recall: 0.9434 - val_loss: 0.6576 - val_accuracy: 0.8055 - val_auc: 0.8859 - val_precision: 0.7709 - val_recall: 0.5927\n",
            "Epoch 6/20\n",
            "375/375 [==============================] - 1s 3ms/step - loss: 0.2922 - accuracy: 0.9310 - auc: 0.9690 - precision: 0.8593 - recall: 0.9482 - val_loss: 0.7115 - val_accuracy: 0.8426 - val_auc: 0.8828 - val_precision: 0.7895 - val_recall: 0.7197\n",
            "Epoch 7/20\n",
            "375/375 [==============================] - 1s 3ms/step - loss: 0.2879 - accuracy: 0.9344 - auc: 0.9692 - precision: 0.8652 - recall: 0.9514 - val_loss: 0.7938 - val_accuracy: 0.7872 - val_auc: 0.8762 - val_precision: 0.7730 - val_recall: 0.5120\n",
            "Epoch 8/20\n",
            "375/375 [==============================] - 1s 3ms/step - loss: 0.2897 - accuracy: 0.9337 - auc: 0.9714 - precision: 0.8656 - recall: 0.9482 - val_loss: 0.8533 - val_accuracy: 0.7948 - val_auc: 0.8838 - val_precision: 0.8144 - val_recall: 0.4980\n",
            "Epoch 9/20\n",
            "375/375 [==============================] - 1s 3ms/step - loss: 0.2915 - accuracy: 0.9337 - auc: 0.9707 - precision: 0.8648 - recall: 0.9494 - val_loss: 0.7704 - val_accuracy: 0.7794 - val_auc: 0.8796 - val_precision: 0.7896 - val_recall: 0.4611\n",
            "Epoch 10/20\n",
            "375/375 [==============================] - 1s 3ms/step - loss: 0.2787 - accuracy: 0.9379 - auc: 0.9723 - precision: 0.8700 - recall: 0.9567 - val_loss: 0.7580 - val_accuracy: 0.8169 - val_auc: 0.8874 - val_precision: 0.8070 - val_recall: 0.5922\n",
            "Epoch 11/20\n",
            "375/375 [==============================] - 1s 3ms/step - loss: 0.2726 - accuracy: 0.9395 - auc: 0.9723 - precision: 0.8721 - recall: 0.9592 - val_loss: 0.8500 - val_accuracy: 0.8161 - val_auc: 0.8807 - val_precision: 0.8002 - val_recall: 0.5974\n",
            "Epoch 12/20\n",
            "375/375 [==============================] - 1s 3ms/step - loss: 0.2694 - accuracy: 0.9417 - auc: 0.9720 - precision: 0.8757 - recall: 0.9614 - val_loss: 0.8954 - val_accuracy: 0.8141 - val_auc: 0.8663 - val_precision: 0.7890 - val_recall: 0.6039\n",
            "Epoch 13/20\n",
            "375/375 [==============================] - 1s 3ms/step - loss: 0.2693 - accuracy: 0.9411 - auc: 0.9711 - precision: 0.8748 - recall: 0.9607 - val_loss: 0.7996 - val_accuracy: 0.8106 - val_auc: 0.8789 - val_precision: 0.8040 - val_recall: 0.5711\n",
            "Epoch 14/20\n",
            "375/375 [==============================] - 1s 3ms/step - loss: 0.2819 - accuracy: 0.9348 - auc: 0.9690 - precision: 0.8619 - recall: 0.9579 - val_loss: 1.0619 - val_accuracy: 0.7907 - val_auc: 0.8507 - val_precision: 0.8112 - val_recall: 0.4851\n",
            "Epoch 15/20\n",
            "375/375 [==============================] - 1s 3ms/step - loss: 0.2693 - accuracy: 0.9401 - auc: 0.9717 - precision: 0.8736 - recall: 0.9589 - val_loss: 0.7144 - val_accuracy: 0.8159 - val_auc: 0.8845 - val_precision: 0.7688 - val_recall: 0.6401\n",
            "Epoch 16/20\n",
            "375/375 [==============================] - 1s 3ms/step - loss: 0.2717 - accuracy: 0.9382 - auc: 0.9714 - precision: 0.8698 - recall: 0.9582 - val_loss: 0.7820 - val_accuracy: 0.8204 - val_auc: 0.8864 - val_precision: 0.8117 - val_recall: 0.6004\n",
            "Epoch 17/20\n",
            "375/375 [==============================] - 1s 3ms/step - loss: 0.2637 - accuracy: 0.9402 - auc: 0.9725 - precision: 0.8740 - recall: 0.9587 - val_loss: 1.0585 - val_accuracy: 0.7999 - val_auc: 0.8525 - val_precision: 0.8385 - val_recall: 0.4950\n",
            "Epoch 18/20\n",
            "375/375 [==============================] - 1s 3ms/step - loss: 0.2715 - accuracy: 0.9378 - auc: 0.9691 - precision: 0.8691 - recall: 0.9577 - val_loss: 1.1080 - val_accuracy: 0.7751 - val_auc: 0.8471 - val_precision: 0.8218 - val_recall: 0.4154\n",
            "Epoch 19/20\n",
            "375/375 [==============================] - 1s 3ms/step - loss: 0.2676 - accuracy: 0.9400 - auc: 0.9715 - precision: 0.8731 - recall: 0.9594 - val_loss: 0.7637 - val_accuracy: 0.8122 - val_auc: 0.8791 - val_precision: 0.7660 - val_recall: 0.6284\n",
            "Epoch 20/20\n",
            "375/375 [==============================] - 1s 3ms/step - loss: 0.2635 - accuracy: 0.9410 - auc: 0.9733 - precision: 0.8757 - recall: 0.9592 - val_loss: 0.9789 - val_accuracy: 0.7897 - val_auc: 0.8512 - val_precision: 0.7785 - val_recall: 0.5161\n",
            "------------------------------- Model run: 3 / 9 - Finished running model for L1 regularisation at level:  0.003  -------------------------------\n",
            "Epoch 1/20\n",
            "375/375 [==============================] - 3s 5ms/step - loss: 0.4959 - accuracy: 0.8716 - auc: 0.9381 - precision: 0.8044 - recall: 0.8125 - val_loss: 0.5165 - val_accuracy: 0.8465 - val_auc: 0.9128 - val_precision: 0.7699 - val_recall: 0.7695\n",
            "Epoch 2/20\n",
            "375/375 [==============================] - 1s 3ms/step - loss: 0.3538 - accuracy: 0.9164 - auc: 0.9614 - precision: 0.8345 - recall: 0.9344 - val_loss: 0.6804 - val_accuracy: 0.8087 - val_auc: 0.9010 - val_precision: 0.8165 - val_recall: 0.5494\n",
            "Epoch 3/20\n",
            "375/375 [==============================] - 1s 3ms/step - loss: 0.3260 - accuracy: 0.9286 - auc: 0.9667 - precision: 0.8555 - recall: 0.9457 - val_loss: 0.6609 - val_accuracy: 0.8235 - val_auc: 0.9015 - val_precision: 0.8146 - val_recall: 0.6091\n",
            "Epoch 4/20\n",
            "375/375 [==============================] - 1s 3ms/step - loss: 0.3148 - accuracy: 0.9287 - auc: 0.9665 - precision: 0.8565 - recall: 0.9444 - val_loss: 0.7225 - val_accuracy: 0.8001 - val_auc: 0.8893 - val_precision: 0.7969 - val_recall: 0.5372\n",
            "Epoch 5/20\n",
            "375/375 [==============================] - 1s 3ms/step - loss: 0.3059 - accuracy: 0.9326 - auc: 0.9703 - precision: 0.8619 - recall: 0.9502 - val_loss: 0.7656 - val_accuracy: 0.8184 - val_auc: 0.8822 - val_precision: 0.7960 - val_recall: 0.6121\n",
            "Epoch 6/20\n",
            "375/375 [==============================] - 1s 3ms/step - loss: 0.3053 - accuracy: 0.9351 - auc: 0.9675 - precision: 0.8627 - recall: 0.9577 - val_loss: 0.9989 - val_accuracy: 0.7874 - val_auc: 0.8838 - val_precision: 0.8390 - val_recall: 0.4482\n",
            "Epoch 7/20\n",
            "375/375 [==============================] - 1s 3ms/step - loss: 0.2989 - accuracy: 0.9383 - auc: 0.9712 - precision: 0.8700 - recall: 0.9582 - val_loss: 0.7990 - val_accuracy: 0.8042 - val_auc: 0.8837 - val_precision: 0.8026 - val_recall: 0.5471\n",
            "Epoch 8/20\n",
            "375/375 [==============================] - 1s 3ms/step - loss: 0.3018 - accuracy: 0.9352 - auc: 0.9690 - precision: 0.8619 - recall: 0.9594 - val_loss: 0.7310 - val_accuracy: 0.8139 - val_auc: 0.8884 - val_precision: 0.8052 - val_recall: 0.5828\n",
            "Epoch 9/20\n",
            "375/375 [==============================] - 1s 3ms/step - loss: 0.3049 - accuracy: 0.9340 - auc: 0.9683 - precision: 0.8614 - recall: 0.9557 - val_loss: 0.8371 - val_accuracy: 0.8001 - val_auc: 0.8874 - val_precision: 0.8161 - val_recall: 0.5167\n",
            "Epoch 10/20\n",
            "375/375 [==============================] - 1s 3ms/step - loss: 0.3006 - accuracy: 0.9370 - auc: 0.9703 - precision: 0.8683 - recall: 0.9559 - val_loss: 0.7782 - val_accuracy: 0.8012 - val_auc: 0.8912 - val_precision: 0.7954 - val_recall: 0.5436\n",
            "Epoch 11/20\n",
            "375/375 [==============================] - 1s 3ms/step - loss: 0.2950 - accuracy: 0.9382 - auc: 0.9712 - precision: 0.8693 - recall: 0.9589 - val_loss: 0.8140 - val_accuracy: 0.8233 - val_auc: 0.8829 - val_precision: 0.8220 - val_recall: 0.5998\n",
            "Epoch 12/20\n",
            "375/375 [==============================] - 1s 3ms/step - loss: 0.2983 - accuracy: 0.9367 - auc: 0.9708 - precision: 0.8680 - recall: 0.9552 - val_loss: 0.8666 - val_accuracy: 0.8184 - val_auc: 0.8830 - val_precision: 0.8147 - val_recall: 0.5892\n",
            "Epoch 13/20\n",
            "375/375 [==============================] - 1s 3ms/step - loss: 0.2935 - accuracy: 0.9371 - auc: 0.9707 - precision: 0.8694 - recall: 0.9547 - val_loss: 0.7220 - val_accuracy: 0.8172 - val_auc: 0.8899 - val_precision: 0.8174 - val_recall: 0.5816\n",
            "Epoch 14/20\n",
            "375/375 [==============================] - 1s 3ms/step - loss: 0.2987 - accuracy: 0.9362 - auc: 0.9699 - precision: 0.8662 - recall: 0.9564 - val_loss: 1.0698 - val_accuracy: 0.7646 - val_auc: 0.8618 - val_precision: 0.8218 - val_recall: 0.3751\n",
            "Epoch 15/20\n",
            "375/375 [==============================] - 1s 3ms/step - loss: 0.2908 - accuracy: 0.9381 - auc: 0.9737 - precision: 0.8729 - recall: 0.9529 - val_loss: 0.8000 - val_accuracy: 0.8118 - val_auc: 0.8895 - val_precision: 0.8229 - val_recall: 0.5547\n",
            "Epoch 16/20\n",
            "375/375 [==============================] - 1s 3ms/step - loss: 0.2861 - accuracy: 0.9392 - auc: 0.9724 - precision: 0.8718 - recall: 0.9587 - val_loss: 0.6950 - val_accuracy: 0.8202 - val_auc: 0.8965 - val_precision: 0.8053 - val_recall: 0.6074\n",
            "Epoch 17/20\n",
            "375/375 [==============================] - 1s 3ms/step - loss: 0.2895 - accuracy: 0.9363 - auc: 0.9721 - precision: 0.8691 - recall: 0.9524 - val_loss: 0.7973 - val_accuracy: 0.8327 - val_auc: 0.8862 - val_precision: 0.8095 - val_recall: 0.6513\n",
            "Epoch 18/20\n",
            "375/375 [==============================] - 1s 3ms/step - loss: 0.2960 - accuracy: 0.9352 - auc: 0.9693 - precision: 0.8644 - recall: 0.9557 - val_loss: 0.8499 - val_accuracy: 0.8018 - val_auc: 0.8764 - val_precision: 0.7990 - val_recall: 0.5418\n",
            "Epoch 19/20\n",
            "375/375 [==============================] - 1s 3ms/step - loss: 0.2854 - accuracy: 0.9414 - auc: 0.9730 - precision: 0.8746 - recall: 0.9622 - val_loss: 0.8745 - val_accuracy: 0.7962 - val_auc: 0.8867 - val_precision: 0.8223 - val_recall: 0.4956\n",
            "Epoch 20/20\n",
            "375/375 [==============================] - 1s 3ms/step - loss: 0.2866 - accuracy: 0.9394 - auc: 0.9724 - precision: 0.8724 - recall: 0.9584 - val_loss: 0.7001 - val_accuracy: 0.8366 - val_auc: 0.8904 - val_precision: 0.7890 - val_recall: 0.6957\n",
            "------------------------------- Model run: 4 / 9 - Finished running model for L1 regularisation at level:  0.004  -------------------------------\n",
            "Epoch 1/20\n",
            "375/375 [==============================] - 3s 4ms/step - loss: 0.2340 - accuracy: 0.8988 - auc: 0.9583 - precision: 0.8397 - recall: 0.8605 - val_loss: 0.8123 - val_accuracy: 0.7962 - val_auc: 0.8515 - val_precision: 0.8013 - val_recall: 0.5167\n",
            "Epoch 2/20\n",
            "375/375 [==============================] - 1s 3ms/step - loss: 0.1352 - accuracy: 0.9521 - auc: 0.9813 - precision: 0.8969 - recall: 0.9675 - val_loss: 2.0729 - val_accuracy: 0.7654 - val_auc: 0.7430 - val_precision: 0.8614 - val_recall: 0.3528\n",
            "Epoch 3/20\n",
            "375/375 [==============================] - 1s 3ms/step - loss: 0.0880 - accuracy: 0.9719 - auc: 0.9901 - precision: 0.9342 - recall: 0.9850 - val_loss: 2.0896 - val_accuracy: 0.7427 - val_auc: 0.7361 - val_precision: 0.8385 - val_recall: 0.2826\n",
            "Epoch 4/20\n",
            "375/375 [==============================] - 1s 3ms/step - loss: 0.0772 - accuracy: 0.9750 - auc: 0.9925 - precision: 0.9425 - recall: 0.9850 - val_loss: 3.1299 - val_accuracy: 0.7028 - val_auc: 0.6910 - val_precision: 0.7795 - val_recall: 0.1510\n",
            "Epoch 5/20\n",
            "375/375 [==============================] - 1s 3ms/step - loss: 0.0689 - accuracy: 0.9790 - auc: 0.9926 - precision: 0.9508 - recall: 0.9880 - val_loss: 3.5075 - val_accuracy: 0.7332 - val_auc: 0.7031 - val_precision: 0.8350 - val_recall: 0.2487\n",
            "Epoch 6/20\n",
            "375/375 [==============================] - 1s 3ms/step - loss: 0.0572 - accuracy: 0.9832 - auc: 0.9949 - precision: 0.9622 - recall: 0.9885 - val_loss: 4.9740 - val_accuracy: 0.6932 - val_auc: 0.6311 - val_precision: 0.7931 - val_recall: 0.1077\n",
            "Epoch 7/20\n",
            "375/375 [==============================] - 1s 3ms/step - loss: 0.0507 - accuracy: 0.9845 - auc: 0.9963 - precision: 0.9655 - recall: 0.9887 - val_loss: 2.4830 - val_accuracy: 0.7433 - val_auc: 0.7315 - val_precision: 0.8566 - val_recall: 0.2762\n",
            "Epoch 8/20\n",
            "375/375 [==============================] - 1s 3ms/step - loss: 0.0487 - accuracy: 0.9857 - auc: 0.9964 - precision: 0.9679 - recall: 0.9900 - val_loss: 2.1240 - val_accuracy: 0.7525 - val_auc: 0.7566 - val_precision: 0.8470 - val_recall: 0.3142\n",
            "Epoch 9/20\n",
            "375/375 [==============================] - 1s 3ms/step - loss: 0.0422 - accuracy: 0.9881 - auc: 0.9968 - precision: 0.9725 - recall: 0.9922 - val_loss: 2.9868 - val_accuracy: 0.7049 - val_auc: 0.7028 - val_precision: 0.7379 - val_recall: 0.1779\n",
            "Epoch 10/20\n",
            "375/375 [==============================] - 1s 3ms/step - loss: 0.0424 - accuracy: 0.9883 - auc: 0.9966 - precision: 0.9714 - recall: 0.9942 - val_loss: 4.3321 - val_accuracy: 0.6998 - val_auc: 0.6247 - val_precision: 0.7742 - val_recall: 0.1404\n",
            "Epoch 11/20\n",
            "375/375 [==============================] - 1s 3ms/step - loss: 0.0383 - accuracy: 0.9881 - auc: 0.9976 - precision: 0.9746 - recall: 0.9900 - val_loss: 2.9185 - val_accuracy: 0.7498 - val_auc: 0.7265 - val_precision: 0.8349 - val_recall: 0.3107\n",
            "Epoch 12/20\n",
            "375/375 [==============================] - 1s 3ms/step - loss: 0.0355 - accuracy: 0.9901 - auc: 0.9978 - precision: 0.9790 - recall: 0.9915 - val_loss: 1.5203 - val_accuracy: 0.7028 - val_auc: 0.8004 - val_precision: 0.7126 - val_recall: 0.1814\n",
            "Epoch 13/20\n",
            "375/375 [==============================] - 1s 3ms/step - loss: 0.0326 - accuracy: 0.9903 - auc: 0.9981 - precision: 0.9788 - recall: 0.9925 - val_loss: 2.8521 - val_accuracy: 0.7187 - val_auc: 0.7340 - val_precision: 0.8248 - val_recall: 0.1984\n",
            "Epoch 14/20\n",
            "375/375 [==============================] - 1s 3ms/step - loss: 0.0288 - accuracy: 0.9912 - auc: 0.9987 - precision: 0.9814 - recall: 0.9925 - val_loss: 6.1701 - val_accuracy: 0.6831 - val_auc: 0.5790 - val_precision: 0.7692 - val_recall: 0.0702\n",
            "Epoch 15/20\n",
            "375/375 [==============================] - 1s 3ms/step - loss: 0.0292 - accuracy: 0.9912 - auc: 0.9984 - precision: 0.9812 - recall: 0.9925 - val_loss: 6.5092 - val_accuracy: 0.6745 - val_auc: 0.5771 - val_precision: 0.6887 - val_recall: 0.0427\n",
            "Epoch 16/20\n",
            "375/375 [==============================] - 1s 3ms/step - loss: 0.0244 - accuracy: 0.9933 - auc: 0.9987 - precision: 0.9861 - recall: 0.9940 - val_loss: 7.4920 - val_accuracy: 0.6817 - val_auc: 0.5731 - val_precision: 0.7584 - val_recall: 0.0661\n",
            "Epoch 17/20\n",
            "375/375 [==============================] - 1s 3ms/step - loss: 0.0320 - accuracy: 0.9912 - auc: 0.9980 - precision: 0.9807 - recall: 0.9930 - val_loss: 5.4154 - val_accuracy: 0.6953 - val_auc: 0.6442 - val_precision: 0.7774 - val_recall: 0.1205\n",
            "Epoch 18/20\n",
            "375/375 [==============================] - 1s 3ms/step - loss: 0.0334 - accuracy: 0.9908 - auc: 0.9978 - precision: 0.9797 - recall: 0.9930 - val_loss: 4.8473 - val_accuracy: 0.6934 - val_auc: 0.6291 - val_precision: 0.7625 - val_recall: 0.1164\n",
            "Epoch 19/20\n",
            "375/375 [==============================] - 1s 3ms/step - loss: 0.0187 - accuracy: 0.9947 - auc: 0.9991 - precision: 0.9888 - recall: 0.9955 - val_loss: 7.1294 - val_accuracy: 0.6848 - val_auc: 0.5705 - val_precision: 0.7657 - val_recall: 0.0784\n",
            "Epoch 20/20\n",
            "375/375 [==============================] - 1s 3ms/step - loss: 0.0189 - accuracy: 0.9947 - auc: 0.9990 - precision: 0.9883 - recall: 0.9960 - val_loss: 6.2642 - val_accuracy: 0.6936 - val_auc: 0.5873 - val_precision: 0.8026 - val_recall: 0.1071\n",
            "------------------------------- Model run: 5 / 9 - Finished running model for L2 regularisation at level:  0.0  -------------------------------\n",
            "Epoch 1/20\n",
            "375/375 [==============================] - 3s 5ms/step - loss: 0.2983 - accuracy: 0.8885 - auc: 0.9501 - precision: 0.8273 - recall: 0.8410 - val_loss: 0.8559 - val_accuracy: 0.7628 - val_auc: 0.8649 - val_precision: 0.7718 - val_recall: 0.4096\n",
            "Epoch 2/20\n",
            "375/375 [==============================] - 1s 3ms/step - loss: 0.2093 - accuracy: 0.9417 - auc: 0.9740 - precision: 0.8782 - recall: 0.9582 - val_loss: 1.0895 - val_accuracy: 0.7622 - val_auc: 0.8286 - val_precision: 0.8582 - val_recall: 0.3435\n",
            "Epoch 3/20\n",
            "375/375 [==============================] - 1s 3ms/step - loss: 0.1742 - accuracy: 0.9612 - auc: 0.9838 - precision: 0.9159 - recall: 0.9730 - val_loss: 0.6983 - val_accuracy: 0.8005 - val_auc: 0.8690 - val_precision: 0.7602 - val_recall: 0.5863\n",
            "Epoch 4/20\n",
            "375/375 [==============================] - 1s 3ms/step - loss: 0.1698 - accuracy: 0.9623 - auc: 0.9865 - precision: 0.9183 - recall: 0.9735 - val_loss: 0.9787 - val_accuracy: 0.7441 - val_auc: 0.8399 - val_precision: 0.8116 - val_recall: 0.3025\n",
            "Epoch 5/20\n",
            "375/375 [==============================] - 1s 3ms/step - loss: 0.1660 - accuracy: 0.9643 - auc: 0.9884 - precision: 0.9237 - recall: 0.9732 - val_loss: 1.3721 - val_accuracy: 0.7515 - val_auc: 0.7941 - val_precision: 0.8436 - val_recall: 0.3125\n",
            "Epoch 6/20\n",
            "375/375 [==============================] - 1s 3ms/step - loss: 0.1454 - accuracy: 0.9728 - auc: 0.9916 - precision: 0.9396 - recall: 0.9815 - val_loss: 1.1003 - val_accuracy: 0.7650 - val_auc: 0.8352 - val_precision: 0.8520 - val_recall: 0.3569\n",
            "Epoch 7/20\n",
            "375/375 [==============================] - 1s 3ms/step - loss: 0.1386 - accuracy: 0.9745 - auc: 0.9923 - precision: 0.9448 - recall: 0.9810 - val_loss: 1.2080 - val_accuracy: 0.7761 - val_auc: 0.7924 - val_precision: 0.8806 - val_recall: 0.3798\n",
            "Epoch 8/20\n",
            "375/375 [==============================] - 1s 3ms/step - loss: 0.1327 - accuracy: 0.9774 - auc: 0.9939 - precision: 0.9502 - recall: 0.9837 - val_loss: 1.2701 - val_accuracy: 0.7632 - val_auc: 0.8050 - val_precision: 0.8029 - val_recall: 0.3839\n",
            "Epoch 9/20\n",
            "375/375 [==============================] - 1s 3ms/step - loss: 0.1370 - accuracy: 0.9752 - auc: 0.9931 - precision: 0.9457 - recall: 0.9820 - val_loss: 1.5127 - val_accuracy: 0.7178 - val_auc: 0.7679 - val_precision: 0.8075 - val_recall: 0.2013\n",
            "Epoch 10/20\n",
            "375/375 [==============================] - 1s 3ms/step - loss: 0.1323 - accuracy: 0.9767 - auc: 0.9941 - precision: 0.9494 - recall: 0.9825 - val_loss: 1.2297 - val_accuracy: 0.7650 - val_auc: 0.7974 - val_precision: 0.8247 - val_recall: 0.3745\n",
            "Epoch 11/20\n",
            "375/375 [==============================] - 1s 3ms/step - loss: 0.1428 - accuracy: 0.9731 - auc: 0.9935 - precision: 0.9435 - recall: 0.9780 - val_loss: 1.6086 - val_accuracy: 0.7299 - val_auc: 0.7572 - val_precision: 0.8152 - val_recall: 0.2452\n",
            "Epoch 12/20\n",
            "375/375 [==============================] - 1s 3ms/step - loss: 0.1400 - accuracy: 0.9752 - auc: 0.9931 - precision: 0.9464 - recall: 0.9812 - val_loss: 0.9639 - val_accuracy: 0.7973 - val_auc: 0.8423 - val_precision: 0.8291 - val_recall: 0.4939\n",
            "Epoch 13/20\n",
            "375/375 [==============================] - 1s 3ms/step - loss: 0.1353 - accuracy: 0.9766 - auc: 0.9936 - precision: 0.9477 - recall: 0.9842 - val_loss: 1.4909 - val_accuracy: 0.7406 - val_auc: 0.7697 - val_precision: 0.8452 - val_recall: 0.2715\n",
            "Epoch 14/20\n",
            "375/375 [==============================] - 1s 3ms/step - loss: 0.1355 - accuracy: 0.9750 - auc: 0.9943 - precision: 0.9444 - recall: 0.9830 - val_loss: 1.3293 - val_accuracy: 0.7716 - val_auc: 0.7949 - val_precision: 0.8354 - val_recall: 0.3920\n",
            "Epoch 15/20\n",
            "375/375 [==============================] - 1s 3ms/step - loss: 0.1360 - accuracy: 0.9760 - auc: 0.9938 - precision: 0.9487 - recall: 0.9812 - val_loss: 1.0741 - val_accuracy: 0.7605 - val_auc: 0.8298 - val_precision: 0.8431 - val_recall: 0.3458\n",
            "Epoch 16/20\n",
            "375/375 [==============================] - 1s 3ms/step - loss: 0.1294 - accuracy: 0.9789 - auc: 0.9941 - precision: 0.9539 - recall: 0.9842 - val_loss: 1.3512 - val_accuracy: 0.7410 - val_auc: 0.7848 - val_precision: 0.8212 - val_recall: 0.2850\n",
            "Epoch 17/20\n",
            "375/375 [==============================] - 1s 3ms/step - loss: 0.1430 - accuracy: 0.9732 - auc: 0.9927 - precision: 0.9431 - recall: 0.9787 - val_loss: 1.7787 - val_accuracy: 0.7431 - val_auc: 0.7426 - val_precision: 0.8798 - val_recall: 0.2657\n",
            "Epoch 18/20\n",
            "375/375 [==============================] - 1s 3ms/step - loss: 0.1314 - accuracy: 0.9799 - auc: 0.9938 - precision: 0.9529 - recall: 0.9885 - val_loss: 1.6645 - val_accuracy: 0.7359 - val_auc: 0.7630 - val_precision: 0.8233 - val_recall: 0.2645\n",
            "Epoch 19/20\n",
            "375/375 [==============================] - 1s 3ms/step - loss: 0.1357 - accuracy: 0.9765 - auc: 0.9941 - precision: 0.9466 - recall: 0.9850 - val_loss: 1.6012 - val_accuracy: 0.7248 - val_auc: 0.7611 - val_precision: 0.7865 - val_recall: 0.2393\n",
            "Epoch 20/20\n",
            "375/375 [==============================] - 1s 3ms/step - loss: 0.1277 - accuracy: 0.9788 - auc: 0.9951 - precision: 0.9541 - recall: 0.9837 - val_loss: 1.7302 - val_accuracy: 0.7203 - val_auc: 0.7565 - val_precision: 0.8395 - val_recall: 0.1989\n",
            "------------------------------- Model run: 6 / 9 - Finished running model for L2 regularisation at level:  0.001  -------------------------------\n",
            "Epoch 1/20\n",
            "375/375 [==============================] - 3s 5ms/step - loss: 0.3329 - accuracy: 0.8807 - auc: 0.9424 - precision: 0.8070 - recall: 0.8438 - val_loss: 0.6109 - val_accuracy: 0.8048 - val_auc: 0.8945 - val_precision: 0.7827 - val_recall: 0.5734\n",
            "Epoch 2/20\n",
            "375/375 [==============================] - 1s 3ms/step - loss: 0.2550 - accuracy: 0.9278 - auc: 0.9658 - precision: 0.8553 - recall: 0.9429 - val_loss: 0.6130 - val_accuracy: 0.8071 - val_auc: 0.8920 - val_precision: 0.7866 - val_recall: 0.5781\n",
            "Epoch 3/20\n",
            "375/375 [==============================] - 1s 3ms/step - loss: 0.2176 - accuracy: 0.9494 - auc: 0.9793 - precision: 0.8907 - recall: 0.9670 - val_loss: 0.7858 - val_accuracy: 0.8092 - val_auc: 0.8756 - val_precision: 0.8038 - val_recall: 0.5658\n",
            "Epoch 4/20\n",
            "375/375 [==============================] - 1s 3ms/step - loss: 0.2042 - accuracy: 0.9543 - auc: 0.9823 - precision: 0.9039 - recall: 0.9657 - val_loss: 0.8059 - val_accuracy: 0.7726 - val_auc: 0.8737 - val_precision: 0.7723 - val_recall: 0.4506\n",
            "Epoch 5/20\n",
            "375/375 [==============================] - 1s 3ms/step - loss: 0.2046 - accuracy: 0.9562 - auc: 0.9841 - precision: 0.9098 - recall: 0.9642 - val_loss: 0.8027 - val_accuracy: 0.7977 - val_auc: 0.8724 - val_precision: 0.8016 - val_recall: 0.5225\n",
            "Epoch 6/20\n",
            "375/375 [==============================] - 1s 3ms/step - loss: 0.1972 - accuracy: 0.9612 - auc: 0.9864 - precision: 0.9174 - recall: 0.9710 - val_loss: 1.2509 - val_accuracy: 0.7466 - val_auc: 0.8323 - val_precision: 0.8648 - val_recall: 0.2844\n",
            "Epoch 7/20\n",
            "375/375 [==============================] - 1s 3ms/step - loss: 0.1925 - accuracy: 0.9600 - auc: 0.9883 - precision: 0.9170 - recall: 0.9677 - val_loss: 0.8519 - val_accuracy: 0.7973 - val_auc: 0.8705 - val_precision: 0.8418 - val_recall: 0.4827\n",
            "Epoch 8/20\n",
            "375/375 [==============================] - 1s 3ms/step - loss: 0.1929 - accuracy: 0.9631 - auc: 0.9881 - precision: 0.9231 - recall: 0.9702 - val_loss: 1.1946 - val_accuracy: 0.7328 - val_auc: 0.8408 - val_precision: 0.8204 - val_recall: 0.2539\n",
            "Epoch 9/20\n",
            "375/375 [==============================] - 1s 3ms/step - loss: 0.1820 - accuracy: 0.9684 - auc: 0.9899 - precision: 0.9282 - recall: 0.9810 - val_loss: 0.9530 - val_accuracy: 0.7743 - val_auc: 0.8583 - val_precision: 0.8433 - val_recall: 0.3967\n",
            "Epoch 10/20\n",
            "375/375 [==============================] - 1s 3ms/step - loss: 0.1807 - accuracy: 0.9676 - auc: 0.9902 - precision: 0.9291 - recall: 0.9775 - val_loss: 1.1454 - val_accuracy: 0.7603 - val_auc: 0.8378 - val_precision: 0.8085 - val_recall: 0.3681\n",
            "Epoch 11/20\n",
            "375/375 [==============================] - 1s 3ms/step - loss: 0.1781 - accuracy: 0.9705 - auc: 0.9897 - precision: 0.9340 - recall: 0.9807 - val_loss: 1.5061 - val_accuracy: 0.7579 - val_auc: 0.7895 - val_precision: 0.8524 - val_recall: 0.3312\n",
            "Epoch 12/20\n",
            "375/375 [==============================] - 1s 3ms/step - loss: 0.1871 - accuracy: 0.9662 - auc: 0.9886 - precision: 0.9257 - recall: 0.9770 - val_loss: 0.9845 - val_accuracy: 0.7825 - val_auc: 0.8392 - val_precision: 0.8081 - val_recall: 0.4558\n",
            "Epoch 13/20\n",
            "375/375 [==============================] - 1s 3ms/step - loss: 0.1834 - accuracy: 0.9668 - auc: 0.9897 - precision: 0.9287 - recall: 0.9752 - val_loss: 1.1289 - val_accuracy: 0.7498 - val_auc: 0.8383 - val_precision: 0.7983 - val_recall: 0.3335\n",
            "Epoch 14/20\n",
            "375/375 [==============================] - 1s 3ms/step - loss: 0.1789 - accuracy: 0.9687 - auc: 0.9905 - precision: 0.9307 - recall: 0.9790 - val_loss: 1.0236 - val_accuracy: 0.7753 - val_auc: 0.8452 - val_precision: 0.8304 - val_recall: 0.4096\n",
            "Epoch 15/20\n",
            "375/375 [==============================] - 1s 3ms/step - loss: 0.1751 - accuracy: 0.9711 - auc: 0.9918 - precision: 0.9362 - recall: 0.9802 - val_loss: 1.1283 - val_accuracy: 0.7509 - val_auc: 0.8404 - val_precision: 0.8344 - val_recall: 0.3154\n",
            "Epoch 16/20\n",
            "375/375 [==============================] - 1s 3ms/step - loss: 0.1816 - accuracy: 0.9678 - auc: 0.9909 - precision: 0.9318 - recall: 0.9747 - val_loss: 0.9338 - val_accuracy: 0.7775 - val_auc: 0.8615 - val_precision: 0.8447 - val_recall: 0.4073\n",
            "Epoch 17/20\n",
            "375/375 [==============================] - 1s 3ms/step - loss: 0.1727 - accuracy: 0.9722 - auc: 0.9923 - precision: 0.9389 - recall: 0.9805 - val_loss: 1.3513 - val_accuracy: 0.7384 - val_auc: 0.8086 - val_precision: 0.8251 - val_recall: 0.2733\n",
            "Epoch 18/20\n",
            "375/375 [==============================] - 1s 3ms/step - loss: 0.1818 - accuracy: 0.9684 - auc: 0.9902 - precision: 0.9327 - recall: 0.9755 - val_loss: 0.9928 - val_accuracy: 0.7897 - val_auc: 0.8551 - val_precision: 0.8276 - val_recall: 0.4664\n",
            "Epoch 19/20\n",
            "375/375 [==============================] - 1s 3ms/step - loss: 0.1820 - accuracy: 0.9676 - auc: 0.9909 - precision: 0.9305 - recall: 0.9757 - val_loss: 1.3279 - val_accuracy: 0.7455 - val_auc: 0.8044 - val_precision: 0.8279 - val_recall: 0.2984\n",
            "Epoch 20/20\n",
            "375/375 [==============================] - 1s 3ms/step - loss: 0.1708 - accuracy: 0.9742 - auc: 0.9919 - precision: 0.9417 - recall: 0.9835 - val_loss: 1.4960 - val_accuracy: 0.7260 - val_auc: 0.7889 - val_precision: 0.8276 - val_recall: 0.2247\n",
            "------------------------------- Model run: 7 / 9 - Finished running model for L2 regularisation at level:  0.002  -------------------------------\n",
            "Epoch 1/20\n",
            "375/375 [==============================] - 4s 5ms/step - loss: 0.3537 - accuracy: 0.8772 - auc: 0.9417 - precision: 0.8057 - recall: 0.8325 - val_loss: 0.5933 - val_accuracy: 0.7936 - val_auc: 0.9031 - val_precision: 0.8011 - val_recall: 0.5067\n",
            "Epoch 2/20\n",
            "375/375 [==============================] - 1s 3ms/step - loss: 0.2777 - accuracy: 0.9238 - auc: 0.9674 - precision: 0.8502 - recall: 0.9364 - val_loss: 0.5531 - val_accuracy: 0.8208 - val_auc: 0.9064 - val_precision: 0.7988 - val_recall: 0.6179\n",
            "Epoch 3/20\n",
            "375/375 [==============================] - 1s 3ms/step - loss: 0.2392 - accuracy: 0.9488 - auc: 0.9814 - precision: 0.8916 - recall: 0.9637 - val_loss: 0.6551 - val_accuracy: 0.8094 - val_auc: 0.8791 - val_precision: 0.7679 - val_recall: 0.6138\n",
            "Epoch 4/20\n",
            "375/375 [==============================] - 1s 3ms/step - loss: 0.2256 - accuracy: 0.9552 - auc: 0.9852 - precision: 0.9064 - recall: 0.9652 - val_loss: 0.9294 - val_accuracy: 0.7839 - val_auc: 0.8382 - val_precision: 0.8038 - val_recall: 0.4652\n",
            "Epoch 5/20\n",
            "375/375 [==============================] - 1s 3ms/step - loss: 0.2332 - accuracy: 0.9544 - auc: 0.9840 - precision: 0.9055 - recall: 0.9639 - val_loss: 0.9394 - val_accuracy: 0.7734 - val_auc: 0.8633 - val_precision: 0.8356 - val_recall: 0.3985\n",
            "Epoch 6/20\n",
            "375/375 [==============================] - 1s 3ms/step - loss: 0.2197 - accuracy: 0.9607 - auc: 0.9874 - precision: 0.9165 - recall: 0.9705 - val_loss: 0.8171 - val_accuracy: 0.7938 - val_auc: 0.8716 - val_precision: 0.8075 - val_recall: 0.5009\n",
            "Epoch 7/20\n",
            "375/375 [==============================] - 1s 3ms/step - loss: 0.2208 - accuracy: 0.9588 - auc: 0.9880 - precision: 0.9133 - recall: 0.9682 - val_loss: 1.0618 - val_accuracy: 0.7737 - val_auc: 0.8391 - val_precision: 0.8560 - val_recall: 0.3862\n",
            "Epoch 8/20\n",
            "375/375 [==============================] - 1s 3ms/step - loss: 0.2109 - accuracy: 0.9644 - auc: 0.9885 - precision: 0.9239 - recall: 0.9732 - val_loss: 0.9143 - val_accuracy: 0.7845 - val_auc: 0.8593 - val_precision: 0.8179 - val_recall: 0.4547\n",
            "Epoch 9/20\n",
            "375/375 [==============================] - 1s 3ms/step - loss: 0.2203 - accuracy: 0.9596 - auc: 0.9875 - precision: 0.9151 - recall: 0.9687 - val_loss: 1.0637 - val_accuracy: 0.7234 - val_auc: 0.8689 - val_precision: 0.8360 - val_recall: 0.2118\n",
            "Epoch 10/20\n",
            "375/375 [==============================] - 1s 3ms/step - loss: 0.2245 - accuracy: 0.9581 - auc: 0.9864 - precision: 0.9124 - recall: 0.9672 - val_loss: 0.9308 - val_accuracy: 0.7628 - val_auc: 0.8583 - val_precision: 0.8039 - val_recall: 0.3815\n",
            "Epoch 11/20\n",
            "375/375 [==============================] - 1s 3ms/step - loss: 0.2093 - accuracy: 0.9651 - auc: 0.9894 - precision: 0.9237 - recall: 0.9760 - val_loss: 1.0845 - val_accuracy: 0.7677 - val_auc: 0.8375 - val_precision: 0.8312 - val_recall: 0.3803\n",
            "Epoch 12/20\n",
            "375/375 [==============================] - 1s 3ms/step - loss: 0.2131 - accuracy: 0.9636 - auc: 0.9891 - precision: 0.9246 - recall: 0.9700 - val_loss: 0.9650 - val_accuracy: 0.7870 - val_auc: 0.8372 - val_precision: 0.8265 - val_recall: 0.4570\n",
            "Epoch 13/20\n",
            "375/375 [==============================] - 1s 3ms/step - loss: 0.2132 - accuracy: 0.9629 - auc: 0.9887 - precision: 0.9198 - recall: 0.9737 - val_loss: 1.1792 - val_accuracy: 0.7646 - val_auc: 0.8211 - val_precision: 0.8277 - val_recall: 0.3710\n",
            "Epoch 14/20\n",
            "375/375 [==============================] - 1s 3ms/step - loss: 0.2084 - accuracy: 0.9648 - auc: 0.9894 - precision: 0.9234 - recall: 0.9752 - val_loss: 1.1356 - val_accuracy: 0.7734 - val_auc: 0.8222 - val_precision: 0.8406 - val_recall: 0.3950\n",
            "Epoch 15/20\n",
            "375/375 [==============================] - 1s 3ms/step - loss: 0.2104 - accuracy: 0.9624 - auc: 0.9895 - precision: 0.9229 - recall: 0.9682 - val_loss: 0.9402 - val_accuracy: 0.7866 - val_auc: 0.8551 - val_precision: 0.8346 - val_recall: 0.4488\n",
            "Epoch 16/20\n",
            "375/375 [==============================] - 1s 3ms/step - loss: 0.2105 - accuracy: 0.9638 - auc: 0.9896 - precision: 0.9234 - recall: 0.9720 - val_loss: 0.8749 - val_accuracy: 0.7819 - val_auc: 0.8636 - val_precision: 0.8377 - val_recall: 0.4289\n",
            "Epoch 17/20\n",
            "375/375 [==============================] - 1s 3ms/step - loss: 0.2084 - accuracy: 0.9654 - auc: 0.9889 - precision: 0.9266 - recall: 0.9735 - val_loss: 0.8137 - val_accuracy: 0.7864 - val_auc: 0.8625 - val_precision: 0.8280 - val_recall: 0.4535\n",
            "Epoch 18/20\n",
            "375/375 [==============================] - 1s 3ms/step - loss: 0.2138 - accuracy: 0.9625 - auc: 0.9891 - precision: 0.9207 - recall: 0.9712 - val_loss: 1.1445 - val_accuracy: 0.7556 - val_auc: 0.8228 - val_precision: 0.8081 - val_recall: 0.3499\n",
            "Epoch 19/20\n",
            "375/375 [==============================] - 1s 3ms/step - loss: 0.2097 - accuracy: 0.9651 - auc: 0.9898 - precision: 0.9245 - recall: 0.9750 - val_loss: 1.1578 - val_accuracy: 0.7679 - val_auc: 0.8209 - val_precision: 0.8609 - val_recall: 0.3622\n",
            "Epoch 20/20\n",
            "375/375 [==============================] - 1s 3ms/step - loss: 0.2085 - accuracy: 0.9663 - auc: 0.9897 - precision: 0.9274 - recall: 0.9752 - val_loss: 0.9466 - val_accuracy: 0.7827 - val_auc: 0.8469 - val_precision: 0.8077 - val_recall: 0.4570\n",
            "------------------------------- Model run: 8 / 9 - Finished running model for L2 regularisation at level:  0.003  -------------------------------\n",
            "Epoch 1/20\n",
            "375/375 [==============================] - 3s 5ms/step - loss: 0.3663 - accuracy: 0.8795 - auc: 0.9439 - precision: 0.8105 - recall: 0.8332 - val_loss: 0.5523 - val_accuracy: 0.8040 - val_auc: 0.9066 - val_precision: 0.8050 - val_recall: 0.5436\n",
            "Epoch 2/20\n",
            "375/375 [==============================] - 1s 3ms/step - loss: 0.3020 - accuracy: 0.9205 - auc: 0.9661 - precision: 0.8464 - recall: 0.9301 - val_loss: 0.5528 - val_accuracy: 0.8011 - val_auc: 0.8933 - val_precision: 0.7664 - val_recall: 0.5799\n",
            "Epoch 3/20\n",
            "375/375 [==============================] - 1s 3ms/step - loss: 0.2600 - accuracy: 0.9480 - auc: 0.9797 - precision: 0.8913 - recall: 0.9612 - val_loss: 0.6563 - val_accuracy: 0.7931 - val_auc: 0.8918 - val_precision: 0.8034 - val_recall: 0.5020\n",
            "Epoch 4/20\n",
            "375/375 [==============================] - 1s 3ms/step - loss: 0.2638 - accuracy: 0.9472 - auc: 0.9805 - precision: 0.8935 - recall: 0.9554 - val_loss: 0.6044 - val_accuracy: 0.8297 - val_auc: 0.8896 - val_precision: 0.7776 - val_recall: 0.6852\n",
            "Epoch 5/20\n",
            "375/375 [==============================] - 1s 3ms/step - loss: 0.2606 - accuracy: 0.9482 - auc: 0.9825 - precision: 0.8952 - recall: 0.9564 - val_loss: 0.8596 - val_accuracy: 0.7792 - val_auc: 0.8805 - val_precision: 0.8505 - val_recall: 0.4096\n",
            "Epoch 6/20\n",
            "375/375 [==============================] - 1s 3ms/step - loss: 0.2498 - accuracy: 0.9545 - auc: 0.9852 - precision: 0.9045 - recall: 0.9654 - val_loss: 0.8320 - val_accuracy: 0.7618 - val_auc: 0.8780 - val_precision: 0.8169 - val_recall: 0.3681\n",
            "Epoch 7/20\n",
            "375/375 [==============================] - 1s 3ms/step - loss: 0.2411 - accuracy: 0.9585 - auc: 0.9869 - precision: 0.9111 - recall: 0.9702 - val_loss: 0.8921 - val_accuracy: 0.7392 - val_auc: 0.8662 - val_precision: 0.7906 - val_recall: 0.2961\n",
            "Epoch 8/20\n",
            "375/375 [==============================] - 1s 4ms/step - loss: 0.2514 - accuracy: 0.9528 - auc: 0.9848 - precision: 0.9033 - recall: 0.9614 - val_loss: 0.6399 - val_accuracy: 0.8190 - val_auc: 0.8881 - val_precision: 0.7912 - val_recall: 0.6208\n",
            "Epoch 9/20\n",
            "375/375 [==============================] - 1s 3ms/step - loss: 0.2428 - accuracy: 0.9585 - auc: 0.9866 - precision: 0.9127 - recall: 0.9682 - val_loss: 1.1951 - val_accuracy: 0.7197 - val_auc: 0.8442 - val_precision: 0.7869 - val_recall: 0.2183\n",
            "Epoch 10/20\n",
            "375/375 [==============================] - 1s 3ms/step - loss: 0.2412 - accuracy: 0.9589 - auc: 0.9877 - precision: 0.9130 - recall: 0.9690 - val_loss: 0.8962 - val_accuracy: 0.7894 - val_auc: 0.8663 - val_precision: 0.8321 - val_recall: 0.4611\n",
            "Epoch 11/20\n",
            "375/375 [==============================] - 1s 3ms/step - loss: 0.2425 - accuracy: 0.9571 - auc: 0.9875 - precision: 0.9094 - recall: 0.9677 - val_loss: 0.8243 - val_accuracy: 0.8071 - val_auc: 0.8765 - val_precision: 0.8416 - val_recall: 0.5190\n",
            "Epoch 12/20\n",
            "375/375 [==============================] - 1s 3ms/step - loss: 0.2402 - accuracy: 0.9593 - auc: 0.9882 - precision: 0.9144 - recall: 0.9685 - val_loss: 0.7171 - val_accuracy: 0.8032 - val_auc: 0.8863 - val_precision: 0.8022 - val_recall: 0.5436\n",
            "Epoch 13/20\n",
            "375/375 [==============================] - 1s 3ms/step - loss: 0.2351 - accuracy: 0.9615 - auc: 0.9892 - precision: 0.9175 - recall: 0.9720 - val_loss: 0.9527 - val_accuracy: 0.7462 - val_auc: 0.8771 - val_precision: 0.8228 - val_recall: 0.3043\n",
            "Epoch 14/20\n",
            "375/375 [==============================] - 1s 3ms/step - loss: 0.2411 - accuracy: 0.9588 - auc: 0.9877 - precision: 0.9149 - recall: 0.9662 - val_loss: 0.6374 - val_accuracy: 0.8231 - val_auc: 0.8888 - val_precision: 0.8177 - val_recall: 0.6039\n",
            "Epoch 15/20\n",
            "375/375 [==============================] - 1s 3ms/step - loss: 0.2351 - accuracy: 0.9607 - auc: 0.9884 - precision: 0.9169 - recall: 0.9700 - val_loss: 0.6039 - val_accuracy: 0.8131 - val_auc: 0.9089 - val_precision: 0.8132 - val_recall: 0.5705\n",
            "Epoch 16/20\n",
            "375/375 [==============================] - 1s 3ms/step - loss: 0.2346 - accuracy: 0.9604 - auc: 0.9895 - precision: 0.9183 - recall: 0.9675 - val_loss: 0.6304 - val_accuracy: 0.8272 - val_auc: 0.9043 - val_precision: 0.8248 - val_recall: 0.6115\n",
            "Epoch 17/20\n",
            "375/375 [==============================] - 1s 3ms/step - loss: 0.2329 - accuracy: 0.9620 - auc: 0.9895 - precision: 0.9192 - recall: 0.9715 - val_loss: 0.6927 - val_accuracy: 0.8096 - val_auc: 0.8779 - val_precision: 0.8077 - val_recall: 0.5629\n",
            "Epoch 18/20\n",
            "375/375 [==============================] - 1s 3ms/step - loss: 0.2356 - accuracy: 0.9599 - auc: 0.9895 - precision: 0.9183 - recall: 0.9657 - val_loss: 1.0325 - val_accuracy: 0.7776 - val_auc: 0.8563 - val_precision: 0.8829 - val_recall: 0.3839\n",
            "Epoch 19/20\n",
            "375/375 [==============================] - 1s 3ms/step - loss: 0.2337 - accuracy: 0.9601 - auc: 0.9892 - precision: 0.9168 - recall: 0.9682 - val_loss: 0.9332 - val_accuracy: 0.7644 - val_auc: 0.8713 - val_precision: 0.8543 - val_recall: 0.3534\n",
            "Epoch 20/20\n",
            "375/375 [==============================] - 1s 3ms/step - loss: 0.2323 - accuracy: 0.9637 - auc: 0.9893 - precision: 0.9194 - recall: 0.9767 - val_loss: 0.8370 - val_accuracy: 0.7714 - val_auc: 0.8825 - val_precision: 0.8262 - val_recall: 0.3979\n",
            "------------------------------- Model run: 9 / 9 - Finished running model for L2 regularisation at level:  0.004  -------------------------------\n"
          ]
        }
      ],
      "source": [
        "results_regularization = tuning_regularization(X_train_synth,y_train_synth,X_valid_synth,y_valid_synth)"
      ]
    },
    {
      "cell_type": "markdown",
      "metadata": {
        "id": "ktxCHP4JUD0i"
      },
      "source": [
        "### Printing results\n",
        "\n",
        "Printing the dataframe with the results from the optimization of regularization.\n",
        "\n",
        "We can see that a model without a regularization will perform the best, based on the accuracy and AUC obtained on the validation data in the tuning_regularization function."
      ]
    },
    {
      "cell_type": "code",
      "execution_count": 56,
      "metadata": {
        "id": "g174v5s5UD0i",
        "colab": {
          "base_uri": "https://localhost:8080/",
          "height": 363
        },
        "outputId": "9bd9c45a-9c45-45a9-95dc-f2518b269cbd"
      },
      "outputs": [
        {
          "output_type": "execute_result",
          "data": {
            "text/html": [
              "\n",
              "  <div id=\"df-73211b88-5332-4984-9334-f699ad0972c2\">\n",
              "    <div class=\"colab-df-container\">\n",
              "      <div>\n",
              "<style scoped>\n",
              "    .dataframe tbody tr th:only-of-type {\n",
              "        vertical-align: middle;\n",
              "    }\n",
              "\n",
              "    .dataframe tbody tr th {\n",
              "        vertical-align: top;\n",
              "    }\n",
              "\n",
              "    .dataframe thead th {\n",
              "        text-align: right;\n",
              "    }\n",
              "</style>\n",
              "<table border=\"1\" class=\"dataframe\">\n",
              "  <thead>\n",
              "    <tr style=\"text-align: right;\">\n",
              "      <th></th>\n",
              "      <th>regularization_type</th>\n",
              "      <th>regularization_value</th>\n",
              "      <th>accuracy</th>\n",
              "      <th>auc</th>\n",
              "      <th>precision</th>\n",
              "      <th>recall</th>\n",
              "    </tr>\n",
              "  </thead>\n",
              "  <tbody>\n",
              "    <tr>\n",
              "      <th>0</th>\n",
              "      <td>L1 regularization</td>\n",
              "      <td>0.000</td>\n",
              "      <td>0.994742</td>\n",
              "      <td>0.999006</td>\n",
              "      <td>0.988323</td>\n",
              "      <td>0.995994</td>\n",
              "    </tr>\n",
              "    <tr>\n",
              "      <th>1</th>\n",
              "      <td>L1 regularization</td>\n",
              "      <td>0.001</td>\n",
              "      <td>0.976632</td>\n",
              "      <td>0.993496</td>\n",
              "      <td>0.948768</td>\n",
              "      <td>0.982974</td>\n",
              "    </tr>\n",
              "    <tr>\n",
              "      <th>2</th>\n",
              "      <td>L1 regularization</td>\n",
              "      <td>0.002</td>\n",
              "      <td>0.946420</td>\n",
              "      <td>0.972439</td>\n",
              "      <td>0.881082</td>\n",
              "      <td>0.970205</td>\n",
              "    </tr>\n",
              "    <tr>\n",
              "      <th>3</th>\n",
              "      <td>L1 regularization</td>\n",
              "      <td>0.003</td>\n",
              "      <td>0.940995</td>\n",
              "      <td>0.973257</td>\n",
              "      <td>0.875657</td>\n",
              "      <td>0.959189</td>\n",
              "    </tr>\n",
              "    <tr>\n",
              "      <th>4</th>\n",
              "      <td>L1 regularization</td>\n",
              "      <td>0.004</td>\n",
              "      <td>0.939409</td>\n",
              "      <td>0.972441</td>\n",
              "      <td>0.872379</td>\n",
              "      <td>0.958438</td>\n",
              "    </tr>\n",
              "    <tr>\n",
              "      <th>5</th>\n",
              "      <td>L2 regularization</td>\n",
              "      <td>0.000</td>\n",
              "      <td>0.939409</td>\n",
              "      <td>0.972441</td>\n",
              "      <td>0.872379</td>\n",
              "      <td>0.958438</td>\n",
              "    </tr>\n",
              "    <tr>\n",
              "      <th>6</th>\n",
              "      <td>L2 regularization</td>\n",
              "      <td>0.001</td>\n",
              "      <td>0.939409</td>\n",
              "      <td>0.972441</td>\n",
              "      <td>0.872379</td>\n",
              "      <td>0.958438</td>\n",
              "    </tr>\n",
              "    <tr>\n",
              "      <th>7</th>\n",
              "      <td>L2 regularization</td>\n",
              "      <td>0.002</td>\n",
              "      <td>0.939409</td>\n",
              "      <td>0.972441</td>\n",
              "      <td>0.872379</td>\n",
              "      <td>0.958438</td>\n",
              "    </tr>\n",
              "    <tr>\n",
              "      <th>8</th>\n",
              "      <td>L2 regularization</td>\n",
              "      <td>0.003</td>\n",
              "      <td>0.939409</td>\n",
              "      <td>0.972441</td>\n",
              "      <td>0.872379</td>\n",
              "      <td>0.958438</td>\n",
              "    </tr>\n",
              "    <tr>\n",
              "      <th>9</th>\n",
              "      <td>L2 regularization</td>\n",
              "      <td>0.004</td>\n",
              "      <td>0.939409</td>\n",
              "      <td>0.972441</td>\n",
              "      <td>0.872379</td>\n",
              "      <td>0.958438</td>\n",
              "    </tr>\n",
              "  </tbody>\n",
              "</table>\n",
              "</div>\n",
              "      <button class=\"colab-df-convert\" onclick=\"convertToInteractive('df-73211b88-5332-4984-9334-f699ad0972c2')\"\n",
              "              title=\"Convert this dataframe to an interactive table.\"\n",
              "              style=\"display:none;\">\n",
              "        \n",
              "  <svg xmlns=\"http://www.w3.org/2000/svg\" height=\"24px\"viewBox=\"0 0 24 24\"\n",
              "       width=\"24px\">\n",
              "    <path d=\"M0 0h24v24H0V0z\" fill=\"none\"/>\n",
              "    <path d=\"M18.56 5.44l.94 2.06.94-2.06 2.06-.94-2.06-.94-.94-2.06-.94 2.06-2.06.94zm-11 1L8.5 8.5l.94-2.06 2.06-.94-2.06-.94L8.5 2.5l-.94 2.06-2.06.94zm10 10l.94 2.06.94-2.06 2.06-.94-2.06-.94-.94-2.06-.94 2.06-2.06.94z\"/><path d=\"M17.41 7.96l-1.37-1.37c-.4-.4-.92-.59-1.43-.59-.52 0-1.04.2-1.43.59L10.3 9.45l-7.72 7.72c-.78.78-.78 2.05 0 2.83L4 21.41c.39.39.9.59 1.41.59.51 0 1.02-.2 1.41-.59l7.78-7.78 2.81-2.81c.8-.78.8-2.07 0-2.86zM5.41 20L4 18.59l7.72-7.72 1.47 1.35L5.41 20z\"/>\n",
              "  </svg>\n",
              "      </button>\n",
              "      \n",
              "  <style>\n",
              "    .colab-df-container {\n",
              "      display:flex;\n",
              "      flex-wrap:wrap;\n",
              "      gap: 12px;\n",
              "    }\n",
              "\n",
              "    .colab-df-convert {\n",
              "      background-color: #E8F0FE;\n",
              "      border: none;\n",
              "      border-radius: 50%;\n",
              "      cursor: pointer;\n",
              "      display: none;\n",
              "      fill: #1967D2;\n",
              "      height: 32px;\n",
              "      padding: 0 0 0 0;\n",
              "      width: 32px;\n",
              "    }\n",
              "\n",
              "    .colab-df-convert:hover {\n",
              "      background-color: #E2EBFA;\n",
              "      box-shadow: 0px 1px 2px rgba(60, 64, 67, 0.3), 0px 1px 3px 1px rgba(60, 64, 67, 0.15);\n",
              "      fill: #174EA6;\n",
              "    }\n",
              "\n",
              "    [theme=dark] .colab-df-convert {\n",
              "      background-color: #3B4455;\n",
              "      fill: #D2E3FC;\n",
              "    }\n",
              "\n",
              "    [theme=dark] .colab-df-convert:hover {\n",
              "      background-color: #434B5C;\n",
              "      box-shadow: 0px 1px 3px 1px rgba(0, 0, 0, 0.15);\n",
              "      filter: drop-shadow(0px 1px 2px rgba(0, 0, 0, 0.3));\n",
              "      fill: #FFFFFF;\n",
              "    }\n",
              "  </style>\n",
              "\n",
              "      <script>\n",
              "        const buttonEl =\n",
              "          document.querySelector('#df-73211b88-5332-4984-9334-f699ad0972c2 button.colab-df-convert');\n",
              "        buttonEl.style.display =\n",
              "          google.colab.kernel.accessAllowed ? 'block' : 'none';\n",
              "\n",
              "        async function convertToInteractive(key) {\n",
              "          const element = document.querySelector('#df-73211b88-5332-4984-9334-f699ad0972c2');\n",
              "          const dataTable =\n",
              "            await google.colab.kernel.invokeFunction('convertToInteractive',\n",
              "                                                     [key], {});\n",
              "          if (!dataTable) return;\n",
              "\n",
              "          const docLinkHtml = 'Like what you see? Visit the ' +\n",
              "            '<a target=\"_blank\" href=https://colab.research.google.com/notebooks/data_table.ipynb>data table notebook</a>'\n",
              "            + ' to learn more about interactive tables.';\n",
              "          element.innerHTML = '';\n",
              "          dataTable['output_type'] = 'display_data';\n",
              "          await google.colab.output.renderOutput(dataTable, element);\n",
              "          const docLink = document.createElement('div');\n",
              "          docLink.innerHTML = docLinkHtml;\n",
              "          element.appendChild(docLink);\n",
              "        }\n",
              "      </script>\n",
              "    </div>\n",
              "  </div>\n",
              "  "
            ],
            "text/plain": [
              "  regularization_type  regularization_value  accuracy       auc  precision  \\\n",
              "0   L1 regularization                 0.000  0.994742  0.999006   0.988323   \n",
              "1   L1 regularization                 0.001  0.976632  0.993496   0.948768   \n",
              "2   L1 regularization                 0.002  0.946420  0.972439   0.881082   \n",
              "3   L1 regularization                 0.003  0.940995  0.973257   0.875657   \n",
              "4   L1 regularization                 0.004  0.939409  0.972441   0.872379   \n",
              "5   L2 regularization                 0.000  0.939409  0.972441   0.872379   \n",
              "6   L2 regularization                 0.001  0.939409  0.972441   0.872379   \n",
              "7   L2 regularization                 0.002  0.939409  0.972441   0.872379   \n",
              "8   L2 regularization                 0.003  0.939409  0.972441   0.872379   \n",
              "9   L2 regularization                 0.004  0.939409  0.972441   0.872379   \n",
              "\n",
              "     recall  \n",
              "0  0.995994  \n",
              "1  0.982974  \n",
              "2  0.970205  \n",
              "3  0.959189  \n",
              "4  0.958438  \n",
              "5  0.958438  \n",
              "6  0.958438  \n",
              "7  0.958438  \n",
              "8  0.958438  \n",
              "9  0.958438  "
            ]
          },
          "metadata": {},
          "execution_count": 56
        }
      ],
      "source": [
        "sorted_results = results_regularization.sort_values(by=['regularization_type', 'regularization_value'], ascending=True)\n",
        "sorted_results"
      ]
    },
    {
      "cell_type": "markdown",
      "metadata": {
        "id": "axWj_Wc8UD0j"
      },
      "source": [
        "## Create optimized model\n",
        "\n",
        "Based on the results from the hyperband hyperparameter tuning and combined with the regularization optimization, we create a final model that we run on our test data to test performance."
      ]
    },
    {
      "cell_type": "markdown",
      "metadata": {
        "id": "Ygt92ACtUD0j"
      },
      "source": [
        "### Defining hyper parameters\n",
        "\n",
        "Copying the hyperparameters and regularization obtained in earlier step as input to our final model."
      ]
    },
    {
      "cell_type": "code",
      "execution_count": 57,
      "metadata": {
        "id": "NR-jYiwBUD0k"
      },
      "outputs": [],
      "source": [
        "# Specifying the hyperparameters given in the Keras Tuner to our model\n",
        "num_units = best_hps['num_units']\n",
        "dropout_rate = best_hps['dropout_rate'] \n",
        "learning_rate = best_hps['learning_rate']\n",
        "regularization_rate = 0.000"
      ]
    },
    {
      "cell_type": "markdown",
      "metadata": {
        "id": "xy5jxQlNUD0k"
      },
      "source": [
        "### Creating model\n",
        "\n",
        "Creating the final model with identical structure as the model used in the tuning."
      ]
    },
    {
      "cell_type": "code",
      "execution_count": 58,
      "metadata": {
        "id": "x37ASlGGUD0l",
        "colab": {
          "base_uri": "https://localhost:8080/"
        },
        "outputId": "793f8dd4-a733-4c0f-bb55-0d3dad84a681"
      },
      "outputs": [
        {
          "output_type": "stream",
          "name": "stdout",
          "text": [
            "Epoch 1/40\n",
            "375/375 [==============================] - 5s 7ms/step - loss: 0.2340 - tp: 3437.0000 - fp: 656.0000 - tn: 9042.0000 - fn: 575.0000 - accuracy: 0.9102 - precision: 0.8397 - recall: 0.8567 - auc: 0.9600 - prc: 0.8869 - val_loss: 0.8123 - val_tp: 883.0000 - val_fp: 219.0000 - val_tn: 3199.0000 - val_fn: 826.0000 - val_accuracy: 0.7962 - val_precision: 0.8013 - val_recall: 0.5167 - val_auc: 0.8515 - val_prc: 0.7296\n",
            "Epoch 2/40\n",
            "375/375 [==============================] - 1s 3ms/step - loss: 0.1352 - tp: 3864.0000 - fp: 444.0000 - tn: 7544.0000 - fn: 130.0000 - accuracy: 0.9521 - precision: 0.8969 - recall: 0.9675 - auc: 0.9813 - prc: 0.9442 - val_loss: 2.0729 - val_tp: 603.0000 - val_fp: 97.0000 - val_tn: 3321.0000 - val_fn: 1106.0000 - val_accuracy: 0.7654 - val_precision: 0.8614 - val_recall: 0.3528 - val_auc: 0.7430 - val_prc: 0.6767\n",
            "Epoch 3/40\n",
            "375/375 [==============================] - 1s 3ms/step - loss: 0.0880 - tp: 3934.0000 - fp: 277.0000 - tn: 7711.0000 - fn: 60.0000 - accuracy: 0.9719 - precision: 0.9342 - recall: 0.9850 - auc: 0.9901 - prc: 0.9677 - val_loss: 2.0896 - val_tp: 483.0000 - val_fp: 93.0000 - val_tn: 3325.0000 - val_fn: 1226.0000 - val_accuracy: 0.7427 - val_precision: 0.8385 - val_recall: 0.2826 - val_auc: 0.7361 - val_prc: 0.6531\n",
            "Epoch 4/40\n",
            "375/375 [==============================] - 1s 3ms/step - loss: 0.0772 - tp: 3934.0000 - fp: 240.0000 - tn: 7748.0000 - fn: 60.0000 - accuracy: 0.9750 - precision: 0.9425 - recall: 0.9850 - auc: 0.9925 - prc: 0.9746 - val_loss: 3.1299 - val_tp: 258.0000 - val_fp: 73.0000 - val_tn: 3345.0000 - val_fn: 1451.0000 - val_accuracy: 0.7028 - val_precision: 0.7795 - val_recall: 0.1510 - val_auc: 0.6910 - val_prc: 0.5902\n",
            "Epoch 5/40\n",
            "375/375 [==============================] - 1s 3ms/step - loss: 0.0689 - tp: 3946.0000 - fp: 204.0000 - tn: 7784.0000 - fn: 48.0000 - accuracy: 0.9790 - precision: 0.9508 - recall: 0.9880 - auc: 0.9926 - prc: 0.9751 - val_loss: 3.5075 - val_tp: 425.0000 - val_fp: 84.0000 - val_tn: 3334.0000 - val_fn: 1284.0000 - val_accuracy: 0.7332 - val_precision: 0.8350 - val_recall: 0.2487 - val_auc: 0.7031 - val_prc: 0.6151\n",
            "Epoch 6/40\n",
            "375/375 [==============================] - 1s 4ms/step - loss: 0.0572 - tp: 3948.0000 - fp: 155.0000 - tn: 7833.0000 - fn: 46.0000 - accuracy: 0.9832 - precision: 0.9622 - recall: 0.9885 - auc: 0.9949 - prc: 0.9825 - val_loss: 4.9740 - val_tp: 184.0000 - val_fp: 48.0000 - val_tn: 3370.0000 - val_fn: 1525.0000 - val_accuracy: 0.6932 - val_precision: 0.7931 - val_recall: 0.1077 - val_auc: 0.6311 - val_prc: 0.5362\n",
            "Epoch 7/40\n",
            "375/375 [==============================] - 1s 4ms/step - loss: 0.0507 - tp: 3949.0000 - fp: 141.0000 - tn: 7847.0000 - fn: 45.0000 - accuracy: 0.9845 - precision: 0.9655 - recall: 0.9887 - auc: 0.9963 - prc: 0.9883 - val_loss: 2.4830 - val_tp: 472.0000 - val_fp: 79.0000 - val_tn: 3339.0000 - val_fn: 1237.0000 - val_accuracy: 0.7433 - val_precision: 0.8566 - val_recall: 0.2762 - val_auc: 0.7315 - val_prc: 0.6559\n",
            "Epoch 8/40\n",
            "375/375 [==============================] - 1s 3ms/step - loss: 0.0487 - tp: 3954.0000 - fp: 131.0000 - tn: 7857.0000 - fn: 40.0000 - accuracy: 0.9857 - precision: 0.9679 - recall: 0.9900 - auc: 0.9964 - prc: 0.9882 - val_loss: 2.1240 - val_tp: 537.0000 - val_fp: 97.0000 - val_tn: 3321.0000 - val_fn: 1172.0000 - val_accuracy: 0.7525 - val_precision: 0.8470 - val_recall: 0.3142 - val_auc: 0.7566 - val_prc: 0.6881\n",
            "Epoch 9/40\n",
            "375/375 [==============================] - 1s 3ms/step - loss: 0.0422 - tp: 3963.0000 - fp: 112.0000 - tn: 7876.0000 - fn: 31.0000 - accuracy: 0.9881 - precision: 0.9725 - recall: 0.9922 - auc: 0.9968 - prc: 0.9891 - val_loss: 2.9868 - val_tp: 304.0000 - val_fp: 108.0000 - val_tn: 3310.0000 - val_fn: 1405.0000 - val_accuracy: 0.7049 - val_precision: 0.7379 - val_recall: 0.1779 - val_auc: 0.7028 - val_prc: 0.5777\n",
            "Epoch 10/40\n",
            "375/375 [==============================] - 1s 4ms/step - loss: 0.0424 - tp: 3971.0000 - fp: 117.0000 - tn: 7871.0000 - fn: 23.0000 - accuracy: 0.9883 - precision: 0.9714 - recall: 0.9942 - auc: 0.9966 - prc: 0.9897 - val_loss: 4.3321 - val_tp: 240.0000 - val_fp: 70.0000 - val_tn: 3348.0000 - val_fn: 1469.0000 - val_accuracy: 0.6998 - val_precision: 0.7742 - val_recall: 0.1404 - val_auc: 0.6247 - val_prc: 0.5241\n",
            "Epoch 11/40\n",
            "375/375 [==============================] - 1s 3ms/step - loss: 0.0383 - tp: 3954.0000 - fp: 103.0000 - tn: 7885.0000 - fn: 40.0000 - accuracy: 0.9881 - precision: 0.9746 - recall: 0.9900 - auc: 0.9976 - prc: 0.9942 - val_loss: 2.9185 - val_tp: 531.0000 - val_fp: 105.0000 - val_tn: 3313.0000 - val_fn: 1178.0000 - val_accuracy: 0.7498 - val_precision: 0.8349 - val_recall: 0.3107 - val_auc: 0.7265 - val_prc: 0.6447\n",
            "Epoch 12/40\n",
            "375/375 [==============================] - 1s 3ms/step - loss: 0.0355 - tp: 3960.0000 - fp: 85.0000 - tn: 7903.0000 - fn: 34.0000 - accuracy: 0.9901 - precision: 0.9790 - recall: 0.9915 - auc: 0.9978 - prc: 0.9933 - val_loss: 1.5203 - val_tp: 310.0000 - val_fp: 125.0000 - val_tn: 3293.0000 - val_fn: 1399.0000 - val_accuracy: 0.7028 - val_precision: 0.7126 - val_recall: 0.1814 - val_auc: 0.8004 - val_prc: 0.6665\n",
            "Epoch 13/40\n",
            "375/375 [==============================] - 1s 3ms/step - loss: 0.0326 - tp: 3964.0000 - fp: 86.0000 - tn: 7902.0000 - fn: 30.0000 - accuracy: 0.9903 - precision: 0.9788 - recall: 0.9925 - auc: 0.9981 - prc: 0.9938 - val_loss: 2.8521 - val_tp: 339.0000 - val_fp: 72.0000 - val_tn: 3346.0000 - val_fn: 1370.0000 - val_accuracy: 0.7187 - val_precision: 0.8248 - val_recall: 0.1984 - val_auc: 0.7340 - val_prc: 0.6483\n",
            "Epoch 14/40\n",
            "375/375 [==============================] - 1s 3ms/step - loss: 0.0288 - tp: 3964.0000 - fp: 75.0000 - tn: 7913.0000 - fn: 30.0000 - accuracy: 0.9912 - precision: 0.9814 - recall: 0.9925 - auc: 0.9987 - prc: 0.9969 - val_loss: 6.1701 - val_tp: 120.0000 - val_fp: 36.0000 - val_tn: 3382.0000 - val_fn: 1589.0000 - val_accuracy: 0.6831 - val_precision: 0.7692 - val_recall: 0.0702 - val_auc: 0.5790 - val_prc: 0.4639\n",
            "Epoch 15/40\n",
            "375/375 [==============================] - 1s 3ms/step - loss: 0.0292 - tp: 3964.0000 - fp: 76.0000 - tn: 7912.0000 - fn: 30.0000 - accuracy: 0.9912 - precision: 0.9812 - recall: 0.9925 - auc: 0.9984 - prc: 0.9949 - val_loss: 6.5092 - val_tp: 73.0000 - val_fp: 33.0000 - val_tn: 3385.0000 - val_fn: 1636.0000 - val_accuracy: 0.6745 - val_precision: 0.6887 - val_recall: 0.0427 - val_auc: 0.5771 - val_prc: 0.4591\n",
            "Epoch 16/40\n",
            "375/375 [==============================] - 1s 3ms/step - loss: 0.0244 - tp: 3970.0000 - fp: 56.0000 - tn: 7932.0000 - fn: 24.0000 - accuracy: 0.9933 - precision: 0.9861 - recall: 0.9940 - auc: 0.9987 - prc: 0.9958 - val_loss: 7.4920 - val_tp: 113.0000 - val_fp: 36.0000 - val_tn: 3382.0000 - val_fn: 1596.0000 - val_accuracy: 0.6817 - val_precision: 0.7584 - val_recall: 0.0661 - val_auc: 0.5731 - val_prc: 0.4608\n",
            "Epoch 17/40\n",
            "375/375 [==============================] - 1s 3ms/step - loss: 0.0320 - tp: 3966.0000 - fp: 78.0000 - tn: 7910.0000 - fn: 28.0000 - accuracy: 0.9912 - precision: 0.9807 - recall: 0.9930 - auc: 0.9980 - prc: 0.9945 - val_loss: 5.4154 - val_tp: 206.0000 - val_fp: 59.0000 - val_tn: 3359.0000 - val_fn: 1503.0000 - val_accuracy: 0.6953 - val_precision: 0.7774 - val_recall: 0.1205 - val_auc: 0.6442 - val_prc: 0.5539\n",
            "Epoch 18/40\n",
            "375/375 [==============================] - 1s 3ms/step - loss: 0.0334 - tp: 3966.0000 - fp: 82.0000 - tn: 7906.0000 - fn: 28.0000 - accuracy: 0.9908 - precision: 0.9797 - recall: 0.9930 - auc: 0.9978 - prc: 0.9923 - val_loss: 4.8473 - val_tp: 199.0000 - val_fp: 62.0000 - val_tn: 3356.0000 - val_fn: 1510.0000 - val_accuracy: 0.6934 - val_precision: 0.7625 - val_recall: 0.1164 - val_auc: 0.6291 - val_prc: 0.5212\n",
            "Epoch 19/40\n",
            "375/375 [==============================] - 1s 4ms/step - loss: 0.0187 - tp: 3976.0000 - fp: 45.0000 - tn: 7943.0000 - fn: 18.0000 - accuracy: 0.9947 - precision: 0.9888 - recall: 0.9955 - auc: 0.9991 - prc: 0.9966 - val_loss: 7.1294 - val_tp: 134.0000 - val_fp: 41.0000 - val_tn: 3377.0000 - val_fn: 1575.0000 - val_accuracy: 0.6848 - val_precision: 0.7657 - val_recall: 0.0784 - val_auc: 0.5705 - val_prc: 0.4547\n",
            "Epoch 20/40\n",
            "375/375 [==============================] - 1s 4ms/step - loss: 0.0189 - tp: 3978.0000 - fp: 47.0000 - tn: 7941.0000 - fn: 16.0000 - accuracy: 0.9947 - precision: 0.9883 - recall: 0.9960 - auc: 0.9990 - prc: 0.9967 - val_loss: 6.2642 - val_tp: 183.0000 - val_fp: 45.0000 - val_tn: 3373.0000 - val_fn: 1526.0000 - val_accuracy: 0.6936 - val_precision: 0.8026 - val_recall: 0.1071 - val_auc: 0.5873 - val_prc: 0.4778\n",
            "Epoch 21/40\n",
            "375/375 [==============================] - 1s 4ms/step - loss: 0.0314 - tp: 3960.0000 - fp: 78.0000 - tn: 7910.0000 - fn: 34.0000 - accuracy: 0.9907 - precision: 0.9807 - recall: 0.9915 - auc: 0.9985 - prc: 0.9956 - val_loss: 6.5205 - val_tp: 308.0000 - val_fp: 63.0000 - val_tn: 3355.0000 - val_fn: 1401.0000 - val_accuracy: 0.7145 - val_precision: 0.8302 - val_recall: 0.1802 - val_auc: 0.6238 - val_prc: 0.5346\n",
            "Epoch 22/40\n",
            "375/375 [==============================] - 1s 3ms/step - loss: 0.0197 - tp: 3981.0000 - fp: 52.0000 - tn: 7936.0000 - fn: 13.0000 - accuracy: 0.9946 - precision: 0.9871 - recall: 0.9967 - auc: 0.9991 - prc: 0.9969 - val_loss: 6.4246 - val_tp: 217.0000 - val_fp: 64.0000 - val_tn: 3354.0000 - val_fn: 1492.0000 - val_accuracy: 0.6965 - val_precision: 0.7722 - val_recall: 0.1270 - val_auc: 0.6136 - val_prc: 0.5128\n",
            "Epoch 23/40\n",
            "375/375 [==============================] - 1s 3ms/step - loss: 0.0273 - tp: 3978.0000 - fp: 82.0000 - tn: 7906.0000 - fn: 16.0000 - accuracy: 0.9918 - precision: 0.9798 - recall: 0.9960 - auc: 0.9987 - prc: 0.9963 - val_loss: 5.2533 - val_tp: 390.0000 - val_fp: 99.0000 - val_tn: 3319.0000 - val_fn: 1319.0000 - val_accuracy: 0.7234 - val_precision: 0.7975 - val_recall: 0.2282 - val_auc: 0.6941 - val_prc: 0.5954\n",
            "Epoch 24/40\n",
            "375/375 [==============================] - 1s 3ms/step - loss: 0.0215 - tp: 3981.0000 - fp: 57.0000 - tn: 7931.0000 - fn: 13.0000 - accuracy: 0.9942 - precision: 0.9859 - recall: 0.9967 - auc: 0.9988 - prc: 0.9961 - val_loss: 12.6729 - val_tp: 144.0000 - val_fp: 34.0000 - val_tn: 3384.0000 - val_fn: 1565.0000 - val_accuracy: 0.6881 - val_precision: 0.8090 - val_recall: 0.0843 - val_auc: 0.5551 - val_prc: 0.4316\n",
            "Epoch 25/40\n",
            "375/375 [==============================] - 1s 3ms/step - loss: 0.0239 - tp: 3977.0000 - fp: 63.0000 - tn: 7925.0000 - fn: 17.0000 - accuracy: 0.9933 - precision: 0.9844 - recall: 0.9957 - auc: 0.9987 - prc: 0.9959 - val_loss: 5.0542 - val_tp: 307.0000 - val_fp: 61.0000 - val_tn: 3357.0000 - val_fn: 1402.0000 - val_accuracy: 0.7146 - val_precision: 0.8342 - val_recall: 0.1796 - val_auc: 0.6435 - val_prc: 0.5557\n",
            "Epoch 26/40\n",
            "375/375 [==============================] - 1s 3ms/step - loss: 0.0327 - tp: 3968.0000 - fp: 71.0000 - tn: 7917.0000 - fn: 26.0000 - accuracy: 0.9919 - precision: 0.9824 - recall: 0.9935 - auc: 0.9977 - prc: 0.9933 - val_loss: 7.4488 - val_tp: 107.0000 - val_fp: 42.0000 - val_tn: 3376.0000 - val_fn: 1602.0000 - val_accuracy: 0.6793 - val_precision: 0.7181 - val_recall: 0.0626 - val_auc: 0.5708 - val_prc: 0.4558\n",
            "Epoch 27/40\n",
            "375/375 [==============================] - 1s 3ms/step - loss: 0.0173 - tp: 3972.0000 - fp: 39.0000 - tn: 7949.0000 - fn: 22.0000 - accuracy: 0.9949 - precision: 0.9903 - recall: 0.9945 - auc: 0.9994 - prc: 0.9978 - val_loss: 7.5138 - val_tp: 125.0000 - val_fp: 41.0000 - val_tn: 3377.0000 - val_fn: 1584.0000 - val_accuracy: 0.6831 - val_precision: 0.7530 - val_recall: 0.0731 - val_auc: 0.5736 - val_prc: 0.4597\n",
            "Epoch 28/40\n",
            "375/375 [==============================] - 1s 3ms/step - loss: 0.0170 - tp: 3976.0000 - fp: 40.0000 - tn: 7948.0000 - fn: 18.0000 - accuracy: 0.9952 - precision: 0.9900 - recall: 0.9955 - auc: 0.9993 - prc: 0.9976 - val_loss: 5.6368 - val_tp: 177.0000 - val_fp: 47.0000 - val_tn: 3371.0000 - val_fn: 1532.0000 - val_accuracy: 0.6920 - val_precision: 0.7902 - val_recall: 0.1036 - val_auc: 0.6099 - val_prc: 0.5070\n",
            "Epoch 29/40\n",
            "375/375 [==============================] - 1s 3ms/step - loss: 0.0270 - tp: 3968.0000 - fp: 69.0000 - tn: 7919.0000 - fn: 26.0000 - accuracy: 0.9921 - precision: 0.9829 - recall: 0.9935 - auc: 0.9988 - prc: 0.9965 - val_loss: 4.9489 - val_tp: 271.0000 - val_fp: 70.0000 - val_tn: 3348.0000 - val_fn: 1438.0000 - val_accuracy: 0.7059 - val_precision: 0.7947 - val_recall: 0.1586 - val_auc: 0.6117 - val_prc: 0.5138\n",
            "Epoch 30/40\n",
            "375/375 [==============================] - 1s 3ms/step - loss: 0.0185 - tp: 3977.0000 - fp: 51.0000 - tn: 7937.0000 - fn: 17.0000 - accuracy: 0.9943 - precision: 0.9873 - recall: 0.9957 - auc: 0.9991 - prc: 0.9974 - val_loss: 8.3588 - val_tp: 130.0000 - val_fp: 49.0000 - val_tn: 3369.0000 - val_fn: 1579.0000 - val_accuracy: 0.6825 - val_precision: 0.7263 - val_recall: 0.0761 - val_auc: 0.5702 - val_prc: 0.4500\n",
            "Epoch 31/40\n",
            "375/375 [==============================] - 1s 3ms/step - loss: 0.0157 - tp: 3977.0000 - fp: 39.0000 - tn: 7949.0000 - fn: 17.0000 - accuracy: 0.9953 - precision: 0.9903 - recall: 0.9957 - auc: 0.9991 - prc: 0.9968 - val_loss: 9.1084 - val_tp: 105.0000 - val_fp: 34.0000 - val_tn: 3384.0000 - val_fn: 1604.0000 - val_accuracy: 0.6805 - val_precision: 0.7554 - val_recall: 0.0614 - val_auc: 0.5635 - val_prc: 0.4391\n",
            "Epoch 32/40\n",
            "375/375 [==============================] - 2s 4ms/step - loss: 0.0113 - tp: 3983.0000 - fp: 28.0000 - tn: 7960.0000 - fn: 11.0000 - accuracy: 0.9967 - precision: 0.9930 - recall: 0.9972 - auc: 0.9995 - prc: 0.9982 - val_loss: 11.9233 - val_tp: 141.0000 - val_fp: 40.0000 - val_tn: 3378.0000 - val_fn: 1568.0000 - val_accuracy: 0.6864 - val_precision: 0.7790 - val_recall: 0.0825 - val_auc: 0.5577 - val_prc: 0.4397\n",
            "Epoch 33/40\n",
            "375/375 [==============================] - 1s 4ms/step - loss: 0.0112 - tp: 3982.0000 - fp: 25.0000 - tn: 7963.0000 - fn: 12.0000 - accuracy: 0.9969 - precision: 0.9938 - recall: 0.9970 - auc: 0.9995 - prc: 0.9986 - val_loss: 4.8511 - val_tp: 139.0000 - val_fp: 52.0000 - val_tn: 3366.0000 - val_fn: 1570.0000 - val_accuracy: 0.6836 - val_precision: 0.7277 - val_recall: 0.0813 - val_auc: 0.6598 - val_prc: 0.5629\n",
            "Epoch 34/40\n",
            "375/375 [==============================] - 1s 3ms/step - loss: 0.0172 - tp: 3974.0000 - fp: 36.0000 - tn: 7952.0000 - fn: 20.0000 - accuracy: 0.9953 - precision: 0.9910 - recall: 0.9950 - auc: 0.9992 - prc: 0.9976 - val_loss: 10.3991 - val_tp: 151.0000 - val_fp: 41.0000 - val_tn: 3377.0000 - val_fn: 1558.0000 - val_accuracy: 0.6881 - val_precision: 0.7865 - val_recall: 0.0884 - val_auc: 0.5642 - val_prc: 0.4532\n",
            "Epoch 35/40\n",
            "375/375 [==============================] - 1s 4ms/step - loss: 0.0204 - tp: 3975.0000 - fp: 43.0000 - tn: 7945.0000 - fn: 19.0000 - accuracy: 0.9948 - precision: 0.9893 - recall: 0.9952 - auc: 0.9989 - prc: 0.9961 - val_loss: 5.7725 - val_tp: 280.0000 - val_fp: 70.0000 - val_tn: 3348.0000 - val_fn: 1429.0000 - val_accuracy: 0.7076 - val_precision: 0.8000 - val_recall: 0.1638 - val_auc: 0.6317 - val_prc: 0.5362\n",
            "Epoch 36/40\n",
            "375/375 [==============================] - 1s 4ms/step - loss: 0.0180 - tp: 3980.0000 - fp: 37.0000 - tn: 7951.0000 - fn: 14.0000 - accuracy: 0.9957 - precision: 0.9908 - recall: 0.9965 - auc: 0.9991 - prc: 0.9975 - val_loss: 10.5317 - val_tp: 137.0000 - val_fp: 32.0000 - val_tn: 3386.0000 - val_fn: 1572.0000 - val_accuracy: 0.6871 - val_precision: 0.8107 - val_recall: 0.0802 - val_auc: 0.5687 - val_prc: 0.4550\n",
            "Epoch 37/40\n",
            "375/375 [==============================] - 1s 3ms/step - loss: 0.0102 - tp: 3987.0000 - fp: 20.0000 - tn: 7968.0000 - fn: 7.0000 - accuracy: 0.9977 - precision: 0.9950 - recall: 0.9982 - auc: 0.9995 - prc: 0.9981 - val_loss: 11.4015 - val_tp: 113.0000 - val_fp: 40.0000 - val_tn: 3378.0000 - val_fn: 1596.0000 - val_accuracy: 0.6809 - val_precision: 0.7386 - val_recall: 0.0661 - val_auc: 0.5597 - val_prc: 0.4363\n",
            "Epoch 38/40\n",
            "375/375 [==============================] - 1s 3ms/step - loss: 0.0109 - tp: 3985.0000 - fp: 26.0000 - tn: 7962.0000 - fn: 9.0000 - accuracy: 0.9971 - precision: 0.9935 - recall: 0.9977 - auc: 0.9996 - prc: 0.9988 - val_loss: 8.3462 - val_tp: 126.0000 - val_fp: 44.0000 - val_tn: 3374.0000 - val_fn: 1583.0000 - val_accuracy: 0.6827 - val_precision: 0.7412 - val_recall: 0.0737 - val_auc: 0.5623 - val_prc: 0.4398\n",
            "Epoch 39/40\n",
            "375/375 [==============================] - 1s 3ms/step - loss: 0.0257 - tp: 3956.0000 - fp: 57.0000 - tn: 7931.0000 - fn: 38.0000 - accuracy: 0.9921 - precision: 0.9858 - recall: 0.9905 - auc: 0.9991 - prc: 0.9968 - val_loss: 28.3216 - val_tp: 47.0000 - val_fp: 21.0000 - val_tn: 3397.0000 - val_fn: 1662.0000 - val_accuracy: 0.6717 - val_precision: 0.6912 - val_recall: 0.0275 - val_auc: 0.5168 - val_prc: 0.3674\n",
            "Epoch 40/40\n",
            "375/375 [==============================] - 1s 3ms/step - loss: 0.0142 - tp: 3980.0000 - fp: 31.0000 - tn: 7957.0000 - fn: 14.0000 - accuracy: 0.9962 - precision: 0.9923 - recall: 0.9965 - auc: 0.9994 - prc: 0.9981 - val_loss: 8.4159 - val_tp: 270.0000 - val_fp: 50.0000 - val_tn: 3368.0000 - val_fn: 1439.0000 - val_accuracy: 0.7096 - val_precision: 0.8438 - val_recall: 0.1580 - val_auc: 0.6371 - val_prc: 0.5539\n"
          ]
        }
      ],
      "source": [
        "# Clear the session\n",
        "tf.keras.backend.clear_session()\n",
        "np.random.seed(735)\n",
        "tf.random.set_seed(298)\n",
        "\n",
        "# Set current regularizatoin\n",
        "regularizer = tf.keras.regularizers.l1(regularization_rate)\n",
        "\n",
        "# Defining final model\n",
        "model_SMOTE = tf.keras.models.Sequential()\n",
        "tf.keras.layers.Dropout(dropout_rate),\n",
        "model_SMOTE.add(tf.keras.layers.Dense(num_units, activation=\"relu\", kernel_regularizer=regularizer , input_shape=[X_train_smote_norm.shape[1]]))\n",
        "tf.keras.layers.Dropout(dropout_rate),\n",
        "model_SMOTE.add(tf.keras.layers.Dense(num_units, activation=\"relu\", kernel_regularizer=regularizer))\n",
        "tf.keras.layers.Dropout(dropout_rate),\n",
        "model_SMOTE.add(tf.keras.layers.Dense(num_units, activation=\"relu\", kernel_regularizer=regularizer))\n",
        "tf.keras.layers.Dropout(dropout_rate),\n",
        "#model_SMOTE.add(tf.keras.layers.Dense(num_units, activation=\"relu\", kernel_regularizer=regularizer))\n",
        "#tf.keras.layers.Dropout(dropout_rate),\n",
        "#model_SMOTE.add(tf.keras.layers.Dense(num_units, activation=\"relu\", kernel_regularizer=regularizer))\n",
        "#tf.keras.layers.Dropout(dropout_rate),\n",
        "model_SMOTE.add(tf.keras.layers.Dense(num_units, activation=\"relu\", kernel_regularizer=regularizer))\n",
        "tf.keras.layers.Dropout(dropout_rate),\n",
        "model_SMOTE.add(tf.keras.layers.Dense(num_units, activation=\"relu\", kernel_regularizer=regularizer))\n",
        "tf.keras.layers.Dropout(dropout_rate),\n",
        "model_SMOTE.add(tf.keras.layers.Dense(1, activation=\"sigmoid\", kernel_regularizer=regularizer))\n",
        "\n",
        "# Compiling the model with hyperparameters found in hyperband above\n",
        "model_SMOTE.compile(loss=\"binary_crossentropy\",\n",
        "                optimizer=tf.keras.optimizers.Adam(learning_rate=learning_rate),\n",
        "                metrics=METRICS)\n",
        "\n",
        "# Training the model\n",
        "log_smote = model_SMOTE.fit(X_train_synth, y_train_synth, \n",
        "                    epochs=40, # Using an arbetrary number of epochs\n",
        "                    validation_data=(X_valid_synth, y_valid_synth))\n",
        "\n",
        "# Saving the model\n",
        "model_SMOTE.save(\"smote_data_model.h5\")"
      ]
    },
    {
      "cell_type": "markdown",
      "metadata": {
        "id": "B9te0y27UD0l"
      },
      "source": [
        "Plotting the training loss and validation loss over the epoch runs.\n",
        "</br>\n",
        "The validation loss is higher than the training loss, which is an indication of overfitting. This might be the case because in our tuning of the hyperparameters we try to maxmize the precision and not validation loss.\n",
        "The intention of the model is to identify and predicting insurance fraud. When working with frauds it is important to identify fraud, but also not predict fraud when there is no fraud. Focus on the prediction metrics will result in a model which is predicting actual fraud, but not false positives. \n"
      ]
    },
    {
      "cell_type": "code",
      "execution_count": 59,
      "metadata": {
        "id": "o-7Z8_MhUD0m",
        "colab": {
          "base_uri": "https://localhost:8080/",
          "height": 730
        },
        "outputId": "85032d6d-e292-4ec7-ee2a-a4f99486587d"
      },
      "outputs": [
        {
          "output_type": "display_data",
          "data": {
            "image/png": "[encoded data removed]",
            "text/plain": [
              "<Figure size 864x864 with 1 Axes>"
            ]
          },
          "metadata": {
            "needs_background": "light"
          }
        }
      ],
      "source": [
        "plt.figure(figsize=(12,12))\n",
        "plt.plot(log_smote.history['loss'])\n",
        "plt.plot(log_smote.history['val_loss'])\n",
        "plt.xlabel('Epochs')\n",
        "plt.ylabel('Loss')\n",
        "plt.title('Loss over epochs')\n",
        "plt.legend(['loss', 'val_loss'])\n",
        "plt.show()"
      ]
    },
    {
      "cell_type": "markdown",
      "metadata": {
        "id": "-n-OXAutUD0m"
      },
      "source": [
        "### Evaluate final SMOTE model\n",
        "\n",
        "Evaluating the results of the model on Smote data. We can already see that the Smote model is performing a lot better than the initial model with imbalanced data.  "
      ]
    },
    {
      "cell_type": "code",
      "execution_count": 60,
      "metadata": {
        "id": "Av1oIMCjUD0n",
        "colab": {
          "base_uri": "https://localhost:8080/"
        },
        "outputId": "de00135f-54d6-4222-f62a-6acae01acb86"
      },
      "outputs": [
        {
          "output_type": "stream",
          "name": "stdout",
          "text": [
            "54/54 [==============================] - 1s 3ms/step - loss: 0.0988 - tp: 14.0000 - fp: 7.0000 - tn: 1703.0000 - fn: 4.0000 - accuracy: 0.9936 - precision: 0.6667 - recall: 0.7778 - auc: 0.8846 - prc: 0.4389\n"
          ]
        },
        {
          "output_type": "execute_result",
          "data": {
            "text/plain": [
              "[0.09883252531290054,\n",
              " 14.0,\n",
              " 7.0,\n",
              " 1703.0,\n",
              " 4.0,\n",
              " 0.9936342835426331,\n",
              " 0.6666666865348816,\n",
              " 0.7777777910232544,\n",
              " 0.8845516443252563,\n",
              " 0.4388836920261383]"
            ]
          },
          "metadata": {},
          "execution_count": 60
        }
      ],
      "source": [
        "model_SMOTE.evaluate(X_test_norm, y_test)"
      ]
    },
    {
      "cell_type": "markdown",
      "metadata": {
        "id": "qcXsPeW1UD0o"
      },
      "source": [
        "## Confusion matrix of the SMOTE model"
      ]
    },
    {
      "cell_type": "markdown",
      "metadata": {
        "id": "dNAbxX9_UD0o"
      },
      "source": [
        "A confusion matrix is a good method to visualize the results of our model, and how well it works as a model for predictions. \n",
        "</br>\n",
        "The results obtained are based on prediction on original data and have not been seen by the model before.\n",
        "\n",
        "As we see in the confusion matrix, the model is performing well in terms of predicting frauds. The number of false negatives or false posivies are low.\n",
        "\n",
        "The conclution of using a model trained on SMOTE data to handle imbalanced dataset, is that this model is performing significantly better than the initial model trained on imbalanced data."
      ]
    },
    {
      "cell_type": "code",
      "execution_count": 61,
      "metadata": {
        "id": "KNqvFMofUD0o"
      },
      "outputs": [],
      "source": [
        "Y_pred=model_SMOTE.predict(X_test_norm)\n",
        "Y_pred = np.where(Y_pred > 0.5, 1, 0)"
      ]
    },
    {
      "cell_type": "code",
      "execution_count": 62,
      "metadata": {
        "colab": {
          "base_uri": "https://localhost:8080/",
          "height": 730
        },
        "id": "G4FhMkxhUD0p",
        "outputId": "15309ff3-38ea-4a09-ff57-36a1cc67a177"
      },
      "outputs": [
        {
          "output_type": "display_data",
          "data": {
            "image/png": "[encoded data removed]",
            "text/plain": [
              "<Figure size 864x864 with 2 Axes>"
            ]
          },
          "metadata": {
            "needs_background": "light"
          }
        }
      ],
      "source": [
        "labels= ['Normal', 'Fraud'] \n",
        "conf_matrix=confusion_matrix(y_test, Y_pred) \n",
        "plt.figure(figsize=(12, 12)) \n",
        "sns.heatmap(conf_matrix, xticklabels= labels, yticklabels= labels, annot=True, fmt=\"d\")\n",
        "plt.title(\"SMOTE Model - Confusion Matrix\") \n",
        "plt.ylabel('True Value') \n",
        "plt.xlabel('Predicted Value') \n",
        "plt.show()"
      ]
    },
    {
      "cell_type": "markdown",
      "metadata": {
        "id": "MyDcIheAUD0p"
      },
      "source": [
        "### AUC curve for SMOTE model\n",
        "\n",
        "Plotting the AUC curve helps us inspect the performance of our SMOTE trained model. \n",
        "\n",
        "A well performing model should have an AUC (marked with a blue curve in the plot) that is stretching to the top left corner of the plot. We can see that the AUC for our Smote model have an AUC that is significantly better than random classification (marked with a red dashed curve in the plot)."
      ]
    },
    {
      "cell_type": "code",
      "execution_count": 63,
      "metadata": {
        "colab": {
          "base_uri": "https://localhost:8080/",
          "height": 525
        },
        "id": "UIt4fOUTUD0q",
        "outputId": "6ed916e4-5423-403e-9436-a3b8c608635f"
      },
      "outputs": [
        {
          "output_type": "execute_result",
          "data": {
            "text/plain": [
              "<function matplotlib.pyplot.show>"
            ]
          },
          "metadata": {},
          "execution_count": 63
        },
        {
          "output_type": "display_data",
          "data": {
            "image/png": "[encoded data removed]",
            "text/plain": [
              "<Figure size 1008x576 with 1 Axes>"
            ]
          },
          "metadata": {
            "needs_background": "light"
          }
        }
      ],
      "source": [
        "Y_pred_ravel=model_SMOTE.predict(X_test_norm).ravel()\n",
        "\n",
        "nn_fpr_keras, nn_tpr_keras, nn_threshold_keras = roc_curve(y_test, Y_pred_ravel)\n",
        "auc_keras = auc(nn_fpr_keras,nn_tpr_keras)\n",
        "\n",
        "plt.figure(figsize=(14,8))\n",
        "plt.plot(nn_fpr_keras, nn_tpr_keras, marker=\".\",label='SMOTE Neural Network (auc = %0.3f)'% auc_keras)\n",
        "plt.plot([0, 1], [0, 1], linestyle='--', color='red', label='Random Classifier')   \n",
        "plt.title(\"AUC with neural network trained on SMOTE data\", size=24)\n",
        "plt.legend()\n",
        "plt.show"
      ]
    },
    {
      "cell_type": "markdown",
      "source": [
        "As expected, we see an improvement in the AUC curve. As a prediction model, it works better in comparison to the previous model by classifying the fraudulent claims with high precision. The small decrease in accuracy is also as expected. This is because there is higher variation in the training data with the enhanced dataset."
      ],
      "metadata": {
        "id": "hCiZjsV1jsCo"
      }
    },
    {
      "cell_type": "markdown",
      "metadata": {
        "id": "y2L9GfBpUD0r"
      },
      "source": [
        "# Question 6\n",
        "**Question:** </br>\n",
        "*Using the original data, create a training and set that contains only non-fraudulent\n",
        "claims, as well as validation and test sets that contain non-fraudulent and fraudulent\n",
        "claims. Make sure to spread fraudulent claims evenly across validation and test sets.*"
      ]
    },
    {
      "cell_type": "markdown",
      "metadata": {
        "id": "TeBrLp-0zIRP"
      },
      "source": [
        "Split the data"
      ]
    },
    {
      "cell_type": "code",
      "execution_count": 64,
      "metadata": {
        "colab": {
          "base_uri": "https://localhost:8080/"
        },
        "id": "1Qrhd1_HzIRQ",
        "outputId": "505b24cb-a91b-4c25-8445-f65d559251e9"
      },
      "outputs": [
        {
          "output_type": "stream",
          "name": "stderr",
          "text": [
            "/usr/local/lib/python3.7/dist-packages/ipykernel_launcher.py:9: FutureWarning: In a future version of pandas all arguments of DataFrame.drop except for the argument 'labels' will be keyword-only\n",
            "  if __name__ == '__main__':\n"
          ]
        }
      ],
      "source": [
        "# Non fraudulant claims\n",
        "non_fraud = df[df.Fraud == 0]\n",
        "# Fraudulant claims\n",
        "fraud = df[df.Fraud == 1]\n",
        "\n",
        "# Selecting 50 % of the non fraudulant dataset as training set\n",
        "encode_training = non_fraud.sample(frac = 0.5) # For training\n",
        "# Deleting the fraud output column from the training set\n",
        "encode_training = encode_training.drop('Fraud', 1)\n",
        "\n",
        "# Selecting 50 % of the non fraudulant dataset as validation and testing set\n",
        "encode_valid_test = non_fraud.drop(encode_training.index)\n",
        "# Inserting the fraudulant claims to the validation and testing set\n",
        "encode_valid_test = pd.concat([encode_valid_test, fraud]) # For validation and testing / Use train split"
      ]
    },
    {
      "cell_type": "markdown",
      "metadata": {
        "id": "_Cm9qhcQzIRR"
      },
      "source": [
        "Split to test and validate"
      ]
    },
    {
      "cell_type": "code",
      "execution_count": 65,
      "metadata": {
        "colab": {
          "base_uri": "https://localhost:8080/"
        },
        "id": "jWKQ63-kzIRR",
        "outputId": "8b1b7944-302c-46a3-8b01-b6e080323bcb"
      },
      "outputs": [
        {
          "output_type": "stream",
          "name": "stdout",
          "text": [
            "(2909, 70)\n",
            "(2909, 70)\n"
          ]
        }
      ],
      "source": [
        "X_valid_encode, X_test_encode, y_valid_encode, y_test_encode = train_test_split(encode_valid_test.loc[:, encode_valid_test.columns != 'Fraud'], encode_valid_test['Fraud'], train_size=0.5, random_state=222)\n",
        "print(X_valid_encode.shape)\n",
        "print(X_test_encode.shape)"
      ]
    },
    {
      "cell_type": "markdown",
      "metadata": {
        "id": "0PZ8x1p5zIRR"
      },
      "source": [
        "Normalize data"
      ]
    },
    {
      "cell_type": "code",
      "execution_count": 66,
      "metadata": {
        "id": "5KMHywuZzIRS"
      },
      "outputs": [],
      "source": [
        "normalizer = MinMaxScaler().fit(encode_training)\n",
        "\n",
        "# transform training data\n",
        "X_train_encode_norm = normalizer.transform(encode_training)\n",
        "\n",
        "# transform training data\n",
        "X_valid_encode_norm = normalizer.transform(X_valid_encode)\n",
        "\n",
        "# transform testing dataabs\n",
        "X_test_encode_norm = normalizer.transform(X_test_encode)"
      ]
    },
    {
      "cell_type": "markdown",
      "metadata": {
        "id": "lubWW86pUD0t"
      },
      "source": [
        "# Question 7\n",
        "**Question:** </br>\n",
        "*Using TensorFlow, create an autoencoder, ensuring that the middle hidden layer has\n",
        "fewer neurons than your input has features. Use training and validation sets to find a\n",
        "model that represents its input data well. In particular, you will want to predict your\n",
        "validation set observations. For each observation, you can measure the difference\n",
        "between the original observations and the predicted one, using, for example, the mean\n",
        "squared error of all features of the observation. Plot the errors for all your validation set\n",
        "observations in a histogram - in a good model, this error should be much higher for\n",
        "fraudulent claims than non-fraudulent ones.*"
      ]
    },
    {
      "cell_type": "markdown",
      "metadata": {
        "id": "mdiGQQUpzIRT"
      },
      "source": [
        "## Create Encoding model"
      ]
    },
    {
      "cell_type": "markdown",
      "metadata": {
        "id": "nz4ys1gJnMzQ"
      },
      "source": [
        "An autoencoder is an unsupervised machine learning model that is used to recreate output values that are similar to the input values. The autoencoder contains two parts: \n",
        "\n",
        "Encoder: The encoding process compresses the input values to get to the core layer. \n",
        "\n",
        "Decoder: The decoding process reconstructs the information to produce the outcome.\n",
        "\n",
        "As the number of neurons are less than the input features, the model learns to extract the useful information from the input to reduce the \"noise\". \n",
        "\n",
        "The application for an autoencoder for this dataset is typical to anomaly detection. The model is first trained only on non-fraud cases which allows it to learn what a typical non-fraud input looks like. Then we calculate the reconstruction loss, which is the loss between the the actual input and the encoded output, which should be representative of the input. We then test the model on a dataset that contains both fraud and non-fraud cases. We hypothesise that the loss should be low for non-fraud cases as the model has only learned from non-fraud cases. But in the case of fraud, the reconstruction error should be high, as the model has not learned what fraud data should look like. In our case, the anomaly is the fraud case. "
      ]
    },
    {
      "cell_type": "markdown",
      "metadata": {
        "id": "gacxWDl5zIRU"
      },
      "source": [
        "Clean session"
      ]
    },
    {
      "cell_type": "code",
      "execution_count": 67,
      "metadata": {
        "id": "Qk2IKGBCzIRU"
      },
      "outputs": [],
      "source": [
        "tf.keras.backend.clear_session()\n",
        "np.random.seed(735)\n",
        "tf.random.set_seed(428)"
      ]
    },
    {
      "cell_type": "markdown",
      "metadata": {
        "id": "T0Uhv9e_zIRV"
      },
      "source": [
        "Regularization parameter"
      ]
    },
    {
      "cell_type": "code",
      "execution_count": 68,
      "metadata": {
        "id": "-SywEmLhzIRV"
      },
      "outputs": [],
      "source": [
        "reg_param = 0.001\n",
        "regularizer = tf.keras.regularizers.l1(reg_param)"
      ]
    },
    {
      "cell_type": "markdown",
      "metadata": {
        "id": "kKJgyvplzIRV"
      },
      "source": [
        "Create encoding model"
      ]
    },
    {
      "cell_type": "code",
      "execution_count": 69,
      "metadata": {
        "colab": {
          "base_uri": "https://localhost:8080/"
        },
        "id": "9SAlAsb4zIRV",
        "outputId": "fd95c693-4e8c-4946-d950-54b0b9d552d3"
      },
      "outputs": [
        {
          "output_type": "stream",
          "name": "stdout",
          "text": [
            "Model: \"sequential_2\"\n",
            "_________________________________________________________________\n",
            " Layer (type)                Output Shape              Param #   \n",
            "=================================================================\n",
            " sequential (Sequential)     (None, 20)                5700      \n",
            "                                                                 \n",
            " sequential_1 (Sequential)   (None, 70)                5750      \n",
            "                                                                 \n",
            "=================================================================\n",
            "Total params: 11,450\n",
            "Trainable params: 11,450\n",
            "Non-trainable params: 0\n",
            "_________________________________________________________________\n"
          ]
        }
      ],
      "source": [
        "encoder = tf.keras.Sequential([\n",
        "    tf.keras.layers.Dense(50, activation=\"relu\", input_shape=[X_train_encode_norm.shape[1]]),\n",
        "    tf.keras.layers.Dropout(0.2),\n",
        "    tf.keras.layers.Dense(30, activation=\"relu\"),\n",
        "    #tf.keras.layers.Dropout(0.2),\n",
        "    tf.keras.layers.Dense(20, activation=\"tanh\")\n",
        "    ])\n",
        "\n",
        "decoder = tf.keras.Sequential([\n",
        "    tf.keras.layers.Dense(30, activation=\"relu\", input_shape = (20,)),\n",
        "    tf.keras.layers.Dropout(0.2),\n",
        "    tf.keras.layers.Dense(50, activation=\"relu\"),\n",
        "    tf.keras.layers.Dropout(0.2),\n",
        "    tf.keras.layers.Dense(X_train_encode_norm.shape[1], activation=\"sigmoid\")\n",
        "    ])\n",
        "\n",
        "autoencoder = tf.keras.Sequential([encoder,decoder])\n",
        "autoencoder.summary()"
      ]
    },
    {
      "cell_type": "markdown",
      "metadata": {
        "id": "cfJbGXG5zIRW"
      },
      "source": [
        "Compile the model"
      ]
    },
    {
      "cell_type": "code",
      "execution_count": 70,
      "metadata": {
        "id": "9BYNLz4SzIRW"
      },
      "outputs": [],
      "source": [
        "autoencoder.compile(loss='mse', optimizer=tf.keras.optimizers.Adam(), metrics=['accuracy'])"
      ]
    },
    {
      "cell_type": "markdown",
      "metadata": {
        "id": "dfq7ackmzIRX"
      },
      "source": [
        "Fit model"
      ]
    },
    {
      "cell_type": "code",
      "execution_count": 71,
      "metadata": {
        "colab": {
          "base_uri": "https://localhost:8080/"
        },
        "id": "txiYcUZYzIRX",
        "outputId": "28a0c29b-a18d-4e6d-f428-10547d231a3b"
      },
      "outputs": [
        {
          "output_type": "stream",
          "name": "stdout",
          "text": [
            "Epoch 1/30\n",
            "179/179 [==============================] - 2s 4ms/step - loss: 0.0822 - accuracy: 0.0773 - val_loss: 0.0443 - val_accuracy: 0.0000e+00\n",
            "Epoch 2/30\n",
            "179/179 [==============================] - 1s 4ms/step - loss: 0.0449 - accuracy: 0.0189 - val_loss: 0.0396 - val_accuracy: 0.0014\n",
            "Epoch 3/30\n",
            "179/179 [==============================] - 1s 3ms/step - loss: 0.0397 - accuracy: 0.0268 - val_loss: 0.0342 - val_accuracy: 0.0100\n",
            "Epoch 4/30\n",
            "179/179 [==============================] - 1s 3ms/step - loss: 0.0356 - accuracy: 0.0398 - val_loss: 0.0307 - val_accuracy: 0.0461\n",
            "Epoch 5/30\n",
            "179/179 [==============================] - 1s 3ms/step - loss: 0.0328 - accuracy: 0.0414 - val_loss: 0.0283 - val_accuracy: 0.0234\n",
            "Epoch 6/30\n",
            "179/179 [==============================] - 1s 3ms/step - loss: 0.0309 - accuracy: 0.0354 - val_loss: 0.0268 - val_accuracy: 0.0193\n",
            "Epoch 7/30\n",
            "179/179 [==============================] - 1s 3ms/step - loss: 0.0295 - accuracy: 0.0366 - val_loss: 0.0258 - val_accuracy: 0.0261\n",
            "Epoch 8/30\n",
            "179/179 [==============================] - 1s 3ms/step - loss: 0.0287 - accuracy: 0.0368 - val_loss: 0.0253 - val_accuracy: 0.0423\n",
            "Epoch 9/30\n",
            "179/179 [==============================] - 1s 3ms/step - loss: 0.0281 - accuracy: 0.0466 - val_loss: 0.0248 - val_accuracy: 0.0220\n",
            "Epoch 10/30\n",
            "179/179 [==============================] - 1s 3ms/step - loss: 0.0276 - accuracy: 0.0507 - val_loss: 0.0244 - val_accuracy: 0.0220\n",
            "Epoch 11/30\n",
            "179/179 [==============================] - 1s 3ms/step - loss: 0.0271 - accuracy: 0.0577 - val_loss: 0.0240 - val_accuracy: 0.0413\n",
            "Epoch 12/30\n",
            "179/179 [==============================] - 1s 3ms/step - loss: 0.0268 - accuracy: 0.0621 - val_loss: 0.0236 - val_accuracy: 0.0488\n",
            "Epoch 13/30\n",
            "179/179 [==============================] - 1s 3ms/step - loss: 0.0265 - accuracy: 0.0670 - val_loss: 0.0234 - val_accuracy: 0.0382\n",
            "Epoch 14/30\n",
            "179/179 [==============================] - 1s 3ms/step - loss: 0.0262 - accuracy: 0.0687 - val_loss: 0.0231 - val_accuracy: 0.0536\n",
            "Epoch 15/30\n",
            "179/179 [==============================] - 1s 3ms/step - loss: 0.0258 - accuracy: 0.0729 - val_loss: 0.0228 - val_accuracy: 0.0619\n",
            "Epoch 16/30\n",
            "179/179 [==============================] - 1s 3ms/step - loss: 0.0255 - accuracy: 0.0775 - val_loss: 0.0224 - val_accuracy: 0.0688\n",
            "Epoch 17/30\n",
            "179/179 [==============================] - 1s 3ms/step - loss: 0.0252 - accuracy: 0.0705 - val_loss: 0.0222 - val_accuracy: 0.0571\n",
            "Epoch 18/30\n",
            "179/179 [==============================] - 1s 3ms/step - loss: 0.0249 - accuracy: 0.0770 - val_loss: 0.0221 - val_accuracy: 0.0760\n",
            "Epoch 19/30\n",
            "179/179 [==============================] - 1s 3ms/step - loss: 0.0248 - accuracy: 0.0768 - val_loss: 0.0217 - val_accuracy: 0.0639\n",
            "Epoch 20/30\n",
            "179/179 [==============================] - 1s 3ms/step - loss: 0.0246 - accuracy: 0.0847 - val_loss: 0.0215 - val_accuracy: 0.0866\n",
            "Epoch 21/30\n",
            "179/179 [==============================] - 1s 3ms/step - loss: 0.0243 - accuracy: 0.0889 - val_loss: 0.0213 - val_accuracy: 0.0883\n",
            "Epoch 22/30\n",
            "179/179 [==============================] - 1s 3ms/step - loss: 0.0240 - accuracy: 0.0845 - val_loss: 0.0211 - val_accuracy: 0.0743\n",
            "Epoch 23/30\n",
            "179/179 [==============================] - 1s 3ms/step - loss: 0.0238 - accuracy: 0.0899 - val_loss: 0.0209 - val_accuracy: 0.0791\n",
            "Epoch 24/30\n",
            "179/179 [==============================] - 1s 3ms/step - loss: 0.0236 - accuracy: 0.0875 - val_loss: 0.0207 - val_accuracy: 0.0859\n",
            "Epoch 25/30\n",
            "179/179 [==============================] - 1s 3ms/step - loss: 0.0234 - accuracy: 0.0842 - val_loss: 0.0206 - val_accuracy: 0.0770\n",
            "Epoch 26/30\n",
            "179/179 [==============================] - 1s 3ms/step - loss: 0.0234 - accuracy: 0.0873 - val_loss: 0.0204 - val_accuracy: 0.0798\n",
            "Epoch 27/30\n",
            "179/179 [==============================] - 1s 3ms/step - loss: 0.0233 - accuracy: 0.0955 - val_loss: 0.0203 - val_accuracy: 0.0722\n",
            "Epoch 28/30\n",
            "179/179 [==============================] - 1s 4ms/step - loss: 0.0233 - accuracy: 0.0931 - val_loss: 0.0203 - val_accuracy: 0.0849\n",
            "Epoch 29/30\n",
            "179/179 [==============================] - 1s 3ms/step - loss: 0.0230 - accuracy: 0.1006 - val_loss: 0.0202 - val_accuracy: 0.0798\n",
            "Epoch 30/30\n",
            "179/179 [==============================] - 1s 3ms/step - loss: 0.0227 - accuracy: 0.1012 - val_loss: 0.0200 - val_accuracy: 0.0718\n"
          ]
        }
      ],
      "source": [
        "history = autoencoder.fit(x=X_train_encode_norm, y=X_train_encode_norm,\n",
        "                epochs=30,\n",
        "                batch_size=32,\n",
        "                validation_data=(X_valid_encode_norm, X_valid_encode_norm))\n",
        "                #shuffle=True)\n",
        "\n",
        "# Saving the model\n",
        "autoencoder.save(\"autoencoder_data_model.h5\")"
      ]
    },
    {
      "cell_type": "markdown",
      "metadata": {
        "id": "uER6yB7TzIRX"
      },
      "source": [
        "Plot the losses"
      ]
    },
    {
      "cell_type": "code",
      "execution_count": 72,
      "metadata": {
        "colab": {
          "base_uri": "https://localhost:8080/",
          "height": 279
        },
        "id": "UwioBcgkzIRX",
        "outputId": "50cc9467-dc5a-4941-9256-d03d52a72e97"
      },
      "outputs": [
        {
          "output_type": "display_data",
          "data": {
            "image/png": "[encoded data removed]",
            "text/plain": [
              "<Figure size 432x288 with 1 Axes>"
            ]
          },
          "metadata": {
            "needs_background": "light"
          }
        }
      ],
      "source": [
        "plt.plot(history.history['loss'])\n",
        "plt.plot(history.history['val_loss'])\n",
        "plt.xlabel('Epochs')\n",
        "plt.ylabel('MSE Loss')\n",
        "plt.legend(['loss', 'val_loss'])\n",
        "plt.show()"
      ]
    },
    {
      "cell_type": "markdown",
      "metadata": {
        "id": "WF--qCVZgqMg"
      },
      "source": [
        "The above graph represents the mean of squares of errors between labels and predictions. Observing the shape of the lines, helps us interpret that the learning rate schedule and decay is optimal as it starts high reduces as we move down on the curve. \n",
        "\n",
        "To tune the model, we tested the accuracy of the model by changing the following parameters:\n",
        "\n",
        "1. Changing dropout rates\n",
        "2. Changing activation functions\n",
        "3. Chaning regularization parameters"
      ]
    },
    {
      "cell_type": "code",
      "execution_count": 73,
      "metadata": {
        "colab": {
          "base_uri": "https://localhost:8080/"
        },
        "id": "2R2rL1bpzIRY",
        "outputId": "548ee662-3d64-459c-a065-b5e541cf03cb"
      },
      "outputs": [
        {
          "output_type": "stream",
          "name": "stdout",
          "text": [
            "Threshold: 0.01637536566054256\n",
            "Accuracy: 0.16328635269852182\n"
          ]
        }
      ],
      "source": [
        "#Find Threshold\n",
        "def find_threshold(autoencoder, X_train_encoded_norm):\n",
        "  reconstructions = autoencoder.predict(X_train_encoded_norm)\n",
        "  # provides losses of individual instances\n",
        "  reconstruction_errors = tf.keras.losses.msle(reconstructions, X_train_encoded_norm)\n",
        "  # threshold for anomaly scores\n",
        "  threshold = np.mean(reconstruction_errors.numpy()) \\\n",
        "      + np.std(reconstruction_errors.numpy())\n",
        "  return threshold\n",
        "\n",
        "# Get predictions\n",
        "def get_predictions(autoencoder, X_test_encode_norm, threshold):\n",
        "  predictions = autoencoder.predict(X_test_encode_norm)\n",
        "  # provides losses of individual instances\n",
        "  errors = tf.keras.losses.msle(predictions, X_test_encode_norm)\n",
        "  # 0 = anomaly, 1 = normal\n",
        "  anomaly_mask = pd.Series(errors) > threshold\n",
        "  preds = anomaly_mask.map(lambda x: 0.0 if x == True else 1.0)\n",
        "  return preds\n",
        "\n",
        "\n",
        "\n",
        "threshold = find_threshold(autoencoder, X_test_encode_norm)\n",
        "print(f\"Threshold: {threshold}\")\n",
        "# Threshold: 0.01001314025746261\n",
        "predictions = get_predictions(autoencoder, X_test_encode_norm, threshold)\n",
        "accuracy_score(predictions, y_test_encode)\n",
        "print(\"Accuracy:\", accuracy_score(predictions, y_test_encode))"
      ]
    },
    {
      "cell_type": "markdown",
      "metadata": {
        "id": "6UboYzBkOJsx"
      },
      "source": [
        "For the fraud detection method, the mean and standard deviation of the reconsruction errors are calculated. If an error is 1 standard deviation away from the mean, that data point is identified as an anomaly which in our case is the a fraud."
      ]
    },
    {
      "cell_type": "code",
      "execution_count": 74,
      "metadata": {
        "colab": {
          "base_uri": "https://localhost:8080/",
          "height": 300
        },
        "id": "C2peTYItUD00",
        "outputId": "bf491bdd-7361-4bb7-c0c2-7d6676c69b28"
      },
      "outputs": [
        {
          "output_type": "execute_result",
          "data": {
            "text/html": [
              "\n",
              "  <div id=\"df-fa3fc0f9-06ba-409b-b018-20e0e51fafa8\">\n",
              "    <div class=\"colab-df-container\">\n",
              "      <div>\n",
              "<style scoped>\n",
              "    .dataframe tbody tr th:only-of-type {\n",
              "        vertical-align: middle;\n",
              "    }\n",
              "\n",
              "    .dataframe tbody tr th {\n",
              "        vertical-align: top;\n",
              "    }\n",
              "\n",
              "    .dataframe thead th {\n",
              "        text-align: right;\n",
              "    }\n",
              "</style>\n",
              "<table border=\"1\" class=\"dataframe\">\n",
              "  <thead>\n",
              "    <tr style=\"text-align: right;\">\n",
              "      <th></th>\n",
              "      <th>reconstruction_error</th>\n",
              "      <th>true_class</th>\n",
              "    </tr>\n",
              "  </thead>\n",
              "  <tbody>\n",
              "    <tr>\n",
              "      <th>count</th>\n",
              "      <td>2909.000000</td>\n",
              "      <td>2909.000000</td>\n",
              "    </tr>\n",
              "    <tr>\n",
              "      <th>mean</th>\n",
              "      <td>0.020026</td>\n",
              "      <td>0.019594</td>\n",
              "    </tr>\n",
              "    <tr>\n",
              "      <th>std</th>\n",
              "      <td>0.013019</td>\n",
              "      <td>0.138626</td>\n",
              "    </tr>\n",
              "    <tr>\n",
              "      <th>min</th>\n",
              "      <td>0.001746</td>\n",
              "      <td>0.000000</td>\n",
              "    </tr>\n",
              "    <tr>\n",
              "      <th>25%</th>\n",
              "      <td>0.009706</td>\n",
              "      <td>0.000000</td>\n",
              "    </tr>\n",
              "    <tr>\n",
              "      <th>50%</th>\n",
              "      <td>0.016586</td>\n",
              "      <td>0.000000</td>\n",
              "    </tr>\n",
              "    <tr>\n",
              "      <th>75%</th>\n",
              "      <td>0.027337</td>\n",
              "      <td>0.000000</td>\n",
              "    </tr>\n",
              "    <tr>\n",
              "      <th>max</th>\n",
              "      <td>0.088989</td>\n",
              "      <td>1.000000</td>\n",
              "    </tr>\n",
              "  </tbody>\n",
              "</table>\n",
              "</div>\n",
              "      <button class=\"colab-df-convert\" onclick=\"convertToInteractive('df-fa3fc0f9-06ba-409b-b018-20e0e51fafa8')\"\n",
              "              title=\"Convert this dataframe to an interactive table.\"\n",
              "              style=\"display:none;\">\n",
              "        \n",
              "  <svg xmlns=\"http://www.w3.org/2000/svg\" height=\"24px\"viewBox=\"0 0 24 24\"\n",
              "       width=\"24px\">\n",
              "    <path d=\"M0 0h24v24H0V0z\" fill=\"none\"/>\n",
              "    <path d=\"M18.56 5.44l.94 2.06.94-2.06 2.06-.94-2.06-.94-.94-2.06-.94 2.06-2.06.94zm-11 1L8.5 8.5l.94-2.06 2.06-.94-2.06-.94L8.5 2.5l-.94 2.06-2.06.94zm10 10l.94 2.06.94-2.06 2.06-.94-2.06-.94-.94-2.06-.94 2.06-2.06.94z\"/><path d=\"M17.41 7.96l-1.37-1.37c-.4-.4-.92-.59-1.43-.59-.52 0-1.04.2-1.43.59L10.3 9.45l-7.72 7.72c-.78.78-.78 2.05 0 2.83L4 21.41c.39.39.9.59 1.41.59.51 0 1.02-.2 1.41-.59l7.78-7.78 2.81-2.81c.8-.78.8-2.07 0-2.86zM5.41 20L4 18.59l7.72-7.72 1.47 1.35L5.41 20z\"/>\n",
              "  </svg>\n",
              "      </button>\n",
              "      \n",
              "  <style>\n",
              "    .colab-df-container {\n",
              "      display:flex;\n",
              "      flex-wrap:wrap;\n",
              "      gap: 12px;\n",
              "    }\n",
              "\n",
              "    .colab-df-convert {\n",
              "      background-color: #E8F0FE;\n",
              "      border: none;\n",
              "      border-radius: 50%;\n",
              "      cursor: pointer;\n",
              "      display: none;\n",
              "      fill: #1967D2;\n",
              "      height: 32px;\n",
              "      padding: 0 0 0 0;\n",
              "      width: 32px;\n",
              "    }\n",
              "\n",
              "    .colab-df-convert:hover {\n",
              "      background-color: #E2EBFA;\n",
              "      box-shadow: 0px 1px 2px rgba(60, 64, 67, 0.3), 0px 1px 3px 1px rgba(60, 64, 67, 0.15);\n",
              "      fill: #174EA6;\n",
              "    }\n",
              "\n",
              "    [theme=dark] .colab-df-convert {\n",
              "      background-color: #3B4455;\n",
              "      fill: #D2E3FC;\n",
              "    }\n",
              "\n",
              "    [theme=dark] .colab-df-convert:hover {\n",
              "      background-color: #434B5C;\n",
              "      box-shadow: 0px 1px 3px 1px rgba(0, 0, 0, 0.15);\n",
              "      filter: drop-shadow(0px 1px 2px rgba(0, 0, 0, 0.3));\n",
              "      fill: #FFFFFF;\n",
              "    }\n",
              "  </style>\n",
              "\n",
              "      <script>\n",
              "        const buttonEl =\n",
              "          document.querySelector('#df-fa3fc0f9-06ba-409b-b018-20e0e51fafa8 button.colab-df-convert');\n",
              "        buttonEl.style.display =\n",
              "          google.colab.kernel.accessAllowed ? 'block' : 'none';\n",
              "\n",
              "        async function convertToInteractive(key) {\n",
              "          const element = document.querySelector('#df-fa3fc0f9-06ba-409b-b018-20e0e51fafa8');\n",
              "          const dataTable =\n",
              "            await google.colab.kernel.invokeFunction('convertToInteractive',\n",
              "                                                     [key], {});\n",
              "          if (!dataTable) return;\n",
              "\n",
              "          const docLinkHtml = 'Like what you see? Visit the ' +\n",
              "            '<a target=\"_blank\" href=https://colab.research.google.com/notebooks/data_table.ipynb>data table notebook</a>'\n",
              "            + ' to learn more about interactive tables.';\n",
              "          element.innerHTML = '';\n",
              "          dataTable['output_type'] = 'display_data';\n",
              "          await google.colab.output.renderOutput(dataTable, element);\n",
              "          const docLink = document.createElement('div');\n",
              "          docLink.innerHTML = docLinkHtml;\n",
              "          element.appendChild(docLink);\n",
              "        }\n",
              "      </script>\n",
              "    </div>\n",
              "  </div>\n",
              "  "
            ],
            "text/plain": [
              "       reconstruction_error   true_class\n",
              "count           2909.000000  2909.000000\n",
              "mean               0.020026     0.019594\n",
              "std                0.013019     0.138626\n",
              "min                0.001746     0.000000\n",
              "25%                0.009706     0.000000\n",
              "50%                0.016586     0.000000\n",
              "75%                0.027337     0.000000\n",
              "max                0.088989     1.000000"
            ]
          },
          "metadata": {},
          "execution_count": 74
        }
      ],
      "source": [
        "predictions = autoencoder.predict(X_valid_encode_norm) # Test will full dataset\n",
        "mse = np.mean(np.power(X_valid_encode_norm - predictions, 2), axis=1)\n",
        "error_df = pd.DataFrame({'reconstruction_error': mse,\n",
        "                        'true_class': y_valid_encode})\n",
        "error_df.describe()"
      ]
    },
    {
      "cell_type": "markdown",
      "metadata": {
        "id": "0OV6pK1QzIRY"
      },
      "source": [
        "### Reconstruction error on the validation data"
      ]
    },
    {
      "cell_type": "code",
      "execution_count": 75,
      "metadata": {
        "colab": {
          "base_uri": "https://localhost:8080/",
          "height": 483
        },
        "id": "UChhY_11UD01",
        "outputId": "550d9490-d09e-4f7f-946a-63681b04338f"
      },
      "outputs": [
        {
          "output_type": "display_data",
          "data": {
            "image/png": "[encoded data removed]",
            "text/plain": [
              "<Figure size 1080x576 with 2 Axes>"
            ]
          },
          "metadata": {
            "needs_background": "light"
          }
        }
      ],
      "source": [
        "fig = plt.figure(figsize=(15,8))\n",
        "ax = fig.add_subplot(121)\n",
        "normal_error_df = error_df[(error_df['true_class']== 0) & (error_df['reconstruction_error'] < 10)]\n",
        "_ = ax.hist(normal_error_df.reconstruction_error.values, bins=10, color = \"green\", alpha = 0.5)\n",
        "\n",
        "ax1 = fig.add_subplot(122)\n",
        "fraud_error_df = error_df[error_df['true_class'] == 1]\n",
        "_ = ax1.hist(fraud_error_df.reconstruction_error.values, bins=10, color = \"red\", alpha = 0.5, range=(0, 0.08))"
      ]
    },
    {
      "cell_type": "markdown",
      "metadata": {
        "id": "D6OTxsKrUD01"
      },
      "source": [
        "# Question 8\n",
        "**Question:** </br>\n",
        "*Use your trained autoencoder to predict the test set and define the corresponding\n",
        "losses. Create a histogram of your test set claims, clearly marking fraudulent and nonfraudulent claims. Discuss how you could use this to decide whether a transaction is\n",
        "fraudulent or not. Can you also derive an AUC in this approach - if yes, how does it\n",
        "perform compared to the previous approaches?*"
      ]
    },
    {
      "cell_type": "markdown",
      "metadata": {
        "id": "jtAN__9kzIRZ"
      },
      "source": [
        "### Reconstruction error on the test data"
      ]
    },
    {
      "cell_type": "code",
      "execution_count": 76,
      "metadata": {
        "colab": {
          "base_uri": "https://localhost:8080/",
          "height": 300
        },
        "id": "pLepqLRLzIRY",
        "outputId": "8c4e77f5-4abf-40e9-d564-d92a0f42eb0c"
      },
      "outputs": [
        {
          "output_type": "execute_result",
          "data": {
            "text/html": [
              "\n",
              "  <div id=\"df-254c3c1d-c744-487d-b22f-0f25498a3fc4\">\n",
              "    <div class=\"colab-df-container\">\n",
              "      <div>\n",
              "<style scoped>\n",
              "    .dataframe tbody tr th:only-of-type {\n",
              "        vertical-align: middle;\n",
              "    }\n",
              "\n",
              "    .dataframe tbody tr th {\n",
              "        vertical-align: top;\n",
              "    }\n",
              "\n",
              "    .dataframe thead th {\n",
              "        text-align: right;\n",
              "    }\n",
              "</style>\n",
              "<table border=\"1\" class=\"dataframe\">\n",
              "  <thead>\n",
              "    <tr style=\"text-align: right;\">\n",
              "      <th></th>\n",
              "      <th>reconstruction_error</th>\n",
              "      <th>true_class</th>\n",
              "    </tr>\n",
              "  </thead>\n",
              "  <tbody>\n",
              "    <tr>\n",
              "      <th>count</th>\n",
              "      <td>2909.000000</td>\n",
              "      <td>2909.000000</td>\n",
              "    </tr>\n",
              "    <tr>\n",
              "      <th>mean</th>\n",
              "      <td>0.019915</td>\n",
              "      <td>0.019938</td>\n",
              "    </tr>\n",
              "    <tr>\n",
              "      <th>std</th>\n",
              "      <td>0.012720</td>\n",
              "      <td>0.139812</td>\n",
              "    </tr>\n",
              "    <tr>\n",
              "      <th>min</th>\n",
              "      <td>0.001950</td>\n",
              "      <td>0.000000</td>\n",
              "    </tr>\n",
              "    <tr>\n",
              "      <th>25%</th>\n",
              "      <td>0.009763</td>\n",
              "      <td>0.000000</td>\n",
              "    </tr>\n",
              "    <tr>\n",
              "      <th>50%</th>\n",
              "      <td>0.016576</td>\n",
              "      <td>0.000000</td>\n",
              "    </tr>\n",
              "    <tr>\n",
              "      <th>75%</th>\n",
              "      <td>0.026853</td>\n",
              "      <td>0.000000</td>\n",
              "    </tr>\n",
              "    <tr>\n",
              "      <th>max</th>\n",
              "      <td>0.082072</td>\n",
              "      <td>1.000000</td>\n",
              "    </tr>\n",
              "  </tbody>\n",
              "</table>\n",
              "</div>\n",
              "      <button class=\"colab-df-convert\" onclick=\"convertToInteractive('df-254c3c1d-c744-487d-b22f-0f25498a3fc4')\"\n",
              "              title=\"Convert this dataframe to an interactive table.\"\n",
              "              style=\"display:none;\">\n",
              "        \n",
              "  <svg xmlns=\"http://www.w3.org/2000/svg\" height=\"24px\"viewBox=\"0 0 24 24\"\n",
              "       width=\"24px\">\n",
              "    <path d=\"M0 0h24v24H0V0z\" fill=\"none\"/>\n",
              "    <path d=\"M18.56 5.44l.94 2.06.94-2.06 2.06-.94-2.06-.94-.94-2.06-.94 2.06-2.06.94zm-11 1L8.5 8.5l.94-2.06 2.06-.94-2.06-.94L8.5 2.5l-.94 2.06-2.06.94zm10 10l.94 2.06.94-2.06 2.06-.94-2.06-.94-.94-2.06-.94 2.06-2.06.94z\"/><path d=\"M17.41 7.96l-1.37-1.37c-.4-.4-.92-.59-1.43-.59-.52 0-1.04.2-1.43.59L10.3 9.45l-7.72 7.72c-.78.78-.78 2.05 0 2.83L4 21.41c.39.39.9.59 1.41.59.51 0 1.02-.2 1.41-.59l7.78-7.78 2.81-2.81c.8-.78.8-2.07 0-2.86zM5.41 20L4 18.59l7.72-7.72 1.47 1.35L5.41 20z\"/>\n",
              "  </svg>\n",
              "      </button>\n",
              "      \n",
              "  <style>\n",
              "    .colab-df-container {\n",
              "      display:flex;\n",
              "      flex-wrap:wrap;\n",
              "      gap: 12px;\n",
              "    }\n",
              "\n",
              "    .colab-df-convert {\n",
              "      background-color: #E8F0FE;\n",
              "      border: none;\n",
              "      border-radius: 50%;\n",
              "      cursor: pointer;\n",
              "      display: none;\n",
              "      fill: #1967D2;\n",
              "      height: 32px;\n",
              "      padding: 0 0 0 0;\n",
              "      width: 32px;\n",
              "    }\n",
              "\n",
              "    .colab-df-convert:hover {\n",
              "      background-color: #E2EBFA;\n",
              "      box-shadow: 0px 1px 2px rgba(60, 64, 67, 0.3), 0px 1px 3px 1px rgba(60, 64, 67, 0.15);\n",
              "      fill: #174EA6;\n",
              "    }\n",
              "\n",
              "    [theme=dark] .colab-df-convert {\n",
              "      background-color: #3B4455;\n",
              "      fill: #D2E3FC;\n",
              "    }\n",
              "\n",
              "    [theme=dark] .colab-df-convert:hover {\n",
              "      background-color: #434B5C;\n",
              "      box-shadow: 0px 1px 3px 1px rgba(0, 0, 0, 0.15);\n",
              "      filter: drop-shadow(0px 1px 2px rgba(0, 0, 0, 0.3));\n",
              "      fill: #FFFFFF;\n",
              "    }\n",
              "  </style>\n",
              "\n",
              "      <script>\n",
              "        const buttonEl =\n",
              "          document.querySelector('#df-254c3c1d-c744-487d-b22f-0f25498a3fc4 button.colab-df-convert');\n",
              "        buttonEl.style.display =\n",
              "          google.colab.kernel.accessAllowed ? 'block' : 'none';\n",
              "\n",
              "        async function convertToInteractive(key) {\n",
              "          const element = document.querySelector('#df-254c3c1d-c744-487d-b22f-0f25498a3fc4');\n",
              "          const dataTable =\n",
              "            await google.colab.kernel.invokeFunction('convertToInteractive',\n",
              "                                                     [key], {});\n",
              "          if (!dataTable) return;\n",
              "\n",
              "          const docLinkHtml = 'Like what you see? Visit the ' +\n",
              "            '<a target=\"_blank\" href=https://colab.research.google.com/notebooks/data_table.ipynb>data table notebook</a>'\n",
              "            + ' to learn more about interactive tables.';\n",
              "          element.innerHTML = '';\n",
              "          dataTable['output_type'] = 'display_data';\n",
              "          await google.colab.output.renderOutput(dataTable, element);\n",
              "          const docLink = document.createElement('div');\n",
              "          docLink.innerHTML = docLinkHtml;\n",
              "          element.appendChild(docLink);\n",
              "        }\n",
              "      </script>\n",
              "    </div>\n",
              "  </div>\n",
              "  "
            ],
            "text/plain": [
              "       reconstruction_error   true_class\n",
              "count           2909.000000  2909.000000\n",
              "mean               0.019915     0.019938\n",
              "std                0.012720     0.139812\n",
              "min                0.001950     0.000000\n",
              "25%                0.009763     0.000000\n",
              "50%                0.016576     0.000000\n",
              "75%                0.026853     0.000000\n",
              "max                0.082072     1.000000"
            ]
          },
          "metadata": {},
          "execution_count": 76
        }
      ],
      "source": [
        "predictions = autoencoder.predict(X_test_encode_norm) # Test will full dataset\n",
        "mse = np.mean(np.power(X_test_encode_norm - predictions, 2), axis=1)\n",
        "error_df1 = pd.DataFrame({'reconstruction_error': mse,\n",
        "                        'true_class': y_test_encode})\n",
        "error_df1.describe()"
      ]
    },
    {
      "cell_type": "code",
      "execution_count": 77,
      "metadata": {
        "colab": {
          "base_uri": "https://localhost:8080/",
          "height": 487
        },
        "id": "VrtpSzNDzIRZ",
        "outputId": "b3a376ce-e282-4703-c123-cceae4fd9bdb"
      },
      "outputs": [
        {
          "output_type": "display_data",
          "data": {
            "image/png": "[encoded data removed]",
            "text/plain": [
              "<Figure size 1080x576 with 2 Axes>"
            ]
          },
          "metadata": {
            "needs_background": "light"
          }
        }
      ],
      "source": [
        "fig = plt.figure(figsize=(15,8))\n",
        "ax = fig.add_subplot(121)\n",
        "normal_error_df = error_df1[(error_df1['true_class']== 0) & (error_df1['reconstruction_error'] < 10)]\n",
        "_ = ax.hist(normal_error_df.reconstruction_error.values, bins=10, color = \"green\", alpha = 0.5)\n",
        "\n",
        "ax1 = fig.add_subplot(122)\n",
        "fraud_error_df = error_df1[error_df1['true_class'] == 1]\n",
        "_ = ax1.hist(fraud_error_df.reconstruction_error.values, bins=10, color = \"red\", alpha = 0.5, range=(0, 0.08))"
      ]
    },
    {
      "cell_type": "markdown",
      "metadata": {
        "id": "mrCp6m3klJrp"
      },
      "source": [
        "As previosuly mentioned in the hypothesis, the above histograms provide us with an insight into how the reconstuction errors are distributed for the fraud and non-fraud predictions. \n",
        "\n",
        "Non-fraud: As expected we see the curve peaking at low error. This can be interpretted as the model being able to recreate the non-fraud observations with a low error. \n",
        "\n",
        "Fraud: When bulding the model, we hoped to see a much higher magnitude for the disribution of errors which would help in idenfiying the 'anomalies', which in our case is the fraud. Although we do see on average that the errors are higher for frauds, there would be many observations in the overlapping areas of the histogram which can lead to either high false positives or false negatives depending on the threshold we set. \n",
        "\n"
      ]
    },
    {
      "cell_type": "markdown",
      "metadata": {
        "id": "6XyE06fTzIRZ"
      },
      "source": [
        "### Boxplot of reconstruction errors"
      ]
    },
    {
      "cell_type": "markdown",
      "metadata": {
        "id": "gMlCfIw57P3t"
      },
      "source": [
        "We wanted to create boxplots to understand how the averages of the reconstruction errors differ between the classes. Building on top of the interpretation from the histograms, we can observe our model is somewhat able to identify the frauds due to the higher mean of the reconstruction errors. The accuracy of our predictions are heavily affected by the outliers in the non-fraud reconstruction error, making it tougher to indentify the suitable threshold. "
      ]
    },
    {
      "cell_type": "code",
      "execution_count": 78,
      "metadata": {
        "colab": {
          "base_uri": "https://localhost:8080/",
          "height": 537
        },
        "id": "lFs8UqMoTMeu",
        "outputId": "bd5f0078-9098-412b-cfbc-48b9b98aabc2"
      },
      "outputs": [
        {
          "output_type": "stream",
          "name": "stderr",
          "text": [
            "/usr/local/lib/python3.7/dist-packages/matplotlib/cbook/__init__.py:1376: VisibleDeprecationWarning: Creating an ndarray from ragged nested sequences (which is a list-or-tuple of lists-or-tuples-or ndarrays with different lengths or shapes) is deprecated. If you meant to do this, you must specify 'dtype=object' when creating the ndarray.\n",
            "  X = np.atleast_1d(X.T if isinstance(X, np.ndarray) else np.asarray(X))\n"
          ]
        },
        {
          "output_type": "display_data",
          "data": {
            "image/png": "[encoded data removed]",
            "text/plain": [
              "<Figure size 864x576 with 1 Axes>"
            ]
          },
          "metadata": {
            "needs_background": "light"
          }
        }
      ],
      "source": [
        "fig, ax = plt.subplots(1, 1,figsize=(12,8))\n",
        "bplot = ax.boxplot([normal_error_df.reconstruction_error,fraud_error_df.reconstruction_error],patch_artist=True,widths=0.5,\n",
        "                   medianprops=dict(color=\"black\"),labels =['Non-Fraud','Fraud'])\n",
        "plt.setp(bplot['boxes'], color='black')\n",
        "plt.ylabel('Reconstruction Error')\n",
        "for patch, color in zip(bplot['boxes'], ['lightgreen', 'crimson']):\n",
        "    patch.set_facecolor(color)\n"
      ]
    },
    {
      "cell_type": "markdown",
      "source": [
        "### Visualising the AUC"
      ],
      "metadata": {
        "id": "7ilkHxpOn26Y"
      }
    },
    {
      "cell_type": "code",
      "execution_count": 79,
      "metadata": {
        "colab": {
          "base_uri": "https://localhost:8080/",
          "height": 295
        },
        "id": "xGfNz3JMzIRa",
        "outputId": "92be51d3-9284-4af0-a16c-33a6470c2501"
      },
      "outputs": [
        {
          "output_type": "display_data",
          "data": {
            "image/png": "[encoded data removed]",
            "text/plain": [
              "<Figure size 432x288 with 1 Axes>"
            ]
          },
          "metadata": {
            "needs_background": "light"
          }
        }
      ],
      "source": [
        "fpr, tpr, thresholds = roc_curve(error_df.true_class, error_df.reconstruction_error)\n",
        "roc_auc = auc(fpr, tpr)\n",
        "\n",
        "plt.title('Receiver Operating Characteristic')\n",
        "plt.plot(fpr, tpr, label='AUC = %0.4f'% roc_auc)\n",
        "plt.legend(loc='lower right')\n",
        "plt.plot([0,1],[0,1],'r--')\n",
        "plt.xlim([-0.001, 1])\n",
        "plt.ylim([0, 1.001])\n",
        "plt.ylabel('True Positive Rate')\n",
        "plt.xlabel('False Positive Rate')\n",
        "plt.show();"
      ]
    },
    {
      "cell_type": "markdown",
      "metadata": {
        "id": "BHDpdiKS_n34"
      },
      "source": [
        "The above above graph shows the ROC curve and the AUC score for the autoencoder model. As expected, we can see that the model does not perform better than our SMOTE model. While it is a good starting point for further exploration, the lack of accuracy makes it difficult for us confidently predict frauds solely based on this model. "
      ]
    },
    {
      "cell_type": "markdown",
      "source": [
        "As mentioned above, the threshold was calculated to be one standard deviation away from the mean reconstruction error of the non-fraud (training) dataset."
      ],
      "metadata": {
        "id": "wt0VhGHsoEE_"
      }
    },
    {
      "cell_type": "code",
      "execution_count": 80,
      "metadata": {
        "id": "pDJE9vnmzIRb"
      },
      "outputs": [],
      "source": [
        "threshold = 0.016"
      ]
    },
    {
      "cell_type": "code",
      "execution_count": 81,
      "metadata": {
        "colab": {
          "base_uri": "https://localhost:8080/",
          "height": 730
        },
        "id": "rt7aXV-XzIRb",
        "outputId": "b0593d42-7cc0-45c5-86d9-129c34f51ccc"
      },
      "outputs": [
        {
          "output_type": "display_data",
          "data": {
            "image/png": "[encoded data removed]",
            "text/plain": [
              "<Figure size 864x864 with 1 Axes>"
            ]
          },
          "metadata": {
            "needs_background": "light"
          }
        }
      ],
      "source": [
        "groups = error_df.groupby('true_class')\n",
        "fig, ax = plt.subplots(figsize=(12,12))\n",
        "\n",
        "for name, group in groups:\n",
        "    ax.plot(group.index, group.reconstruction_error, marker='o', ms=3.5, linestyle='',\n",
        "            label= \"Fraud\" if name == 1 else \"Normal\")\n",
        "ax.hlines(threshold, ax.get_xlim()[0], ax.get_xlim()[1], colors=\"r\", zorder=100, label='Threshold')\n",
        "ax.legend()\n",
        "plt.title(\"Reconstruction error for different classes\")\n",
        "plt.ylabel(\"Reconstruction error\")\n",
        "plt.xlabel(\"Data point index\")\n",
        "plt.show();"
      ]
    },
    {
      "cell_type": "markdown",
      "metadata": {
        "id": "bDoAxzaCCeMH"
      },
      "source": [
        "The scatter plot above can provide more insight into why it is hard for the model to correctly identify frauds. Since the reconstuction error for many non-fraud observations are high, it is very diffcult to differntiate between normal and anomaly. Ideally, we would expect to see the  majority of the non-fraud reconstruction errors below the threshold and the majority of the frauds above the threshold.  "
      ]
    },
    {
      "cell_type": "code",
      "execution_count": 82,
      "metadata": {
        "id": "JzlxwzpQzIRb"
      },
      "outputs": [],
      "source": [
        "LABELS = [\"Normal\", \"Fraud\"]"
      ]
    },
    {
      "cell_type": "code",
      "execution_count": 83,
      "metadata": {
        "colab": {
          "base_uri": "https://localhost:8080/",
          "height": 730
        },
        "id": "H4OlXbotzIRb",
        "outputId": "759cc0cc-eeed-4385-c340-6911aa36635a"
      },
      "outputs": [
        {
          "output_type": "display_data",
          "data": {
            "image/png": "[encoded data removed]",
            "text/plain": [
              "<Figure size 864x864 with 2 Axes>"
            ]
          },
          "metadata": {
            "needs_background": "light"
          }
        }
      ],
      "source": [
        "y_pred = [1 if e > threshold else 0 for e in error_df.reconstruction_error.values]\n",
        "conf_matrix = confusion_matrix(error_df.true_class, y_pred)\n",
        "plt.figure(figsize=(12, 12))\n",
        "sns.heatmap(conf_matrix, xticklabels=LABELS, yticklabels=LABELS, annot=True, fmt=\"d\");\n",
        "plt.title(\"Confusion matrix\")\n",
        "plt.ylabel('True class')\n",
        "plt.xlabel('Predicted class')\n",
        "plt.show()"
      ]
    },
    {
      "cell_type": "markdown",
      "metadata": {
        "id": "CKstiz5CUD07"
      },
      "source": [
        "Accuracy"
      ]
    },
    {
      "cell_type": "code",
      "execution_count": 84,
      "metadata": {
        "colab": {
          "base_uri": "https://localhost:8080/"
        },
        "id": "mzzzz8IzUD08",
        "outputId": "894d14e0-5d4b-4336-ca8c-d5e74b5c7099"
      },
      "outputs": [
        {
          "output_type": "stream",
          "name": "stdout",
          "text": [
            "Accuracy: 0.493297\n"
          ]
        }
      ],
      "source": [
        "# accuracy = (tp + tn) / (tp + tn + fp + fn)\n",
        "accuracy3 = accuracy_score(y_pred,error_df.true_class)\n",
        "print('Accuracy: %f' % accuracy3)"
      ]
    },
    {
      "cell_type": "markdown",
      "metadata": {
        "id": "OzEi7xLJUD08"
      },
      "source": [
        "Precision"
      ]
    },
    {
      "cell_type": "code",
      "execution_count": 85,
      "metadata": {
        "colab": {
          "base_uri": "https://localhost:8080/"
        },
        "id": "eP63EpkAUD09",
        "outputId": "a699ce79-d458-4a8a-f29b-72f23411af7e"
      },
      "outputs": [
        {
          "output_type": "stream",
          "name": "stdout",
          "text": [
            "Precision: 0.701754\n"
          ]
        }
      ],
      "source": [
        "# precision = tp / (tp + fp)\n",
        "precision3 = precision_score(y_pred,error_df.true_class)\n",
        "print('Precision: %f' % precision3)"
      ]
    },
    {
      "cell_type": "markdown",
      "metadata": {
        "id": "K6ZGnOfxUD0-"
      },
      "source": [
        "Recall Score"
      ]
    },
    {
      "cell_type": "code",
      "execution_count": 86,
      "metadata": {
        "colab": {
          "base_uri": "https://localhost:8080/"
        },
        "id": "4xMWHBeSUD0-",
        "outputId": "7d9a90e9-ee20-4feb-d263-f49caf01b321"
      },
      "outputs": [
        {
          "output_type": "stream",
          "name": "stdout",
          "text": [
            "Recall: 0.026720\n"
          ]
        }
      ],
      "source": [
        "# recall = tp / (tp + fn)\n",
        "recall3 = recall_score(y_pred,error_df.true_class)\n",
        "print('Recall: %f' % recall3)"
      ]
    },
    {
      "cell_type": "markdown",
      "metadata": {
        "id": "RiH3G4iGUD1A"
      },
      "source": [
        "F1-Score"
      ]
    },
    {
      "cell_type": "code",
      "execution_count": 87,
      "metadata": {
        "colab": {
          "base_uri": "https://localhost:8080/"
        },
        "id": "k9-145b4UD1A",
        "outputId": "64b81ed3-af21-4cbd-f55b-4c903b8b872e"
      },
      "outputs": [
        {
          "output_type": "stream",
          "name": "stdout",
          "text": [
            "F1 score: 0.051480\n"
          ]
        }
      ],
      "source": [
        "# f1: 2 tp / (2 tp + fp + fn)\n",
        "f13 = f1_score(y_pred,error_df.true_class)\n",
        "print('F1 score: %f' % f13)"
      ]
    },
    {
      "cell_type": "markdown",
      "metadata": {
        "id": "KqkqeLllzIRb"
      },
      "source": [
        "Looking at the confusion matrix above helps us understand how accurately and precisely the model predicts the test data. The positive outcome from this model is that it has a high recall rate (the ratio of correct positive predictions to the total positives examples). It is able to correctly classify the majority of the actual frauds. The downside of this model is that the precision score (the ratio of correct positive predictions to the total predicted positives) is low. Almost half the non-fraud data has been classified as fraud. \n",
        "\n",
        "From an insurance company's perspective, this model can be used to further investigate claims that have been predicted fraud but it will be cumbersome as they have to comb through many claims to identiy the actual frauds. It depends on the insurance company's cost of further investigating claims to see if this model can be viable."
      ]
    },
    {
      "cell_type": "markdown",
      "metadata": {
        "id": "v8XSvTAJUD1C"
      },
      "source": [
        "# Question 9\n",
        "**Question:** </br>\n",
        "*As you know, it is difficult to understand precisely why a neural network makes a\n",
        "specific prediction. Discuss why this might be problematic when the neural network\n",
        "prediction leads to a fraud investigation by the insurance company. What alternatives\n",
        "can you envision that make use of the techniques we have applied and allow for more\n",
        "interpretability and transparency?*"
      ]
    },
    {
      "cell_type": "markdown",
      "metadata": {
        "id": "Fd0VFfbgUD1C"
      },
      "source": [
        "Unlike a regression model (which can be thought of as a 1-layer network), where it is possible to identify any significant features by studying their coefficients easily, a neural network works by using multiple layers of nodes that have weighted inputs from the previous layer. This complex network of computations that lead to a prediction makes it challenging to understand how the features contribute to the final classification.\n",
        "Correctly understanding the output of a neural network requires knowledge of the trained model, the algorithm, and the data used to build the model. Likewise, interpreting a neural network requires understanding the model's decision-making process, which can be gained by looking at the features used to build the model, their weights, and the parameters and structure of the model itself.\n",
        "\n",
        "In the context of the `insurance_claims` dataset, this would mean looking at the weights of the various features on a modular level and conducting a close examination of any features deemed significant by the model. A fraud investigation triggered by a misclassified event will mean that the company will have to spend time and resources investigating the claim and face any loss of reputation. The implications of an investigation make it imperative to have a clear understanding of the prediction model.\n",
        "\n",
        "When investigating claims classified as fraudulent, an examination of identified significant features will provide the relevant examiner with a clearer picture of the situation at hand.\n",
        "\n",
        "One of the better machine learning models for interpretability and understanding can be a decision tree. The visual aspect of a decision tree helps understand what features of an individual leads to them being classified into the fraud category."
      ]
    },
    {
      "cell_type": "markdown",
      "metadata": {
        "id": "vp8shU3_UD1D"
      },
      "source": [
        "# Question 10\n",
        "**Question:** </br>\n",
        "*Use your synthetically extended dataset and train a simple model, such as logistic\n",
        "regression or a decision tree that allows you to interpret why fraud is suspected. Keep\n",
        "track of the accuracy and AUC on a test set made from original data only. How does\n",
        "your model perform compared to the previous models you have developed? Does your\n",
        "model allow you to answer a customer who asks, \"why am I being investigated\"?*"
      ]
    },
    {
      "cell_type": "markdown",
      "metadata": {
        "id": "xquWokG9UD1D"
      },
      "source": [
        "## Logistic Regression on the imbalanced dataset"
      ]
    },
    {
      "cell_type": "markdown",
      "metadata": {
        "id": "tBlDIxrxUD1E"
      },
      "source": [
        "Below is the logistic regression on the SMOTE data. The AUC and the accuracy score help see the predective capability of the model on the original test data."
      ]
    },
    {
      "cell_type": "code",
      "execution_count": 88,
      "metadata": {
        "colab": {
          "base_uri": "https://localhost:8080/",
          "height": 265
        },
        "id": "eyqhfszDUD1E",
        "outputId": "9a30c4e4-7e38-41b3-b7b8-06b45afad19e"
      },
      "outputs": [
        {
          "output_type": "display_data",
          "data": {
            "image/png": "[encoded data removed]",
            "text/plain": [
              "<Figure size 432x288 with 1 Axes>"
            ]
          },
          "metadata": {
            "needs_background": "light"
          }
        }
      ],
      "source": [
        "classifier_LR = LogisticRegression(max_iter=2000)\n",
        "classifier_LR.fit(X_train_synth, y_train_synth.values.ravel())\n",
        "\n",
        "y_pred_prob = classifier_LR.predict_proba(X_test_norm)[:,1]\n",
        "fpr, tpr, thresholds = metrics.roc_curve(y_test,y_pred_prob)\n",
        "plt.plot(fpr, tpr, linewidth=4)\n",
        "plt.show()"
      ]
    },
    {
      "cell_type": "markdown",
      "metadata": {
        "id": "YhSPDJqoUD1F"
      },
      "source": [
        "Creating the confusion matrix with a random threshold"
      ]
    },
    {
      "cell_type": "code",
      "execution_count": 89,
      "metadata": {
        "colab": {
          "base_uri": "https://localhost:8080/"
        },
        "id": "68GlKbH9UD1F",
        "outputId": "c5d45a9f-0da5-4e59-b304-6a213af96463"
      },
      "outputs": [
        {
          "output_type": "execute_result",
          "data": {
            "text/plain": [
              "array([[1341,  369],\n",
              "       [   2,   16]])"
            ]
          },
          "metadata": {},
          "execution_count": 89
        }
      ],
      "source": [
        "threshold = 0.1\n",
        "y_test_pred = np.where(y_pred_prob < threshold, 0, 1)\n",
        "\n",
        "metrics.confusion_matrix(y_test, y_test_pred)"
      ]
    },
    {
      "cell_type": "markdown",
      "metadata": {
        "id": "rQwZ9L7gUD1G"
      },
      "source": [
        "Accuracy"
      ]
    },
    {
      "cell_type": "code",
      "execution_count": 90,
      "metadata": {
        "colab": {
          "base_uri": "https://localhost:8080/"
        },
        "id": "F9f9d2C6UD1G",
        "outputId": "31559da7-79d6-4f93-f5a4-458c0e672863"
      },
      "outputs": [
        {
          "output_type": "execute_result",
          "data": {
            "text/plain": [
              "0.7853009259259259"
            ]
          },
          "metadata": {},
          "execution_count": 90
        }
      ],
      "source": [
        "accuracy4 = metrics.accuracy_score(y_test,y_test_pred)\n",
        "accuracy4"
      ]
    },
    {
      "cell_type": "markdown",
      "source": [
        "Precision"
      ],
      "metadata": {
        "id": "Qm-RKXi_FKMw"
      }
    },
    {
      "cell_type": "code",
      "source": [
        "precision4 = metrics.precision_score(y_test, y_test_pred)\n",
        "precision4"
      ],
      "metadata": {
        "colab": {
          "base_uri": "https://localhost:8080/"
        },
        "id": "tlbHoEbdFORc",
        "outputId": "72c5243d-3c49-40a4-c7f9-8ab2c849e0e9"
      },
      "execution_count": 91,
      "outputs": [
        {
          "output_type": "execute_result",
          "data": {
            "text/plain": [
              "0.04155844155844156"
            ]
          },
          "metadata": {},
          "execution_count": 91
        }
      ]
    },
    {
      "cell_type": "markdown",
      "metadata": {
        "id": "HCExgj97UD1G"
      },
      "source": [
        "AUC"
      ]
    },
    {
      "cell_type": "code",
      "execution_count": 92,
      "metadata": {
        "colab": {
          "base_uri": "https://localhost:8080/"
        },
        "id": "4Y0fGapJUD1G",
        "outputId": "ac78978f-5dc9-4c15-9b2e-cec40cb2b5d1"
      },
      "outputs": [
        {
          "output_type": "execute_result",
          "data": {
            "text/plain": [
              "0.9327810266406757"
            ]
          },
          "metadata": {},
          "execution_count": 92
        }
      ],
      "source": [
        "auc4 = metrics.roc_auc_score(y_test, y_pred_prob)\n",
        "auc4"
      ]
    },
    {
      "cell_type": "markdown",
      "source": [
        "From the confusion matrix, we can see that the logistic regression model built on the SMOTE data is able to classify some observations as fraudulent, but most of them are falsely classified.\n",
        "\n",
        "When compared to the other models, we see that the logistic regression on the SMOTE data performs much better that the original (basic) model. As seen before, we see a drop in the accuracy score like that of the SMOTE model, as the model learns from the additional fraudulent observations. With this model we also see a high AUC which implies that the predective ability of the model is high. However, the precision of this model is significantly lower than that of the neural network based on the SMOTE data. This shows that like the original model, even with the higher accuracy the predictive quality of the model is sub-optimal."
      ],
      "metadata": {
        "id": "-foIAK2vK_Zr"
      }
    },
    {
      "cell_type": "code",
      "execution_count": 93,
      "metadata": {
        "colab": {
          "base_uri": "https://localhost:8080/",
          "height": 363
        },
        "id": "GInJt12SUD1G",
        "outputId": "53cda0df-30fc-454d-a5ce-06d6c416a5e4"
      },
      "outputs": [
        {
          "output_type": "execute_result",
          "data": {
            "text/html": [
              "\n",
              "  <div id=\"df-72e871eb-3997-4eff-8950-13b3a352cd34\">\n",
              "    <div class=\"colab-df-container\">\n",
              "      <div>\n",
              "<style scoped>\n",
              "    .dataframe tbody tr th:only-of-type {\n",
              "        vertical-align: middle;\n",
              "    }\n",
              "\n",
              "    .dataframe tbody tr th {\n",
              "        vertical-align: top;\n",
              "    }\n",
              "\n",
              "    .dataframe thead th {\n",
              "        text-align: right;\n",
              "    }\n",
              "</style>\n",
              "<table border=\"1\" class=\"dataframe\">\n",
              "  <thead>\n",
              "    <tr style=\"text-align: right;\">\n",
              "      <th></th>\n",
              "      <th>Variable</th>\n",
              "      <th>Coefficient</th>\n",
              "    </tr>\n",
              "  </thead>\n",
              "  <tbody>\n",
              "    <tr>\n",
              "      <th>46</th>\n",
              "      <td>ConnectionBetweenParties_SameAddress</td>\n",
              "      <td>6.103845</td>\n",
              "    </tr>\n",
              "    <tr>\n",
              "      <th>67</th>\n",
              "      <td>subscription_year</td>\n",
              "      <td>5.045882</td>\n",
              "    </tr>\n",
              "    <tr>\n",
              "      <th>27</th>\n",
              "      <td>ClaimCause_Fire</td>\n",
              "      <td>3.940314</td>\n",
              "    </tr>\n",
              "    <tr>\n",
              "      <th>5</th>\n",
              "      <td>ClaimAmount</td>\n",
              "      <td>3.580376</td>\n",
              "    </tr>\n",
              "    <tr>\n",
              "      <th>68</th>\n",
              "      <td>note_length</td>\n",
              "      <td>3.050242</td>\n",
              "    </tr>\n",
              "    <tr>\n",
              "      <th>35</th>\n",
              "      <td>ClaimCause_TheftAttempt</td>\n",
              "      <td>2.493889</td>\n",
              "    </tr>\n",
              "    <tr>\n",
              "      <th>38</th>\n",
              "      <td>ClaimCause_Vandalism</td>\n",
              "      <td>2.305373</td>\n",
              "    </tr>\n",
              "    <tr>\n",
              "      <th>37</th>\n",
              "      <td>ClaimCause_TotalTheft</td>\n",
              "      <td>2.246359</td>\n",
              "    </tr>\n",
              "    <tr>\n",
              "      <th>52</th>\n",
              "      <td>ClaimInvolvedCovers_ActLiability NaturalCatast...</td>\n",
              "      <td>2.187157</td>\n",
              "    </tr>\n",
              "    <tr>\n",
              "      <th>32</th>\n",
              "      <td>ClaimCause_LossOfControl</td>\n",
              "      <td>2.061323</td>\n",
              "    </tr>\n",
              "  </tbody>\n",
              "</table>\n",
              "</div>\n",
              "      <button class=\"colab-df-convert\" onclick=\"convertToInteractive('df-72e871eb-3997-4eff-8950-13b3a352cd34')\"\n",
              "              title=\"Convert this dataframe to an interactive table.\"\n",
              "              style=\"display:none;\">\n",
              "        \n",
              "  <svg xmlns=\"http://www.w3.org/2000/svg\" height=\"24px\"viewBox=\"0 0 24 24\"\n",
              "       width=\"24px\">\n",
              "    <path d=\"M0 0h24v24H0V0z\" fill=\"none\"/>\n",
              "    <path d=\"M18.56 5.44l.94 2.06.94-2.06 2.06-.94-2.06-.94-.94-2.06-.94 2.06-2.06.94zm-11 1L8.5 8.5l.94-2.06 2.06-.94-2.06-.94L8.5 2.5l-.94 2.06-2.06.94zm10 10l.94 2.06.94-2.06 2.06-.94-2.06-.94-.94-2.06-.94 2.06-2.06.94z\"/><path d=\"M17.41 7.96l-1.37-1.37c-.4-.4-.92-.59-1.43-.59-.52 0-1.04.2-1.43.59L10.3 9.45l-7.72 7.72c-.78.78-.78 2.05 0 2.83L4 21.41c.39.39.9.59 1.41.59.51 0 1.02-.2 1.41-.59l7.78-7.78 2.81-2.81c.8-.78.8-2.07 0-2.86zM5.41 20L4 18.59l7.72-7.72 1.47 1.35L5.41 20z\"/>\n",
              "  </svg>\n",
              "      </button>\n",
              "      \n",
              "  <style>\n",
              "    .colab-df-container {\n",
              "      display:flex;\n",
              "      flex-wrap:wrap;\n",
              "      gap: 12px;\n",
              "    }\n",
              "\n",
              "    .colab-df-convert {\n",
              "      background-color: #E8F0FE;\n",
              "      border: none;\n",
              "      border-radius: 50%;\n",
              "      cursor: pointer;\n",
              "      display: none;\n",
              "      fill: #1967D2;\n",
              "      height: 32px;\n",
              "      padding: 0 0 0 0;\n",
              "      width: 32px;\n",
              "    }\n",
              "\n",
              "    .colab-df-convert:hover {\n",
              "      background-color: #E2EBFA;\n",
              "      box-shadow: 0px 1px 2px rgba(60, 64, 67, 0.3), 0px 1px 3px 1px rgba(60, 64, 67, 0.15);\n",
              "      fill: #174EA6;\n",
              "    }\n",
              "\n",
              "    [theme=dark] .colab-df-convert {\n",
              "      background-color: #3B4455;\n",
              "      fill: #D2E3FC;\n",
              "    }\n",
              "\n",
              "    [theme=dark] .colab-df-convert:hover {\n",
              "      background-color: #434B5C;\n",
              "      box-shadow: 0px 1px 3px 1px rgba(0, 0, 0, 0.15);\n",
              "      filter: drop-shadow(0px 1px 2px rgba(0, 0, 0, 0.3));\n",
              "      fill: #FFFFFF;\n",
              "    }\n",
              "  </style>\n",
              "\n",
              "      <script>\n",
              "        const buttonEl =\n",
              "          document.querySelector('#df-72e871eb-3997-4eff-8950-13b3a352cd34 button.colab-df-convert');\n",
              "        buttonEl.style.display =\n",
              "          google.colab.kernel.accessAllowed ? 'block' : 'none';\n",
              "\n",
              "        async function convertToInteractive(key) {\n",
              "          const element = document.querySelector('#df-72e871eb-3997-4eff-8950-13b3a352cd34');\n",
              "          const dataTable =\n",
              "            await google.colab.kernel.invokeFunction('convertToInteractive',\n",
              "                                                     [key], {});\n",
              "          if (!dataTable) return;\n",
              "\n",
              "          const docLinkHtml = 'Like what you see? Visit the ' +\n",
              "            '<a target=\"_blank\" href=https://colab.research.google.com/notebooks/data_table.ipynb>data table notebook</a>'\n",
              "            + ' to learn more about interactive tables.';\n",
              "          element.innerHTML = '';\n",
              "          dataTable['output_type'] = 'display_data';\n",
              "          await google.colab.output.renderOutput(dataTable, element);\n",
              "          const docLink = document.createElement('div');\n",
              "          docLink.innerHTML = docLinkHtml;\n",
              "          element.appendChild(docLink);\n",
              "        }\n",
              "      </script>\n",
              "    </div>\n",
              "  </div>\n",
              "  "
            ],
            "text/plain": [
              "                                             Variable Coefficient\n",
              "46               ConnectionBetweenParties_SameAddress    6.103845\n",
              "67                                  subscription_year    5.045882\n",
              "27                                    ClaimCause_Fire    3.940314\n",
              "5                                         ClaimAmount    3.580376\n",
              "68                                        note_length    3.050242\n",
              "35                            ClaimCause_TheftAttempt    2.493889\n",
              "38                               ClaimCause_Vandalism    2.305373\n",
              "37                              ClaimCause_TotalTheft    2.246359\n",
              "52  ClaimInvolvedCovers_ActLiability NaturalCatast...    2.187157\n",
              "32                           ClaimCause_LossOfControl    2.061323"
            ]
          },
          "metadata": {},
          "execution_count": 93
        }
      ],
      "source": [
        "summary = pd.DataFrame([X_train.columns,classifier_LR.coef_[0]]).T.sort_values(by = 1, ascending = False)\n",
        "summary.columns = ['Variable','Coefficient']\n",
        "summary.head(n=10)"
      ]
    },
    {
      "cell_type": "markdown",
      "source": [
        "If a client asks \"Why am I being investigated?\", we can use the outcome seen in the table above to determine what factors contribute to the prediction model and the investigation. The coefficients of the different variables con provide a general idea as to how the different factors contribute to the prediction that leads to an investigation. From the same, we can see that the variables `subscription_year`, `ConnectionBetweenParties_SameAddress`, and `note_length` are the highest contributors to a 'fraud' classification.\n",
        "\n",
        "When we attempt to answer the same question using a neural network, the difficulty in interpreting the outcome makes it hard to asnwer the client's question. A deep analysis of the of the weights of individual nodes will provide some idea about the factors that led to a prediction. However, the sheer computational complexity of a neural network, makes it difficult to confidently conclude as to the significance of each of the factors.\n",
        "This displays that even with the higher prediction accuracy of neural networks, their lack of interpretability is a downside compared to a normal logistic regression where the coefficients of the variables provide a clear picture of their significance."
      ],
      "metadata": {
        "id": "U8BgprkiLA3x"
      }
    },
    {
      "cell_type": "markdown",
      "metadata": {
        "id": "xcqf0oTgUD1H"
      },
      "source": [
        "### Conclusion \n",
        "\n",
        "In this project, the dataset poses one of the common problems of a real-life dataset: having a severe imbalance in the classes. Especially in the insurance fraud case, the minority class (actual fraud) is more important to predict. Therefore, this dataset can be categorised as a severe imbalance as only 1% of the data belongs to the minority class. \n",
        "\n",
        "The main problem we encountered with the base neural network is that by predicting all the cases as not frauds, the model achieves an accuracy of 99% just because of the distribution of the underlying dataset. \n",
        "\n",
        "The first way to tackle this problem is to use SMOTE, Synthetic Minority Oversampling Technique, which synthesises new data for the minority class using K nearest-neighbours. Once we had a synthetic dataset, we retrained a neural network to train the new dataset. To improve this model's hyperparameters, we use Hyperband to find the best learning rate, number of nodes, dropout rate and optimiser function. Once this model had been trained on the synthetic data, we tested it on the original data. The performance of this model was much better as it categorised the majority of fraud data well. \n",
        "\n",
        "To try and further improve our predictions, we used an auto-encoder. This method trains a model with only non-fraud cases, which can then identify anomalies that would be fraud cases. Unfortunately, the model is not very accurate in its predictions. As explained previously, the model cannot properly differentiate between anomaly and normal data. \n",
        "\n",
        "Our findings, as summarised in the table below show our SMOTE model provides the company with the best classification accuracy for this dataset."
      ]
    },
    {
      "cell_type": "code",
      "execution_count": 94,
      "metadata": {
        "colab": {
          "base_uri": "https://localhost:8080/"
        },
        "id": "jt8H4-L8UD1D",
        "outputId": "8a21e1dc-3150-463b-cf2e-f304c2129077"
      },
      "outputs": [
        {
          "output_type": "stream",
          "name": "stdout",
          "text": [
            "54/54 [==============================] - 0s 3ms/step - loss: 0.0988 - tp: 14.0000 - fp: 7.0000 - tn: 1703.0000 - fn: 4.0000 - accuracy: 0.9936 - precision: 0.6667 - recall: 0.7778 - auc: 0.8846 - prc: 0.4389\n",
            "54/54 [==============================] - 0s 3ms/step - loss: 0.0988 - tp: 14.0000 - fp: 7.0000 - tn: 1703.0000 - fn: 4.0000 - accuracy: 0.9936 - precision: 0.6667 - recall: 0.7778 - auc: 0.8846 - prc: 0.4389\n"
          ]
        }
      ],
      "source": [
        "metric_df = pd.DataFrame({'id': ['AUC', 'Accuracy', 'Precision'], \n",
        "                          'Original': [auc1, accuracy1, precision1], \n",
        "                          'SMOTE': [auc_keras, model_SMOTE.evaluate(X_test_norm, y_test)[5],model_SMOTE.evaluate(X_test_norm, y_test)[6]], \n",
        "                          'Autoencoded': [roc_auc, accuracy3, precision3],\n",
        "                          'Logistic Regression': [auc4, accuracy4, precision4]\n",
        "                          })\n",
        "metric_df.set_index('id', inplace=True)"
      ]
    },
    {
      "cell_type": "code",
      "source": [
        "metric_df"
      ],
      "metadata": {
        "colab": {
          "base_uri": "https://localhost:8080/",
          "height": 175
        },
        "id": "sZ4IdEgryDSd",
        "outputId": "f7578921-dca0-4cd9-93ae-f8ef82ae15df"
      },
      "execution_count": 95,
      "outputs": [
        {
          "output_type": "execute_result",
          "data": {
            "text/html": [
              "\n",
              "  <div id=\"df-2250dac5-d152-4a58-8976-2be81ab50a22\">\n",
              "    <div class=\"colab-df-container\">\n",
              "      <div>\n",
              "<style scoped>\n",
              "    .dataframe tbody tr th:only-of-type {\n",
              "        vertical-align: middle;\n",
              "    }\n",
              "\n",
              "    .dataframe tbody tr th {\n",
              "        vertical-align: top;\n",
              "    }\n",
              "\n",
              "    .dataframe thead th {\n",
              "        text-align: right;\n",
              "    }\n",
              "</style>\n",
              "<table border=\"1\" class=\"dataframe\">\n",
              "  <thead>\n",
              "    <tr style=\"text-align: right;\">\n",
              "      <th></th>\n",
              "      <th>Original</th>\n",
              "      <th>SMOTE</th>\n",
              "      <th>Autoencoded</th>\n",
              "      <th>Logistic Regression</th>\n",
              "    </tr>\n",
              "    <tr>\n",
              "      <th>id</th>\n",
              "      <th></th>\n",
              "      <th></th>\n",
              "      <th></th>\n",
              "      <th></th>\n",
              "    </tr>\n",
              "  </thead>\n",
              "  <tbody>\n",
              "    <tr>\n",
              "      <th>AUC</th>\n",
              "      <td>0.500000</td>\n",
              "      <td>0.952550</td>\n",
              "      <td>0.650544</td>\n",
              "      <td>0.932781</td>\n",
              "    </tr>\n",
              "    <tr>\n",
              "      <th>Accuracy</th>\n",
              "      <td>0.989583</td>\n",
              "      <td>0.993634</td>\n",
              "      <td>0.493297</td>\n",
              "      <td>0.785301</td>\n",
              "    </tr>\n",
              "    <tr>\n",
              "      <th>Precision</th>\n",
              "      <td>0.000000</td>\n",
              "      <td>0.666667</td>\n",
              "      <td>0.701754</td>\n",
              "      <td>0.041558</td>\n",
              "    </tr>\n",
              "  </tbody>\n",
              "</table>\n",
              "</div>\n",
              "      <button class=\"colab-df-convert\" onclick=\"convertToInteractive('df-2250dac5-d152-4a58-8976-2be81ab50a22')\"\n",
              "              title=\"Convert this dataframe to an interactive table.\"\n",
              "              style=\"display:none;\">\n",
              "        \n",
              "  <svg xmlns=\"http://www.w3.org/2000/svg\" height=\"24px\"viewBox=\"0 0 24 24\"\n",
              "       width=\"24px\">\n",
              "    <path d=\"M0 0h24v24H0V0z\" fill=\"none\"/>\n",
              "    <path d=\"M18.56 5.44l.94 2.06.94-2.06 2.06-.94-2.06-.94-.94-2.06-.94 2.06-2.06.94zm-11 1L8.5 8.5l.94-2.06 2.06-.94-2.06-.94L8.5 2.5l-.94 2.06-2.06.94zm10 10l.94 2.06.94-2.06 2.06-.94-2.06-.94-.94-2.06-.94 2.06-2.06.94z\"/><path d=\"M17.41 7.96l-1.37-1.37c-.4-.4-.92-.59-1.43-.59-.52 0-1.04.2-1.43.59L10.3 9.45l-7.72 7.72c-.78.78-.78 2.05 0 2.83L4 21.41c.39.39.9.59 1.41.59.51 0 1.02-.2 1.41-.59l7.78-7.78 2.81-2.81c.8-.78.8-2.07 0-2.86zM5.41 20L4 18.59l7.72-7.72 1.47 1.35L5.41 20z\"/>\n",
              "  </svg>\n",
              "      </button>\n",
              "      \n",
              "  <style>\n",
              "    .colab-df-container {\n",
              "      display:flex;\n",
              "      flex-wrap:wrap;\n",
              "      gap: 12px;\n",
              "    }\n",
              "\n",
              "    .colab-df-convert {\n",
              "      background-color: #E8F0FE;\n",
              "      border: none;\n",
              "      border-radius: 50%;\n",
              "      cursor: pointer;\n",
              "      display: none;\n",
              "      fill: #1967D2;\n",
              "      height: 32px;\n",
              "      padding: 0 0 0 0;\n",
              "      width: 32px;\n",
              "    }\n",
              "\n",
              "    .colab-df-convert:hover {\n",
              "      background-color: #E2EBFA;\n",
              "      box-shadow: 0px 1px 2px rgba(60, 64, 67, 0.3), 0px 1px 3px 1px rgba(60, 64, 67, 0.15);\n",
              "      fill: #174EA6;\n",
              "    }\n",
              "\n",
              "    [theme=dark] .colab-df-convert {\n",
              "      background-color: #3B4455;\n",
              "      fill: #D2E3FC;\n",
              "    }\n",
              "\n",
              "    [theme=dark] .colab-df-convert:hover {\n",
              "      background-color: #434B5C;\n",
              "      box-shadow: 0px 1px 3px 1px rgba(0, 0, 0, 0.15);\n",
              "      filter: drop-shadow(0px 1px 2px rgba(0, 0, 0, 0.3));\n",
              "      fill: #FFFFFF;\n",
              "    }\n",
              "  </style>\n",
              "\n",
              "      <script>\n",
              "        const buttonEl =\n",
              "          document.querySelector('#df-2250dac5-d152-4a58-8976-2be81ab50a22 button.colab-df-convert');\n",
              "        buttonEl.style.display =\n",
              "          google.colab.kernel.accessAllowed ? 'block' : 'none';\n",
              "\n",
              "        async function convertToInteractive(key) {\n",
              "          const element = document.querySelector('#df-2250dac5-d152-4a58-8976-2be81ab50a22');\n",
              "          const dataTable =\n",
              "            await google.colab.kernel.invokeFunction('convertToInteractive',\n",
              "                                                     [key], {});\n",
              "          if (!dataTable) return;\n",
              "\n",
              "          const docLinkHtml = 'Like what you see? Visit the ' +\n",
              "            '<a target=\"_blank\" href=https://colab.research.google.com/notebooks/data_table.ipynb>data table notebook</a>'\n",
              "            + ' to learn more about interactive tables.';\n",
              "          element.innerHTML = '';\n",
              "          dataTable['output_type'] = 'display_data';\n",
              "          await google.colab.output.renderOutput(dataTable, element);\n",
              "          const docLink = document.createElement('div');\n",
              "          docLink.innerHTML = docLinkHtml;\n",
              "          element.appendChild(docLink);\n",
              "        }\n",
              "      </script>\n",
              "    </div>\n",
              "  </div>\n",
              "  "
            ],
            "text/plain": [
              "           Original     SMOTE  Autoencoded  Logistic Regression\n",
              "id                                                             \n",
              "AUC        0.500000  0.952550     0.650544             0.932781\n",
              "Accuracy   0.989583  0.993634     0.493297             0.785301\n",
              "Precision  0.000000  0.666667     0.701754             0.041558"
            ]
          },
          "metadata": {},
          "execution_count": 95
        }
      ]
    }
  ],
  "metadata": {
    "colab": {
      "collapsed_sections": [],
      "machine_shape": "hm",
      "name": "SMM768(ADL)_Group1_GroupSubmission.ipynb",
      "provenance": []
    },
    "interpreter": {
      "hash": "a6d1f0127129fc8616378f862132185ad51da0588b692be1fbb8d7aa62d7de05"
    },
    "kernelspec": {
      "display_name": "Python 3.7.11 ('adl')",
      "language": "python",
      "name": "python3"
    },
    "language_info": {
      "codemirror_mode": {
        "name": "ipython",
        "version": 3
      },
      "file_extension": ".py",
      "mimetype": "text/x-python",
      "name": "python",
      "nbconvert_exporter": "python",
      "pygments_lexer": "ipython3",
      "version": "3.7.11"
    }
  },
  "nbformat": 4,
  "nbformat_minor": 0
}