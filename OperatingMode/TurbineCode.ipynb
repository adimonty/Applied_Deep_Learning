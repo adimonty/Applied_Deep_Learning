{
  "cells": [
    {
      "cell_type": "markdown",
      "metadata": {
        "id": "UvelDisN_wrd"
      },
      "source": [
        "# Question 1\n"
      ]
    },
    {
      "cell_type": "markdown",
      "metadata": {
        "id": "v8mmw4j6Te5Z"
      },
      "source": [
        "1. Create a recurrent neural network in TensorFlow to predict the operating mode of a wind turbine based on the two time series from the sensors. Before any implementation, carefully consider what type of approach (sequence-to-vector, sequence-to-sequence, or encoder-decoder) is most sensible here and how you need to manipulate the data, given that you have two different time series for each observation. Then, make sure that you try out the different layers and elements discussed in class, such as SimpleRNN, LSTM and Conv1D - while a certain amount of trial and error will be necessary, it is recommended that you tune your network systematically. Make sure to record your final validation set accuracy."
      ]
    },
    {
      "cell_type": "code",
      "execution_count": 2,
      "metadata": {
        "id": "YvBt-riQQPvm"
      },
      "outputs": [],
      "source": [
        "import pickle\n",
        "import numpy as np \n",
        "import pandas as pd\n",
        "import matplotlib.pyplot as plt\n",
        "from sklearn.model_selection import train_test_split\n",
        "import tensorflow as tf\n",
        "from tensorflow.keras.models import Sequential, Model\n",
        "from tensorflow.keras.layers import Flatten, Dense, Activation, Input, Dropout, SimpleRNN, BatchNormalization, LSTM, Conv1D, Embedding, GRU, Conv2D, MaxPooling2D, GlobalAveragePooling2D, UpSampling2D, MaxPool2D\n",
        "from tensorflow.keras.optimizers import Adam, Nadam\n",
        "from tensorflow.keras.metrics import mean_squared_error\n",
        "from tensorflow.data import Dataset, TFRecordDataset\n",
        "from tensorflow.keras import backend as K"
      ]
    },
    {
      "cell_type": "code",
      "execution_count": null,
      "metadata": {
        "id": "lSmnxiYTS_ry"
      },
      "outputs": [],
      "source": [
        "with open('time_series_1.pickle', 'rb') as handle:\n",
        "  time_series_1 = pickle.load(handle)\n",
        "with open('time_series_2.pickle', 'rb') as handle:\n",
        "  time_series_2 = pickle.load(handle)  \n",
        "with open('y.pickle', 'rb') as handle:\n",
        "  y = pickle.load(handle)"
      ]
    },
    {
      "cell_type": "code",
      "execution_count": null,
      "metadata": {
        "colab": {
          "base_uri": "https://localhost:8080/"
        },
        "id": "cTZiBEntXnsd",
        "outputId": "c71548a1-cd7e-47a5-e20f-1e741ffb681a"
      },
      "outputs": [
        {
          "name": "stdout",
          "output_type": "stream",
          "text": [
            "<class 'numpy.ndarray'>\n",
            "<class 'numpy.ndarray'>\n",
            "<class 'numpy.ndarray'>\n"
          ]
        }
      ],
      "source": [
        "print(type(time_series_1))\n",
        "print(type(time_series_2))\n",
        "print(type(y))"
      ]
    },
    {
      "cell_type": "code",
      "execution_count": null,
      "metadata": {
        "colab": {
          "base_uri": "https://localhost:8080/"
        },
        "id": "3qs82LYMSsfn",
        "outputId": "5b548e2a-e9eb-472d-906b-f189b75cd63f"
      },
      "outputs": [
        {
          "name": "stdout",
          "output_type": "stream",
          "text": [
            "(4000, 5000)\n",
            "(4000, 5000)\n",
            "(4000,)\n"
          ]
        }
      ],
      "source": [
        "print(time_series_1.shape)\n",
        "print(time_series_2.shape)\n",
        "print(y.shape)"
      ]
    },
    {
      "cell_type": "markdown",
      "source": [
        "Combining the timeseries"
      ],
      "metadata": {
        "id": "g21xzxoiZzxm"
      }
    },
    {
      "cell_type": "code",
      "execution_count": null,
      "metadata": {
        "id": "chnP_jAtJHn9"
      },
      "outputs": [],
      "source": [
        "Timeseries_combined = np.dstack((time_series_1,time_series_2))"
      ]
    },
    {
      "cell_type": "code",
      "execution_count": null,
      "metadata": {
        "colab": {
          "base_uri": "https://localhost:8080/"
        },
        "id": "pNj1bQU_WWBi",
        "outputId": "a46425ae-39f5-414c-e29f-9273549a6614"
      },
      "outputs": [
        {
          "name": "stdout",
          "output_type": "stream",
          "text": [
            "(4000, 5000, 2)\n"
          ]
        }
      ],
      "source": [
        "print(Timeseries_combined.shape)"
      ]
    },
    {
      "cell_type": "code",
      "execution_count": null,
      "metadata": {
        "id": "TPu6cTaxbVKx"
      },
      "outputs": [],
      "source": [
        "Y = np.reshape(y, (4000, 1))"
      ]
    },
    {
      "cell_type": "code",
      "execution_count": null,
      "metadata": {
        "colab": {
          "base_uri": "https://localhost:8080/"
        },
        "id": "1OGWMQQSetpd",
        "outputId": "90f2b48e-9ad1-4bf4-fe2e-12c6f5639df9"
      },
      "outputs": [
        {
          "name": "stdout",
          "output_type": "stream",
          "text": [
            "(4000, 1)\n"
          ]
        }
      ],
      "source": [
        "print(Y.shape)"
      ]
    },
    {
      "cell_type": "markdown",
      "source": [
        "Splitting into test, train and validation sets"
      ],
      "metadata": {
        "id": "5U_plnr6Z2Xm"
      }
    },
    {
      "cell_type": "code",
      "execution_count": null,
      "metadata": {
        "id": "iBX0ZYoiQMwk"
      },
      "outputs": [],
      "source": [
        "X_train, X_test_1, y_train, y_test_1 = train_test_split(Timeseries_combined,Y,test_size = 0.3, random_state = 704)"
      ]
    },
    {
      "cell_type": "code",
      "execution_count": null,
      "metadata": {
        "id": "J8eM-f3lVHqJ"
      },
      "outputs": [],
      "source": [
        "X_test, X_val, y_test, y_val = train_test_split(X_test_1, y_test_1,test_size = 0.5, random_state = 704)"
      ]
    },
    {
      "cell_type": "code",
      "execution_count": null,
      "metadata": {
        "colab": {
          "base_uri": "https://localhost:8080/"
        },
        "id": "I_hpY0xdVtSi",
        "outputId": "2ae14d94-40b3-4401-c274-6289fe795052"
      },
      "outputs": [
        {
          "name": "stdout",
          "output_type": "stream",
          "text": [
            "(2800, 5000, 2)\n",
            "(600, 5000, 2)\n",
            "(600, 5000, 2)\n"
          ]
        }
      ],
      "source": [
        "print(X_train.shape)\n",
        "print(X_val.shape)\n",
        "print(X_test.shape)"
      ]
    },
    {
      "cell_type": "markdown",
      "metadata": {
        "id": "d162jB9bvgFL"
      },
      "source": [
        "####Defining the model"
      ]
    },
    {
      "cell_type": "code",
      "execution_count": null,
      "metadata": {
        "id": "DyZVlC6oc6yb"
      },
      "outputs": [],
      "source": [
        "def train_plot(model, learning_rate = 0.001, epochs = 15):\n",
        "    np.random.seed(312)\n",
        "    tf.random.set_seed(312)\n",
        "\n",
        "    model.compile(loss=\"sparse_categorical_crossentropy\",\n",
        "                  optimizer=Adam(learning_rate = learning_rate),metrics=[\"accuracy\"])\n",
        "    early_stopping_cb = tf.keras.callbacks.EarlyStopping(patience = 5, restore_best_weights=True)\n",
        "    log = model.fit(X_train, y_train, epochs=epochs,\n",
        "                        validation_data=(X_val, y_val),\n",
        "                   callbacks = [early_stopping_cb])\n",
        "    \n",
        "    plt.plot(log.history['loss'],label = \"training loss\",color='darkgreen')\n",
        "    plt.plot(log.history['val_loss'], label = \"validation loss\",color='darkblue')\n",
        "    plt.legend()\n",
        "    plt.show()\n",
        "    \n",
        "    y_pred = model.predict(X_val)\n",
        "    \n",
        "    return model"
      ]
    },
    {
      "cell_type": "markdown",
      "metadata": {
        "id": "CQRvOdVkR7VQ"
      },
      "source": [
        "####Simple RNN "
      ]
    },
    {
      "cell_type": "code",
      "execution_count": null,
      "metadata": {
        "colab": {
          "base_uri": "https://localhost:8080/"
        },
        "id": "BOcMJYbUvD6M",
        "outputId": "549e9d75-cf36-4d56-f118-373fdb3d2cb4"
      },
      "outputs": [
        {
          "name": "stdout",
          "output_type": "stream",
          "text": [
            "Model: \"sequential_1\"\n",
            "_________________________________________________________________\n",
            " Layer (type)                Output Shape              Param #   \n",
            "=================================================================\n",
            " simple_rnn_1 (SimpleRNN)    (None, 70)                5110      \n",
            "                                                                 \n",
            " dense_1 (Dense)             (None, 5)                 355       \n",
            "                                                                 \n",
            "=================================================================\n",
            "Total params: 5,465\n",
            "Trainable params: 5,465\n",
            "Non-trainable params: 0\n",
            "_________________________________________________________________\n"
          ]
        }
      ],
      "source": [
        "model = Sequential([\n",
        "    SimpleRNN(70, return_sequences=False, input_shape=[None, 2]),\n",
        "    Dense(5, activation='softmax')\n",
        "])\n",
        "model.summary()"
      ]
    },
    {
      "cell_type": "code",
      "execution_count": null,
      "metadata": {
        "colab": {
          "background_save": true,
          "base_uri": "https://localhost:8080/"
        },
        "id": "PMuKvfuidixV",
        "outputId": "b76e32a2-8395-4e40-92e3-ed855396a4d0"
      },
      "outputs": [
        {
          "name": "stdout",
          "output_type": "stream",
          "text": [
            "Epoch 1/15\n",
            "88/88 [==============================] - 272s 3s/step - loss: 1.4040 - accuracy: 0.3121 - val_loss: 1.3113 - val_accuracy: 0.3400\n",
            "Epoch 2/15\n",
            "88/88 [==============================] - 269s 3s/step - loss: 1.3168 - accuracy: 0.3818 - val_loss: 1.3008 - val_accuracy: 0.3800\n",
            "Epoch 3/15\n",
            "88/88 [==============================] - 268s 3s/step - loss: 1.2938 - accuracy: 0.3975 - val_loss: 1.3001 - val_accuracy: 0.3933\n",
            "Epoch 4/15\n",
            "88/88 [==============================] - 267s 3s/step - loss: 1.2769 - accuracy: 0.4104 - val_loss: 1.2430 - val_accuracy: 0.3983\n",
            "Epoch 5/15\n",
            "88/88 [==============================] - 270s 3s/step - loss: 1.2234 - accuracy: 0.4421 - val_loss: 1.1672 - val_accuracy: 0.4650\n",
            "Epoch 6/15\n",
            "88/88 [==============================] - 268s 3s/step - loss: 1.1659 - accuracy: 0.4957 - val_loss: 1.1540 - val_accuracy: 0.4900\n",
            "Epoch 7/15\n",
            "88/88 [==============================] - 264s 3s/step - loss: 1.1377 - accuracy: 0.5107 - val_loss: 1.1029 - val_accuracy: 0.5000\n",
            "Epoch 8/15\n",
            "88/88 [==============================] - 266s 3s/step - loss: 1.1102 - accuracy: 0.5232 - val_loss: 1.0951 - val_accuracy: 0.5217\n",
            "Epoch 9/15\n",
            "88/88 [==============================] - 269s 3s/step - loss: 1.0979 - accuracy: 0.5229 - val_loss: 1.1040 - val_accuracy: 0.5283\n",
            "Epoch 10/15\n",
            "88/88 [==============================] - 268s 3s/step - loss: 1.1047 - accuracy: 0.5171 - val_loss: 1.0986 - val_accuracy: 0.5300\n",
            "Epoch 11/15\n",
            "88/88 [==============================] - 267s 3s/step - loss: 1.0843 - accuracy: 0.5346 - val_loss: 1.0857 - val_accuracy: 0.5250\n",
            "Epoch 12/15\n",
            "88/88 [==============================] - 267s 3s/step - loss: 1.0866 - accuracy: 0.5332 - val_loss: 1.0780 - val_accuracy: 0.5300\n",
            "Epoch 13/15\n",
            "88/88 [==============================] - 269s 3s/step - loss: 1.0687 - accuracy: 0.5304 - val_loss: 1.0658 - val_accuracy: 0.5317\n",
            "Epoch 14/15\n",
            "88/88 [==============================] - 269s 3s/step - loss: 1.0615 - accuracy: 0.5429 - val_loss: 1.0569 - val_accuracy: 0.5367\n",
            "Epoch 15/15\n",
            "88/88 [==============================] - 268s 3s/step - loss: 1.0387 - accuracy: 0.5432 - val_loss: 1.0856 - val_accuracy: 0.5150\n"
          ]
        },
        {
          "data": {
            "image/png": "[encoded data removed]",
            "text/plain": [
              "<Figure size 432x288 with 1 Axes>"
            ]
          },
          "metadata": {},
          "output_type": "display_data"
        },
        {
          "data": {
            "text/plain": [
              "<keras.engine.sequential.Sequential at 0x7f34cebe4090>"
            ]
          },
          "execution_count": null,
          "metadata": {},
          "output_type": "execute_result"
        }
      ],
      "source": [
        "train_plot(model)"
      ]
    },
    {
      "cell_type": "markdown",
      "source": [
        "The accuracy of the simple RNN is poor, and is showing signs of overfitting, however a deeper one may be more accurate"
      ],
      "metadata": {
        "id": "JuEeWw_1Z7e8"
      }
    },
    {
      "cell_type": "markdown",
      "metadata": {
        "id": "9xiI00XmESb9"
      },
      "source": [
        "####Deeper RNN"
      ]
    },
    {
      "cell_type": "code",
      "execution_count": null,
      "metadata": {
        "id": "ZJZigLlvb2UV"
      },
      "outputs": [],
      "source": [
        "tf.keras.backend.clear_session()\n",
        "np.random.seed(400)\n",
        "tf.random.set_seed(830)"
      ]
    },
    {
      "cell_type": "code",
      "execution_count": null,
      "metadata": {
        "colab": {
          "base_uri": "https://localhost:8080/"
        },
        "id": "-WyHKLNxEV6L",
        "outputId": "450345a7-d8c9-4bc0-eb38-c71a8ab651cc"
      },
      "outputs": [
        {
          "name": "stdout",
          "output_type": "stream",
          "text": [
            "Model: \"sequential\"\n",
            "_________________________________________________________________\n",
            " Layer (type)                Output Shape              Param #   \n",
            "=================================================================\n",
            " simple_rnn (SimpleRNN)      (None, None, 70)          5110      \n",
            "                                                                 \n",
            " simple_rnn_1 (SimpleRNN)    (None, 50)                6050      \n",
            "                                                                 \n",
            " dense (Dense)               (None, 5)                 255       \n",
            "                                                                 \n",
            "=================================================================\n",
            "Total params: 11,415\n",
            "Trainable params: 11,415\n",
            "Non-trainable params: 0\n",
            "_________________________________________________________________\n"
          ]
        }
      ],
      "source": [
        "model = Sequential([\n",
        "    SimpleRNN(70, return_sequences=True, input_shape=[None, 2]),\n",
        "    SimpleRNN(50, return_sequences=False),\n",
        "    Dense(5, activation='softmax')\n",
        "])\n",
        "model.summary()"
      ]
    },
    {
      "cell_type": "code",
      "execution_count": null,
      "metadata": {
        "colab": {
          "base_uri": "https://localhost:8080/",
          "height": 803
        },
        "id": "phvQolHJExXx",
        "outputId": "94b625fa-541c-4a8b-8feb-c8868f5cf71a"
      },
      "outputs": [
        {
          "name": "stdout",
          "output_type": "stream",
          "text": [
            "Epoch 1/15\n",
            "88/88 [==============================] - 354s 4s/step - loss: 1.3944 - accuracy: 0.2832 - val_loss: 1.3075 - val_accuracy: 0.3200\n",
            "Epoch 2/15\n",
            "88/88 [==============================] - 355s 4s/step - loss: 1.3009 - accuracy: 0.3961 - val_loss: 1.2631 - val_accuracy: 0.4000\n",
            "Epoch 3/15\n",
            "88/88 [==============================] - 357s 4s/step - loss: 1.2490 - accuracy: 0.4271 - val_loss: 1.2456 - val_accuracy: 0.4467\n",
            "Epoch 4/15\n",
            "88/88 [==============================] - 356s 4s/step - loss: 1.1709 - accuracy: 0.4775 - val_loss: 1.0855 - val_accuracy: 0.4967\n",
            "Epoch 5/15\n",
            "88/88 [==============================] - 352s 4s/step - loss: 1.0670 - accuracy: 0.5393 - val_loss: 1.0039 - val_accuracy: 0.5567\n",
            "Epoch 6/15\n",
            "88/88 [==============================] - 353s 4s/step - loss: 1.0082 - accuracy: 0.5596 - val_loss: 0.9368 - val_accuracy: 0.5800\n",
            "Epoch 7/15\n",
            "88/88 [==============================] - 352s 4s/step - loss: 0.9187 - accuracy: 0.6121 - val_loss: 0.9477 - val_accuracy: 0.5767\n",
            "Epoch 8/15\n",
            "88/88 [==============================] - 352s 4s/step - loss: 0.9251 - accuracy: 0.6161 - val_loss: 0.9715 - val_accuracy: 0.5433\n",
            "Epoch 9/15\n",
            "88/88 [==============================] - 353s 4s/step - loss: 0.8936 - accuracy: 0.6289 - val_loss: 0.8270 - val_accuracy: 0.6417\n",
            "Epoch 10/15\n",
            "88/88 [==============================] - 352s 4s/step - loss: 0.8145 - accuracy: 0.6682 - val_loss: 0.8041 - val_accuracy: 0.6750\n",
            "Epoch 11/15\n",
            "88/88 [==============================] - 353s 4s/step - loss: 0.7852 - accuracy: 0.6918 - val_loss: 0.8002 - val_accuracy: 0.6733\n",
            "Epoch 12/15\n",
            "88/88 [==============================] - 353s 4s/step - loss: 0.7419 - accuracy: 0.7057 - val_loss: 0.7440 - val_accuracy: 0.7083\n",
            "Epoch 13/15\n",
            "88/88 [==============================] - 353s 4s/step - loss: 0.7081 - accuracy: 0.7257 - val_loss: 0.6948 - val_accuracy: 0.7133\n",
            "Epoch 14/15\n",
            "88/88 [==============================] - 355s 4s/step - loss: 0.6872 - accuracy: 0.7321 - val_loss: 0.7021 - val_accuracy: 0.7350\n",
            "Epoch 15/15\n",
            "88/88 [==============================] - 354s 4s/step - loss: 0.6745 - accuracy: 0.7407 - val_loss: 0.6550 - val_accuracy: 0.7600\n"
          ]
        },
        {
          "data": {
            "image/png": "[encoded data removed]",
            "text/plain": [
              "<Figure size 432x288 with 1 Axes>"
            ]
          },
          "metadata": {},
          "output_type": "display_data"
        },
        {
          "data": {
            "text/plain": [
              "<keras.engine.sequential.Sequential at 0x7f671f24b0d0>"
            ]
          },
          "execution_count": 20,
          "metadata": {},
          "output_type": "execute_result"
        }
      ],
      "source": [
        "train_plot(model)"
      ]
    },
    {
      "cell_type": "markdown",
      "source": [
        "The deeper RNN has a good validation accuracy of 76%, however it is too computationally intensive to use for that level of accuracy.  "
      ],
      "metadata": {
        "id": "mldSoq_4aLXR"
      }
    },
    {
      "cell_type": "markdown",
      "metadata": {
        "id": "OP3NTvtcW3r3"
      },
      "source": [
        "####Long Short Term Memory (LSTM)"
      ]
    },
    {
      "cell_type": "code",
      "execution_count": null,
      "metadata": {
        "id": "XFJdt01ljZcD"
      },
      "outputs": [],
      "source": [
        "tf.keras.backend.clear_session()\n",
        "np.random.seed(400)\n",
        "tf.random.set_seed(830)"
      ]
    },
    {
      "cell_type": "code",
      "execution_count": null,
      "metadata": {
        "colab": {
          "base_uri": "https://localhost:8080/"
        },
        "id": "qaR_nxT4W3Q-",
        "outputId": "4ccf0c5c-398d-4ef0-a997-308551ba043c"
      },
      "outputs": [
        {
          "name": "stdout",
          "output_type": "stream",
          "text": [
            "Model: \"sequential\"\n",
            "_________________________________________________________________\n",
            " Layer (type)                Output Shape              Param #   \n",
            "=================================================================\n",
            " lstm (LSTM)                 (None, None, 50)          10600     \n",
            "                                                                 \n",
            " lstm_1 (LSTM)               (None, 50)                20200     \n",
            "                                                                 \n",
            " dense (Dense)               (None, 10)                510       \n",
            "                                                                 \n",
            "=================================================================\n",
            "Total params: 31,310\n",
            "Trainable params: 31,310\n",
            "Non-trainable params: 0\n",
            "_________________________________________________________________\n"
          ]
        }
      ],
      "source": [
        "model = Sequential([\n",
        "    LSTM(50, return_sequences=True, input_shape=[None, 2]),\n",
        "    LSTM(50, return_sequences = False),\n",
        "    Dense(10, activation='softmax')\n",
        "])\n",
        "model.summary()"
      ]
    },
    {
      "cell_type": "code",
      "execution_count": null,
      "metadata": {
        "colab": {
          "base_uri": "https://localhost:8080/",
          "height": 804
        },
        "id": "_Xr3ydNLjWii",
        "outputId": "5e659be5-e1f9-4710-9d74-be7bea124116"
      },
      "outputs": [
        {
          "name": "stdout",
          "output_type": "stream",
          "text": [
            "Epoch 1/15\n",
            "88/88 [==============================] - 530s 6s/step - loss: 1.4899 - accuracy: 0.2807 - val_loss: 1.3696 - val_accuracy: 0.3183\n",
            "Epoch 2/15\n",
            "88/88 [==============================] - 526s 6s/step - loss: 1.3621 - accuracy: 0.3171 - val_loss: 1.3359 - val_accuracy: 0.3667\n",
            "Epoch 3/15\n",
            "88/88 [==============================] - 527s 6s/step - loss: 1.3329 - accuracy: 0.3611 - val_loss: 1.3322 - val_accuracy: 0.4017\n",
            "Epoch 4/15\n",
            "88/88 [==============================] - 522s 6s/step - loss: 1.3280 - accuracy: 0.3650 - val_loss: 1.3072 - val_accuracy: 0.3117\n",
            "Epoch 5/15\n",
            "88/88 [==============================] - 521s 6s/step - loss: 1.3164 - accuracy: 0.3711 - val_loss: 1.2840 - val_accuracy: 0.3983\n",
            "Epoch 6/15\n",
            "88/88 [==============================] - 523s 6s/step - loss: 1.2971 - accuracy: 0.3993 - val_loss: 1.2757 - val_accuracy: 0.3700\n",
            "Epoch 7/15\n",
            "88/88 [==============================] - 526s 6s/step - loss: 1.2822 - accuracy: 0.4168 - val_loss: 1.2574 - val_accuracy: 0.3783\n",
            "Epoch 8/15\n",
            "88/88 [==============================] - 525s 6s/step - loss: 1.2696 - accuracy: 0.4286 - val_loss: 1.2354 - val_accuracy: 0.4267\n",
            "Epoch 9/15\n",
            "88/88 [==============================] - 526s 6s/step - loss: 1.2613 - accuracy: 0.4300 - val_loss: 1.2191 - val_accuracy: 0.4217\n",
            "Epoch 10/15\n",
            "88/88 [==============================] - 527s 6s/step - loss: 1.2453 - accuracy: 0.4454 - val_loss: 1.2250 - val_accuracy: 0.4300\n",
            "Epoch 11/15\n",
            "88/88 [==============================] - 524s 6s/step - loss: 1.2324 - accuracy: 0.4404 - val_loss: 1.1927 - val_accuracy: 0.4517\n",
            "Epoch 12/15\n",
            "88/88 [==============================] - 524s 6s/step - loss: 1.2216 - accuracy: 0.4450 - val_loss: 1.1829 - val_accuracy: 0.4517\n",
            "Epoch 13/15\n",
            "88/88 [==============================] - 523s 6s/step - loss: 1.2237 - accuracy: 0.4411 - val_loss: 1.1839 - val_accuracy: 0.4483\n",
            "Epoch 14/15\n",
            "88/88 [==============================] - 524s 6s/step - loss: 1.2075 - accuracy: 0.4525 - val_loss: 1.1817 - val_accuracy: 0.4533\n",
            "Epoch 15/15\n",
            "88/88 [==============================] - 523s 6s/step - loss: 1.1981 - accuracy: 0.4568 - val_loss: 1.1660 - val_accuracy: 0.4617\n"
          ]
        },
        {
          "data": {
            "image/png": "[encoded data removed]",
            "text/plain": [
              "<Figure size 432x288 with 1 Axes>"
            ]
          },
          "metadata": {},
          "output_type": "display_data"
        },
        {
          "data": {
            "text/plain": [
              "<keras.engine.sequential.Sequential at 0x7f6720109cd0>"
            ]
          },
          "execution_count": 23,
          "metadata": {},
          "output_type": "execute_result"
        }
      ],
      "source": [
        "train_plot(model)"
      ]
    },
    {
      "cell_type": "markdown",
      "source": [
        "LSTM networks were designed to be capable of learning long-term dependencies. However, in this case, the validation accuracy is only 46%, and seems to be tending towards overfitting. Moreover, the amount of time taken per epoch means it is unfeasible to use."
      ],
      "metadata": {
        "id": "uxzUhQMaanaK"
      }
    },
    {
      "cell_type": "markdown",
      "metadata": {
        "id": "8BQD6ovoHt5f"
      },
      "source": [
        "####Gated Recurrent Units (GRU)"
      ]
    },
    {
      "cell_type": "code",
      "execution_count": null,
      "metadata": {
        "id": "IF6DXbf6x1De"
      },
      "outputs": [],
      "source": [
        "tf.keras.backend.clear_session()\n",
        "np.random.seed(400)\n",
        "tf.random.set_seed(830)"
      ]
    },
    {
      "cell_type": "code",
      "execution_count": null,
      "metadata": {
        "colab": {
          "base_uri": "https://localhost:8080/"
        },
        "id": "hMA1ydNsxyP5",
        "outputId": "11371adb-18ce-4958-cfb6-8f285aea1e69"
      },
      "outputs": [
        {
          "name": "stdout",
          "output_type": "stream",
          "text": [
            "Model: \"sequential\"\n",
            "_________________________________________________________________\n",
            " Layer (type)                Output Shape              Param #   \n",
            "=================================================================\n",
            " gru (GRU)                   (None, None, 200)         122400    \n",
            "                                                                 \n",
            " gru_1 (GRU)                 (None, None, 30)          20880     \n",
            "                                                                 \n",
            " gru_2 (GRU)                 (None, 30)                5580      \n",
            "                                                                 \n",
            " dense (Dense)               (None, 10)                310       \n",
            "                                                                 \n",
            "=================================================================\n",
            "Total params: 149,170\n",
            "Trainable params: 149,170\n",
            "Non-trainable params: 0\n",
            "_________________________________________________________________\n"
          ]
        }
      ],
      "source": [
        "model = Sequential([\n",
        "    GRU(200, return_sequences=True, input_shape=[None, 2]),\n",
        "    GRU(30, return_sequences= True),\n",
        "    GRU(30, return_sequences = False),\n",
        "    Dense(10, activation='softmax')\n",
        "])\n",
        "model.summary()"
      ]
    },
    {
      "cell_type": "code",
      "execution_count": null,
      "metadata": {
        "colab": {
          "background_save": true,
          "base_uri": "https://localhost:8080/"
        },
        "id": "nBkLLwHGx4b6",
        "outputId": "e8511bd4-5f31-4910-bb58-36e700ad3738"
      },
      "outputs": [
        {
          "name": "stdout",
          "output_type": "stream",
          "text": [
            "Epoch 1/15\n",
            "88/88 [==============================] - 1148s 13s/step - loss: 1.4884 - accuracy: 0.2621 - val_loss: 1.3972 - val_accuracy: 0.2900\n",
            "Epoch 2/15\n",
            "88/88 [==============================] - 1121s 13s/step - loss: 1.3435 - accuracy: 0.3571 - val_loss: 1.2623 - val_accuracy: 0.4467\n",
            "Epoch 3/15\n",
            "88/88 [==============================] - 1134s 13s/step - loss: 1.1749 - accuracy: 0.5079 - val_loss: 1.0509 - val_accuracy: 0.5267\n",
            "Epoch 4/15\n",
            "88/88 [==============================] - 1132s 13s/step - loss: 0.9737 - accuracy: 0.6004 - val_loss: 0.8768 - val_accuracy: 0.5800\n",
            "Epoch 5/15\n",
            "88/88 [==============================] - 1130s 13s/step - loss: 0.8012 - accuracy: 0.6843 - val_loss: 0.6930 - val_accuracy: 0.7217\n",
            "Epoch 6/15\n",
            "88/88 [==============================] - 1133s 13s/step - loss: 0.6771 - accuracy: 0.7307 - val_loss: 0.5941 - val_accuracy: 0.7650\n",
            "Epoch 7/15\n",
            "88/88 [==============================] - 1135s 13s/step - loss: 0.5824 - accuracy: 0.7704 - val_loss: 0.5577 - val_accuracy: 0.7100\n",
            "Epoch 8/15\n",
            "88/88 [==============================] - 1133s 13s/step - loss: 0.5356 - accuracy: 0.7964 - val_loss: 0.6162 - val_accuracy: 0.7450\n",
            "Epoch 9/15\n",
            "88/88 [==============================] - 1137s 13s/step - loss: 0.5240 - accuracy: 0.8004 - val_loss: 0.4195 - val_accuracy: 0.8300\n",
            "Epoch 10/15\n",
            "88/88 [==============================] - 1130s 13s/step - loss: 0.4374 - accuracy: 0.8343 - val_loss: 0.4230 - val_accuracy: 0.8483\n",
            "Epoch 11/15\n",
            "88/88 [==============================] - 1135s 13s/step - loss: 0.4084 - accuracy: 0.8504 - val_loss: 0.4121 - val_accuracy: 0.8533\n",
            "Epoch 12/15\n",
            "88/88 [==============================] - 1136s 13s/step - loss: 0.3949 - accuracy: 0.8561 - val_loss: 0.3999 - val_accuracy: 0.8450\n",
            "Epoch 13/15\n",
            "88/88 [==============================] - 1133s 13s/step - loss: 0.3418 - accuracy: 0.8721 - val_loss: 0.3406 - val_accuracy: 0.8667\n",
            "Epoch 14/15\n",
            "88/88 [==============================] - 1148s 13s/step - loss: 0.3068 - accuracy: 0.8896 - val_loss: 0.3153 - val_accuracy: 0.8633\n",
            "Epoch 15/15\n",
            "88/88 [==============================] - 1142s 13s/step - loss: 0.3027 - accuracy: 0.8871 - val_loss: 0.3228 - val_accuracy: 0.8633\n"
          ]
        },
        {
          "data": {
            "image/png": "[encoded data removed]",
            "text/plain": [
              "<Figure size 432x288 with 1 Axes>"
            ]
          },
          "metadata": {},
          "output_type": "display_data"
        },
        {
          "data": {
            "text/plain": [
              "<keras.engine.sequential.Sequential at 0x7fa8b16cc590>"
            ]
          },
          "execution_count": null,
          "metadata": {},
          "output_type": "execute_result"
        }
      ],
      "source": [
        "train_plot(model)"
      ]
    },
    {
      "cell_type": "markdown",
      "source": [
        "The GRU network was very computationally intensive, taking twice the time of the LSTM network, however shoed very promising results, with a validation acuracy of 86.33%. The graph however shows there may be chances of overfitting occurring with more epochs."
      ],
      "metadata": {
        "id": "mP9JMOGecJHY"
      }
    },
    {
      "cell_type": "markdown",
      "metadata": {
        "id": "65imNjgZW8MC"
      },
      "source": [
        "####1Dimensional Convolutional Layer (Conv1D)"
      ]
    },
    {
      "cell_type": "code",
      "execution_count": null,
      "metadata": {
        "colab": {
          "background_save": true
        },
        "id": "p_WxyIJDtycE"
      },
      "outputs": [],
      "source": [
        "tf.keras.backend.clear_session()\n",
        "np.random.seed(400)\n",
        "tf.random.set_seed(830)"
      ]
    },
    {
      "cell_type": "code",
      "execution_count": null,
      "metadata": {
        "colab": {
          "background_save": true
        },
        "id": "yfe7zlsBXBcN",
        "outputId": "0f03816a-5e53-4b4f-84ac-4799f7f6bab5"
      },
      "outputs": [
        {
          "name": "stdout",
          "output_type": "stream",
          "text": [
            "Model: \"sequential\"\n",
            "_________________________________________________________________\n",
            " Layer (type)                Output Shape              Param #   \n",
            "=================================================================\n",
            " conv1d (Conv1D)             (None, None, 20)          180       \n",
            "                                                                 \n",
            " simple_rnn (SimpleRNN)      (None, 50)                3550      \n",
            "                                                                 \n",
            " dense (Dense)               (None, 15)                765       \n",
            "                                                                 \n",
            "=================================================================\n",
            "Total params: 4,495\n",
            "Trainable params: 4,495\n",
            "Non-trainable params: 0\n",
            "_________________________________________________________________\n"
          ]
        }
      ],
      "source": [
        "model = Sequential([\n",
        "    Conv1D(filters=20, kernel_size=4, strides=2, padding=\"valid\",input_shape=[None, 2]),\n",
        "    SimpleRNN(50, return_sequences=False),\n",
        "    Dense(15, activation='softmax')\n",
        "])\n",
        "model.summary()"
      ]
    },
    {
      "cell_type": "code",
      "execution_count": null,
      "metadata": {
        "colab": {
          "background_save": true
        },
        "id": "mm8T1ia0uAkm",
        "outputId": "08f59543-8eb8-4902-f274-10aafb0c978c"
      },
      "outputs": [
        {
          "name": "stdout",
          "output_type": "stream",
          "text": [
            "Epoch 1/15\n",
            "88/88 [==============================] - 241s 3s/step - loss: 1.5261 - accuracy: 0.3668 - val_loss: 1.2903 - val_accuracy: 0.3917\n",
            "Epoch 2/15\n",
            "88/88 [==============================] - 237s 3s/step - loss: 1.2702 - accuracy: 0.4439 - val_loss: 1.2125 - val_accuracy: 0.4733\n",
            "Epoch 3/15\n",
            "88/88 [==============================] - 239s 3s/step - loss: 1.2082 - accuracy: 0.4675 - val_loss: 1.1922 - val_accuracy: 0.4817\n",
            "Epoch 4/15\n",
            "88/88 [==============================] - 239s 3s/step - loss: 1.1868 - accuracy: 0.4889 - val_loss: 1.1567 - val_accuracy: 0.4833\n",
            "Epoch 5/15\n",
            "88/88 [==============================] - 236s 3s/step - loss: 1.1594 - accuracy: 0.4911 - val_loss: 1.1201 - val_accuracy: 0.4900\n",
            "Epoch 6/15\n",
            "88/88 [==============================] - 236s 3s/step - loss: 1.1353 - accuracy: 0.5057 - val_loss: 1.0785 - val_accuracy: 0.5267\n",
            "Epoch 7/15\n",
            "88/88 [==============================] - 237s 3s/step - loss: 1.1163 - accuracy: 0.5214 - val_loss: 1.0692 - val_accuracy: 0.5267\n",
            "Epoch 8/15\n",
            "88/88 [==============================] - 238s 3s/step - loss: 1.0996 - accuracy: 0.5368 - val_loss: 1.0593 - val_accuracy: 0.5417\n",
            "Epoch 9/15\n",
            "88/88 [==============================] - 238s 3s/step - loss: 1.0791 - accuracy: 0.5386 - val_loss: 1.0525 - val_accuracy: 0.5500\n",
            "Epoch 10/15\n",
            "88/88 [==============================] - 238s 3s/step - loss: 1.0731 - accuracy: 0.5450 - val_loss: 1.0233 - val_accuracy: 0.5383\n",
            "Epoch 11/15\n",
            "88/88 [==============================] - 237s 3s/step - loss: 1.0535 - accuracy: 0.5518 - val_loss: 1.0326 - val_accuracy: 0.5567\n",
            "Epoch 12/15\n",
            "88/88 [==============================] - 238s 3s/step - loss: 1.0381 - accuracy: 0.5611 - val_loss: 1.0116 - val_accuracy: 0.5700\n",
            "Epoch 13/15\n",
            "88/88 [==============================] - 236s 3s/step - loss: 1.0200 - accuracy: 0.5671 - val_loss: 0.9698 - val_accuracy: 0.5883\n",
            "Epoch 14/15\n",
            "88/88 [==============================] - 236s 3s/step - loss: 1.0028 - accuracy: 0.5675 - val_loss: 0.9731 - val_accuracy: 0.5717\n",
            "Epoch 15/15\n",
            "88/88 [==============================] - 238s 3s/step - loss: 0.9873 - accuracy: 0.5843 - val_loss: 0.9535 - val_accuracy: 0.5950\n"
          ]
        },
        {
          "data": {
            "image/png": "[encoded data removed]",
            "text/plain": [
              "<Figure size 432x288 with 1 Axes>"
            ]
          },
          "metadata": {},
          "output_type": "display_data"
        },
        {
          "data": {
            "text/plain": [
              "<keras.engine.sequential.Sequential at 0x7f34c5817210>"
            ]
          },
          "execution_count": null,
          "metadata": {},
          "output_type": "execute_result"
        }
      ],
      "source": [
        "train_plot(model)"
      ]
    },
    {
      "cell_type": "markdown",
      "source": [
        "The Conv1D network showed poor accuracy, however was comparitively fast. In spite of the speed, poor accuracy means this model is unfeasible. "
      ],
      "metadata": {
        "id": "zetDw-utcs1b"
      }
    },
    {
      "cell_type": "markdown",
      "metadata": {
        "id": "8ipeCmkKwKYQ"
      },
      "source": [
        "# Question 2"
      ]
    },
    {
      "cell_type": "markdown",
      "metadata": {
        "id": "M9WlK9mPwbnJ"
      },
      "source": [
        "Another tool for analyzing time-series data is convolutional neural networks with 2D convolutional layers. For this to work, time series need to be converted into “images” (matrices of numbers). The paper “Convolutional neural network fault classification based on time series analysis for benchmark wind turbine machine” by Rahimilarki, Gao, Jin, and Zhang (published 2022 in “Renewable Energy” and available through the City-library) describes how two-dimensional CNNs can be applied to the problem at hand. Consider sections \n",
        "4 and 5 that depict the process of converting one or multiple time series into “images” used within a CNN.\n",
        "\n",
        "In your own words, explain why the approach outlined here can help analyze time-series \n",
        "data and why it might outperform RNNs"
      ]
    },
    {
      "cell_type": "markdown",
      "metadata": {
        "id": "Y58-SJN_OWAY"
      },
      "source": [
        "##### Answer"
      ]
    },
    {
      "cell_type": "markdown",
      "metadata": {
        "id": "GQJMSB8OB30D"
      },
      "source": [
        "A Convolutional Neural Network (CNN) structure consists of 3 parts, namely the convolutional layer, the pooling layer and the fully connected layer. The convolutional layer is similar to a neural network, where each neuron is connected to a bunch of neurons in a previous layer. The kernel is a part of this layer, that act like matrices of the filters of the convolutional layer. The pooling layer will reduce the sampling rate of the input, to prevent overfitting and reduce dimension of the space. Finally, the fully connected neural network, is used to classify, or regress in supervised learning. \n",
        "Time series signals can be converted into 2-D images, through filling each row of an image matrix step-by-step with the time series data. A CNN will gather information through analysis of individual pixels relationships with their neighbours, which means neighbouring pixels should have a very similar correlation with the exception of faulty ones. Working with time-series signals is extremely difficult, hence conversion of the raw-data into a 2D greyscale image is a very important pre-processing step. The paper tried multiple methods, and the conclusion reached by the authors was that the addition of a convolutional layer increased the accuracy of both the training and validation. The CNN’s were able to classify even the smallest of faults and anomalies in the presence of noise, and adding the convolutional layer increased accuracy to 96.2% in 5000 records. \n",
        "\n",
        "Upon doing further research, it also seems that CNNs are computationally cheaper than RNNs; they don’t require a complete history as they only learn patterns within a time period and can also see the data from a broader perspective (Convolutional Neural Network (CNN) for Time Series Classification - スマートファクトリー - マクニカ, 2020)."
      ]
    },
    {
      "cell_type": "markdown",
      "metadata": {
        "id": "Y7eB-BtDwdJ0"
      },
      "source": [
        "# Question 3 "
      ]
    },
    {
      "cell_type": "markdown",
      "metadata": {
        "id": "qe9QiUgrymRu"
      },
      "source": [
        "Convert the data for use with a CNN. In particular, following the approach outlined in Scenario 2 (section 5.3 of the paper) and summarized in Figure 18 convert the two time series corresponding to one wind turbine run into a single (100,100,1) array (i.e., a gray-scale image).\n"
      ]
    },
    {
      "cell_type": "code",
      "execution_count": 4,
      "metadata": {
        "id": "kMws_UuQywxt"
      },
      "outputs": [],
      "source": [
        "with open('time_series_1.pickle', 'rb') as handle:\n",
        "  time_series_1_3 = pickle.load(handle)\n",
        "with open('time_series_2.pickle', 'rb') as handle:\n",
        "  time_series_2_3 = pickle.load(handle)  \n",
        "with open('y.pickle', 'rb') as handle:\n",
        "  y_pickle2 = pickle.load(handle)"
      ]
    },
    {
      "cell_type": "code",
      "execution_count": 5,
      "metadata": {
        "id": "VPsULqJby9OT"
      },
      "outputs": [],
      "source": [
        "TimeSeries_combined_Q3 = np.hstack((time_series_1_3, time_series_2_3))"
      ]
    },
    {
      "cell_type": "code",
      "execution_count": 6,
      "metadata": {
        "colab": {
          "base_uri": "https://localhost:8080/"
        },
        "id": "I8TxmLyQzUhC",
        "outputId": "036d1a89-0b80-46b0-dc65-e81c7b2964bb"
      },
      "outputs": [
        {
          "output_type": "execute_result",
          "data": {
            "text/plain": [
              "(4000, 10000)"
            ]
          },
          "metadata": {},
          "execution_count": 6
        }
      ],
      "source": [
        "TimeSeries_combined_Q3.shape"
      ]
    },
    {
      "cell_type": "markdown",
      "source": [
        "Splitting into test, train and validation"
      ],
      "metadata": {
        "id": "JUWz9ENTdQ8x"
      }
    },
    {
      "cell_type": "code",
      "execution_count": 7,
      "metadata": {
        "id": "EUoxzqydHHh0"
      },
      "outputs": [],
      "source": [
        "X_train_Q3, X_test_1_Q3, y_train_Q3, y_test_1_Q3 = train_test_split(TimeSeries_combined_Q3,y_pickle2,test_size = 0.3, random_state = 704)"
      ]
    },
    {
      "cell_type": "code",
      "execution_count": 8,
      "metadata": {
        "id": "t1q_Yls_HI-N"
      },
      "outputs": [],
      "source": [
        "X_test_Q3, X_val_Q3, y_test_Q3, y_val_Q3 = train_test_split(X_test_1_Q3, y_test_1_Q3,test_size = 0.5, random_state = 704)"
      ]
    },
    {
      "cell_type": "markdown",
      "source": [
        "Changing type"
      ],
      "metadata": {
        "id": "d1wyVDAjdVMi"
      }
    },
    {
      "cell_type": "code",
      "execution_count": 9,
      "metadata": {
        "id": "CxGLCGWC4UJX"
      },
      "outputs": [],
      "source": [
        "X_train_Q3 = X_train_Q3.astype('float32')\n",
        "X_val_Q3 = X_val_Q3.astype('float32')\n",
        "X_test_Q3 = X_test_Q3.astype('float32')"
      ]
    },
    {
      "cell_type": "code",
      "execution_count": 10,
      "metadata": {
        "id": "Os6z8MeF4nmO"
      },
      "outputs": [],
      "source": [
        "num_classes = 4\n",
        "img_rows, img_cols, img_channels = 100, 100, 1"
      ]
    },
    {
      "cell_type": "markdown",
      "source": [
        "One-hot encoding"
      ],
      "metadata": {
        "id": "HXNQHMKydLB1"
      }
    },
    {
      "cell_type": "code",
      "execution_count": 11,
      "metadata": {
        "id": "e9glBgJk5ByE"
      },
      "outputs": [],
      "source": [
        "y_train_Q3 = tf.keras.utils.to_categorical(y_train_Q3, num_classes)\n",
        "y_val_Q3 = tf.keras.utils.to_categorical(y_val_Q3, num_classes)\n",
        "y_test_Q3 = tf.keras.utils.to_categorical(y_test_Q3, num_classes)"
      ]
    },
    {
      "cell_type": "markdown",
      "source": [
        "Reshaping to a (100,100,1) image"
      ],
      "metadata": {
        "id": "KFkXW5grdXML"
      }
    },
    {
      "cell_type": "code",
      "execution_count": 12,
      "metadata": {
        "id": "pzIXsewn5epr"
      },
      "outputs": [],
      "source": [
        "if K.image_data_format() == 'channels_first':\n",
        "  X_train_Q3 = X_train_Q3.reshape(X_train_Q3.shape[0], img_channels, img_rows, img_cols)\n",
        "  X_val_Q3 = X_val_Q3.reshape(X_val_Q3.shape[0], img_channels, img_rows, img_cols)\n",
        "  X_test_Q3 = X_test_Q3.reshape(X_test_Q3.shape[0], img_channels, img_rows, img_cols)\n",
        "  input_shape = (img_channels, img_rows, img_cols)\n",
        "else:\n",
        "  X_train_Q3 = X_train_Q3.reshape(X_train_Q3.shape[0], img_rows, img_cols, img_channels)\n",
        "  X_val_Q3 = X_val_Q3.reshape(X_val_Q3.shape[0], img_rows, img_cols, img_channels)\n",
        "  X_test_Q3 = X_test_Q3.reshape(X_test_Q3.shape[0], img_rows, img_cols, img_channels)\n",
        "  input_shape = (img_rows, img_cols, img_channels)"
      ]
    },
    {
      "cell_type": "markdown",
      "metadata": {
        "id": "Ay8L9b737dYF"
      },
      "source": [
        "# Question 4\n"
      ]
    },
    {
      "cell_type": "markdown",
      "metadata": {
        "id": "mXcqVva2AAgc"
      },
      "source": [
        "In TensorFlow, replicate the CNN with two convolutional layers displayed in Figure 12 and train it on your data. Make sure to record your final validation set accuracy. (Figure 12 has 3 layers, so that CNN was made)\n",
        "![fig12.png](data:image/png;base64,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)"
      ]
    },
    {
      "cell_type": "markdown",
      "source": [
        "#####Training function for convolutional neural networks"
      ],
      "metadata": {
        "id": "_Q0MDifvibU1"
      }
    },
    {
      "cell_type": "code",
      "execution_count": 25,
      "metadata": {
        "id": "tkcRuJDC7pPJ"
      },
      "outputs": [],
      "source": [
        "def train_plot(modelCNN, learning_rate = 0.001, epochs = 30):\n",
        "    np.random.seed(312)\n",
        "    tf.random.set_seed(312)\n",
        "\n",
        "    modelCNN.compile(loss=tf.keras.losses.CategoricalCrossentropy(from_logits=True),\n",
        "                  optimizer=Adam(learning_rate = learning_rate),metrics=[\"accuracy\"])\n",
        "    early_stopping_cb = tf.keras.callbacks.EarlyStopping(patience = 5, restore_best_weights=True)\n",
        "    log = modelCNN.fit(X_train_Q3, y_train_Q3, epochs=epochs,\n",
        "                        validation_data=(X_val_Q3, y_val_Q3),\n",
        "                   callbacks = [early_stopping_cb])\n",
        "    \n",
        "    plt.plot(log.history['loss'],label = \"training loss\",color='deeppink')\n",
        "    plt.plot(log.history['val_loss'], label = \"validation loss\",color='turquoise')\n",
        "    plt.legend()\n",
        "    plt.show()\n",
        "    \n",
        "    y_pred = modelCNN.predict(X_val_Q3)\n",
        "    \n",
        "    return modelCNN"
      ]
    },
    {
      "cell_type": "code",
      "execution_count": 26,
      "metadata": {
        "id": "NOConXCi8U1M"
      },
      "outputs": [],
      "source": [
        "tf.keras.backend.clear_session()\n",
        "np.random.seed(400)\n",
        "tf.random.set_seed(830)"
      ]
    },
    {
      "cell_type": "code",
      "execution_count": 27,
      "metadata": {
        "colab": {
          "base_uri": "https://localhost:8080/"
        },
        "id": "5EPlawo58XkJ",
        "outputId": "fdd094b0-8010-4a1b-ca8d-b4d89622480d"
      },
      "outputs": [
        {
          "output_type": "stream",
          "name": "stdout",
          "text": [
            "Model: \"sequential\"\n",
            "_________________________________________________________________\n",
            " Layer (type)                Output Shape              Param #   \n",
            "=================================================================\n",
            " conv2d (Conv2D)             (None, 98, 98, 32)        320       \n",
            "                                                                 \n",
            " conv2d_1 (Conv2D)           (None, 96, 96, 32)        9248      \n",
            "                                                                 \n",
            " dropout (Dropout)           (None, 96, 96, 32)        0         \n",
            "                                                                 \n",
            " conv2d_2 (Conv2D)           (None, 94, 94, 16)        4624      \n",
            "                                                                 \n",
            " max_pooling2d (MaxPooling2D  (None, 31, 31, 16)       0         \n",
            " )                                                               \n",
            "                                                                 \n",
            " flatten (Flatten)           (None, 15376)             0         \n",
            "                                                                 \n",
            " dense (Dense)               (None, 4)                 61508     \n",
            "                                                                 \n",
            "=================================================================\n",
            "Total params: 75,700\n",
            "Trainable params: 75,700\n",
            "Non-trainable params: 0\n",
            "_________________________________________________________________\n"
          ]
        }
      ],
      "source": [
        "modelCNN = Sequential([\n",
        "                       Conv2D(32, kernel_size=(3,3), input_shape = input_shape),\n",
        "                       Conv2D(32, kernel_size=(3,3)),\n",
        "                       Dropout(0.2),\n",
        "                       Conv2D(16, kernel_size=(3,3), activation='relu'),\n",
        "                       MaxPooling2D(pool_size=(3,3)),\n",
        "                       Flatten(),\n",
        "                       Dense(num_classes, activation = 'softmax')])\n",
        "modelCNN.summary()"
      ]
    },
    {
      "cell_type": "code",
      "execution_count": 28,
      "metadata": {
        "colab": {
          "base_uri": "https://localhost:8080/",
          "height": 1000
        },
        "id": "U-PrG9_W9qvd",
        "outputId": "b5f45d17-aa95-49f4-c219-80dc1fd228c4"
      },
      "outputs": [
        {
          "output_type": "stream",
          "name": "stdout",
          "text": [
            "Epoch 1/30\n"
          ]
        },
        {
          "output_type": "stream",
          "name": "stderr",
          "text": [
            "/usr/local/lib/python3.7/dist-packages/tensorflow/python/util/dispatch.py:1082: UserWarning: \"`categorical_crossentropy` received `from_logits=True`, but the `output` argument was produced by a sigmoid or softmax activation and thus does not represent logits. Was this intended?\"\n",
            "  return dispatch_target(*args, **kwargs)\n"
          ]
        },
        {
          "output_type": "stream",
          "name": "stdout",
          "text": [
            "88/88 [==============================] - 2s 14ms/step - loss: 14.2059 - accuracy: 0.2850 - val_loss: 1.3865 - val_accuracy: 0.2517\n",
            "Epoch 2/30\n",
            "88/88 [==============================] - 1s 11ms/step - loss: 1.1938 - accuracy: 0.4589 - val_loss: 0.6890 - val_accuracy: 0.8150\n",
            "Epoch 3/30\n",
            "88/88 [==============================] - 1s 11ms/step - loss: 0.4374 - accuracy: 0.8393 - val_loss: 0.2781 - val_accuracy: 0.8917\n",
            "Epoch 4/30\n",
            "88/88 [==============================] - 1s 11ms/step - loss: 0.3341 - accuracy: 0.8768 - val_loss: 0.2736 - val_accuracy: 0.8667\n",
            "Epoch 5/30\n",
            "88/88 [==============================] - 1s 11ms/step - loss: 0.2856 - accuracy: 0.8775 - val_loss: 0.2343 - val_accuracy: 0.9017\n",
            "Epoch 6/30\n",
            "88/88 [==============================] - 1s 11ms/step - loss: 0.2843 - accuracy: 0.8829 - val_loss: 0.2410 - val_accuracy: 0.9000\n",
            "Epoch 7/30\n",
            "88/88 [==============================] - 1s 11ms/step - loss: 0.2700 - accuracy: 0.8850 - val_loss: 0.2330 - val_accuracy: 0.8750\n",
            "Epoch 8/30\n",
            "88/88 [==============================] - 1s 11ms/step - loss: 0.2701 - accuracy: 0.8800 - val_loss: 0.2387 - val_accuracy: 0.8817\n",
            "Epoch 9/30\n",
            "88/88 [==============================] - 1s 11ms/step - loss: 0.2627 - accuracy: 0.8850 - val_loss: 0.2823 - val_accuracy: 0.9000\n",
            "Epoch 10/30\n",
            "88/88 [==============================] - 1s 11ms/step - loss: 0.2505 - accuracy: 0.8961 - val_loss: 0.2404 - val_accuracy: 0.8983\n",
            "Epoch 11/30\n",
            "88/88 [==============================] - 1s 11ms/step - loss: 0.2504 - accuracy: 0.8882 - val_loss: 0.2249 - val_accuracy: 0.9000\n",
            "Epoch 12/30\n",
            "88/88 [==============================] - 1s 11ms/step - loss: 0.2501 - accuracy: 0.8950 - val_loss: 0.2527 - val_accuracy: 0.9000\n",
            "Epoch 13/30\n",
            "88/88 [==============================] - 1s 11ms/step - loss: 0.2503 - accuracy: 0.8868 - val_loss: 0.2241 - val_accuracy: 0.8967\n",
            "Epoch 14/30\n",
            "88/88 [==============================] - 1s 11ms/step - loss: 0.2471 - accuracy: 0.8932 - val_loss: 0.2433 - val_accuracy: 0.9000\n",
            "Epoch 15/30\n",
            "88/88 [==============================] - 1s 12ms/step - loss: 0.2451 - accuracy: 0.8911 - val_loss: 0.2154 - val_accuracy: 0.9000\n",
            "Epoch 16/30\n",
            "88/88 [==============================] - 1s 11ms/step - loss: 0.2347 - accuracy: 0.8918 - val_loss: 0.2218 - val_accuracy: 0.8950\n",
            "Epoch 17/30\n",
            "88/88 [==============================] - 1s 11ms/step - loss: 0.2398 - accuracy: 0.8957 - val_loss: 0.2189 - val_accuracy: 0.9000\n",
            "Epoch 18/30\n",
            "88/88 [==============================] - 1s 11ms/step - loss: 0.2358 - accuracy: 0.8939 - val_loss: 0.2418 - val_accuracy: 0.8933\n",
            "Epoch 19/30\n",
            "88/88 [==============================] - 1s 11ms/step - loss: 0.2353 - accuracy: 0.8961 - val_loss: 0.2293 - val_accuracy: 0.8900\n",
            "Epoch 20/30\n",
            "88/88 [==============================] - 1s 11ms/step - loss: 0.2351 - accuracy: 0.8964 - val_loss: 0.2206 - val_accuracy: 0.8967\n"
          ]
        },
        {
          "output_type": "display_data",
          "data": {
            "text/plain": [
              "<Figure size 432x288 with 1 Axes>"
            ],
            "image/png": "[encoded data removed]"
          },
          "metadata": {
            "needs_background": "light"
          }
        },
        {
          "output_type": "execute_result",
          "data": {
            "text/plain": [
              "<keras.engine.sequential.Sequential at 0x7f6414280210>"
            ]
          },
          "metadata": {},
          "execution_count": 28
        }
      ],
      "source": [
        "train_plot(modelCNN)"
      ]
    },
    {
      "cell_type": "markdown",
      "source": [
        "The model from the paper showed an excellent result, with a validation accuracy of 89.17%, It was also incredibly quick, with 20 epochs taking approximately 20 seconds. "
      ],
      "metadata": {
        "id": "v7c1ERn8dg2g"
      }
    },
    {
      "cell_type": "markdown",
      "metadata": {
        "id": "WTVOk08z_pNj"
      },
      "source": [
        "# Question 5"
      ]
    },
    {
      "cell_type": "markdown",
      "metadata": {
        "id": "l0eaB4XTA_34"
      },
      "source": [
        "Can you do better by adjusting the CNN? Be creative in your design choices (you might also consider pre-trained CNN architectures) and record your final validation set accuracy."
      ]
    },
    {
      "cell_type": "markdown",
      "metadata": {
        "id": "sMk-iXLOHF9Z"
      },
      "source": [
        "####CNN4-128"
      ]
    },
    {
      "cell_type": "markdown",
      "source": [
        "This model was 4 2d convolutional layers, with batch normalisation in each level; however no max pooling layer was included. "
      ],
      "metadata": {
        "id": "Y6K7Q4hseS7-"
      }
    },
    {
      "cell_type": "code",
      "execution_count": 30,
      "metadata": {
        "id": "PIYccuJxBgbE"
      },
      "outputs": [],
      "source": [
        "tf.keras.backend.clear_session()\n",
        "np.random.seed(400)\n",
        "tf.random.set_seed(830)"
      ]
    },
    {
      "cell_type": "code",
      "execution_count": 31,
      "metadata": {
        "colab": {
          "base_uri": "https://localhost:8080/"
        },
        "id": "w7f70573_rT_",
        "outputId": "906e0e7c-3c50-4c23-c0eb-241e951675cd"
      },
      "outputs": [
        {
          "output_type": "stream",
          "name": "stdout",
          "text": [
            "Model: \"sequential\"\n",
            "_________________________________________________________________\n",
            " Layer (type)                Output Shape              Param #   \n",
            "=================================================================\n",
            " conv2d (Conv2D)             (None, 98, 98, 128)       1280      \n",
            "                                                                 \n",
            " batch_normalization (BatchN  (None, 98, 98, 128)      512       \n",
            " ormalization)                                                   \n",
            "                                                                 \n",
            " conv2d_1 (Conv2D)           (None, 96, 96, 64)        73792     \n",
            "                                                                 \n",
            " batch_normalization_1 (Batc  (None, 96, 96, 64)       256       \n",
            " hNormalization)                                                 \n",
            "                                                                 \n",
            " dropout (Dropout)           (None, 96, 96, 64)        0         \n",
            "                                                                 \n",
            " conv2d_2 (Conv2D)           (None, 94, 94, 32)        18464     \n",
            "                                                                 \n",
            " conv2d_3 (Conv2D)           (None, 92, 92, 16)        4624      \n",
            "                                                                 \n",
            " batch_normalization_2 (Batc  (None, 92, 92, 16)       64        \n",
            " hNormalization)                                                 \n",
            "                                                                 \n",
            " flatten (Flatten)           (None, 135424)            0         \n",
            "                                                                 \n",
            " dense (Dense)               (None, 4)                 541700    \n",
            "                                                                 \n",
            "=================================================================\n",
            "Total params: 640,692\n",
            "Trainable params: 640,276\n",
            "Non-trainable params: 416\n",
            "_________________________________________________________________\n"
          ]
        }
      ],
      "source": [
        "modelCNN = Sequential([\n",
        "                       Conv2D(128, kernel_size=(3,3), input_shape = input_shape),\n",
        "                       BatchNormalization(),\n",
        "                       Conv2D(64, kernel_size=(3,3)),\n",
        "                       BatchNormalization(),\n",
        "                       Dropout(0.2),\n",
        "                       Conv2D(32, kernel_size=(3,3), activation='relu'),\n",
        "                       Conv2D(16, kernel_size=(3,3)),\n",
        "                       BatchNormalization(),\n",
        "                       Flatten(),\n",
        "                       Dense(num_classes, activation = 'softmax')])\n",
        "modelCNN.summary()"
      ]
    },
    {
      "cell_type": "code",
      "execution_count": 32,
      "metadata": {
        "colab": {
          "base_uri": "https://localhost:8080/",
          "height": 649
        },
        "id": "fQj_Fw9rE03Q",
        "outputId": "632fbbc3-aa22-4ee6-8312-44d87c5a20c9"
      },
      "outputs": [
        {
          "output_type": "stream",
          "name": "stdout",
          "text": [
            "Epoch 1/30\n"
          ]
        },
        {
          "output_type": "stream",
          "name": "stderr",
          "text": [
            "/usr/local/lib/python3.7/dist-packages/tensorflow/python/util/dispatch.py:1082: UserWarning: \"`categorical_crossentropy` received `from_logits=True`, but the `output` argument was produced by a sigmoid or softmax activation and thus does not represent logits. Was this intended?\"\n",
            "  return dispatch_target(*args, **kwargs)\n"
          ]
        },
        {
          "output_type": "stream",
          "name": "stdout",
          "text": [
            "88/88 [==============================] - 4s 39ms/step - loss: 7.3638 - accuracy: 0.7271 - val_loss: 5.6775 - val_accuracy: 0.7417\n",
            "Epoch 2/30\n",
            "88/88 [==============================] - 3s 36ms/step - loss: 2.3463 - accuracy: 0.8607 - val_loss: 3.6402 - val_accuracy: 0.7683\n",
            "Epoch 3/30\n",
            "88/88 [==============================] - 3s 36ms/step - loss: 3.4606 - accuracy: 0.8621 - val_loss: 5.6757 - val_accuracy: 0.8600\n",
            "Epoch 4/30\n",
            "88/88 [==============================] - 3s 36ms/step - loss: 2.4834 - accuracy: 0.8682 - val_loss: 0.9209 - val_accuracy: 0.8450\n",
            "Epoch 5/30\n",
            "88/88 [==============================] - 3s 36ms/step - loss: 1.8584 - accuracy: 0.8779 - val_loss: 2.3344 - val_accuracy: 0.7650\n",
            "Epoch 6/30\n",
            "88/88 [==============================] - 3s 36ms/step - loss: 1.9930 - accuracy: 0.8725 - val_loss: 1.7498 - val_accuracy: 0.8767\n",
            "Epoch 7/30\n",
            "88/88 [==============================] - 3s 36ms/step - loss: 1.7438 - accuracy: 0.8907 - val_loss: 1.8814 - val_accuracy: 0.8650\n",
            "Epoch 8/30\n",
            "88/88 [==============================] - 3s 36ms/step - loss: 2.0062 - accuracy: 0.8886 - val_loss: 2.6603 - val_accuracy: 0.8800\n",
            "Epoch 9/30\n",
            "88/88 [==============================] - 3s 36ms/step - loss: 0.9891 - accuracy: 0.9114 - val_loss: 1.7293 - val_accuracy: 0.8033\n"
          ]
        },
        {
          "output_type": "display_data",
          "data": {
            "text/plain": [
              "<Figure size 432x288 with 1 Axes>"
            ],
            "image/png": "[encoded data removed]"
          },
          "metadata": {
            "needs_background": "light"
          }
        },
        {
          "output_type": "execute_result",
          "data": {
            "text/plain": [
              "<keras.engine.sequential.Sequential at 0x7f63ef4aed90>"
            ]
          },
          "metadata": {},
          "execution_count": 32
        }
      ],
      "source": [
        "train_plot(modelCNN)"
      ]
    },
    {
      "cell_type": "markdown",
      "source": [
        "While accuracy was high, the network was clearly overfitting, and shows this isn't a good model"
      ],
      "metadata": {
        "id": "eVVSVdyUeoFX"
      }
    },
    {
      "cell_type": "markdown",
      "metadata": {
        "id": "RnCmhqD_HT2C"
      },
      "source": [
        "####CNN2-45"
      ]
    },
    {
      "cell_type": "markdown",
      "source": [
        "A two-layer 2D convolutional network, with batch normalisation. "
      ],
      "metadata": {
        "id": "ahLHs-iued9N"
      }
    },
    {
      "cell_type": "code",
      "execution_count": 33,
      "metadata": {
        "id": "lxa3Hr-BHi2e"
      },
      "outputs": [],
      "source": [
        "tf.keras.backend.clear_session()\n",
        "np.random.seed(400)\n",
        "tf.random.set_seed(830)"
      ]
    },
    {
      "cell_type": "code",
      "execution_count": 34,
      "metadata": {
        "colab": {
          "base_uri": "https://localhost:8080/"
        },
        "id": "NyT2Ai2XHu3y",
        "outputId": "7ce609f8-3bc3-4e89-f2fc-3fab3e62a9c6"
      },
      "outputs": [
        {
          "output_type": "stream",
          "name": "stdout",
          "text": [
            "Model: \"sequential\"\n",
            "_________________________________________________________________\n",
            " Layer (type)                Output Shape              Param #   \n",
            "=================================================================\n",
            " conv2d (Conv2D)             (None, 98, 98, 45)        450       \n",
            "                                                                 \n",
            " batch_normalization (BatchN  (None, 98, 98, 45)       180       \n",
            " ormalization)                                                   \n",
            "                                                                 \n",
            " dropout (Dropout)           (None, 98, 98, 45)        0         \n",
            "                                                                 \n",
            " conv2d_1 (Conv2D)           (None, 96, 96, 22)        8932      \n",
            "                                                                 \n",
            " batch_normalization_1 (Batc  (None, 96, 96, 22)       88        \n",
            " hNormalization)                                                 \n",
            "                                                                 \n",
            " flatten (Flatten)           (None, 202752)            0         \n",
            "                                                                 \n",
            " dense (Dense)               (None, 4)                 811012    \n",
            "                                                                 \n",
            "=================================================================\n",
            "Total params: 820,662\n",
            "Trainable params: 820,528\n",
            "Non-trainable params: 134\n",
            "_________________________________________________________________\n"
          ]
        }
      ],
      "source": [
        "modelCNN = Sequential([\n",
        "                       Conv2D(45, kernel_size=(3,3), input_shape = input_shape),\n",
        "                       BatchNormalization(),\n",
        "                       Dropout(0.2),\n",
        "                       Conv2D(22, kernel_size=(3,3), activation = 'relu'),\n",
        "                       BatchNormalization(),\n",
        "                       Flatten(),\n",
        "                       Dense(num_classes, activation = 'softmax')])\n",
        "modelCNN.summary()"
      ]
    },
    {
      "cell_type": "code",
      "execution_count": 35,
      "metadata": {
        "colab": {
          "base_uri": "https://localhost:8080/",
          "height": 753
        },
        "id": "eH2tVhsdIIxV",
        "outputId": "738d228f-6fa1-4292-b466-7a12a9902744"
      },
      "outputs": [
        {
          "output_type": "stream",
          "name": "stdout",
          "text": [
            "Epoch 1/30\n"
          ]
        },
        {
          "output_type": "stream",
          "name": "stderr",
          "text": [
            "/usr/local/lib/python3.7/dist-packages/tensorflow/python/util/dispatch.py:1082: UserWarning: \"`categorical_crossentropy` received `from_logits=True`, but the `output` argument was produced by a sigmoid or softmax activation and thus does not represent logits. Was this intended?\"\n",
            "  return dispatch_target(*args, **kwargs)\n"
          ]
        },
        {
          "output_type": "stream",
          "name": "stdout",
          "text": [
            "88/88 [==============================] - 2s 17ms/step - loss: 12.1176 - accuracy: 0.7425 - val_loss: 2.9651 - val_accuracy: 0.8733\n",
            "Epoch 2/30\n",
            "88/88 [==============================] - 1s 14ms/step - loss: 4.0972 - accuracy: 0.8614 - val_loss: 2.5476 - val_accuracy: 0.8950\n",
            "Epoch 3/30\n",
            "88/88 [==============================] - 1s 14ms/step - loss: 2.8142 - accuracy: 0.8675 - val_loss: 1.6990 - val_accuracy: 0.8933\n",
            "Epoch 4/30\n",
            "88/88 [==============================] - 1s 14ms/step - loss: 1.5812 - accuracy: 0.8786 - val_loss: 3.0553 - val_accuracy: 0.8117\n",
            "Epoch 5/30\n",
            "88/88 [==============================] - 1s 14ms/step - loss: 1.5195 - accuracy: 0.8725 - val_loss: 1.1281 - val_accuracy: 0.8417\n",
            "Epoch 6/30\n",
            "88/88 [==============================] - 1s 14ms/step - loss: 1.6259 - accuracy: 0.8793 - val_loss: 1.9909 - val_accuracy: 0.7800\n",
            "Epoch 7/30\n",
            "88/88 [==============================] - 1s 14ms/step - loss: 1.6821 - accuracy: 0.8761 - val_loss: 1.0247 - val_accuracy: 0.8717\n",
            "Epoch 8/30\n",
            "88/88 [==============================] - 1s 14ms/step - loss: 1.9206 - accuracy: 0.8743 - val_loss: 4.3841 - val_accuracy: 0.8517\n",
            "Epoch 9/30\n",
            "88/88 [==============================] - 1s 14ms/step - loss: 2.4052 - accuracy: 0.8843 - val_loss: 2.4571 - val_accuracy: 0.8050\n",
            "Epoch 10/30\n",
            "88/88 [==============================] - 1s 14ms/step - loss: 2.1652 - accuracy: 0.8796 - val_loss: 3.9462 - val_accuracy: 0.8633\n",
            "Epoch 11/30\n",
            "88/88 [==============================] - 1s 14ms/step - loss: 1.9211 - accuracy: 0.8900 - val_loss: 1.2737 - val_accuracy: 0.8550\n",
            "Epoch 12/30\n",
            "88/88 [==============================] - 1s 14ms/step - loss: 2.2346 - accuracy: 0.8886 - val_loss: 3.6319 - val_accuracy: 0.9000\n"
          ]
        },
        {
          "output_type": "display_data",
          "data": {
            "text/plain": [
              "<Figure size 432x288 with 1 Axes>"
            ],
            "image/png": "[encoded data removed]"
          },
          "metadata": {
            "needs_background": "light"
          }
        },
        {
          "output_type": "execute_result",
          "data": {
            "text/plain": [
              "<keras.engine.sequential.Sequential at 0x7f63f1cb6910>"
            ]
          },
          "metadata": {},
          "execution_count": 35
        }
      ],
      "source": [
        "train_plot(modelCNN)"
      ]
    },
    {
      "cell_type": "markdown",
      "source": [
        "The model had good accuracy, but had a huge overfitting problem"
      ],
      "metadata": {
        "id": "2ZyE8wC0ewzC"
      }
    },
    {
      "cell_type": "markdown",
      "metadata": {
        "id": "ON7QJmjXIf26"
      },
      "source": [
        "####CNN1-20"
      ]
    },
    {
      "cell_type": "markdown",
      "source": [
        ""
      ],
      "metadata": {
        "id": "RsUrp25AelvT"
      }
    },
    {
      "cell_type": "code",
      "execution_count": 36,
      "metadata": {
        "id": "KuDOSY_cI8yi"
      },
      "outputs": [],
      "source": [
        "tf.keras.backend.clear_session()\n",
        "np.random.seed(400)\n",
        "tf.random.set_seed(830)"
      ]
    },
    {
      "cell_type": "code",
      "execution_count": 37,
      "metadata": {
        "colab": {
          "base_uri": "https://localhost:8080/"
        },
        "id": "aHTGDaOxI__t",
        "outputId": "7dcccbce-aa6c-4798-e492-3548873c1397"
      },
      "outputs": [
        {
          "output_type": "stream",
          "name": "stdout",
          "text": [
            "Model: \"sequential\"\n",
            "_________________________________________________________________\n",
            " Layer (type)                Output Shape              Param #   \n",
            "=================================================================\n",
            " conv2d (Conv2D)             (None, 98, 98, 20)        200       \n",
            "                                                                 \n",
            " batch_normalization (BatchN  (None, 98, 98, 20)       80        \n",
            " ormalization)                                                   \n",
            "                                                                 \n",
            " max_pooling2d (MaxPooling2D  (None, 32, 32, 20)       0         \n",
            " )                                                               \n",
            "                                                                 \n",
            " flatten (Flatten)           (None, 20480)             0         \n",
            "                                                                 \n",
            " dense (Dense)               (None, 4)                 81924     \n",
            "                                                                 \n",
            "=================================================================\n",
            "Total params: 82,204\n",
            "Trainable params: 82,164\n",
            "Non-trainable params: 40\n",
            "_________________________________________________________________\n"
          ]
        }
      ],
      "source": [
        "modelCNN = Sequential([\n",
        "                       Conv2D(20, kernel_size=(3,3), input_shape = input_shape),\n",
        "                       BatchNormalization(),\n",
        "                       MaxPooling2D(pool_size=(3,3)),\n",
        "                       Flatten(),\n",
        "                       Dense(num_classes, activation = 'softmax')])\n",
        "modelCNN.summary()"
      ]
    },
    {
      "cell_type": "code",
      "execution_count": 38,
      "metadata": {
        "colab": {
          "base_uri": "https://localhost:8080/",
          "height": 719
        },
        "id": "uq055E2RJhYh",
        "outputId": "23a88067-b3f5-491a-ab7d-6a3f18db93c8"
      },
      "outputs": [
        {
          "output_type": "stream",
          "name": "stdout",
          "text": [
            "Epoch 1/30\n"
          ]
        },
        {
          "output_type": "stream",
          "name": "stderr",
          "text": [
            "/usr/local/lib/python3.7/dist-packages/tensorflow/python/util/dispatch.py:1082: UserWarning: \"`categorical_crossentropy` received `from_logits=True`, but the `output` argument was produced by a sigmoid or softmax activation and thus does not represent logits. Was this intended?\"\n",
            "  return dispatch_target(*args, **kwargs)\n"
          ]
        },
        {
          "output_type": "stream",
          "name": "stdout",
          "text": [
            "88/88 [==============================] - 1s 7ms/step - loss: 3.2367 - accuracy: 0.5582 - val_loss: 0.4964 - val_accuracy: 0.8900\n",
            "Epoch 2/30\n",
            "88/88 [==============================] - 0s 5ms/step - loss: 0.4120 - accuracy: 0.8682 - val_loss: 0.5974 - val_accuracy: 0.8117\n",
            "Epoch 3/30\n",
            "88/88 [==============================] - 0s 5ms/step - loss: 0.4893 - accuracy: 0.8650 - val_loss: 0.7038 - val_accuracy: 0.8767\n",
            "Epoch 4/30\n",
            "88/88 [==============================] - 0s 5ms/step - loss: 0.4722 - accuracy: 0.8657 - val_loss: 0.3031 - val_accuracy: 0.8933\n",
            "Epoch 5/30\n",
            "88/88 [==============================] - 0s 5ms/step - loss: 0.4885 - accuracy: 0.8596 - val_loss: 0.4839 - val_accuracy: 0.8517\n",
            "Epoch 6/30\n",
            "88/88 [==============================] - 0s 5ms/step - loss: 0.4340 - accuracy: 0.8721 - val_loss: 0.2335 - val_accuracy: 0.8483\n",
            "Epoch 7/30\n",
            "88/88 [==============================] - 0s 5ms/step - loss: 0.4707 - accuracy: 0.8739 - val_loss: 0.4892 - val_accuracy: 0.8733\n",
            "Epoch 8/30\n",
            "88/88 [==============================] - 0s 5ms/step - loss: 0.5563 - accuracy: 0.8600 - val_loss: 0.5110 - val_accuracy: 0.8117\n",
            "Epoch 9/30\n",
            "88/88 [==============================] - 0s 5ms/step - loss: 0.3112 - accuracy: 0.8821 - val_loss: 0.3869 - val_accuracy: 0.8050\n",
            "Epoch 10/30\n",
            "88/88 [==============================] - 0s 5ms/step - loss: 0.5994 - accuracy: 0.8611 - val_loss: 0.3149 - val_accuracy: 0.9000\n",
            "Epoch 11/30\n",
            "88/88 [==============================] - 0s 5ms/step - loss: 0.3826 - accuracy: 0.8732 - val_loss: 0.3735 - val_accuracy: 0.9000\n"
          ]
        },
        {
          "output_type": "display_data",
          "data": {
            "text/plain": [
              "<Figure size 432x288 with 1 Axes>"
            ],
            "image/png": "[encoded data removed]"
          },
          "metadata": {
            "needs_background": "light"
          }
        },
        {
          "output_type": "execute_result",
          "data": {
            "text/plain": [
              "<keras.engine.sequential.Sequential at 0x7f63f1b482d0>"
            ]
          },
          "metadata": {},
          "execution_count": 38
        }
      ],
      "source": [
        "train_plot(modelCNN)"
      ]
    },
    {
      "cell_type": "markdown",
      "source": [
        "Once again, the model had excellent validation accuracy, but was overfitting the data."
      ],
      "metadata": {
        "id": "HB3KP_1Ge2kx"
      }
    },
    {
      "cell_type": "markdown",
      "metadata": {
        "id": "zRHajaEKtYlY"
      },
      "source": [
        "####CNN4-128\n",
        "\n",
        "#####Added maxpooling"
      ]
    },
    {
      "cell_type": "markdown",
      "source": [
        "#####First model without batch normalisation"
      ],
      "metadata": {
        "id": "rwnyPFQkhcEm"
      }
    },
    {
      "cell_type": "code",
      "execution_count": 39,
      "metadata": {
        "id": "-jCgVotDJ6-y"
      },
      "outputs": [],
      "source": [
        "tf.keras.backend.clear_session()\n",
        "np.random.seed(400)\n",
        "tf.random.set_seed(830)"
      ]
    },
    {
      "cell_type": "code",
      "execution_count": 40,
      "metadata": {
        "colab": {
          "base_uri": "https://localhost:8080/"
        },
        "id": "VnooRx0drzmN",
        "outputId": "c1b6ee01-a3d9-4100-ed14-0045177231ea"
      },
      "outputs": [
        {
          "output_type": "stream",
          "name": "stdout",
          "text": [
            "Model: \"sequential\"\n",
            "_________________________________________________________________\n",
            " Layer (type)                Output Shape              Param #   \n",
            "=================================================================\n",
            " conv2d (Conv2D)             (None, 98, 98, 128)       1280      \n",
            "                                                                 \n",
            " conv2d_1 (Conv2D)           (None, 96, 96, 64)        73792     \n",
            "                                                                 \n",
            " dropout (Dropout)           (None, 96, 96, 64)        0         \n",
            "                                                                 \n",
            " conv2d_2 (Conv2D)           (None, 94, 94, 32)        18464     \n",
            "                                                                 \n",
            " conv2d_3 (Conv2D)           (None, 92, 92, 16)        4624      \n",
            "                                                                 \n",
            " max_pooling2d (MaxPooling2D  (None, 30, 30, 16)       0         \n",
            " )                                                               \n",
            "                                                                 \n",
            " flatten (Flatten)           (None, 14400)             0         \n",
            "                                                                 \n",
            " dense (Dense)               (None, 4)                 57604     \n",
            "                                                                 \n",
            "=================================================================\n",
            "Total params: 155,764\n",
            "Trainable params: 155,764\n",
            "Non-trainable params: 0\n",
            "_________________________________________________________________\n"
          ]
        }
      ],
      "source": [
        "modelCNN = Sequential([\n",
        "                       Conv2D(128, kernel_size=(3,3), input_shape = input_shape),\n",
        "                       Conv2D(64, kernel_size=(3,3)),\n",
        "                       Dropout(0.2),\n",
        "                       Conv2D(32, kernel_size=(3,3), activation='relu'),\n",
        "                       Conv2D(16, kernel_size=(3,3)),\n",
        "                       MaxPooling2D(pool_size=(3,3)),\n",
        "                       Flatten(),\n",
        "                       Dense(num_classes, activation = 'softmax')])\n",
        "modelCNN.summary()"
      ]
    },
    {
      "cell_type": "code",
      "execution_count": 41,
      "metadata": {
        "colab": {
          "base_uri": "https://localhost:8080/",
          "height": 649
        },
        "id": "qqdmI9gntVkp",
        "outputId": "6e96bffe-a2b2-4fda-c484-7351c1f834fe"
      },
      "outputs": [
        {
          "output_type": "stream",
          "name": "stdout",
          "text": [
            "Epoch 1/30\n"
          ]
        },
        {
          "output_type": "stream",
          "name": "stderr",
          "text": [
            "/usr/local/lib/python3.7/dist-packages/tensorflow/python/util/dispatch.py:1082: UserWarning: \"`categorical_crossentropy` received `from_logits=True`, but the `output` argument was produced by a sigmoid or softmax activation and thus does not represent logits. Was this intended?\"\n",
            "  return dispatch_target(*args, **kwargs)\n"
          ]
        },
        {
          "output_type": "stream",
          "name": "stdout",
          "text": [
            "88/88 [==============================] - 3s 32ms/step - loss: 10.0320 - accuracy: 0.2357 - val_loss: 1.3883 - val_accuracy: 0.2383\n",
            "Epoch 2/30\n",
            "88/88 [==============================] - 3s 30ms/step - loss: 1.3883 - accuracy: 0.2507 - val_loss: 1.3896 - val_accuracy: 0.2367\n",
            "Epoch 3/30\n",
            "88/88 [==============================] - 3s 30ms/step - loss: 1.3876 - accuracy: 0.2514 - val_loss: 1.3952 - val_accuracy: 0.2383\n",
            "Epoch 4/30\n",
            "88/88 [==============================] - 3s 30ms/step - loss: 1.3884 - accuracy: 0.2529 - val_loss: 1.3852 - val_accuracy: 0.2517\n",
            "Epoch 5/30\n",
            "88/88 [==============================] - 3s 30ms/step - loss: 1.3896 - accuracy: 0.2404 - val_loss: 1.3853 - val_accuracy: 0.2517\n",
            "Epoch 6/30\n",
            "88/88 [==============================] - 3s 30ms/step - loss: 1.3882 - accuracy: 0.2536 - val_loss: 1.3861 - val_accuracy: 0.2517\n",
            "Epoch 7/30\n",
            "88/88 [==============================] - 3s 30ms/step - loss: 1.3884 - accuracy: 0.2379 - val_loss: 1.3890 - val_accuracy: 0.2517\n",
            "Epoch 8/30\n",
            "88/88 [==============================] - 3s 30ms/step - loss: 1.3887 - accuracy: 0.2446 - val_loss: 1.3871 - val_accuracy: 0.2517\n",
            "Epoch 9/30\n",
            "88/88 [==============================] - 3s 30ms/step - loss: 1.3891 - accuracy: 0.2421 - val_loss: 1.3859 - val_accuracy: 0.2517\n"
          ]
        },
        {
          "output_type": "display_data",
          "data": {
            "text/plain": [
              "<Figure size 432x288 with 1 Axes>"
            ],
            "image/png": "[encoded data removed]"
          },
          "metadata": {
            "needs_background": "light"
          }
        },
        {
          "output_type": "execute_result",
          "data": {
            "text/plain": [
              "<keras.engine.sequential.Sequential at 0x7f63f1aadd50>"
            ]
          },
          "metadata": {},
          "execution_count": 41
        }
      ],
      "source": [
        "train_plot(modelCNN)"
      ]
    },
    {
      "cell_type": "markdown",
      "source": [
        "This model shows very poor accuracy, below 50%, so can be considered useless. "
      ],
      "metadata": {
        "id": "5JW4b-ydfASj"
      }
    },
    {
      "cell_type": "markdown",
      "source": [
        "#####Second model with batch normalisation. "
      ],
      "metadata": {
        "id": "LhxX3O_2eIv9"
      }
    },
    {
      "cell_type": "code",
      "execution_count": 42,
      "metadata": {
        "id": "9qzRFupze9aK"
      },
      "outputs": [],
      "source": [
        "tf.keras.backend.clear_session()\n",
        "np.random.seed(400)\n",
        "tf.random.set_seed(830)"
      ]
    },
    {
      "cell_type": "code",
      "execution_count": 43,
      "metadata": {
        "colab": {
          "base_uri": "https://localhost:8080/"
        },
        "id": "kjsw11d2esUe",
        "outputId": "34330462-3e67-4161-bf49-3d19f54b53a9"
      },
      "outputs": [
        {
          "output_type": "stream",
          "name": "stdout",
          "text": [
            "Model: \"sequential\"\n",
            "_________________________________________________________________\n",
            " Layer (type)                Output Shape              Param #   \n",
            "=================================================================\n",
            " conv2d (Conv2D)             (None, 98, 98, 128)       1280      \n",
            "                                                                 \n",
            " batch_normalization (BatchN  (None, 98, 98, 128)      512       \n",
            " ormalization)                                                   \n",
            "                                                                 \n",
            " conv2d_1 (Conv2D)           (None, 96, 96, 64)        73792     \n",
            "                                                                 \n",
            " batch_normalization_1 (Batc  (None, 96, 96, 64)       256       \n",
            " hNormalization)                                                 \n",
            "                                                                 \n",
            " dropout (Dropout)           (None, 96, 96, 64)        0         \n",
            "                                                                 \n",
            " conv2d_2 (Conv2D)           (None, 94, 94, 32)        18464     \n",
            "                                                                 \n",
            " batch_normalization_2 (Batc  (None, 94, 94, 32)       128       \n",
            " hNormalization)                                                 \n",
            "                                                                 \n",
            " conv2d_3 (Conv2D)           (None, 92, 92, 16)        4624      \n",
            "                                                                 \n",
            " batch_normalization_3 (Batc  (None, 92, 92, 16)       64        \n",
            " hNormalization)                                                 \n",
            "                                                                 \n",
            " max_pooling2d (MaxPooling2D  (None, 30, 30, 16)       0         \n",
            " )                                                               \n",
            "                                                                 \n",
            " flatten (Flatten)           (None, 14400)             0         \n",
            "                                                                 \n",
            " dense (Dense)               (None, 4)                 57604     \n",
            "                                                                 \n",
            "=================================================================\n",
            "Total params: 156,724\n",
            "Trainable params: 156,244\n",
            "Non-trainable params: 480\n",
            "_________________________________________________________________\n"
          ]
        }
      ],
      "source": [
        "modelCNN = Sequential([\n",
        "                       Conv2D(128, kernel_size=(3,3), input_shape = input_shape),\n",
        "                       BatchNormalization(),\n",
        "                       Conv2D(64, kernel_size=(3,3)),\n",
        "                       BatchNormalization(),\n",
        "                       Dropout(0.2),\n",
        "                       Conv2D(32, kernel_size=(3,3), activation='relu'),\n",
        "                       BatchNormalization(),\n",
        "                       Conv2D(16, kernel_size=(3,3)),\n",
        "                       BatchNormalization(),\n",
        "                       MaxPooling2D(pool_size=(3,3)),\n",
        "                       Flatten(),\n",
        "                       Dense(num_classes, activation = 'softmax')])\n",
        "modelCNN.summary()"
      ]
    },
    {
      "cell_type": "code",
      "execution_count": 44,
      "metadata": {
        "colab": {
          "base_uri": "https://localhost:8080/",
          "height": 649
        },
        "id": "_248vgvGe-iH",
        "outputId": "714fec3e-5759-4a15-f639-2bcd51bf8cc3"
      },
      "outputs": [
        {
          "output_type": "stream",
          "name": "stdout",
          "text": [
            "Epoch 1/30\n"
          ]
        },
        {
          "output_type": "stream",
          "name": "stderr",
          "text": [
            "/usr/local/lib/python3.7/dist-packages/tensorflow/python/util/dispatch.py:1082: UserWarning: \"`categorical_crossentropy` received `from_logits=True`, but the `output` argument was produced by a sigmoid or softmax activation and thus does not represent logits. Was this intended?\"\n",
            "  return dispatch_target(*args, **kwargs)\n"
          ]
        },
        {
          "output_type": "stream",
          "name": "stdout",
          "text": [
            "88/88 [==============================] - 4s 39ms/step - loss: 2.5074 - accuracy: 0.4082 - val_loss: 3.1664 - val_accuracy: 0.2383\n",
            "Epoch 2/30\n",
            "88/88 [==============================] - 3s 37ms/step - loss: 0.4250 - accuracy: 0.8525 - val_loss: 0.6276 - val_accuracy: 0.7433\n",
            "Epoch 3/30\n",
            "88/88 [==============================] - 3s 37ms/step - loss: 0.3566 - accuracy: 0.8700 - val_loss: 0.3944 - val_accuracy: 0.8783\n",
            "Epoch 4/30\n",
            "88/88 [==============================] - 3s 37ms/step - loss: 0.3566 - accuracy: 0.8700 - val_loss: 0.2374 - val_accuracy: 0.8983\n",
            "Epoch 5/30\n",
            "88/88 [==============================] - 3s 36ms/step - loss: 0.3504 - accuracy: 0.8664 - val_loss: 0.5581 - val_accuracy: 0.8450\n",
            "Epoch 6/30\n",
            "88/88 [==============================] - 3s 36ms/step - loss: 0.3637 - accuracy: 0.8693 - val_loss: 0.2448 - val_accuracy: 0.8983\n",
            "Epoch 7/30\n",
            "88/88 [==============================] - 3s 37ms/step - loss: 0.3413 - accuracy: 0.8793 - val_loss: 0.3077 - val_accuracy: 0.8717\n",
            "Epoch 8/30\n",
            "88/88 [==============================] - 3s 36ms/step - loss: 0.3138 - accuracy: 0.8804 - val_loss: 0.2628 - val_accuracy: 0.8500\n",
            "Epoch 9/30\n",
            "88/88 [==============================] - 3s 36ms/step - loss: 0.3044 - accuracy: 0.8832 - val_loss: 0.3924 - val_accuracy: 0.7883\n"
          ]
        },
        {
          "output_type": "display_data",
          "data": {
            "text/plain": [
              "<Figure size 432x288 with 1 Axes>"
            ],
            "image/png": "[encoded data removed]"
          },
          "metadata": {
            "needs_background": "light"
          }
        },
        {
          "output_type": "execute_result",
          "data": {
            "text/plain": [
              "<keras.engine.sequential.Sequential at 0x7f63f182b850>"
            ]
          },
          "metadata": {},
          "execution_count": 44
        }
      ],
      "source": [
        "train_plot(modelCNN)"
      ]
    },
    {
      "cell_type": "markdown",
      "source": [
        "The batch normalisation helped the model significantly, while the model does not seem to be suffering an overfitting problem, the accuracy is poor compared to the first model, so that is selected as the final one. "
      ],
      "metadata": {
        "id": "5O7J3VRXfxfR"
      }
    },
    {
      "cell_type": "markdown",
      "metadata": {
        "id": "lr92TUG2ULy5"
      },
      "source": [
        "# Question 6\n"
      ]
    },
    {
      "cell_type": "markdown",
      "metadata": {
        "id": "A5FHzyl5UbBv"
      },
      "source": [
        "Compare the models you have created so far (both RNNs and CNNs) and make a \n",
        "selection (making sure to justify this). Train that model on a combined training and validation set and evaluate it on your test set."
      ]
    },
    {
      "cell_type": "markdown",
      "metadata": {
        "id": "NfnExkEZAY7L"
      },
      "source": [
        "After attempting multiple different models, the original model from figure 12 was the one with the highest accuracy level, however the 4 layer CNN with 128 neurons, batch normalisation and max pooling was a close second. RNN networks were not considered due to their computationally intensive nature"
      ]
    },
    {
      "cell_type": "markdown",
      "source": [
        "Splitting into training and test sets, with a combined training and validation size. "
      ],
      "metadata": {
        "id": "7qA7O9Msh6kV"
      }
    },
    {
      "cell_type": "code",
      "execution_count": 17,
      "metadata": {
        "id": "r2aKam9ZH74S"
      },
      "outputs": [],
      "source": [
        "X_train_final, X_test_final, y_train_final, y_test_final = train_test_split(TimeSeries_combined_Q3, y_pickle2, train_size=0.85, random_state = 704)"
      ]
    },
    {
      "cell_type": "code",
      "execution_count": 18,
      "metadata": {
        "id": "cxUmo4gnnF3S"
      },
      "outputs": [],
      "source": [
        "X_train_final = X_train_final.astype('float32')\n",
        "X_test_final = X_test_final.astype('float32')\n"
      ]
    },
    {
      "cell_type": "code",
      "execution_count": 19,
      "metadata": {
        "id": "IBRtenOcnS9q"
      },
      "outputs": [],
      "source": [
        "y_train_final = tf.keras.utils.to_categorical(y_train_final, num_classes)\n",
        "\n",
        "y_test_final = tf.keras.utils.to_categorical(y_test_final, num_classes)"
      ]
    },
    {
      "cell_type": "markdown",
      "source": [
        "Reshaping the test and training sets into a (100,100,1) image"
      ],
      "metadata": {
        "id": "aOcZHgPxh0yS"
      }
    },
    {
      "cell_type": "code",
      "execution_count": 20,
      "metadata": {
        "id": "Qv1avCQAnSRQ"
      },
      "outputs": [],
      "source": [
        "if K.image_data_format() == 'channels_first':\n",
        "  X_train_final = X_train_final.reshape(X_train_final.shape[0], img_channels, img_rows, img_cols)\n",
        "  \n",
        "  X_test_final = X_test_final.reshape(X_test_final.shape[0], img_channels, img_rows, img_cols)\n",
        "  input_shape = (img_channels, img_rows, img_cols)\n",
        "else:\n",
        "  X_train_final = X_train_final.reshape(X_train_final.shape[0], img_rows, img_cols, img_channels)\n",
        "\n",
        "  X_test_final = X_test_final.reshape(X_test_final.shape[0], img_rows, img_cols, img_channels)\n",
        "  input_shape = (img_rows, img_cols, img_channels)"
      ]
    },
    {
      "cell_type": "code",
      "execution_count": 21,
      "metadata": {
        "id": "DBLfiFV2DIYC"
      },
      "outputs": [],
      "source": [
        "tf.keras.backend.clear_session()\n",
        "np.random.seed(400)\n",
        "tf.random.set_seed(830)"
      ]
    },
    {
      "cell_type": "markdown",
      "source": [
        "#####Defining the final Model"
      ],
      "metadata": {
        "id": "OJQJddpck5lZ"
      }
    },
    {
      "cell_type": "code",
      "execution_count": 22,
      "metadata": {
        "colab": {
          "base_uri": "https://localhost:8080/"
        },
        "id": "TCJNfyTMDJDi",
        "outputId": "5f3835d3-e0ee-46db-885b-2dc0eaaeb402"
      },
      "outputs": [
        {
          "output_type": "stream",
          "name": "stdout",
          "text": [
            "Model: \"sequential\"\n",
            "_________________________________________________________________\n",
            " Layer (type)                Output Shape              Param #   \n",
            "=================================================================\n",
            " conv2d (Conv2D)             (None, 98, 98, 32)        320       \n",
            "                                                                 \n",
            " conv2d_1 (Conv2D)           (None, 96, 96, 32)        9248      \n",
            "                                                                 \n",
            " dropout (Dropout)           (None, 96, 96, 32)        0         \n",
            "                                                                 \n",
            " conv2d_2 (Conv2D)           (None, 94, 94, 16)        4624      \n",
            "                                                                 \n",
            " max_pooling2d (MaxPooling2D  (None, 31, 31, 16)       0         \n",
            " )                                                               \n",
            "                                                                 \n",
            " flatten (Flatten)           (None, 15376)             0         \n",
            "                                                                 \n",
            " dense (Dense)               (None, 4)                 61508     \n",
            "                                                                 \n",
            "=================================================================\n",
            "Total params: 75,700\n",
            "Trainable params: 75,700\n",
            "Non-trainable params: 0\n",
            "_________________________________________________________________\n"
          ]
        }
      ],
      "source": [
        "modelCNN_final = Sequential([\n",
        "                       Conv2D(32, kernel_size=(3,3), input_shape = input_shape),\n",
        "                       Conv2D(32, kernel_size=(3,3)),\n",
        "                       Dropout(0.2),\n",
        "                       Conv2D(16, kernel_size=(3,3), activation='relu'),\n",
        "                       MaxPooling2D(pool_size=(3,3)),\n",
        "                       Flatten(),\n",
        "                       Dense(num_classes, activation = 'softmax')])\n",
        "modelCNN_final.summary()"
      ]
    },
    {
      "cell_type": "code",
      "execution_count": 23,
      "metadata": {
        "id": "VgJhKUUiDY0A"
      },
      "outputs": [],
      "source": [
        "modelCNN_final.compile(loss=tf.keras.losses.CategoricalCrossentropy(from_logits=True),\n",
        "                  optimizer=Adam(learning_rate = 0.001),metrics=[\"accuracy\"])"
      ]
    },
    {
      "cell_type": "markdown",
      "source": [
        "#####Training the model"
      ],
      "metadata": {
        "id": "KuCs7E1Ohv9o"
      }
    },
    {
      "cell_type": "code",
      "execution_count": 24,
      "metadata": {
        "colab": {
          "base_uri": "https://localhost:8080/"
        },
        "id": "_1JPKIsHUPMC",
        "outputId": "5537ad57-1790-4a50-dbe1-fb5d9f4e8389"
      },
      "outputs": [
        {
          "output_type": "stream",
          "name": "stdout",
          "text": [
            "Epoch 1/25\n"
          ]
        },
        {
          "output_type": "stream",
          "name": "stderr",
          "text": [
            "/usr/local/lib/python3.7/dist-packages/tensorflow/python/util/dispatch.py:1082: UserWarning: \"`categorical_crossentropy` received `from_logits=True`, but the `output` argument was produced by a sigmoid or softmax activation and thus does not represent logits. Was this intended?\"\n",
            "  return dispatch_target(*args, **kwargs)\n"
          ]
        },
        {
          "output_type": "stream",
          "name": "stdout",
          "text": [
            "107/107 [==============================] - 2s 13ms/step - loss: 7.7046 - accuracy: 0.4126 - val_loss: 0.8197 - val_accuracy: 0.7100\n",
            "Epoch 2/25\n",
            "107/107 [==============================] - 1s 11ms/step - loss: 0.4210 - accuracy: 0.8426 - val_loss: 0.2546 - val_accuracy: 0.9017\n",
            "Epoch 3/25\n",
            "107/107 [==============================] - 1s 11ms/step - loss: 0.3014 - accuracy: 0.8762 - val_loss: 0.2381 - val_accuracy: 0.9017\n",
            "Epoch 4/25\n",
            "107/107 [==============================] - 1s 11ms/step - loss: 0.2774 - accuracy: 0.8800 - val_loss: 0.2483 - val_accuracy: 0.9017\n",
            "Epoch 5/25\n",
            "107/107 [==============================] - 1s 11ms/step - loss: 0.2644 - accuracy: 0.8841 - val_loss: 0.2376 - val_accuracy: 0.9017\n",
            "Epoch 6/25\n",
            "107/107 [==============================] - 1s 11ms/step - loss: 0.2570 - accuracy: 0.8785 - val_loss: 0.2428 - val_accuracy: 0.8900\n",
            "Epoch 7/25\n",
            "107/107 [==============================] - 1s 11ms/step - loss: 0.2694 - accuracy: 0.8768 - val_loss: 0.2363 - val_accuracy: 0.8983\n",
            "Epoch 8/25\n",
            "107/107 [==============================] - 1s 11ms/step - loss: 0.2541 - accuracy: 0.8862 - val_loss: 0.2518 - val_accuracy: 0.9017\n",
            "Epoch 9/25\n",
            "107/107 [==============================] - 1s 11ms/step - loss: 0.2465 - accuracy: 0.8915 - val_loss: 0.2633 - val_accuracy: 0.8950\n",
            "Epoch 10/25\n",
            "107/107 [==============================] - 1s 11ms/step - loss: 0.2505 - accuracy: 0.8847 - val_loss: 0.2284 - val_accuracy: 0.9017\n",
            "Epoch 11/25\n",
            "107/107 [==============================] - 1s 11ms/step - loss: 0.2426 - accuracy: 0.8903 - val_loss: 0.2381 - val_accuracy: 0.9017\n",
            "Epoch 12/25\n",
            "107/107 [==============================] - 1s 11ms/step - loss: 0.2447 - accuracy: 0.8868 - val_loss: 0.2520 - val_accuracy: 0.9017\n",
            "Epoch 13/25\n",
            "107/107 [==============================] - 1s 11ms/step - loss: 0.2376 - accuracy: 0.8932 - val_loss: 0.2384 - val_accuracy: 0.8983\n",
            "Epoch 14/25\n",
            "107/107 [==============================] - 1s 11ms/step - loss: 0.2371 - accuracy: 0.8888 - val_loss: 0.2490 - val_accuracy: 0.8983\n",
            "Epoch 15/25\n",
            "107/107 [==============================] - 1s 11ms/step - loss: 0.2395 - accuracy: 0.8903 - val_loss: 0.2372 - val_accuracy: 0.9000\n",
            "Epoch 16/25\n",
            "107/107 [==============================] - 1s 11ms/step - loss: 0.2362 - accuracy: 0.8929 - val_loss: 0.2464 - val_accuracy: 0.8933\n",
            "Epoch 17/25\n",
            "107/107 [==============================] - 1s 11ms/step - loss: 0.2289 - accuracy: 0.8979 - val_loss: 0.2512 - val_accuracy: 0.8450\n",
            "Epoch 18/25\n",
            "107/107 [==============================] - 1s 11ms/step - loss: 0.2359 - accuracy: 0.8879 - val_loss: 0.2469 - val_accuracy: 0.9000\n",
            "Epoch 19/25\n",
            "107/107 [==============================] - 1s 11ms/step - loss: 0.2332 - accuracy: 0.8900 - val_loss: 0.2475 - val_accuracy: 0.8967\n",
            "Epoch 20/25\n",
            "107/107 [==============================] - 1s 11ms/step - loss: 0.2234 - accuracy: 0.8956 - val_loss: 0.2626 - val_accuracy: 0.9000\n",
            "Epoch 21/25\n",
            "107/107 [==============================] - 1s 11ms/step - loss: 0.2373 - accuracy: 0.8847 - val_loss: 0.2414 - val_accuracy: 0.8917\n",
            "Epoch 22/25\n",
            "107/107 [==============================] - 1s 11ms/step - loss: 0.2313 - accuracy: 0.8915 - val_loss: 0.2515 - val_accuracy: 0.9017\n",
            "Epoch 23/25\n",
            "107/107 [==============================] - 1s 11ms/step - loss: 0.2317 - accuracy: 0.8897 - val_loss: 0.2357 - val_accuracy: 0.8967\n",
            "Epoch 24/25\n",
            "107/107 [==============================] - 1s 11ms/step - loss: 0.2282 - accuracy: 0.8947 - val_loss: 0.3699 - val_accuracy: 0.8867\n",
            "Epoch 25/25\n",
            "107/107 [==============================] - 1s 11ms/step - loss: 0.2412 - accuracy: 0.8926 - val_loss: 0.2368 - val_accuracy: 0.8950\n"
          ]
        }
      ],
      "source": [
        "log = modelCNN_final.fit(X_train_final, y_train_final, epochs=25, validation_data=(X_test_final, y_test_final))"
      ]
    },
    {
      "cell_type": "markdown",
      "source": [
        "#####Plotting Graphs"
      ],
      "metadata": {
        "id": "3wUAwQzohtdX"
      }
    },
    {
      "cell_type": "code",
      "source": [
        "plt.plot(log.history['accuracy'],label = \"training accuracy\", color='deeppink')\n",
        "plt.plot(log.history['val_accuracy'], label = \"testing accuracy\", color = 'turquoise')\n",
        "plt.legend()\n",
        "plt.show()"
      ],
      "metadata": {
        "colab": {
          "base_uri": "https://localhost:8080/",
          "height": 265
        },
        "id": "M9us4h84hr5G",
        "outputId": "da5fd0df-4d73-493d-beee-9cd8f5aa4cdb"
      },
      "execution_count": 47,
      "outputs": [
        {
          "output_type": "display_data",
          "data": {
            "text/plain": [
              "<Figure size 432x288 with 1 Axes>"
            ],
            "image/png": "[encoded data removed]"
          },
          "metadata": {
            "needs_background": "light"
          }
        }
      ]
    },
    {
      "cell_type": "code",
      "source": [
        "    plt.plot(log.history['loss'],label = \"training loss\",color='deeppink')\n",
        "    plt.plot(log.history['val_loss'], label = \"validation loss\",color='turquoise')\n",
        "    plt.legend()\n",
        "    plt.show()"
      ],
      "metadata": {
        "colab": {
          "base_uri": "https://localhost:8080/",
          "height": 267
        },
        "id": "5_w6lHPuiuks",
        "outputId": "7ba636c8-bc63-473a-a2b6-cf63a1d8f936"
      },
      "execution_count": 46,
      "outputs": [
        {
          "output_type": "display_data",
          "data": {
            "text/plain": [
              "<Figure size 432x288 with 1 Axes>"
            ],
            "image/png": "[encoded data removed]"
          },
          "metadata": {
            "needs_background": "light"
          }
        }
      ]
    },
    {
      "cell_type": "markdown",
      "source": [
        "The model has been trained on the combined test and validation set, and shows good accuracy and no signs of overfitting. This trained model is evaluated below. "
      ],
      "metadata": {
        "id": "rsqike5kjDNx"
      }
    },
    {
      "cell_type": "code",
      "source": [
        "modelCNN_final.evaluate(X_test_final,y_test_final)"
      ],
      "metadata": {
        "colab": {
          "base_uri": "https://localhost:8080/"
        },
        "id": "APiALbEqjTF-",
        "outputId": "42d3eeb2-43af-47e8-9996-2379111006eb"
      },
      "execution_count": 48,
      "outputs": [
        {
          "output_type": "stream",
          "name": "stdout",
          "text": [
            "19/19 [==============================] - 0s 4ms/step - loss: 0.2368 - accuracy: 0.8950\n"
          ]
        },
        {
          "output_type": "execute_result",
          "data": {
            "text/plain": [
              "[0.23683840036392212, 0.8949999809265137]"
            ]
          },
          "metadata": {},
          "execution_count": 48
        }
      ]
    },
    {
      "cell_type": "markdown",
      "source": [
        "The small loss and high accuracy of 89.5% makes this the model of choice, and is saved below. "
      ],
      "metadata": {
        "id": "y9kLZn_tjffE"
      }
    },
    {
      "cell_type": "code",
      "source": [
        "modelCNN_final.save('Mohanty_Aditya_Question_6.h5')"
      ],
      "metadata": {
        "id": "ncS7RoSHjoZL"
      },
      "execution_count": 49,
      "outputs": []
    },
    {
      "cell_type": "markdown",
      "metadata": {
        "id": "QLOBPP3sUPsF"
      },
      "source": [
        "# Reference List\n"
      ]
    },
    {
      "cell_type": "markdown",
      "metadata": {
        "id": "fjUpy4hdUT2D"
      },
      "source": [
        "1.\tMacnica. 2020. Convolutional Neural Network (CNN) for Time Series Classification - スマートファクトリー - マクニカ. [online] Available at: <https://www.macnica.co.jp/business/ai_iot/columns/135112/#:~:text=CNNs%20are%20computationally%20cheaper%20than,patterns%20within%20the%20time%20window.> [Accessed 11 April 2022].\n",
        "\n",
        "\n",
        "2.\tRahimilarki, R., Gao, Z., Jin, N. and Zhang, A., 2022. Convolutional neural network fault classification based on time-series analysis for benchmark wind turbine machine. Renewable Energy, 185, pp.916-931.\n"
      ]
    }
  ],
  "metadata": {
    "accelerator": "GPU",
    "colab": {
      "background_execution": "on",
      "collapsed_sections": [],
      "machine_shape": "hm",
      "name": "Final_trial_indvADL_Adi.ipynb",
      "provenance": [],
      "toc_visible": true
    },
    "kernelspec": {
      "display_name": "Python 3",
      "name": "python3"
    },
    "language_info": {
      "name": "python"
    }
  },
  "nbformat": 4,
  "nbformat_minor": 0
}